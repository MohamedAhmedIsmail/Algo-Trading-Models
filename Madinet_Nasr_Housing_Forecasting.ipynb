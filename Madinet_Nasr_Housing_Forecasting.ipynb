{
 "cells": [
  {
   "cell_type": "code",
   "execution_count": 79,
   "metadata": {
    "collapsed": true
   },
   "outputs": [],
   "source": [
    "import math\n",
    "import pandas as pd\n",
    "import numpy as np\n",
    "import matplotlib.pyplot as plt\n",
    "from matplotlib import style\n",
    "from sklearn import preprocessing , cross_validation, svm\n",
    "from sklearn.linear_model import LinearRegression\n",
    "from sklearn.metrics import mean_squared_error\n",
    "import datetime\n",
    "%matplotlib inline"
   ]
  },
  {
   "cell_type": "code",
   "execution_count": 80,
   "metadata": {
    "collapsed": true
   },
   "outputs": [],
   "source": [
    "style.use('ggplot')"
   ]
  },
  {
   "cell_type": "code",
   "execution_count": 81,
   "metadata": {
    "collapsed": true
   },
   "outputs": [],
   "source": [
    "madinet_Nasr_Housing=pd.read_csv(\"C:/Users/mohamed ismail/Desktop/GP And Data/Medinet Nasr Housing.csv\",index_col=1)"
   ]
  },
  {
   "cell_type": "code",
   "execution_count": 82,
   "metadata": {},
   "outputs": [
    {
     "data": {
      "text/html": [
       "<div>\n",
       "<style>\n",
       "    .dataframe thead tr:only-child th {\n",
       "        text-align: right;\n",
       "    }\n",
       "\n",
       "    .dataframe thead th {\n",
       "        text-align: left;\n",
       "    }\n",
       "\n",
       "    .dataframe tbody tr th {\n",
       "        vertical-align: top;\n",
       "    }\n",
       "</style>\n",
       "<table border=\"1\" class=\"dataframe\">\n",
       "  <thead>\n",
       "    <tr style=\"text-align: right;\">\n",
       "      <th></th>\n",
       "      <th>SYMBOL_CODE</th>\n",
       "      <th>TRADE_VOLUME</th>\n",
       "      <th>TRADE_VALUE</th>\n",
       "      <th>TRADE_COUNT</th>\n",
       "      <th>OPEN_PRICE</th>\n",
       "      <th>HIGH_PRICE</th>\n",
       "      <th>LOW_PRICE</th>\n",
       "      <th>CLOSE_PRICE</th>\n",
       "    </tr>\n",
       "    <tr>\n",
       "      <th>TRADE_DATE</th>\n",
       "      <th></th>\n",
       "      <th></th>\n",
       "      <th></th>\n",
       "      <th></th>\n",
       "      <th></th>\n",
       "      <th></th>\n",
       "      <th></th>\n",
       "      <th></th>\n",
       "    </tr>\n",
       "  </thead>\n",
       "  <tbody>\n",
       "    <tr>\n",
       "      <th>1/2/2013 0:00</th>\n",
       "      <td>EGS65571C019</td>\n",
       "      <td>103941</td>\n",
       "      <td>2582112.50</td>\n",
       "      <td>119</td>\n",
       "      <td>24.39</td>\n",
       "      <td>25.05</td>\n",
       "      <td>24.02</td>\n",
       "      <td>24.84</td>\n",
       "    </tr>\n",
       "    <tr>\n",
       "      <th>1/3/2013 0:00</th>\n",
       "      <td>EGS65571C019</td>\n",
       "      <td>232703</td>\n",
       "      <td>5961554.06</td>\n",
       "      <td>167</td>\n",
       "      <td>24.70</td>\n",
       "      <td>26.00</td>\n",
       "      <td>24.70</td>\n",
       "      <td>25.62</td>\n",
       "    </tr>\n",
       "    <tr>\n",
       "      <th>1/6/2013 0:00</th>\n",
       "      <td>EGS65571C019</td>\n",
       "      <td>76886</td>\n",
       "      <td>1956936.75</td>\n",
       "      <td>117</td>\n",
       "      <td>25.30</td>\n",
       "      <td>25.85</td>\n",
       "      <td>25.07</td>\n",
       "      <td>25.45</td>\n",
       "    </tr>\n",
       "    <tr>\n",
       "      <th>1/8/2013 0:00</th>\n",
       "      <td>EGS65571C019</td>\n",
       "      <td>64687</td>\n",
       "      <td>1620033.52</td>\n",
       "      <td>91</td>\n",
       "      <td>25.16</td>\n",
       "      <td>25.16</td>\n",
       "      <td>24.87</td>\n",
       "      <td>25.04</td>\n",
       "    </tr>\n",
       "    <tr>\n",
       "      <th>1/9/2013 0:00</th>\n",
       "      <td>EGS65571C019</td>\n",
       "      <td>49786</td>\n",
       "      <td>1242881.47</td>\n",
       "      <td>62</td>\n",
       "      <td>25.04</td>\n",
       "      <td>25.19</td>\n",
       "      <td>24.66</td>\n",
       "      <td>24.96</td>\n",
       "    </tr>\n",
       "  </tbody>\n",
       "</table>\n",
       "</div>"
      ],
      "text/plain": [
       "                SYMBOL_CODE  TRADE_VOLUME  TRADE_VALUE  TRADE_COUNT  \\\n",
       "TRADE_DATE                                                            \n",
       "1/2/2013 0:00  EGS65571C019        103941   2582112.50          119   \n",
       "1/3/2013 0:00  EGS65571C019        232703   5961554.06          167   \n",
       "1/6/2013 0:00  EGS65571C019         76886   1956936.75          117   \n",
       "1/8/2013 0:00  EGS65571C019         64687   1620033.52           91   \n",
       "1/9/2013 0:00  EGS65571C019         49786   1242881.47           62   \n",
       "\n",
       "               OPEN_PRICE  HIGH_PRICE  LOW_PRICE  CLOSE_PRICE  \n",
       "TRADE_DATE                                                     \n",
       "1/2/2013 0:00       24.39       25.05      24.02        24.84  \n",
       "1/3/2013 0:00       24.70       26.00      24.70        25.62  \n",
       "1/6/2013 0:00       25.30       25.85      25.07        25.45  \n",
       "1/8/2013 0:00       25.16       25.16      24.87        25.04  \n",
       "1/9/2013 0:00       25.04       25.19      24.66        24.96  "
      ]
     },
     "execution_count": 82,
     "metadata": {},
     "output_type": "execute_result"
    }
   ],
   "source": [
    "madinet_Nasr_Housing.head()"
   ]
  },
  {
   "cell_type": "code",
   "execution_count": 83,
   "metadata": {},
   "outputs": [
    {
     "data": {
      "text/html": [
       "<div>\n",
       "<style>\n",
       "    .dataframe thead tr:only-child th {\n",
       "        text-align: right;\n",
       "    }\n",
       "\n",
       "    .dataframe thead th {\n",
       "        text-align: left;\n",
       "    }\n",
       "\n",
       "    .dataframe tbody tr th {\n",
       "        vertical-align: top;\n",
       "    }\n",
       "</style>\n",
       "<table border=\"1\" class=\"dataframe\">\n",
       "  <thead>\n",
       "    <tr style=\"text-align: right;\">\n",
       "      <th></th>\n",
       "      <th>SYMBOL_CODE</th>\n",
       "      <th>TRADE_VOLUME</th>\n",
       "      <th>TRADE_VALUE</th>\n",
       "      <th>TRADE_COUNT</th>\n",
       "      <th>OPEN_PRICE</th>\n",
       "      <th>HIGH_PRICE</th>\n",
       "      <th>LOW_PRICE</th>\n",
       "      <th>CLOSE_PRICE</th>\n",
       "      <th>HL_PCT</th>\n",
       "      <th>PCT_change</th>\n",
       "    </tr>\n",
       "    <tr>\n",
       "      <th>TRADE_DATE</th>\n",
       "      <th></th>\n",
       "      <th></th>\n",
       "      <th></th>\n",
       "      <th></th>\n",
       "      <th></th>\n",
       "      <th></th>\n",
       "      <th></th>\n",
       "      <th></th>\n",
       "      <th></th>\n",
       "      <th></th>\n",
       "    </tr>\n",
       "  </thead>\n",
       "  <tbody>\n",
       "    <tr>\n",
       "      <th>1/2/2013 0:00</th>\n",
       "      <td>EGS65571C019</td>\n",
       "      <td>103941</td>\n",
       "      <td>2582112.50</td>\n",
       "      <td>119</td>\n",
       "      <td>24.39</td>\n",
       "      <td>25.05</td>\n",
       "      <td>24.02</td>\n",
       "      <td>24.84</td>\n",
       "      <td>4.146538</td>\n",
       "      <td>1.845018</td>\n",
       "    </tr>\n",
       "    <tr>\n",
       "      <th>1/3/2013 0:00</th>\n",
       "      <td>EGS65571C019</td>\n",
       "      <td>232703</td>\n",
       "      <td>5961554.06</td>\n",
       "      <td>167</td>\n",
       "      <td>24.70</td>\n",
       "      <td>26.00</td>\n",
       "      <td>24.70</td>\n",
       "      <td>25.62</td>\n",
       "      <td>5.074161</td>\n",
       "      <td>3.724696</td>\n",
       "    </tr>\n",
       "    <tr>\n",
       "      <th>1/6/2013 0:00</th>\n",
       "      <td>EGS65571C019</td>\n",
       "      <td>76886</td>\n",
       "      <td>1956936.75</td>\n",
       "      <td>117</td>\n",
       "      <td>25.30</td>\n",
       "      <td>25.85</td>\n",
       "      <td>25.07</td>\n",
       "      <td>25.45</td>\n",
       "      <td>3.064833</td>\n",
       "      <td>0.592885</td>\n",
       "    </tr>\n",
       "    <tr>\n",
       "      <th>1/8/2013 0:00</th>\n",
       "      <td>EGS65571C019</td>\n",
       "      <td>64687</td>\n",
       "      <td>1620033.52</td>\n",
       "      <td>91</td>\n",
       "      <td>25.16</td>\n",
       "      <td>25.16</td>\n",
       "      <td>24.87</td>\n",
       "      <td>25.04</td>\n",
       "      <td>1.158147</td>\n",
       "      <td>-0.476948</td>\n",
       "    </tr>\n",
       "    <tr>\n",
       "      <th>1/9/2013 0:00</th>\n",
       "      <td>EGS65571C019</td>\n",
       "      <td>49786</td>\n",
       "      <td>1242881.47</td>\n",
       "      <td>62</td>\n",
       "      <td>25.04</td>\n",
       "      <td>25.19</td>\n",
       "      <td>24.66</td>\n",
       "      <td>24.96</td>\n",
       "      <td>2.123397</td>\n",
       "      <td>-0.319489</td>\n",
       "    </tr>\n",
       "  </tbody>\n",
       "</table>\n",
       "</div>"
      ],
      "text/plain": [
       "                SYMBOL_CODE  TRADE_VOLUME  TRADE_VALUE  TRADE_COUNT  \\\n",
       "TRADE_DATE                                                            \n",
       "1/2/2013 0:00  EGS65571C019        103941   2582112.50          119   \n",
       "1/3/2013 0:00  EGS65571C019        232703   5961554.06          167   \n",
       "1/6/2013 0:00  EGS65571C019         76886   1956936.75          117   \n",
       "1/8/2013 0:00  EGS65571C019         64687   1620033.52           91   \n",
       "1/9/2013 0:00  EGS65571C019         49786   1242881.47           62   \n",
       "\n",
       "               OPEN_PRICE  HIGH_PRICE  LOW_PRICE  CLOSE_PRICE    HL_PCT  \\\n",
       "TRADE_DATE                                                                \n",
       "1/2/2013 0:00       24.39       25.05      24.02        24.84  4.146538   \n",
       "1/3/2013 0:00       24.70       26.00      24.70        25.62  5.074161   \n",
       "1/6/2013 0:00       25.30       25.85      25.07        25.45  3.064833   \n",
       "1/8/2013 0:00       25.16       25.16      24.87        25.04  1.158147   \n",
       "1/9/2013 0:00       25.04       25.19      24.66        24.96  2.123397   \n",
       "\n",
       "               PCT_change  \n",
       "TRADE_DATE                 \n",
       "1/2/2013 0:00    1.845018  \n",
       "1/3/2013 0:00    3.724696  \n",
       "1/6/2013 0:00    0.592885  \n",
       "1/8/2013 0:00   -0.476948  \n",
       "1/9/2013 0:00   -0.319489  "
      ]
     },
     "execution_count": 83,
     "metadata": {},
     "output_type": "execute_result"
    }
   ],
   "source": [
    "madinet_Nasr_Housing['HL_PCT']=(madinet_Nasr_Housing['HIGH_PRICE']-madinet_Nasr_Housing['LOW_PRICE'])/madinet_Nasr_Housing['CLOSE_PRICE']*100.0\n",
    "madinet_Nasr_Housing['PCT_change']=(madinet_Nasr_Housing['CLOSE_PRICE']-madinet_Nasr_Housing['OPEN_PRICE'])/madinet_Nasr_Housing['OPEN_PRICE']*100.0\n",
    "madinet_Nasr_Housing.head()"
   ]
  },
  {
   "cell_type": "code",
   "execution_count": 84,
   "metadata": {},
   "outputs": [
    {
     "data": {
      "text/html": [
       "<div>\n",
       "<style>\n",
       "    .dataframe thead tr:only-child th {\n",
       "        text-align: right;\n",
       "    }\n",
       "\n",
       "    .dataframe thead th {\n",
       "        text-align: left;\n",
       "    }\n",
       "\n",
       "    .dataframe tbody tr th {\n",
       "        vertical-align: top;\n",
       "    }\n",
       "</style>\n",
       "<table border=\"1\" class=\"dataframe\">\n",
       "  <thead>\n",
       "    <tr style=\"text-align: right;\">\n",
       "      <th></th>\n",
       "      <th>TRADE_VOLUME</th>\n",
       "      <th>CLOSE_PRICE</th>\n",
       "      <th>HL_PCT</th>\n",
       "      <th>PCT_change</th>\n",
       "    </tr>\n",
       "    <tr>\n",
       "      <th>TRADE_DATE</th>\n",
       "      <th></th>\n",
       "      <th></th>\n",
       "      <th></th>\n",
       "      <th></th>\n",
       "    </tr>\n",
       "  </thead>\n",
       "  <tbody>\n",
       "    <tr>\n",
       "      <th>1/2/2013 0:00</th>\n",
       "      <td>103941</td>\n",
       "      <td>24.84</td>\n",
       "      <td>4.146538</td>\n",
       "      <td>1.845018</td>\n",
       "    </tr>\n",
       "    <tr>\n",
       "      <th>1/3/2013 0:00</th>\n",
       "      <td>232703</td>\n",
       "      <td>25.62</td>\n",
       "      <td>5.074161</td>\n",
       "      <td>3.724696</td>\n",
       "    </tr>\n",
       "    <tr>\n",
       "      <th>1/6/2013 0:00</th>\n",
       "      <td>76886</td>\n",
       "      <td>25.45</td>\n",
       "      <td>3.064833</td>\n",
       "      <td>0.592885</td>\n",
       "    </tr>\n",
       "    <tr>\n",
       "      <th>1/8/2013 0:00</th>\n",
       "      <td>64687</td>\n",
       "      <td>25.04</td>\n",
       "      <td>1.158147</td>\n",
       "      <td>-0.476948</td>\n",
       "    </tr>\n",
       "    <tr>\n",
       "      <th>1/9/2013 0:00</th>\n",
       "      <td>49786</td>\n",
       "      <td>24.96</td>\n",
       "      <td>2.123397</td>\n",
       "      <td>-0.319489</td>\n",
       "    </tr>\n",
       "  </tbody>\n",
       "</table>\n",
       "</div>"
      ],
      "text/plain": [
       "               TRADE_VOLUME  CLOSE_PRICE    HL_PCT  PCT_change\n",
       "TRADE_DATE                                                    \n",
       "1/2/2013 0:00        103941        24.84  4.146538    1.845018\n",
       "1/3/2013 0:00        232703        25.62  5.074161    3.724696\n",
       "1/6/2013 0:00         76886        25.45  3.064833    0.592885\n",
       "1/8/2013 0:00         64687        25.04  1.158147   -0.476948\n",
       "1/9/2013 0:00         49786        24.96  2.123397   -0.319489"
      ]
     },
     "execution_count": 84,
     "metadata": {},
     "output_type": "execute_result"
    }
   ],
   "source": [
    "madinet_Nasr_Housing=madinet_Nasr_Housing[['TRADE_VOLUME','CLOSE_PRICE','HL_PCT','PCT_change']]\n",
    "madinet_Nasr_Housing.head()"
   ]
  },
  {
   "cell_type": "code",
   "execution_count": 85,
   "metadata": {},
   "outputs": [
    {
     "data": {
      "text/plain": [
       "50"
      ]
     },
     "execution_count": 85,
     "metadata": {},
     "output_type": "execute_result"
    }
   ],
   "source": [
    "madinet_Nasr_Housing.fillna(value=-999999,inplace=True)\n",
    "forecast_out=int(math.ceil(0.041*len(madinet_Nasr_Housing)))\n",
    "forecast_out"
   ]
  },
  {
   "cell_type": "code",
   "execution_count": 86,
   "metadata": {},
   "outputs": [
    {
     "data": {
      "text/html": [
       "<div>\n",
       "<style>\n",
       "    .dataframe thead tr:only-child th {\n",
       "        text-align: right;\n",
       "    }\n",
       "\n",
       "    .dataframe thead th {\n",
       "        text-align: left;\n",
       "    }\n",
       "\n",
       "    .dataframe tbody tr th {\n",
       "        vertical-align: top;\n",
       "    }\n",
       "</style>\n",
       "<table border=\"1\" class=\"dataframe\">\n",
       "  <thead>\n",
       "    <tr style=\"text-align: right;\">\n",
       "      <th></th>\n",
       "      <th>TRADE_VOLUME</th>\n",
       "      <th>CLOSE_PRICE</th>\n",
       "      <th>HL_PCT</th>\n",
       "      <th>PCT_change</th>\n",
       "      <th>Label</th>\n",
       "    </tr>\n",
       "    <tr>\n",
       "      <th>TRADE_DATE</th>\n",
       "      <th></th>\n",
       "      <th></th>\n",
       "      <th></th>\n",
       "      <th></th>\n",
       "      <th></th>\n",
       "    </tr>\n",
       "  </thead>\n",
       "  <tbody>\n",
       "    <tr>\n",
       "      <th>12/25/2017 0:00</th>\n",
       "      <td>3298857</td>\n",
       "      <td>10.92</td>\n",
       "      <td>2.289377</td>\n",
       "      <td>1.204819</td>\n",
       "      <td>NaN</td>\n",
       "    </tr>\n",
       "    <tr>\n",
       "      <th>12/26/2017 0:00</th>\n",
       "      <td>464501</td>\n",
       "      <td>10.87</td>\n",
       "      <td>1.655934</td>\n",
       "      <td>-0.183655</td>\n",
       "      <td>NaN</td>\n",
       "    </tr>\n",
       "    <tr>\n",
       "      <th>12/27/2017 0:00</th>\n",
       "      <td>3037790</td>\n",
       "      <td>10.78</td>\n",
       "      <td>2.597403</td>\n",
       "      <td>-0.645161</td>\n",
       "      <td>NaN</td>\n",
       "    </tr>\n",
       "    <tr>\n",
       "      <th>12/28/2017 0:00</th>\n",
       "      <td>666757</td>\n",
       "      <td>10.72</td>\n",
       "      <td>1.679104</td>\n",
       "      <td>-0.279070</td>\n",
       "      <td>NaN</td>\n",
       "    </tr>\n",
       "    <tr>\n",
       "      <th>12/31/2017 0:00</th>\n",
       "      <td>1328205</td>\n",
       "      <td>10.58</td>\n",
       "      <td>2.268431</td>\n",
       "      <td>-1.121495</td>\n",
       "      <td>NaN</td>\n",
       "    </tr>\n",
       "  </tbody>\n",
       "</table>\n",
       "</div>"
      ],
      "text/plain": [
       "                 TRADE_VOLUME  CLOSE_PRICE    HL_PCT  PCT_change  Label\n",
       "TRADE_DATE                                                             \n",
       "12/25/2017 0:00       3298857        10.92  2.289377    1.204819    NaN\n",
       "12/26/2017 0:00        464501        10.87  1.655934   -0.183655    NaN\n",
       "12/27/2017 0:00       3037790        10.78  2.597403   -0.645161    NaN\n",
       "12/28/2017 0:00        666757        10.72  1.679104   -0.279070    NaN\n",
       "12/31/2017 0:00       1328205        10.58  2.268431   -1.121495    NaN"
      ]
     },
     "execution_count": 86,
     "metadata": {},
     "output_type": "execute_result"
    }
   ],
   "source": [
    "madinet_Nasr_Housing['Label']=madinet_Nasr_Housing['CLOSE_PRICE'].shift(-forecast_out)\n",
    "madinet_Nasr_Housing.tail()"
   ]
  },
  {
   "cell_type": "code",
   "execution_count": 87,
   "metadata": {
    "collapsed": true
   },
   "outputs": [],
   "source": [
    "X=np.array(madinet_Nasr_Housing.drop(['Label'],1))\n",
    "X=preprocessing.scale(X)"
   ]
  },
  {
   "cell_type": "code",
   "execution_count": 88,
   "metadata": {
    "collapsed": true
   },
   "outputs": [],
   "source": [
    "X_lately=X[-forecast_out:]\n",
    "X=X[:-forecast_out]"
   ]
  },
  {
   "cell_type": "code",
   "execution_count": 89,
   "metadata": {},
   "outputs": [
    {
     "data": {
      "text/plain": [
       "1169"
      ]
     },
     "execution_count": 89,
     "metadata": {},
     "output_type": "execute_result"
    }
   ],
   "source": [
    "madinet_Nasr_Housing.dropna(inplace=True)\n",
    "len(madinet_Nasr_Housing)"
   ]
  },
  {
   "cell_type": "code",
   "execution_count": 90,
   "metadata": {},
   "outputs": [
    {
     "data": {
      "text/html": [
       "<div>\n",
       "<style>\n",
       "    .dataframe thead tr:only-child th {\n",
       "        text-align: right;\n",
       "    }\n",
       "\n",
       "    .dataframe thead th {\n",
       "        text-align: left;\n",
       "    }\n",
       "\n",
       "    .dataframe tbody tr th {\n",
       "        vertical-align: top;\n",
       "    }\n",
       "</style>\n",
       "<table border=\"1\" class=\"dataframe\">\n",
       "  <thead>\n",
       "    <tr style=\"text-align: right;\">\n",
       "      <th></th>\n",
       "      <th>TRADE_VOLUME</th>\n",
       "      <th>CLOSE_PRICE</th>\n",
       "      <th>HL_PCT</th>\n",
       "      <th>PCT_change</th>\n",
       "      <th>Label</th>\n",
       "    </tr>\n",
       "    <tr>\n",
       "      <th>TRADE_DATE</th>\n",
       "      <th></th>\n",
       "      <th></th>\n",
       "      <th></th>\n",
       "      <th></th>\n",
       "      <th></th>\n",
       "    </tr>\n",
       "  </thead>\n",
       "  <tbody>\n",
       "    <tr>\n",
       "      <th>1/2/2013 0:00</th>\n",
       "      <td>103941</td>\n",
       "      <td>24.84</td>\n",
       "      <td>4.146538</td>\n",
       "      <td>1.845018</td>\n",
       "      <td>21.00</td>\n",
       "    </tr>\n",
       "    <tr>\n",
       "      <th>1/3/2013 0:00</th>\n",
       "      <td>232703</td>\n",
       "      <td>25.62</td>\n",
       "      <td>5.074161</td>\n",
       "      <td>3.724696</td>\n",
       "      <td>20.47</td>\n",
       "    </tr>\n",
       "    <tr>\n",
       "      <th>1/6/2013 0:00</th>\n",
       "      <td>76886</td>\n",
       "      <td>25.45</td>\n",
       "      <td>3.064833</td>\n",
       "      <td>0.592885</td>\n",
       "      <td>20.56</td>\n",
       "    </tr>\n",
       "    <tr>\n",
       "      <th>1/8/2013 0:00</th>\n",
       "      <td>64687</td>\n",
       "      <td>25.04</td>\n",
       "      <td>1.158147</td>\n",
       "      <td>-0.476948</td>\n",
       "      <td>20.81</td>\n",
       "    </tr>\n",
       "    <tr>\n",
       "      <th>1/9/2013 0:00</th>\n",
       "      <td>49786</td>\n",
       "      <td>24.96</td>\n",
       "      <td>2.123397</td>\n",
       "      <td>-0.319489</td>\n",
       "      <td>21.00</td>\n",
       "    </tr>\n",
       "  </tbody>\n",
       "</table>\n",
       "</div>"
      ],
      "text/plain": [
       "               TRADE_VOLUME  CLOSE_PRICE    HL_PCT  PCT_change  Label\n",
       "TRADE_DATE                                                           \n",
       "1/2/2013 0:00        103941        24.84  4.146538    1.845018  21.00\n",
       "1/3/2013 0:00        232703        25.62  5.074161    3.724696  20.47\n",
       "1/6/2013 0:00         76886        25.45  3.064833    0.592885  20.56\n",
       "1/8/2013 0:00         64687        25.04  1.158147   -0.476948  20.81\n",
       "1/9/2013 0:00         49786        24.96  2.123397   -0.319489  21.00"
      ]
     },
     "execution_count": 90,
     "metadata": {},
     "output_type": "execute_result"
    }
   ],
   "source": [
    "madinet_Nasr_Housing.head()"
   ]
  },
  {
   "cell_type": "code",
   "execution_count": 91,
   "metadata": {},
   "outputs": [
    {
     "data": {
      "text/plain": [
       "1169"
      ]
     },
     "execution_count": 91,
     "metadata": {},
     "output_type": "execute_result"
    }
   ],
   "source": [
    "len(X)"
   ]
  },
  {
   "cell_type": "code",
   "execution_count": 92,
   "metadata": {},
   "outputs": [
    {
     "data": {
      "text/plain": [
       "1169"
      ]
     },
     "execution_count": 92,
     "metadata": {},
     "output_type": "execute_result"
    }
   ],
   "source": [
    "y=np.array(madinet_Nasr_Housing['Label'])\n",
    "len(y)"
   ]
  },
  {
   "cell_type": "code",
   "execution_count": 93,
   "metadata": {},
   "outputs": [
    {
     "data": {
      "image/png": "[encoded data removed]",
      "text/plain": [
       "<matplotlib.figure.Figure at 0x442d3f6c88>"
      ]
     },
     "metadata": {},
     "output_type": "display_data"
    }
   ],
   "source": [
    "tmp=madinet_Nasr_Housing[['CLOSE_PRICE','Label']]\n",
    "tmp[:100].plot(figsize=(18,6))\n",
    "plt.show()"
   ]
  },
  {
   "cell_type": "code",
   "execution_count": 94,
   "metadata": {
    "collapsed": true
   },
   "outputs": [],
   "source": [
    "X_train,X_test,y_train,y_test=cross_validation.train_test_split(X,y,test_size=0.2)"
   ]
  },
  {
   "cell_type": "code",
   "execution_count": 95,
   "metadata": {},
   "outputs": [
    {
     "data": {
      "text/plain": [
       "LinearRegression(copy_X=True, fit_intercept=True, n_jobs=1, normalize=False)"
      ]
     },
     "execution_count": 95,
     "metadata": {},
     "output_type": "execute_result"
    }
   ],
   "source": [
    "clf=LinearRegression()\n",
    "clf.fit(X_train,y_train)"
   ]
  },
  {
   "cell_type": "code",
   "execution_count": 96,
   "metadata": {},
   "outputs": [
    {
     "data": {
      "text/plain": [
       "(50, 234, 234, 935, 50)"
      ]
     },
     "execution_count": 96,
     "metadata": {},
     "output_type": "execute_result"
    }
   ],
   "source": [
    "forecast_set=clf.predict(X_lately)\n",
    "y_pred_lr=clf.predict(X_test)\n",
    "len(X_lately),len(X_test),len(y_test),len(X_train),len(forecast_set)"
   ]
  },
  {
   "cell_type": "code",
   "execution_count": 97,
   "metadata": {},
   "outputs": [
    {
     "data": {
      "text/html": [
       "<div>\n",
       "<style>\n",
       "    .dataframe thead tr:only-child th {\n",
       "        text-align: right;\n",
       "    }\n",
       "\n",
       "    .dataframe thead th {\n",
       "        text-align: left;\n",
       "    }\n",
       "\n",
       "    .dataframe tbody tr th {\n",
       "        vertical-align: top;\n",
       "    }\n",
       "</style>\n",
       "<table border=\"1\" class=\"dataframe\">\n",
       "  <thead>\n",
       "    <tr style=\"text-align: right;\">\n",
       "      <th></th>\n",
       "      <th>TRADE_VOLUME</th>\n",
       "      <th>CLOSE_PRICE</th>\n",
       "      <th>HL_PCT</th>\n",
       "      <th>PCT_change</th>\n",
       "      <th>Label</th>\n",
       "      <th>Forecast</th>\n",
       "    </tr>\n",
       "    <tr>\n",
       "      <th>TRADE_DATE</th>\n",
       "      <th></th>\n",
       "      <th></th>\n",
       "      <th></th>\n",
       "      <th></th>\n",
       "      <th></th>\n",
       "      <th></th>\n",
       "    </tr>\n",
       "  </thead>\n",
       "  <tbody>\n",
       "    <tr>\n",
       "      <th>10/15/2017 0:00</th>\n",
       "      <td>940893</td>\n",
       "      <td>10.43</td>\n",
       "      <td>2.588686</td>\n",
       "      <td>-0.666667</td>\n",
       "      <td>10.92</td>\n",
       "      <td>NaN</td>\n",
       "    </tr>\n",
       "    <tr>\n",
       "      <th>10/16/2017 0:00</th>\n",
       "      <td>2493386</td>\n",
       "      <td>10.12</td>\n",
       "      <td>5.237154</td>\n",
       "      <td>-1.842871</td>\n",
       "      <td>10.87</td>\n",
       "      <td>NaN</td>\n",
       "    </tr>\n",
       "    <tr>\n",
       "      <th>10/17/2017 0:00</th>\n",
       "      <td>1431902</td>\n",
       "      <td>10.15</td>\n",
       "      <td>3.645320</td>\n",
       "      <td>0.000000</td>\n",
       "      <td>10.78</td>\n",
       "      <td>NaN</td>\n",
       "    </tr>\n",
       "    <tr>\n",
       "      <th>10/18/2017 0:00</th>\n",
       "      <td>3272549</td>\n",
       "      <td>10.33</td>\n",
       "      <td>3.291384</td>\n",
       "      <td>0.000000</td>\n",
       "      <td>10.72</td>\n",
       "      <td>NaN</td>\n",
       "    </tr>\n",
       "    <tr>\n",
       "      <th>10/19/2017 0:00</th>\n",
       "      <td>3566792</td>\n",
       "      <td>10.37</td>\n",
       "      <td>2.989392</td>\n",
       "      <td>0.581959</td>\n",
       "      <td>10.58</td>\n",
       "      <td>NaN</td>\n",
       "    </tr>\n",
       "  </tbody>\n",
       "</table>\n",
       "</div>"
      ],
      "text/plain": [
       "                 TRADE_VOLUME  CLOSE_PRICE    HL_PCT  PCT_change  Label  \\\n",
       "TRADE_DATE                                                                \n",
       "10/15/2017 0:00        940893        10.43  2.588686   -0.666667  10.92   \n",
       "10/16/2017 0:00       2493386        10.12  5.237154   -1.842871  10.87   \n",
       "10/17/2017 0:00       1431902        10.15  3.645320    0.000000  10.78   \n",
       "10/18/2017 0:00       3272549        10.33  3.291384    0.000000  10.72   \n",
       "10/19/2017 0:00       3566792        10.37  2.989392    0.581959  10.58   \n",
       "\n",
       "                 Forecast  \n",
       "TRADE_DATE                 \n",
       "10/15/2017 0:00       NaN  \n",
       "10/16/2017 0:00       NaN  \n",
       "10/17/2017 0:00       NaN  \n",
       "10/18/2017 0:00       NaN  \n",
       "10/19/2017 0:00       NaN  "
      ]
     },
     "execution_count": 97,
     "metadata": {},
     "output_type": "execute_result"
    }
   ],
   "source": [
    "madinet_Nasr_Housing['Forecast']=np.nan\n",
    "madinet_Nasr_Housing.tail()"
   ]
  },
  {
   "cell_type": "code",
   "execution_count": 98,
   "metadata": {},
   "outputs": [
    {
     "data": {
      "text/plain": [
       "'10/19/2017 0:00'"
      ]
     },
     "execution_count": 98,
     "metadata": {},
     "output_type": "execute_result"
    }
   ],
   "source": [
    "last_date=madinet_Nasr_Housing.iloc[-1].name\n",
    "last_date"
   ]
  },
  {
   "cell_type": "code",
   "execution_count": 111,
   "metadata": {},
   "outputs": [
    {
     "data": {
      "text/plain": [
       "1517903272.955963"
      ]
     },
     "execution_count": 111,
     "metadata": {},
     "output_type": "execute_result"
    }
   ],
   "source": [
    "one_day=86400 #minutes\n",
    "ts = datetime.datetime.now().timestamp()\n",
    "last_day=ts\n",
    "next_day=last_day+one_day\n",
    "ts"
   ]
  },
  {
   "cell_type": "code",
   "execution_count": 112,
   "metadata": {
    "collapsed": true
   },
   "outputs": [],
   "source": [
    "for i in forecast_set:\n",
    "    next_date=datetime.datetime.fromtimestamp(next_day)\n",
    "    next_day+=86400\n",
    "    madinet_Nasr_Housing.loc[next_date]=[np.nan for j in range(len(madinet_Nasr_Housing.columns)-1)]+[i]"
   ]
  },
  {
   "cell_type": "code",
   "execution_count": 113,
   "metadata": {},
   "outputs": [
    {
     "data": {
      "image/png": "[encoded data removed]",
      "text/plain": [
       "<matplotlib.figure.Figure at 0x442e8f70b8>"
      ]
     },
     "metadata": {},
     "output_type": "display_data"
    }
   ],
   "source": [
    "madinet_Nasr_Housing[['CLOSE_PRICE','Forecast']].plot(figsize=(18,6))\n",
    "plt.legend(loc=4)\n",
    "plt.xlabel('Date')\n",
    "plt.ylabel('Price')\n",
    "plt.show()"
   ]
  },
  {
   "cell_type": "code",
   "execution_count": 114,
   "metadata": {},
   "outputs": [
    {
     "data": {
      "image/png": "[encoded data removed]",
      "text/plain": [
       "<matplotlib.figure.Figure at 0x442e8c2278>"
      ]
     },
     "metadata": {},
     "output_type": "display_data"
    }
   ],
   "source": [
    "madinet_Nasr_Housing[['CLOSE_PRICE','Forecast']][-200:].plot(figsize=(18,6))\n",
    "plt.legend(loc=4)\n",
    "plt.xlabel('Date')\n",
    "plt.ylabel('Price')\n",
    "plt.show()"
   ]
  },
  {
   "cell_type": "code",
   "execution_count": 106,
   "metadata": {},
   "outputs": [
    {
     "data": {
      "text/plain": [
       "66.657360487505613"
      ]
     },
     "execution_count": 106,
     "metadata": {},
     "output_type": "execute_result"
    }
   ],
   "source": [
    "accuracy=clf.score(X_test,y_test)\n",
    "accuracy*100"
   ]
  },
  {
   "cell_type": "code",
   "execution_count": 115,
   "metadata": {},
   "outputs": [
    {
     "data": {
      "text/html": [
       "<div>\n",
       "<style>\n",
       "    .dataframe thead tr:only-child th {\n",
       "        text-align: right;\n",
       "    }\n",
       "\n",
       "    .dataframe thead th {\n",
       "        text-align: left;\n",
       "    }\n",
       "\n",
       "    .dataframe tbody tr th {\n",
       "        vertical-align: top;\n",
       "    }\n",
       "</style>\n",
       "<table border=\"1\" class=\"dataframe\">\n",
       "  <thead>\n",
       "    <tr style=\"text-align: right;\">\n",
       "      <th></th>\n",
       "      <th>TRADE_VOLUME</th>\n",
       "      <th>CLOSE_PRICE</th>\n",
       "      <th>HL_PCT</th>\n",
       "      <th>PCT_change</th>\n",
       "      <th>Label</th>\n",
       "      <th>Forecast</th>\n",
       "    </tr>\n",
       "    <tr>\n",
       "      <th>TRADE_DATE</th>\n",
       "      <th></th>\n",
       "      <th></th>\n",
       "      <th></th>\n",
       "      <th></th>\n",
       "      <th></th>\n",
       "      <th></th>\n",
       "    </tr>\n",
       "  </thead>\n",
       "  <tbody>\n",
       "    <tr>\n",
       "      <th>2018-03-24 00:47:52.955963</th>\n",
       "      <td>NaN</td>\n",
       "      <td>NaN</td>\n",
       "      <td>NaN</td>\n",
       "      <td>NaN</td>\n",
       "      <td>NaN</td>\n",
       "      <td>11.881862</td>\n",
       "    </tr>\n",
       "    <tr>\n",
       "      <th>2018-03-25 00:47:52.955963</th>\n",
       "      <td>NaN</td>\n",
       "      <td>NaN</td>\n",
       "      <td>NaN</td>\n",
       "      <td>NaN</td>\n",
       "      <td>NaN</td>\n",
       "      <td>12.726340</td>\n",
       "    </tr>\n",
       "    <tr>\n",
       "      <th>2018-03-26 00:47:52.955963</th>\n",
       "      <td>NaN</td>\n",
       "      <td>NaN</td>\n",
       "      <td>NaN</td>\n",
       "      <td>NaN</td>\n",
       "      <td>NaN</td>\n",
       "      <td>11.617667</td>\n",
       "    </tr>\n",
       "    <tr>\n",
       "      <th>2018-03-27 00:47:52.955963</th>\n",
       "      <td>NaN</td>\n",
       "      <td>NaN</td>\n",
       "      <td>NaN</td>\n",
       "      <td>NaN</td>\n",
       "      <td>NaN</td>\n",
       "      <td>12.499742</td>\n",
       "    </tr>\n",
       "    <tr>\n",
       "      <th>2018-03-28 00:47:52.955963</th>\n",
       "      <td>NaN</td>\n",
       "      <td>NaN</td>\n",
       "      <td>NaN</td>\n",
       "      <td>NaN</td>\n",
       "      <td>NaN</td>\n",
       "      <td>12.078842</td>\n",
       "    </tr>\n",
       "  </tbody>\n",
       "</table>\n",
       "</div>"
      ],
      "text/plain": [
       "                            TRADE_VOLUME  CLOSE_PRICE  HL_PCT  PCT_change  \\\n",
       "TRADE_DATE                                                                  \n",
       "2018-03-24 00:47:52.955963           NaN          NaN     NaN         NaN   \n",
       "2018-03-25 00:47:52.955963           NaN          NaN     NaN         NaN   \n",
       "2018-03-26 00:47:52.955963           NaN          NaN     NaN         NaN   \n",
       "2018-03-27 00:47:52.955963           NaN          NaN     NaN         NaN   \n",
       "2018-03-28 00:47:52.955963           NaN          NaN     NaN         NaN   \n",
       "\n",
       "                            Label   Forecast  \n",
       "TRADE_DATE                                    \n",
       "2018-03-24 00:47:52.955963    NaN  11.881862  \n",
       "2018-03-25 00:47:52.955963    NaN  12.726340  \n",
       "2018-03-26 00:47:52.955963    NaN  11.617667  \n",
       "2018-03-27 00:47:52.955963    NaN  12.499742  \n",
       "2018-03-28 00:47:52.955963    NaN  12.078842  "
      ]
     },
     "execution_count": 115,
     "metadata": {},
     "output_type": "execute_result"
    }
   ],
   "source": [
    "madinet_Nasr_Housing.tail()"
   ]
  },
  {
   "cell_type": "code",
   "execution_count": null,
   "metadata": {
    "collapsed": true
   },
   "outputs": [],
   "source": []
  },
  {
   "cell_type": "code",
   "execution_count": null,
   "metadata": {
    "collapsed": true
   },
   "outputs": [],
   "source": []
  },
  {
   "cell_type": "code",
   "execution_count": null,
   "metadata": {
    "collapsed": true
   },
   "outputs": [],
   "source": []
  },
  {
   "cell_type": "code",
   "execution_count": null,
   "metadata": {
    "collapsed": true
   },
   "outputs": [],
   "source": []
  },
  {
   "cell_type": "code",
   "execution_count": null,
   "metadata": {
    "collapsed": true
   },
   "outputs": [],
   "source": []
  },
  {
   "cell_type": "code",
   "execution_count": null,
   "metadata": {
    "collapsed": true
   },
   "outputs": [],
   "source": []
  },
  {
   "cell_type": "code",
   "execution_count": null,
   "metadata": {
    "collapsed": true
   },
   "outputs": [],
   "source": []
  },
  {
   "cell_type": "code",
   "execution_count": null,
   "metadata": {
    "collapsed": true
   },
   "outputs": [],
   "source": []
  },
  {
   "cell_type": "code",
   "execution_count": null,
   "metadata": {
    "collapsed": true
   },
   "outputs": [],
   "source": []
  },
  {
   "cell_type": "code",
   "execution_count": null,
   "metadata": {
    "collapsed": true
   },
   "outputs": [],
   "source": []
  },
  {
   "cell_type": "code",
   "execution_count": null,
   "metadata": {
    "collapsed": true
   },
   "outputs": [],
   "source": []
  },
  {
   "cell_type": "code",
   "execution_count": null,
   "metadata": {
    "collapsed": true
   },
   "outputs": [],
   "source": []
  },
  {
   "cell_type": "code",
   "execution_count": null,
   "metadata": {
    "collapsed": true
   },
   "outputs": [],
   "source": []
  },
  {
   "cell_type": "code",
   "execution_count": null,
   "metadata": {
    "collapsed": true
   },
   "outputs": [],
   "source": []
  },
  {
   "cell_type": "code",
   "execution_count": null,
   "metadata": {
    "collapsed": true
   },
   "outputs": [],
   "source": []
  },
  {
   "cell_type": "code",
   "execution_count": null,
   "metadata": {
    "collapsed": true
   },
   "outputs": [],
   "source": []
  },
  {
   "cell_type": "code",
   "execution_count": null,
   "metadata": {
    "collapsed": true
   },
   "outputs": [],
   "source": []
  },
  {
   "cell_type": "code",
   "execution_count": null,
   "metadata": {
    "collapsed": true
   },
   "outputs": [],
   "source": []
  },
  {
   "cell_type": "code",
   "execution_count": null,
   "metadata": {
    "collapsed": true
   },
   "outputs": [],
   "source": []
  },
  {
   "cell_type": "code",
   "execution_count": null,
   "metadata": {
    "collapsed": true
   },
   "outputs": [],
   "source": []
  },
  {
   "cell_type": "code",
   "execution_count": null,
   "metadata": {
    "collapsed": true
   },
   "outputs": [],
   "source": []
  },
  {
   "cell_type": "code",
   "execution_count": null,
   "metadata": {
    "collapsed": true
   },
   "outputs": [],
   "source": []
  },
  {
   "cell_type": "code",
   "execution_count": null,
   "metadata": {
    "collapsed": true
   },
   "outputs": [],
   "source": []
  },
  {
   "cell_type": "code",
   "execution_count": null,
   "metadata": {
    "collapsed": true
   },
   "outputs": [],
   "source": []
  },
  {
   "cell_type": "code",
   "execution_count": null,
   "metadata": {
    "collapsed": true
   },
   "outputs": [],
   "source": []
  },
  {
   "cell_type": "code",
   "execution_count": null,
   "metadata": {
    "collapsed": true
   },
   "outputs": [],
   "source": []
  },
  {
   "cell_type": "code",
   "execution_count": null,
   "metadata": {
    "collapsed": true
   },
   "outputs": [],
   "source": []
  },
  {
   "cell_type": "code",
   "execution_count": null,
   "metadata": {
    "collapsed": true
   },
   "outputs": [],
   "source": []
  },
  {
   "cell_type": "code",
   "execution_count": null,
   "metadata": {
    "collapsed": true
   },
   "outputs": [],
   "source": []
  },
  {
   "cell_type": "code",
   "execution_count": null,
   "metadata": {
    "collapsed": true
   },
   "outputs": [],
   "source": []
  },
  {
   "cell_type": "code",
   "execution_count": null,
   "metadata": {
    "collapsed": true
   },
   "outputs": [],
   "source": []
  },
  {
   "cell_type": "code",
   "execution_count": null,
   "metadata": {
    "collapsed": true
   },
   "outputs": [],
   "source": []
  },
  {
   "cell_type": "code",
   "execution_count": null,
   "metadata": {
    "collapsed": true
   },
   "outputs": [],
   "source": []
  },
  {
   "cell_type": "code",
   "execution_count": null,
   "metadata": {
    "collapsed": true
   },
   "outputs": [],
   "source": []
  },
  {
   "cell_type": "code",
   "execution_count": null,
   "metadata": {
    "collapsed": true
   },
   "outputs": [],
   "source": []
  },
  {
   "cell_type": "code",
   "execution_count": null,
   "metadata": {
    "collapsed": true
   },
   "outputs": [],
   "source": []
  },
  {
   "cell_type": "code",
   "execution_count": null,
   "metadata": {
    "collapsed": true
   },
   "outputs": [],
   "source": []
  },
  {
   "cell_type": "code",
   "execution_count": null,
   "metadata": {
    "collapsed": true
   },
   "outputs": [],
   "source": []
  },
  {
   "cell_type": "code",
   "execution_count": null,
   "metadata": {
    "collapsed": true
   },
   "outputs": [],
   "source": []
  },
  {
   "cell_type": "code",
   "execution_count": null,
   "metadata": {
    "collapsed": true
   },
   "outputs": [],
   "source": []
  },
  {
   "cell_type": "code",
   "execution_count": null,
   "metadata": {
    "collapsed": true
   },
   "outputs": [],
   "source": []
  },
  {
   "cell_type": "code",
   "execution_count": null,
   "metadata": {
    "collapsed": true
   },
   "outputs": [],
   "source": []
  },
  {
   "cell_type": "code",
   "execution_count": null,
   "metadata": {
    "collapsed": true
   },
   "outputs": [],
   "source": []
  },
  {
   "cell_type": "code",
   "execution_count": null,
   "metadata": {
    "collapsed": true
   },
   "outputs": [],
   "source": []
  },
  {
   "cell_type": "code",
   "execution_count": null,
   "metadata": {
    "collapsed": true
   },
   "outputs": [],
   "source": []
  },
  {
   "cell_type": "code",
   "execution_count": null,
   "metadata": {
    "collapsed": true
   },
   "outputs": [],
   "source": []
  },
  {
   "cell_type": "code",
   "execution_count": null,
   "metadata": {
    "collapsed": true
   },
   "outputs": [],
   "source": []
  },
  {
   "cell_type": "code",
   "execution_count": null,
   "metadata": {
    "collapsed": true
   },
   "outputs": [],
   "source": []
  },
  {
   "cell_type": "code",
   "execution_count": null,
   "metadata": {
    "collapsed": true
   },
   "outputs": [],
   "source": []
  },
  {
   "cell_type": "code",
   "execution_count": null,
   "metadata": {
    "collapsed": true
   },
   "outputs": [],
   "source": []
  },
  {
   "cell_type": "code",
   "execution_count": null,
   "metadata": {
    "collapsed": true
   },
   "outputs": [],
   "source": []
  },
  {
   "cell_type": "code",
   "execution_count": null,
   "metadata": {
    "collapsed": true
   },
   "outputs": [],
   "source": []
  },
  {
   "cell_type": "code",
   "execution_count": null,
   "metadata": {
    "collapsed": true
   },
   "outputs": [],
   "source": []
  },
  {
   "cell_type": "code",
   "execution_count": null,
   "metadata": {
    "collapsed": true
   },
   "outputs": [],
   "source": []
  },
  {
   "cell_type": "code",
   "execution_count": null,
   "metadata": {
    "collapsed": true
   },
   "outputs": [],
   "source": []
  },
  {
   "cell_type": "code",
   "execution_count": null,
   "metadata": {
    "collapsed": true
   },
   "outputs": [],
   "source": []
  }
 ],
 "metadata": {
  "kernelspec": {
   "display_name": "Python 3",
   "language": "python",
   "name": "python3"
  },
  "language_info": {
   "codemirror_mode": {
    "name": "ipython",
    "version": 3
   },
   "file_extension": ".py",
   "mimetype": "text/x-python",
   "name": "python",
   "nbconvert_exporter": "python",
   "pygments_lexer": "ipython3",
   "version": "3.6.1"
  }
 },
 "nbformat": 4,
 "nbformat_minor": 2
}
