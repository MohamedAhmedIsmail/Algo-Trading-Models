{
 "cells": [
  {
   "cell_type": "code",
   "execution_count": 1,
   "metadata": {},
   "outputs": [
    {
     "name": "stderr",
     "output_type": "stream",
     "text": [
      "C:\\Users\\mohamed ismail\\Anaconda3\\lib\\site-packages\\sklearn\\cross_validation.py:41: DeprecationWarning: This module was deprecated in version 0.18 in favor of the model_selection module into which all the refactored classes and functions are moved. Also note that the interface of the new CV iterators are different from that of this module. This module will be removed in 0.20.\n",
      "  \"This module will be removed in 0.20.\", DeprecationWarning)\n"
     ]
    }
   ],
   "source": [
    "import math\n",
    "import pandas as pd\n",
    "import numpy as np\n",
    "import matplotlib.pyplot as plt\n",
    "from matplotlib import style\n",
    "from sklearn import preprocessing , cross_validation, svm\n",
    "from sklearn.linear_model import LinearRegression\n",
    "from sklearn.metrics import mean_squared_error\n",
    "import datetime\n",
    "%matplotlib inline"
   ]
  },
  {
   "cell_type": "code",
   "execution_count": 2,
   "metadata": {
    "collapsed": true
   },
   "outputs": [],
   "source": [
    "style.use('ggplot')"
   ]
  },
  {
   "cell_type": "code",
   "execution_count": 9,
   "metadata": {
    "collapsed": true
   },
   "outputs": [],
   "source": [
    "oriental_Weavers=pd.read_csv(\"C:/Users/mohamed ismail/Desktop/GP And Data/Oriental Weavers.csv\",index_col=1)"
   ]
  },
  {
   "cell_type": "code",
   "execution_count": 10,
   "metadata": {},
   "outputs": [
    {
     "data": {
      "text/html": [
       "<div>\n",
       "<style>\n",
       "    .dataframe thead tr:only-child th {\n",
       "        text-align: right;\n",
       "    }\n",
       "\n",
       "    .dataframe thead th {\n",
       "        text-align: left;\n",
       "    }\n",
       "\n",
       "    .dataframe tbody tr th {\n",
       "        vertical-align: top;\n",
       "    }\n",
       "</style>\n",
       "<table border=\"1\" class=\"dataframe\">\n",
       "  <thead>\n",
       "    <tr style=\"text-align: right;\">\n",
       "      <th></th>\n",
       "      <th>SYMBOL_CODE</th>\n",
       "      <th>TRADE_VOLUME</th>\n",
       "      <th>TRADE_VALUE</th>\n",
       "      <th>TRADE_COUNT</th>\n",
       "      <th>OPEN_PRICE</th>\n",
       "      <th>HIGH_PRICE</th>\n",
       "      <th>LOW_PRICE</th>\n",
       "      <th>CLOSE_PRICE</th>\n",
       "    </tr>\n",
       "    <tr>\n",
       "      <th>TRADE_DATE</th>\n",
       "      <th></th>\n",
       "      <th></th>\n",
       "      <th></th>\n",
       "      <th></th>\n",
       "      <th></th>\n",
       "      <th></th>\n",
       "      <th></th>\n",
       "      <th></th>\n",
       "    </tr>\n",
       "  </thead>\n",
       "  <tbody>\n",
       "    <tr>\n",
       "      <th>1/2/2013 0:00</th>\n",
       "      <td>EGS33041C012</td>\n",
       "      <td>294968</td>\n",
       "      <td>6898653.75</td>\n",
       "      <td>88</td>\n",
       "      <td>24.00</td>\n",
       "      <td>24.10</td>\n",
       "      <td>23.30</td>\n",
       "      <td>23.39</td>\n",
       "    </tr>\n",
       "    <tr>\n",
       "      <th>1/3/2013 0:00</th>\n",
       "      <td>EGS33041C012</td>\n",
       "      <td>171442</td>\n",
       "      <td>4148795.12</td>\n",
       "      <td>307</td>\n",
       "      <td>24.00</td>\n",
       "      <td>24.65</td>\n",
       "      <td>24.00</td>\n",
       "      <td>24.20</td>\n",
       "    </tr>\n",
       "    <tr>\n",
       "      <th>1/6/2013 0:00</th>\n",
       "      <td>EGS33041C012</td>\n",
       "      <td>21793</td>\n",
       "      <td>523036.30</td>\n",
       "      <td>34</td>\n",
       "      <td>24.01</td>\n",
       "      <td>24.01</td>\n",
       "      <td>23.99</td>\n",
       "      <td>24.00</td>\n",
       "    </tr>\n",
       "    <tr>\n",
       "      <th>1/8/2013 0:00</th>\n",
       "      <td>EGS33041C012</td>\n",
       "      <td>41324</td>\n",
       "      <td>984017.22</td>\n",
       "      <td>58</td>\n",
       "      <td>23.99</td>\n",
       "      <td>24.00</td>\n",
       "      <td>23.36</td>\n",
       "      <td>23.81</td>\n",
       "    </tr>\n",
       "    <tr>\n",
       "      <th>1/9/2013 0:00</th>\n",
       "      <td>EGS33041C012</td>\n",
       "      <td>39909</td>\n",
       "      <td>945594.20</td>\n",
       "      <td>48</td>\n",
       "      <td>23.81</td>\n",
       "      <td>23.99</td>\n",
       "      <td>23.50</td>\n",
       "      <td>23.69</td>\n",
       "    </tr>\n",
       "  </tbody>\n",
       "</table>\n",
       "</div>"
      ],
      "text/plain": [
       "                SYMBOL_CODE  TRADE_VOLUME  TRADE_VALUE  TRADE_COUNT  \\\n",
       "TRADE_DATE                                                            \n",
       "1/2/2013 0:00  EGS33041C012        294968   6898653.75           88   \n",
       "1/3/2013 0:00  EGS33041C012        171442   4148795.12          307   \n",
       "1/6/2013 0:00  EGS33041C012         21793    523036.30           34   \n",
       "1/8/2013 0:00  EGS33041C012         41324    984017.22           58   \n",
       "1/9/2013 0:00  EGS33041C012         39909    945594.20           48   \n",
       "\n",
       "               OPEN_PRICE  HIGH_PRICE  LOW_PRICE  CLOSE_PRICE  \n",
       "TRADE_DATE                                                     \n",
       "1/2/2013 0:00       24.00       24.10      23.30        23.39  \n",
       "1/3/2013 0:00       24.00       24.65      24.00        24.20  \n",
       "1/6/2013 0:00       24.01       24.01      23.99        24.00  \n",
       "1/8/2013 0:00       23.99       24.00      23.36        23.81  \n",
       "1/9/2013 0:00       23.81       23.99      23.50        23.69  "
      ]
     },
     "execution_count": 10,
     "metadata": {},
     "output_type": "execute_result"
    }
   ],
   "source": [
    "oriental_Weavers.head()"
   ]
  },
  {
   "cell_type": "code",
   "execution_count": 11,
   "metadata": {},
   "outputs": [
    {
     "data": {
      "text/html": [
       "<div>\n",
       "<style>\n",
       "    .dataframe thead tr:only-child th {\n",
       "        text-align: right;\n",
       "    }\n",
       "\n",
       "    .dataframe thead th {\n",
       "        text-align: left;\n",
       "    }\n",
       "\n",
       "    .dataframe tbody tr th {\n",
       "        vertical-align: top;\n",
       "    }\n",
       "</style>\n",
       "<table border=\"1\" class=\"dataframe\">\n",
       "  <thead>\n",
       "    <tr style=\"text-align: right;\">\n",
       "      <th></th>\n",
       "      <th>SYMBOL_CODE</th>\n",
       "      <th>TRADE_VOLUME</th>\n",
       "      <th>TRADE_VALUE</th>\n",
       "      <th>TRADE_COUNT</th>\n",
       "      <th>OPEN_PRICE</th>\n",
       "      <th>HIGH_PRICE</th>\n",
       "      <th>LOW_PRICE</th>\n",
       "      <th>CLOSE_PRICE</th>\n",
       "      <th>HL_PCT</th>\n",
       "      <th>PCT_change</th>\n",
       "    </tr>\n",
       "    <tr>\n",
       "      <th>TRADE_DATE</th>\n",
       "      <th></th>\n",
       "      <th></th>\n",
       "      <th></th>\n",
       "      <th></th>\n",
       "      <th></th>\n",
       "      <th></th>\n",
       "      <th></th>\n",
       "      <th></th>\n",
       "      <th></th>\n",
       "      <th></th>\n",
       "    </tr>\n",
       "  </thead>\n",
       "  <tbody>\n",
       "    <tr>\n",
       "      <th>1/2/2013 0:00</th>\n",
       "      <td>EGS33041C012</td>\n",
       "      <td>294968</td>\n",
       "      <td>6898653.75</td>\n",
       "      <td>88</td>\n",
       "      <td>24.00</td>\n",
       "      <td>24.10</td>\n",
       "      <td>23.30</td>\n",
       "      <td>23.39</td>\n",
       "      <td>3.433476</td>\n",
       "      <td>-2.541667</td>\n",
       "    </tr>\n",
       "    <tr>\n",
       "      <th>1/3/2013 0:00</th>\n",
       "      <td>EGS33041C012</td>\n",
       "      <td>171442</td>\n",
       "      <td>4148795.12</td>\n",
       "      <td>307</td>\n",
       "      <td>24.00</td>\n",
       "      <td>24.65</td>\n",
       "      <td>24.00</td>\n",
       "      <td>24.20</td>\n",
       "      <td>2.708333</td>\n",
       "      <td>0.833333</td>\n",
       "    </tr>\n",
       "    <tr>\n",
       "      <th>1/6/2013 0:00</th>\n",
       "      <td>EGS33041C012</td>\n",
       "      <td>21793</td>\n",
       "      <td>523036.30</td>\n",
       "      <td>34</td>\n",
       "      <td>24.01</td>\n",
       "      <td>24.01</td>\n",
       "      <td>23.99</td>\n",
       "      <td>24.00</td>\n",
       "      <td>0.083368</td>\n",
       "      <td>-0.041649</td>\n",
       "    </tr>\n",
       "    <tr>\n",
       "      <th>1/8/2013 0:00</th>\n",
       "      <td>EGS33041C012</td>\n",
       "      <td>41324</td>\n",
       "      <td>984017.22</td>\n",
       "      <td>58</td>\n",
       "      <td>23.99</td>\n",
       "      <td>24.00</td>\n",
       "      <td>23.36</td>\n",
       "      <td>23.81</td>\n",
       "      <td>2.739726</td>\n",
       "      <td>-0.750313</td>\n",
       "    </tr>\n",
       "    <tr>\n",
       "      <th>1/9/2013 0:00</th>\n",
       "      <td>EGS33041C012</td>\n",
       "      <td>39909</td>\n",
       "      <td>945594.20</td>\n",
       "      <td>48</td>\n",
       "      <td>23.81</td>\n",
       "      <td>23.99</td>\n",
       "      <td>23.50</td>\n",
       "      <td>23.69</td>\n",
       "      <td>2.085106</td>\n",
       "      <td>-0.503990</td>\n",
       "    </tr>\n",
       "  </tbody>\n",
       "</table>\n",
       "</div>"
      ],
      "text/plain": [
       "                SYMBOL_CODE  TRADE_VOLUME  TRADE_VALUE  TRADE_COUNT  \\\n",
       "TRADE_DATE                                                            \n",
       "1/2/2013 0:00  EGS33041C012        294968   6898653.75           88   \n",
       "1/3/2013 0:00  EGS33041C012        171442   4148795.12          307   \n",
       "1/6/2013 0:00  EGS33041C012         21793    523036.30           34   \n",
       "1/8/2013 0:00  EGS33041C012         41324    984017.22           58   \n",
       "1/9/2013 0:00  EGS33041C012         39909    945594.20           48   \n",
       "\n",
       "               OPEN_PRICE  HIGH_PRICE  LOW_PRICE  CLOSE_PRICE    HL_PCT  \\\n",
       "TRADE_DATE                                                                \n",
       "1/2/2013 0:00       24.00       24.10      23.30        23.39  3.433476   \n",
       "1/3/2013 0:00       24.00       24.65      24.00        24.20  2.708333   \n",
       "1/6/2013 0:00       24.01       24.01      23.99        24.00  0.083368   \n",
       "1/8/2013 0:00       23.99       24.00      23.36        23.81  2.739726   \n",
       "1/9/2013 0:00       23.81       23.99      23.50        23.69  2.085106   \n",
       "\n",
       "               PCT_change  \n",
       "TRADE_DATE                 \n",
       "1/2/2013 0:00   -2.541667  \n",
       "1/3/2013 0:00    0.833333  \n",
       "1/6/2013 0:00   -0.041649  \n",
       "1/8/2013 0:00   -0.750313  \n",
       "1/9/2013 0:00   -0.503990  "
      ]
     },
     "execution_count": 11,
     "metadata": {},
     "output_type": "execute_result"
    }
   ],
   "source": [
    "oriental_Weavers['HL_PCT']=(oriental_Weavers['HIGH_PRICE']-oriental_Weavers['LOW_PRICE'])/oriental_Weavers['LOW_PRICE']*100.0\n",
    "oriental_Weavers['PCT_change']=(oriental_Weavers['CLOSE_PRICE']-oriental_Weavers['OPEN_PRICE'])/oriental_Weavers['OPEN_PRICE']*100.0\n",
    "oriental_Weavers.head()"
   ]
  },
  {
   "cell_type": "code",
   "execution_count": 14,
   "metadata": {},
   "outputs": [
    {
     "data": {
      "text/html": [
       "<div>\n",
       "<style>\n",
       "    .dataframe thead tr:only-child th {\n",
       "        text-align: right;\n",
       "    }\n",
       "\n",
       "    .dataframe thead th {\n",
       "        text-align: left;\n",
       "    }\n",
       "\n",
       "    .dataframe tbody tr th {\n",
       "        vertical-align: top;\n",
       "    }\n",
       "</style>\n",
       "<table border=\"1\" class=\"dataframe\">\n",
       "  <thead>\n",
       "    <tr style=\"text-align: right;\">\n",
       "      <th></th>\n",
       "      <th>TRADE_VOLUME</th>\n",
       "      <th>CLOSE_PRICE</th>\n",
       "      <th>HL_PCT</th>\n",
       "      <th>PCT_change</th>\n",
       "    </tr>\n",
       "    <tr>\n",
       "      <th>TRADE_DATE</th>\n",
       "      <th></th>\n",
       "      <th></th>\n",
       "      <th></th>\n",
       "      <th></th>\n",
       "    </tr>\n",
       "  </thead>\n",
       "  <tbody>\n",
       "    <tr>\n",
       "      <th>1/2/2013 0:00</th>\n",
       "      <td>294968</td>\n",
       "      <td>23.39</td>\n",
       "      <td>3.433476</td>\n",
       "      <td>-2.541667</td>\n",
       "    </tr>\n",
       "    <tr>\n",
       "      <th>1/3/2013 0:00</th>\n",
       "      <td>171442</td>\n",
       "      <td>24.20</td>\n",
       "      <td>2.708333</td>\n",
       "      <td>0.833333</td>\n",
       "    </tr>\n",
       "    <tr>\n",
       "      <th>1/6/2013 0:00</th>\n",
       "      <td>21793</td>\n",
       "      <td>24.00</td>\n",
       "      <td>0.083368</td>\n",
       "      <td>-0.041649</td>\n",
       "    </tr>\n",
       "    <tr>\n",
       "      <th>1/8/2013 0:00</th>\n",
       "      <td>41324</td>\n",
       "      <td>23.81</td>\n",
       "      <td>2.739726</td>\n",
       "      <td>-0.750313</td>\n",
       "    </tr>\n",
       "    <tr>\n",
       "      <th>1/9/2013 0:00</th>\n",
       "      <td>39909</td>\n",
       "      <td>23.69</td>\n",
       "      <td>2.085106</td>\n",
       "      <td>-0.503990</td>\n",
       "    </tr>\n",
       "  </tbody>\n",
       "</table>\n",
       "</div>"
      ],
      "text/plain": [
       "               TRADE_VOLUME  CLOSE_PRICE    HL_PCT  PCT_change\n",
       "TRADE_DATE                                                    \n",
       "1/2/2013 0:00        294968        23.39  3.433476   -2.541667\n",
       "1/3/2013 0:00        171442        24.20  2.708333    0.833333\n",
       "1/6/2013 0:00         21793        24.00  0.083368   -0.041649\n",
       "1/8/2013 0:00         41324        23.81  2.739726   -0.750313\n",
       "1/9/2013 0:00         39909        23.69  2.085106   -0.503990"
      ]
     },
     "execution_count": 14,
     "metadata": {},
     "output_type": "execute_result"
    }
   ],
   "source": [
    "oriental_Weavers=oriental_Weavers[['TRADE_VOLUME','CLOSE_PRICE','HL_PCT','PCT_change']]\n",
    "oriental_Weavers.head()"
   ]
  },
  {
   "cell_type": "code",
   "execution_count": 21,
   "metadata": {},
   "outputs": [
    {
     "data": {
      "text/plain": [
       "15"
      ]
     },
     "execution_count": 21,
     "metadata": {},
     "output_type": "execute_result"
    }
   ],
   "source": [
    "oriental_Weavers.fillna(value=-999999,inplace=True)\n",
    "forecast_out=int(math.ceil(0.012*len(oriental_Weavers)))\n",
    "forecast_out"
   ]
  },
  {
   "cell_type": "code",
   "execution_count": 23,
   "metadata": {},
   "outputs": [
    {
     "data": {
      "text/html": [
       "<div>\n",
       "<style>\n",
       "    .dataframe thead tr:only-child th {\n",
       "        text-align: right;\n",
       "    }\n",
       "\n",
       "    .dataframe thead th {\n",
       "        text-align: left;\n",
       "    }\n",
       "\n",
       "    .dataframe tbody tr th {\n",
       "        vertical-align: top;\n",
       "    }\n",
       "</style>\n",
       "<table border=\"1\" class=\"dataframe\">\n",
       "  <thead>\n",
       "    <tr style=\"text-align: right;\">\n",
       "      <th></th>\n",
       "      <th>TRADE_VOLUME</th>\n",
       "      <th>CLOSE_PRICE</th>\n",
       "      <th>HL_PCT</th>\n",
       "      <th>PCT_change</th>\n",
       "      <th>Label</th>\n",
       "    </tr>\n",
       "    <tr>\n",
       "      <th>TRADE_DATE</th>\n",
       "      <th></th>\n",
       "      <th></th>\n",
       "      <th></th>\n",
       "      <th></th>\n",
       "      <th></th>\n",
       "    </tr>\n",
       "  </thead>\n",
       "  <tbody>\n",
       "    <tr>\n",
       "      <th>12/25/2017 0:00</th>\n",
       "      <td>86451</td>\n",
       "      <td>16.92</td>\n",
       "      <td>2.976190</td>\n",
       "      <td>-0.529101</td>\n",
       "      <td>NaN</td>\n",
       "    </tr>\n",
       "    <tr>\n",
       "      <th>12/26/2017 0:00</th>\n",
       "      <td>66318</td>\n",
       "      <td>16.95</td>\n",
       "      <td>3.100775</td>\n",
       "      <td>-1.966455</td>\n",
       "      <td>NaN</td>\n",
       "    </tr>\n",
       "    <tr>\n",
       "      <th>12/27/2017 0:00</th>\n",
       "      <td>34476</td>\n",
       "      <td>16.63</td>\n",
       "      <td>0.845411</td>\n",
       "      <td>-0.359497</td>\n",
       "      <td>NaN</td>\n",
       "    </tr>\n",
       "    <tr>\n",
       "      <th>12/28/2017 0:00</th>\n",
       "      <td>422490</td>\n",
       "      <td>16.77</td>\n",
       "      <td>1.807229</td>\n",
       "      <td>0.963275</td>\n",
       "      <td>NaN</td>\n",
       "    </tr>\n",
       "    <tr>\n",
       "      <th>12/31/2017 0:00</th>\n",
       "      <td>13535</td>\n",
       "      <td>16.59</td>\n",
       "      <td>1.575758</td>\n",
       "      <td>-1.014320</td>\n",
       "      <td>NaN</td>\n",
       "    </tr>\n",
       "  </tbody>\n",
       "</table>\n",
       "</div>"
      ],
      "text/plain": [
       "                 TRADE_VOLUME  CLOSE_PRICE    HL_PCT  PCT_change  Label\n",
       "TRADE_DATE                                                             \n",
       "12/25/2017 0:00         86451        16.92  2.976190   -0.529101    NaN\n",
       "12/26/2017 0:00         66318        16.95  3.100775   -1.966455    NaN\n",
       "12/27/2017 0:00         34476        16.63  0.845411   -0.359497    NaN\n",
       "12/28/2017 0:00        422490        16.77  1.807229    0.963275    NaN\n",
       "12/31/2017 0:00         13535        16.59  1.575758   -1.014320    NaN"
      ]
     },
     "execution_count": 23,
     "metadata": {},
     "output_type": "execute_result"
    }
   ],
   "source": [
    "oriental_Weavers['Label']=oriental_Weavers['CLOSE_PRICE'].shift(-forecast_out)\n",
    "oriental_Weavers.tail()"
   ]
  },
  {
   "cell_type": "code",
   "execution_count": 24,
   "metadata": {
    "collapsed": true
   },
   "outputs": [],
   "source": [
    "X=np.array(oriental_Weavers.drop(['Label'],1))\n",
    "X=preprocessing.scale(X)"
   ]
  },
  {
   "cell_type": "code",
   "execution_count": 25,
   "metadata": {
    "collapsed": true
   },
   "outputs": [],
   "source": [
    "X_lately=X[-forecast_out:]\n",
    "X=X[:-forecast_out]"
   ]
  },
  {
   "cell_type": "code",
   "execution_count": 26,
   "metadata": {},
   "outputs": [
    {
     "data": {
      "text/plain": [
       "1199"
      ]
     },
     "execution_count": 26,
     "metadata": {},
     "output_type": "execute_result"
    }
   ],
   "source": [
    "oriental_Weavers.dropna(inplace=True)\n",
    "len(oriental_Weavers)"
   ]
  },
  {
   "cell_type": "code",
   "execution_count": 27,
   "metadata": {},
   "outputs": [
    {
     "data": {
      "text/html": [
       "<div>\n",
       "<style>\n",
       "    .dataframe thead tr:only-child th {\n",
       "        text-align: right;\n",
       "    }\n",
       "\n",
       "    .dataframe thead th {\n",
       "        text-align: left;\n",
       "    }\n",
       "\n",
       "    .dataframe tbody tr th {\n",
       "        vertical-align: top;\n",
       "    }\n",
       "</style>\n",
       "<table border=\"1\" class=\"dataframe\">\n",
       "  <thead>\n",
       "    <tr style=\"text-align: right;\">\n",
       "      <th></th>\n",
       "      <th>TRADE_VOLUME</th>\n",
       "      <th>CLOSE_PRICE</th>\n",
       "      <th>HL_PCT</th>\n",
       "      <th>PCT_change</th>\n",
       "      <th>Label</th>\n",
       "    </tr>\n",
       "    <tr>\n",
       "      <th>TRADE_DATE</th>\n",
       "      <th></th>\n",
       "      <th></th>\n",
       "      <th></th>\n",
       "      <th></th>\n",
       "      <th></th>\n",
       "    </tr>\n",
       "  </thead>\n",
       "  <tbody>\n",
       "    <tr>\n",
       "      <th>1/2/2013 0:00</th>\n",
       "      <td>294968</td>\n",
       "      <td>23.39</td>\n",
       "      <td>3.433476</td>\n",
       "      <td>-2.541667</td>\n",
       "      <td>23.51</td>\n",
       "    </tr>\n",
       "    <tr>\n",
       "      <th>1/3/2013 0:00</th>\n",
       "      <td>171442</td>\n",
       "      <td>24.20</td>\n",
       "      <td>2.708333</td>\n",
       "      <td>0.833333</td>\n",
       "      <td>23.23</td>\n",
       "    </tr>\n",
       "    <tr>\n",
       "      <th>1/6/2013 0:00</th>\n",
       "      <td>21793</td>\n",
       "      <td>24.00</td>\n",
       "      <td>0.083368</td>\n",
       "      <td>-0.041649</td>\n",
       "      <td>22.72</td>\n",
       "    </tr>\n",
       "    <tr>\n",
       "      <th>1/8/2013 0:00</th>\n",
       "      <td>41324</td>\n",
       "      <td>23.81</td>\n",
       "      <td>2.739726</td>\n",
       "      <td>-0.750313</td>\n",
       "      <td>22.80</td>\n",
       "    </tr>\n",
       "    <tr>\n",
       "      <th>1/9/2013 0:00</th>\n",
       "      <td>39909</td>\n",
       "      <td>23.69</td>\n",
       "      <td>2.085106</td>\n",
       "      <td>-0.503990</td>\n",
       "      <td>22.93</td>\n",
       "    </tr>\n",
       "  </tbody>\n",
       "</table>\n",
       "</div>"
      ],
      "text/plain": [
       "               TRADE_VOLUME  CLOSE_PRICE    HL_PCT  PCT_change  Label\n",
       "TRADE_DATE                                                           \n",
       "1/2/2013 0:00        294968        23.39  3.433476   -2.541667  23.51\n",
       "1/3/2013 0:00        171442        24.20  2.708333    0.833333  23.23\n",
       "1/6/2013 0:00         21793        24.00  0.083368   -0.041649  22.72\n",
       "1/8/2013 0:00         41324        23.81  2.739726   -0.750313  22.80\n",
       "1/9/2013 0:00         39909        23.69  2.085106   -0.503990  22.93"
      ]
     },
     "execution_count": 27,
     "metadata": {},
     "output_type": "execute_result"
    }
   ],
   "source": [
    "oriental_Weavers.head()"
   ]
  },
  {
   "cell_type": "code",
   "execution_count": 28,
   "metadata": {},
   "outputs": [
    {
     "data": {
      "text/plain": [
       "1199"
      ]
     },
     "execution_count": 28,
     "metadata": {},
     "output_type": "execute_result"
    }
   ],
   "source": [
    "len(X)"
   ]
  },
  {
   "cell_type": "code",
   "execution_count": 29,
   "metadata": {},
   "outputs": [
    {
     "data": {
      "text/plain": [
       "1199"
      ]
     },
     "execution_count": 29,
     "metadata": {},
     "output_type": "execute_result"
    }
   ],
   "source": [
    "y=np.array(oriental_Weavers['Label'])\n",
    "len(y)"
   ]
  },
  {
   "cell_type": "code",
   "execution_count": 31,
   "metadata": {},
   "outputs": [
    {
     "data": {
      "image/png": "[encoded data removed]",
      "text/plain": [
       "<matplotlib.figure.Figure at 0x7a43d70a90>"
      ]
     },
     "metadata": {},
     "output_type": "display_data"
    }
   ],
   "source": [
    "tmp=oriental_Weavers[['CLOSE_PRICE','Label']]\n",
    "tmp[:100].plot(figsize=(18,6))\n",
    "plt.show()"
   ]
  },
  {
   "cell_type": "code",
   "execution_count": 32,
   "metadata": {
    "collapsed": true
   },
   "outputs": [],
   "source": [
    "X_train,X_test,y_train,y_test=cross_validation.train_test_split(X,y,test_size=0.2)"
   ]
  },
  {
   "cell_type": "code",
   "execution_count": 33,
   "metadata": {},
   "outputs": [
    {
     "data": {
      "text/plain": [
       "LinearRegression(copy_X=True, fit_intercept=True, n_jobs=1, normalize=False)"
      ]
     },
     "execution_count": 33,
     "metadata": {},
     "output_type": "execute_result"
    }
   ],
   "source": [
    "clf=LinearRegression()\n",
    "clf.fit(X_train,y_train)"
   ]
  },
  {
   "cell_type": "code",
   "execution_count": 34,
   "metadata": {},
   "outputs": [
    {
     "data": {
      "text/plain": [
       "(15, 240, 240, 959, 15)"
      ]
     },
     "execution_count": 34,
     "metadata": {},
     "output_type": "execute_result"
    }
   ],
   "source": [
    "forecast_set=clf.predict(X_lately)\n",
    "y_pred_lr=clf.predict(X_test)\n",
    "len(X_lately),len(X_test),len(y_test),len(X_train),len(forecast_set)"
   ]
  },
  {
   "cell_type": "code",
   "execution_count": 36,
   "metadata": {},
   "outputs": [
    {
     "data": {
      "text/html": [
       "<div>\n",
       "<style>\n",
       "    .dataframe thead tr:only-child th {\n",
       "        text-align: right;\n",
       "    }\n",
       "\n",
       "    .dataframe thead th {\n",
       "        text-align: left;\n",
       "    }\n",
       "\n",
       "    .dataframe tbody tr th {\n",
       "        vertical-align: top;\n",
       "    }\n",
       "</style>\n",
       "<table border=\"1\" class=\"dataframe\">\n",
       "  <thead>\n",
       "    <tr style=\"text-align: right;\">\n",
       "      <th></th>\n",
       "      <th>TRADE_VOLUME</th>\n",
       "      <th>CLOSE_PRICE</th>\n",
       "      <th>HL_PCT</th>\n",
       "      <th>PCT_change</th>\n",
       "      <th>Label</th>\n",
       "      <th>Forecast</th>\n",
       "    </tr>\n",
       "    <tr>\n",
       "      <th>TRADE_DATE</th>\n",
       "      <th></th>\n",
       "      <th></th>\n",
       "      <th></th>\n",
       "      <th></th>\n",
       "      <th></th>\n",
       "      <th></th>\n",
       "    </tr>\n",
       "  </thead>\n",
       "  <tbody>\n",
       "    <tr>\n",
       "      <th>12/4/2017 0:00</th>\n",
       "      <td>1333520</td>\n",
       "      <td>18.15</td>\n",
       "      <td>2.793296</td>\n",
       "      <td>0.777346</td>\n",
       "      <td>16.92</td>\n",
       "      <td>NaN</td>\n",
       "    </tr>\n",
       "    <tr>\n",
       "      <th>12/5/2017 0:00</th>\n",
       "      <td>588643</td>\n",
       "      <td>17.80</td>\n",
       "      <td>1.994302</td>\n",
       "      <td>1.136364</td>\n",
       "      <td>16.95</td>\n",
       "      <td>NaN</td>\n",
       "    </tr>\n",
       "    <tr>\n",
       "      <th>12/6/2017 0:00</th>\n",
       "      <td>176272</td>\n",
       "      <td>17.36</td>\n",
       "      <td>2.376812</td>\n",
       "      <td>-1.419648</td>\n",
       "      <td>16.63</td>\n",
       "      <td>NaN</td>\n",
       "    </tr>\n",
       "    <tr>\n",
       "      <th>12/7/2017 0:00</th>\n",
       "      <td>70145</td>\n",
       "      <td>17.14</td>\n",
       "      <td>1.705882</td>\n",
       "      <td>-0.406740</td>\n",
       "      <td>16.77</td>\n",
       "      <td>NaN</td>\n",
       "    </tr>\n",
       "    <tr>\n",
       "      <th>12/10/2017 0:00</th>\n",
       "      <td>477953</td>\n",
       "      <td>17.06</td>\n",
       "      <td>4.058824</td>\n",
       "      <td>0.352941</td>\n",
       "      <td>16.59</td>\n",
       "      <td>NaN</td>\n",
       "    </tr>\n",
       "  </tbody>\n",
       "</table>\n",
       "</div>"
      ],
      "text/plain": [
       "                 TRADE_VOLUME  CLOSE_PRICE    HL_PCT  PCT_change  Label  \\\n",
       "TRADE_DATE                                                                \n",
       "12/4/2017 0:00        1333520        18.15  2.793296    0.777346  16.92   \n",
       "12/5/2017 0:00         588643        17.80  1.994302    1.136364  16.95   \n",
       "12/6/2017 0:00         176272        17.36  2.376812   -1.419648  16.63   \n",
       "12/7/2017 0:00          70145        17.14  1.705882   -0.406740  16.77   \n",
       "12/10/2017 0:00        477953        17.06  4.058824    0.352941  16.59   \n",
       "\n",
       "                 Forecast  \n",
       "TRADE_DATE                 \n",
       "12/4/2017 0:00        NaN  \n",
       "12/5/2017 0:00        NaN  \n",
       "12/6/2017 0:00        NaN  \n",
       "12/7/2017 0:00        NaN  \n",
       "12/10/2017 0:00       NaN  "
      ]
     },
     "execution_count": 36,
     "metadata": {},
     "output_type": "execute_result"
    }
   ],
   "source": [
    "oriental_Weavers['Forecast']=np.nan\n",
    "oriental_Weavers.tail()"
   ]
  },
  {
   "cell_type": "code",
   "execution_count": 37,
   "metadata": {},
   "outputs": [
    {
     "data": {
      "text/plain": [
       "'12/10/2017 0:00'"
      ]
     },
     "execution_count": 37,
     "metadata": {},
     "output_type": "execute_result"
    }
   ],
   "source": [
    "last_date=oriental_Weavers.iloc[-1].name\n",
    "last_date"
   ]
  },
  {
   "cell_type": "code",
   "execution_count": 38,
   "metadata": {},
   "outputs": [
    {
     "data": {
      "text/plain": [
       "1517966215.107913"
      ]
     },
     "execution_count": 38,
     "metadata": {},
     "output_type": "execute_result"
    }
   ],
   "source": [
    "one_day=86400 #minutes\n",
    "ts = datetime.datetime.now().timestamp()\n",
    "last_day=ts\n",
    "next_day=last_day+one_day\n",
    "ts"
   ]
  },
  {
   "cell_type": "code",
   "execution_count": 40,
   "metadata": {
    "collapsed": true
   },
   "outputs": [],
   "source": [
    "for i in forecast_set:\n",
    "    next_date=datetime.datetime.fromtimestamp(next_day)\n",
    "    next_day+=86400\n",
    "    oriental_Weavers.loc[next_date]=[np.nan for j in range(len(oriental_Weavers.columns)-1)]+[i]"
   ]
  },
  {
   "cell_type": "code",
   "execution_count": 42,
   "metadata": {},
   "outputs": [
    {
     "data": {
      "image/png": "[encoded data removed]",
      "text/plain": [
       "<matplotlib.figure.Figure at 0x7a44113e80>"
      ]
     },
     "metadata": {},
     "output_type": "display_data"
    }
   ],
   "source": [
    "oriental_Weavers[['CLOSE_PRICE','Forecast']].plot(figsize=(18,6))\n",
    "plt.legend(loc=4)\n",
    "plt.xlabel('Date')\n",
    "plt.ylabel('Price')\n",
    "plt.show()"
   ]
  },
  {
   "cell_type": "code",
   "execution_count": 43,
   "metadata": {},
   "outputs": [
    {
     "data": {
      "image/png": "[encoded data removed]",
      "text/plain": [
       "<matplotlib.figure.Figure at 0x7a4415f4a8>"
      ]
     },
     "metadata": {},
     "output_type": "display_data"
    }
   ],
   "source": [
    "oriental_Weavers[['CLOSE_PRICE','Forecast']][-200:].plot(figsize=(18,6))\n",
    "plt.legend(loc=4)\n",
    "plt.xlabel('Date')\n",
    "plt.ylabel('Price')\n",
    "plt.show()"
   ]
  },
  {
   "cell_type": "code",
   "execution_count": 44,
   "metadata": {},
   "outputs": [
    {
     "data": {
      "text/plain": [
       "75.583126995838811"
      ]
     },
     "execution_count": 44,
     "metadata": {},
     "output_type": "execute_result"
    }
   ],
   "source": [
    "accuracy=clf.score(X_test,y_test)\n",
    "accuracy*100"
   ]
  },
  {
   "cell_type": "code",
   "execution_count": 46,
   "metadata": {},
   "outputs": [
    {
     "data": {
      "text/html": [
       "<div>\n",
       "<style>\n",
       "    .dataframe thead tr:only-child th {\n",
       "        text-align: right;\n",
       "    }\n",
       "\n",
       "    .dataframe thead th {\n",
       "        text-align: left;\n",
       "    }\n",
       "\n",
       "    .dataframe tbody tr th {\n",
       "        vertical-align: top;\n",
       "    }\n",
       "</style>\n",
       "<table border=\"1\" class=\"dataframe\">\n",
       "  <thead>\n",
       "    <tr style=\"text-align: right;\">\n",
       "      <th></th>\n",
       "      <th>TRADE_VOLUME</th>\n",
       "      <th>CLOSE_PRICE</th>\n",
       "      <th>HL_PCT</th>\n",
       "      <th>PCT_change</th>\n",
       "      <th>Label</th>\n",
       "      <th>Forecast</th>\n",
       "    </tr>\n",
       "    <tr>\n",
       "      <th>TRADE_DATE</th>\n",
       "      <th></th>\n",
       "      <th></th>\n",
       "      <th></th>\n",
       "      <th></th>\n",
       "      <th></th>\n",
       "      <th></th>\n",
       "    </tr>\n",
       "  </thead>\n",
       "  <tbody>\n",
       "    <tr>\n",
       "      <th>2018-02-18 17:16:55.107913</th>\n",
       "      <td>NaN</td>\n",
       "      <td>NaN</td>\n",
       "      <td>NaN</td>\n",
       "      <td>NaN</td>\n",
       "      <td>NaN</td>\n",
       "      <td>17.439339</td>\n",
       "    </tr>\n",
       "    <tr>\n",
       "      <th>2018-02-19 17:16:55.107913</th>\n",
       "      <td>NaN</td>\n",
       "      <td>NaN</td>\n",
       "      <td>NaN</td>\n",
       "      <td>NaN</td>\n",
       "      <td>NaN</td>\n",
       "      <td>17.452513</td>\n",
       "    </tr>\n",
       "    <tr>\n",
       "      <th>2018-02-20 17:16:55.107913</th>\n",
       "      <td>NaN</td>\n",
       "      <td>NaN</td>\n",
       "      <td>NaN</td>\n",
       "      <td>NaN</td>\n",
       "      <td>NaN</td>\n",
       "      <td>17.817758</td>\n",
       "    </tr>\n",
       "    <tr>\n",
       "      <th>2018-02-21 17:16:55.107913</th>\n",
       "      <td>NaN</td>\n",
       "      <td>NaN</td>\n",
       "      <td>NaN</td>\n",
       "      <td>NaN</td>\n",
       "      <td>NaN</td>\n",
       "      <td>17.715225</td>\n",
       "    </tr>\n",
       "    <tr>\n",
       "      <th>2018-02-22 17:16:55.107913</th>\n",
       "      <td>NaN</td>\n",
       "      <td>NaN</td>\n",
       "      <td>NaN</td>\n",
       "      <td>NaN</td>\n",
       "      <td>NaN</td>\n",
       "      <td>17.562864</td>\n",
       "    </tr>\n",
       "  </tbody>\n",
       "</table>\n",
       "</div>"
      ],
      "text/plain": [
       "                            TRADE_VOLUME  CLOSE_PRICE  HL_PCT  PCT_change  \\\n",
       "TRADE_DATE                                                                  \n",
       "2018-02-18 17:16:55.107913           NaN          NaN     NaN         NaN   \n",
       "2018-02-19 17:16:55.107913           NaN          NaN     NaN         NaN   \n",
       "2018-02-20 17:16:55.107913           NaN          NaN     NaN         NaN   \n",
       "2018-02-21 17:16:55.107913           NaN          NaN     NaN         NaN   \n",
       "2018-02-22 17:16:55.107913           NaN          NaN     NaN         NaN   \n",
       "\n",
       "                            Label   Forecast  \n",
       "TRADE_DATE                                    \n",
       "2018-02-18 17:16:55.107913    NaN  17.439339  \n",
       "2018-02-19 17:16:55.107913    NaN  17.452513  \n",
       "2018-02-20 17:16:55.107913    NaN  17.817758  \n",
       "2018-02-21 17:16:55.107913    NaN  17.715225  \n",
       "2018-02-22 17:16:55.107913    NaN  17.562864  "
      ]
     },
     "execution_count": 46,
     "metadata": {},
     "output_type": "execute_result"
    }
   ],
   "source": [
    "oriental_Weavers.tail()"
   ]
  },
  {
   "cell_type": "code",
   "execution_count": null,
   "metadata": {
    "collapsed": true
   },
   "outputs": [],
   "source": []
  },
  {
   "cell_type": "code",
   "execution_count": null,
   "metadata": {
    "collapsed": true
   },
   "outputs": [],
   "source": []
  },
  {
   "cell_type": "code",
   "execution_count": null,
   "metadata": {
    "collapsed": true
   },
   "outputs": [],
   "source": []
  },
  {
   "cell_type": "code",
   "execution_count": null,
   "metadata": {
    "collapsed": true
   },
   "outputs": [],
   "source": []
  },
  {
   "cell_type": "code",
   "execution_count": null,
   "metadata": {
    "collapsed": true
   },
   "outputs": [],
   "source": []
  },
  {
   "cell_type": "code",
   "execution_count": null,
   "metadata": {
    "collapsed": true
   },
   "outputs": [],
   "source": []
  },
  {
   "cell_type": "code",
   "execution_count": null,
   "metadata": {
    "collapsed": true
   },
   "outputs": [],
   "source": []
  },
  {
   "cell_type": "code",
   "execution_count": null,
   "metadata": {
    "collapsed": true
   },
   "outputs": [],
   "source": []
  },
  {
   "cell_type": "code",
   "execution_count": null,
   "metadata": {
    "collapsed": true
   },
   "outputs": [],
   "source": []
  }
 ],
 "metadata": {
  "kernelspec": {
   "display_name": "Python 3",
   "language": "python",
   "name": "python3"
  },
  "language_info": {
   "codemirror_mode": {
    "name": "ipython",
    "version": 3
   },
   "file_extension": ".py",
   "mimetype": "text/x-python",
   "name": "python",
   "nbconvert_exporter": "python",
   "pygments_lexer": "ipython3",
   "version": "3.6.1"
  }
 },
 "nbformat": 4,
 "nbformat_minor": 2
}
