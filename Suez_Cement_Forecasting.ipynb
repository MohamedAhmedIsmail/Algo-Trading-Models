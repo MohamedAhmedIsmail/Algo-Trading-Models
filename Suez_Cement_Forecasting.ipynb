{
 "cells": [
  {
   "cell_type": "code",
   "execution_count": 1,
   "metadata": {},
   "outputs": [
    {
     "name": "stderr",
     "output_type": "stream",
     "text": [
      "C:\\Users\\mohamed ismail\\Anaconda3\\lib\\site-packages\\sklearn\\cross_validation.py:41: DeprecationWarning: This module was deprecated in version 0.18 in favor of the model_selection module into which all the refactored classes and functions are moved. Also note that the interface of the new CV iterators are different from that of this module. This module will be removed in 0.20.\n",
      "  \"This module will be removed in 0.20.\", DeprecationWarning)\n"
     ]
    }
   ],
   "source": [
    "import math\n",
    "import pandas as pd\n",
    "import numpy as np\n",
    "import matplotlib.pyplot as plt\n",
    "from matplotlib import style\n",
    "from sklearn import preprocessing , cross_validation, svm\n",
    "from sklearn.linear_model import LinearRegression\n",
    "from sklearn.metrics import mean_squared_error\n",
    "import datetime\n",
    "%matplotlib inline"
   ]
  },
  {
   "cell_type": "code",
   "execution_count": 2,
   "metadata": {
    "collapsed": true
   },
   "outputs": [],
   "source": [
    "style.use('ggplot')"
   ]
  },
  {
   "cell_type": "code",
   "execution_count": 3,
   "metadata": {
    "collapsed": true
   },
   "outputs": [],
   "source": [
    "suez_cement=pd.read_csv(\"C:/Users/mohamed ismail/Desktop/GP And Data/Suez Cement.csv\",index_col=1)"
   ]
  },
  {
   "cell_type": "code",
   "execution_count": 4,
   "metadata": {},
   "outputs": [
    {
     "data": {
      "text/html": [
       "<div>\n",
       "<style>\n",
       "    .dataframe thead tr:only-child th {\n",
       "        text-align: right;\n",
       "    }\n",
       "\n",
       "    .dataframe thead th {\n",
       "        text-align: left;\n",
       "    }\n",
       "\n",
       "    .dataframe tbody tr th {\n",
       "        vertical-align: top;\n",
       "    }\n",
       "</style>\n",
       "<table border=\"1\" class=\"dataframe\">\n",
       "  <thead>\n",
       "    <tr style=\"text-align: right;\">\n",
       "      <th></th>\n",
       "      <th>SYMBOL_CODE</th>\n",
       "      <th>TRADE_VOLUME</th>\n",
       "      <th>TRADE_VALUE</th>\n",
       "      <th>TRADE_COUNT</th>\n",
       "      <th>OPEN_PRICE</th>\n",
       "      <th>HIGH_PRICE</th>\n",
       "      <th>LOW_PRICE</th>\n",
       "      <th>CLOSE_PRICE</th>\n",
       "    </tr>\n",
       "    <tr>\n",
       "      <th>TRADE_DATE</th>\n",
       "      <th></th>\n",
       "      <th></th>\n",
       "      <th></th>\n",
       "      <th></th>\n",
       "      <th></th>\n",
       "      <th></th>\n",
       "      <th></th>\n",
       "      <th></th>\n",
       "    </tr>\n",
       "  </thead>\n",
       "  <tbody>\n",
       "    <tr>\n",
       "      <th>1/2/2013 0:00</th>\n",
       "      <td>EGS3C181C012</td>\n",
       "      <td>10479</td>\n",
       "      <td>236337.30</td>\n",
       "      <td>18</td>\n",
       "      <td>22.50</td>\n",
       "      <td>22.69</td>\n",
       "      <td>22.05</td>\n",
       "      <td>22.55</td>\n",
       "    </tr>\n",
       "    <tr>\n",
       "      <th>1/3/2013 0:00</th>\n",
       "      <td>EGS3C181C012</td>\n",
       "      <td>1890</td>\n",
       "      <td>42591.50</td>\n",
       "      <td>8</td>\n",
       "      <td>22.55</td>\n",
       "      <td>22.55</td>\n",
       "      <td>22.20</td>\n",
       "      <td>22.54</td>\n",
       "    </tr>\n",
       "    <tr>\n",
       "      <th>1/6/2013 0:00</th>\n",
       "      <td>EGS3C181C012</td>\n",
       "      <td>2257</td>\n",
       "      <td>50205.67</td>\n",
       "      <td>8</td>\n",
       "      <td>22.50</td>\n",
       "      <td>22.50</td>\n",
       "      <td>22.01</td>\n",
       "      <td>22.24</td>\n",
       "    </tr>\n",
       "    <tr>\n",
       "      <th>1/8/2013 0:00</th>\n",
       "      <td>EGS3C181C012</td>\n",
       "      <td>545</td>\n",
       "      <td>11939.95</td>\n",
       "      <td>3</td>\n",
       "      <td>22.00</td>\n",
       "      <td>22.00</td>\n",
       "      <td>21.87</td>\n",
       "      <td>21.91</td>\n",
       "    </tr>\n",
       "    <tr>\n",
       "      <th>1/9/2013 0:00</th>\n",
       "      <td>EGS3C181C012</td>\n",
       "      <td>1782</td>\n",
       "      <td>39146.32</td>\n",
       "      <td>6</td>\n",
       "      <td>22.01</td>\n",
       "      <td>22.01</td>\n",
       "      <td>21.92</td>\n",
       "      <td>21.97</td>\n",
       "    </tr>\n",
       "  </tbody>\n",
       "</table>\n",
       "</div>"
      ],
      "text/plain": [
       "                SYMBOL_CODE  TRADE_VOLUME  TRADE_VALUE  TRADE_COUNT  \\\n",
       "TRADE_DATE                                                            \n",
       "1/2/2013 0:00  EGS3C181C012         10479    236337.30           18   \n",
       "1/3/2013 0:00  EGS3C181C012          1890     42591.50            8   \n",
       "1/6/2013 0:00  EGS3C181C012          2257     50205.67            8   \n",
       "1/8/2013 0:00  EGS3C181C012           545     11939.95            3   \n",
       "1/9/2013 0:00  EGS3C181C012          1782     39146.32            6   \n",
       "\n",
       "               OPEN_PRICE  HIGH_PRICE  LOW_PRICE  CLOSE_PRICE  \n",
       "TRADE_DATE                                                     \n",
       "1/2/2013 0:00       22.50       22.69      22.05        22.55  \n",
       "1/3/2013 0:00       22.55       22.55      22.20        22.54  \n",
       "1/6/2013 0:00       22.50       22.50      22.01        22.24  \n",
       "1/8/2013 0:00       22.00       22.00      21.87        21.91  \n",
       "1/9/2013 0:00       22.01       22.01      21.92        21.97  "
      ]
     },
     "execution_count": 4,
     "metadata": {},
     "output_type": "execute_result"
    }
   ],
   "source": [
    "suez_cement.head()"
   ]
  },
  {
   "cell_type": "code",
   "execution_count": 5,
   "metadata": {},
   "outputs": [
    {
     "data": {
      "text/html": [
       "<div>\n",
       "<style>\n",
       "    .dataframe thead tr:only-child th {\n",
       "        text-align: right;\n",
       "    }\n",
       "\n",
       "    .dataframe thead th {\n",
       "        text-align: left;\n",
       "    }\n",
       "\n",
       "    .dataframe tbody tr th {\n",
       "        vertical-align: top;\n",
       "    }\n",
       "</style>\n",
       "<table border=\"1\" class=\"dataframe\">\n",
       "  <thead>\n",
       "    <tr style=\"text-align: right;\">\n",
       "      <th></th>\n",
       "      <th>SYMBOL_CODE</th>\n",
       "      <th>TRADE_VOLUME</th>\n",
       "      <th>TRADE_VALUE</th>\n",
       "      <th>TRADE_COUNT</th>\n",
       "      <th>OPEN_PRICE</th>\n",
       "      <th>HIGH_PRICE</th>\n",
       "      <th>LOW_PRICE</th>\n",
       "      <th>CLOSE_PRICE</th>\n",
       "      <th>HL_PCT</th>\n",
       "      <th>PCT_change</th>\n",
       "    </tr>\n",
       "    <tr>\n",
       "      <th>TRADE_DATE</th>\n",
       "      <th></th>\n",
       "      <th></th>\n",
       "      <th></th>\n",
       "      <th></th>\n",
       "      <th></th>\n",
       "      <th></th>\n",
       "      <th></th>\n",
       "      <th></th>\n",
       "      <th></th>\n",
       "      <th></th>\n",
       "    </tr>\n",
       "  </thead>\n",
       "  <tbody>\n",
       "    <tr>\n",
       "      <th>1/2/2013 0:00</th>\n",
       "      <td>EGS3C181C012</td>\n",
       "      <td>10479</td>\n",
       "      <td>236337.30</td>\n",
       "      <td>18</td>\n",
       "      <td>22.50</td>\n",
       "      <td>22.69</td>\n",
       "      <td>22.05</td>\n",
       "      <td>22.55</td>\n",
       "      <td>2.902494</td>\n",
       "      <td>0.222222</td>\n",
       "    </tr>\n",
       "    <tr>\n",
       "      <th>1/3/2013 0:00</th>\n",
       "      <td>EGS3C181C012</td>\n",
       "      <td>1890</td>\n",
       "      <td>42591.50</td>\n",
       "      <td>8</td>\n",
       "      <td>22.55</td>\n",
       "      <td>22.55</td>\n",
       "      <td>22.20</td>\n",
       "      <td>22.54</td>\n",
       "      <td>1.576577</td>\n",
       "      <td>-0.044346</td>\n",
       "    </tr>\n",
       "    <tr>\n",
       "      <th>1/6/2013 0:00</th>\n",
       "      <td>EGS3C181C012</td>\n",
       "      <td>2257</td>\n",
       "      <td>50205.67</td>\n",
       "      <td>8</td>\n",
       "      <td>22.50</td>\n",
       "      <td>22.50</td>\n",
       "      <td>22.01</td>\n",
       "      <td>22.24</td>\n",
       "      <td>2.226261</td>\n",
       "      <td>-1.155556</td>\n",
       "    </tr>\n",
       "    <tr>\n",
       "      <th>1/8/2013 0:00</th>\n",
       "      <td>EGS3C181C012</td>\n",
       "      <td>545</td>\n",
       "      <td>11939.95</td>\n",
       "      <td>3</td>\n",
       "      <td>22.00</td>\n",
       "      <td>22.00</td>\n",
       "      <td>21.87</td>\n",
       "      <td>21.91</td>\n",
       "      <td>0.594422</td>\n",
       "      <td>-0.409091</td>\n",
       "    </tr>\n",
       "    <tr>\n",
       "      <th>1/9/2013 0:00</th>\n",
       "      <td>EGS3C181C012</td>\n",
       "      <td>1782</td>\n",
       "      <td>39146.32</td>\n",
       "      <td>6</td>\n",
       "      <td>22.01</td>\n",
       "      <td>22.01</td>\n",
       "      <td>21.92</td>\n",
       "      <td>21.97</td>\n",
       "      <td>0.410584</td>\n",
       "      <td>-0.181736</td>\n",
       "    </tr>\n",
       "  </tbody>\n",
       "</table>\n",
       "</div>"
      ],
      "text/plain": [
       "                SYMBOL_CODE  TRADE_VOLUME  TRADE_VALUE  TRADE_COUNT  \\\n",
       "TRADE_DATE                                                            \n",
       "1/2/2013 0:00  EGS3C181C012         10479    236337.30           18   \n",
       "1/3/2013 0:00  EGS3C181C012          1890     42591.50            8   \n",
       "1/6/2013 0:00  EGS3C181C012          2257     50205.67            8   \n",
       "1/8/2013 0:00  EGS3C181C012           545     11939.95            3   \n",
       "1/9/2013 0:00  EGS3C181C012          1782     39146.32            6   \n",
       "\n",
       "               OPEN_PRICE  HIGH_PRICE  LOW_PRICE  CLOSE_PRICE    HL_PCT  \\\n",
       "TRADE_DATE                                                                \n",
       "1/2/2013 0:00       22.50       22.69      22.05        22.55  2.902494   \n",
       "1/3/2013 0:00       22.55       22.55      22.20        22.54  1.576577   \n",
       "1/6/2013 0:00       22.50       22.50      22.01        22.24  2.226261   \n",
       "1/8/2013 0:00       22.00       22.00      21.87        21.91  0.594422   \n",
       "1/9/2013 0:00       22.01       22.01      21.92        21.97  0.410584   \n",
       "\n",
       "               PCT_change  \n",
       "TRADE_DATE                 \n",
       "1/2/2013 0:00    0.222222  \n",
       "1/3/2013 0:00   -0.044346  \n",
       "1/6/2013 0:00   -1.155556  \n",
       "1/8/2013 0:00   -0.409091  \n",
       "1/9/2013 0:00   -0.181736  "
      ]
     },
     "execution_count": 5,
     "metadata": {},
     "output_type": "execute_result"
    }
   ],
   "source": [
    "suez_cement['HL_PCT']=(suez_cement['HIGH_PRICE']-suez_cement['LOW_PRICE'])/suez_cement['LOW_PRICE']*100.0\n",
    "suez_cement['PCT_change']=(suez_cement['CLOSE_PRICE']-suez_cement['OPEN_PRICE'])/suez_cement['OPEN_PRICE']*100.0\n",
    "suez_cement.head()"
   ]
  },
  {
   "cell_type": "code",
   "execution_count": 6,
   "metadata": {},
   "outputs": [
    {
     "data": {
      "text/html": [
       "<div>\n",
       "<style>\n",
       "    .dataframe thead tr:only-child th {\n",
       "        text-align: right;\n",
       "    }\n",
       "\n",
       "    .dataframe thead th {\n",
       "        text-align: left;\n",
       "    }\n",
       "\n",
       "    .dataframe tbody tr th {\n",
       "        vertical-align: top;\n",
       "    }\n",
       "</style>\n",
       "<table border=\"1\" class=\"dataframe\">\n",
       "  <thead>\n",
       "    <tr style=\"text-align: right;\">\n",
       "      <th></th>\n",
       "      <th>TRADE_VOLUME</th>\n",
       "      <th>CLOSE_PRICE</th>\n",
       "      <th>HL_PCT</th>\n",
       "      <th>PCT_change</th>\n",
       "    </tr>\n",
       "    <tr>\n",
       "      <th>TRADE_DATE</th>\n",
       "      <th></th>\n",
       "      <th></th>\n",
       "      <th></th>\n",
       "      <th></th>\n",
       "    </tr>\n",
       "  </thead>\n",
       "  <tbody>\n",
       "    <tr>\n",
       "      <th>1/2/2013 0:00</th>\n",
       "      <td>10479</td>\n",
       "      <td>22.55</td>\n",
       "      <td>2.902494</td>\n",
       "      <td>0.222222</td>\n",
       "    </tr>\n",
       "    <tr>\n",
       "      <th>1/3/2013 0:00</th>\n",
       "      <td>1890</td>\n",
       "      <td>22.54</td>\n",
       "      <td>1.576577</td>\n",
       "      <td>-0.044346</td>\n",
       "    </tr>\n",
       "    <tr>\n",
       "      <th>1/6/2013 0:00</th>\n",
       "      <td>2257</td>\n",
       "      <td>22.24</td>\n",
       "      <td>2.226261</td>\n",
       "      <td>-1.155556</td>\n",
       "    </tr>\n",
       "    <tr>\n",
       "      <th>1/8/2013 0:00</th>\n",
       "      <td>545</td>\n",
       "      <td>21.91</td>\n",
       "      <td>0.594422</td>\n",
       "      <td>-0.409091</td>\n",
       "    </tr>\n",
       "    <tr>\n",
       "      <th>1/9/2013 0:00</th>\n",
       "      <td>1782</td>\n",
       "      <td>21.97</td>\n",
       "      <td>0.410584</td>\n",
       "      <td>-0.181736</td>\n",
       "    </tr>\n",
       "  </tbody>\n",
       "</table>\n",
       "</div>"
      ],
      "text/plain": [
       "               TRADE_VOLUME  CLOSE_PRICE    HL_PCT  PCT_change\n",
       "TRADE_DATE                                                    \n",
       "1/2/2013 0:00         10479        22.55  2.902494    0.222222\n",
       "1/3/2013 0:00          1890        22.54  1.576577   -0.044346\n",
       "1/6/2013 0:00          2257        22.24  2.226261   -1.155556\n",
       "1/8/2013 0:00           545        21.91  0.594422   -0.409091\n",
       "1/9/2013 0:00          1782        21.97  0.410584   -0.181736"
      ]
     },
     "execution_count": 6,
     "metadata": {},
     "output_type": "execute_result"
    }
   ],
   "source": [
    "suez_cement=suez_cement[['TRADE_VOLUME','CLOSE_PRICE','HL_PCT','PCT_change']]\n",
    "suez_cement.head()"
   ]
  },
  {
   "cell_type": "code",
   "execution_count": 8,
   "metadata": {},
   "outputs": [
    {
     "data": {
      "text/plain": [
       "14"
      ]
     },
     "execution_count": 8,
     "metadata": {},
     "output_type": "execute_result"
    }
   ],
   "source": [
    "suez_cement.fillna(value=-999999,inplace=True)\n",
    "forecast_out=int(math.ceil(0.012*len(suez_cement)))\n",
    "forecast_out"
   ]
  },
  {
   "cell_type": "code",
   "execution_count": 9,
   "metadata": {},
   "outputs": [
    {
     "data": {
      "text/html": [
       "<div>\n",
       "<style>\n",
       "    .dataframe thead tr:only-child th {\n",
       "        text-align: right;\n",
       "    }\n",
       "\n",
       "    .dataframe thead th {\n",
       "        text-align: left;\n",
       "    }\n",
       "\n",
       "    .dataframe tbody tr th {\n",
       "        vertical-align: top;\n",
       "    }\n",
       "</style>\n",
       "<table border=\"1\" class=\"dataframe\">\n",
       "  <thead>\n",
       "    <tr style=\"text-align: right;\">\n",
       "      <th></th>\n",
       "      <th>TRADE_VOLUME</th>\n",
       "      <th>CLOSE_PRICE</th>\n",
       "      <th>HL_PCT</th>\n",
       "      <th>PCT_change</th>\n",
       "      <th>Label</th>\n",
       "    </tr>\n",
       "    <tr>\n",
       "      <th>TRADE_DATE</th>\n",
       "      <th></th>\n",
       "      <th></th>\n",
       "      <th></th>\n",
       "      <th></th>\n",
       "      <th></th>\n",
       "    </tr>\n",
       "  </thead>\n",
       "  <tbody>\n",
       "    <tr>\n",
       "      <th>12/25/2017 0:00</th>\n",
       "      <td>628</td>\n",
       "      <td>24.77</td>\n",
       "      <td>0.000000</td>\n",
       "      <td>0.000000</td>\n",
       "      <td>NaN</td>\n",
       "    </tr>\n",
       "    <tr>\n",
       "      <th>12/26/2017 0:00</th>\n",
       "      <td>4685</td>\n",
       "      <td>24.66</td>\n",
       "      <td>4.166667</td>\n",
       "      <td>-0.804505</td>\n",
       "      <td>NaN</td>\n",
       "    </tr>\n",
       "    <tr>\n",
       "      <th>12/27/2017 0:00</th>\n",
       "      <td>16299</td>\n",
       "      <td>24.02</td>\n",
       "      <td>3.793247</td>\n",
       "      <td>0.083333</td>\n",
       "      <td>NaN</td>\n",
       "    </tr>\n",
       "    <tr>\n",
       "      <th>12/28/2017 0:00</th>\n",
       "      <td>2456</td>\n",
       "      <td>23.71</td>\n",
       "      <td>5.296610</td>\n",
       "      <td>-0.378151</td>\n",
       "      <td>NaN</td>\n",
       "    </tr>\n",
       "    <tr>\n",
       "      <th>12/31/2017 0:00</th>\n",
       "      <td>2632</td>\n",
       "      <td>24.33</td>\n",
       "      <td>2.384937</td>\n",
       "      <td>1.799163</td>\n",
       "      <td>NaN</td>\n",
       "    </tr>\n",
       "  </tbody>\n",
       "</table>\n",
       "</div>"
      ],
      "text/plain": [
       "                 TRADE_VOLUME  CLOSE_PRICE    HL_PCT  PCT_change  Label\n",
       "TRADE_DATE                                                             \n",
       "12/25/2017 0:00           628        24.77  0.000000    0.000000    NaN\n",
       "12/26/2017 0:00          4685        24.66  4.166667   -0.804505    NaN\n",
       "12/27/2017 0:00         16299        24.02  3.793247    0.083333    NaN\n",
       "12/28/2017 0:00          2456        23.71  5.296610   -0.378151    NaN\n",
       "12/31/2017 0:00          2632        24.33  2.384937    1.799163    NaN"
      ]
     },
     "execution_count": 9,
     "metadata": {},
     "output_type": "execute_result"
    }
   ],
   "source": [
    "suez_cement['Label']=suez_cement['CLOSE_PRICE'].shift(-forecast_out)\n",
    "suez_cement.tail()"
   ]
  },
  {
   "cell_type": "code",
   "execution_count": 11,
   "metadata": {},
   "outputs": [],
   "source": [
    "X=np.array(suez_cement.drop(['Label'],1))\n",
    "X=preprocessing.scale(X)"
   ]
  },
  {
   "cell_type": "code",
   "execution_count": 12,
   "metadata": {
    "collapsed": true
   },
   "outputs": [],
   "source": [
    "X_lately=X[-forecast_out:]\n",
    "X=X[:-forecast_out]"
   ]
  },
  {
   "cell_type": "code",
   "execution_count": 13,
   "metadata": {},
   "outputs": [
    {
     "data": {
      "text/plain": [
       "1071"
      ]
     },
     "execution_count": 13,
     "metadata": {},
     "output_type": "execute_result"
    }
   ],
   "source": [
    "suez_cement.dropna(inplace=True)\n",
    "len(suez_cement)"
   ]
  },
  {
   "cell_type": "code",
   "execution_count": 14,
   "metadata": {},
   "outputs": [
    {
     "data": {
      "text/html": [
       "<div>\n",
       "<style>\n",
       "    .dataframe thead tr:only-child th {\n",
       "        text-align: right;\n",
       "    }\n",
       "\n",
       "    .dataframe thead th {\n",
       "        text-align: left;\n",
       "    }\n",
       "\n",
       "    .dataframe tbody tr th {\n",
       "        vertical-align: top;\n",
       "    }\n",
       "</style>\n",
       "<table border=\"1\" class=\"dataframe\">\n",
       "  <thead>\n",
       "    <tr style=\"text-align: right;\">\n",
       "      <th></th>\n",
       "      <th>TRADE_VOLUME</th>\n",
       "      <th>CLOSE_PRICE</th>\n",
       "      <th>HL_PCT</th>\n",
       "      <th>PCT_change</th>\n",
       "      <th>Label</th>\n",
       "    </tr>\n",
       "    <tr>\n",
       "      <th>TRADE_DATE</th>\n",
       "      <th></th>\n",
       "      <th></th>\n",
       "      <th></th>\n",
       "      <th></th>\n",
       "      <th></th>\n",
       "    </tr>\n",
       "  </thead>\n",
       "  <tbody>\n",
       "    <tr>\n",
       "      <th>1/2/2013 0:00</th>\n",
       "      <td>10479</td>\n",
       "      <td>22.55</td>\n",
       "      <td>2.902494</td>\n",
       "      <td>0.222222</td>\n",
       "      <td>22.16</td>\n",
       "    </tr>\n",
       "    <tr>\n",
       "      <th>1/3/2013 0:00</th>\n",
       "      <td>1890</td>\n",
       "      <td>22.54</td>\n",
       "      <td>1.576577</td>\n",
       "      <td>-0.044346</td>\n",
       "      <td>21.33</td>\n",
       "    </tr>\n",
       "    <tr>\n",
       "      <th>1/6/2013 0:00</th>\n",
       "      <td>2257</td>\n",
       "      <td>22.24</td>\n",
       "      <td>2.226261</td>\n",
       "      <td>-1.155556</td>\n",
       "      <td>21.39</td>\n",
       "    </tr>\n",
       "    <tr>\n",
       "      <th>1/8/2013 0:00</th>\n",
       "      <td>545</td>\n",
       "      <td>21.91</td>\n",
       "      <td>0.594422</td>\n",
       "      <td>-0.409091</td>\n",
       "      <td>21.50</td>\n",
       "    </tr>\n",
       "    <tr>\n",
       "      <th>1/9/2013 0:00</th>\n",
       "      <td>1782</td>\n",
       "      <td>21.97</td>\n",
       "      <td>0.410584</td>\n",
       "      <td>-0.181736</td>\n",
       "      <td>21.96</td>\n",
       "    </tr>\n",
       "  </tbody>\n",
       "</table>\n",
       "</div>"
      ],
      "text/plain": [
       "               TRADE_VOLUME  CLOSE_PRICE    HL_PCT  PCT_change  Label\n",
       "TRADE_DATE                                                           \n",
       "1/2/2013 0:00         10479        22.55  2.902494    0.222222  22.16\n",
       "1/3/2013 0:00          1890        22.54  1.576577   -0.044346  21.33\n",
       "1/6/2013 0:00          2257        22.24  2.226261   -1.155556  21.39\n",
       "1/8/2013 0:00           545        21.91  0.594422   -0.409091  21.50\n",
       "1/9/2013 0:00          1782        21.97  0.410584   -0.181736  21.96"
      ]
     },
     "execution_count": 14,
     "metadata": {},
     "output_type": "execute_result"
    }
   ],
   "source": [
    "suez_cement.head()"
   ]
  },
  {
   "cell_type": "code",
   "execution_count": 15,
   "metadata": {},
   "outputs": [
    {
     "data": {
      "text/plain": [
       "1071"
      ]
     },
     "execution_count": 15,
     "metadata": {},
     "output_type": "execute_result"
    }
   ],
   "source": [
    "len(X)"
   ]
  },
  {
   "cell_type": "code",
   "execution_count": 16,
   "metadata": {},
   "outputs": [
    {
     "data": {
      "text/plain": [
       "1071"
      ]
     },
     "execution_count": 16,
     "metadata": {},
     "output_type": "execute_result"
    }
   ],
   "source": [
    "y=np.array(suez_cement['Label'])\n",
    "len(y)"
   ]
  },
  {
   "cell_type": "code",
   "execution_count": 17,
   "metadata": {},
   "outputs": [
    {
     "data": {
      "image/png": "[encoded data removed]",
      "text/plain": [
       "<matplotlib.figure.Figure at 0x5827579128>"
      ]
     },
     "metadata": {},
     "output_type": "display_data"
    }
   ],
   "source": [
    "tmp=suez_cement[['CLOSE_PRICE','Label']]\n",
    "tmp[:100].plot(figsize=(18,6))\n",
    "plt.show()"
   ]
  },
  {
   "cell_type": "code",
   "execution_count": 18,
   "metadata": {
    "collapsed": true
   },
   "outputs": [],
   "source": [
    "X_train,X_test,y_train,y_test=cross_validation.train_test_split(X,y,test_size=0.2)"
   ]
  },
  {
   "cell_type": "code",
   "execution_count": 19,
   "metadata": {},
   "outputs": [
    {
     "data": {
      "text/plain": [
       "LinearRegression(copy_X=True, fit_intercept=True, n_jobs=1, normalize=False)"
      ]
     },
     "execution_count": 19,
     "metadata": {},
     "output_type": "execute_result"
    }
   ],
   "source": [
    "clf=LinearRegression()\n",
    "clf.fit(X_train,y_train)"
   ]
  },
  {
   "cell_type": "code",
   "execution_count": 20,
   "metadata": {},
   "outputs": [
    {
     "data": {
      "text/plain": [
       "(14, 215, 215, 856, 14)"
      ]
     },
     "execution_count": 20,
     "metadata": {},
     "output_type": "execute_result"
    }
   ],
   "source": [
    "forecast_set=clf.predict(X_lately)\n",
    "y_pred_lr=clf.predict(X_test)\n",
    "len(X_lately),len(X_test),len(y_test),len(X_train),len(forecast_set)"
   ]
  },
  {
   "cell_type": "code",
   "execution_count": 21,
   "metadata": {},
   "outputs": [
    {
     "data": {
      "text/html": [
       "<div>\n",
       "<style>\n",
       "    .dataframe thead tr:only-child th {\n",
       "        text-align: right;\n",
       "    }\n",
       "\n",
       "    .dataframe thead th {\n",
       "        text-align: left;\n",
       "    }\n",
       "\n",
       "    .dataframe tbody tr th {\n",
       "        vertical-align: top;\n",
       "    }\n",
       "</style>\n",
       "<table border=\"1\" class=\"dataframe\">\n",
       "  <thead>\n",
       "    <tr style=\"text-align: right;\">\n",
       "      <th></th>\n",
       "      <th>TRADE_VOLUME</th>\n",
       "      <th>CLOSE_PRICE</th>\n",
       "      <th>HL_PCT</th>\n",
       "      <th>PCT_change</th>\n",
       "      <th>Label</th>\n",
       "      <th>Forecast</th>\n",
       "    </tr>\n",
       "    <tr>\n",
       "      <th>TRADE_DATE</th>\n",
       "      <th></th>\n",
       "      <th></th>\n",
       "      <th></th>\n",
       "      <th></th>\n",
       "      <th></th>\n",
       "      <th></th>\n",
       "    </tr>\n",
       "  </thead>\n",
       "  <tbody>\n",
       "    <tr>\n",
       "      <th>12/5/2017 0:00</th>\n",
       "      <td>10651</td>\n",
       "      <td>27.30</td>\n",
       "      <td>3.703704</td>\n",
       "      <td>-2.500000</td>\n",
       "      <td>24.77</td>\n",
       "      <td>NaN</td>\n",
       "    </tr>\n",
       "    <tr>\n",
       "      <th>12/6/2017 0:00</th>\n",
       "      <td>800</td>\n",
       "      <td>27.06</td>\n",
       "      <td>0.296187</td>\n",
       "      <td>-0.110742</td>\n",
       "      <td>24.66</td>\n",
       "      <td>NaN</td>\n",
       "    </tr>\n",
       "    <tr>\n",
       "      <th>12/7/2017 0:00</th>\n",
       "      <td>200</td>\n",
       "      <td>27.06</td>\n",
       "      <td>0.258876</td>\n",
       "      <td>-0.184434</td>\n",
       "      <td>24.02</td>\n",
       "      <td>NaN</td>\n",
       "    </tr>\n",
       "    <tr>\n",
       "      <th>12/10/2017 0:00</th>\n",
       "      <td>100</td>\n",
       "      <td>27.06</td>\n",
       "      <td>0.000000</td>\n",
       "      <td>-3.357143</td>\n",
       "      <td>23.71</td>\n",
       "      <td>NaN</td>\n",
       "    </tr>\n",
       "    <tr>\n",
       "      <th>12/11/2017 0:00</th>\n",
       "      <td>45528</td>\n",
       "      <td>27.06</td>\n",
       "      <td>0.631970</td>\n",
       "      <td>0.594796</td>\n",
       "      <td>24.33</td>\n",
       "      <td>NaN</td>\n",
       "    </tr>\n",
       "  </tbody>\n",
       "</table>\n",
       "</div>"
      ],
      "text/plain": [
       "                 TRADE_VOLUME  CLOSE_PRICE    HL_PCT  PCT_change  Label  \\\n",
       "TRADE_DATE                                                                \n",
       "12/5/2017 0:00          10651        27.30  3.703704   -2.500000  24.77   \n",
       "12/6/2017 0:00            800        27.06  0.296187   -0.110742  24.66   \n",
       "12/7/2017 0:00            200        27.06  0.258876   -0.184434  24.02   \n",
       "12/10/2017 0:00           100        27.06  0.000000   -3.357143  23.71   \n",
       "12/11/2017 0:00         45528        27.06  0.631970    0.594796  24.33   \n",
       "\n",
       "                 Forecast  \n",
       "TRADE_DATE                 \n",
       "12/5/2017 0:00        NaN  \n",
       "12/6/2017 0:00        NaN  \n",
       "12/7/2017 0:00        NaN  \n",
       "12/10/2017 0:00       NaN  \n",
       "12/11/2017 0:00       NaN  "
      ]
     },
     "execution_count": 21,
     "metadata": {},
     "output_type": "execute_result"
    }
   ],
   "source": [
    "suez_cement['Forecast']=np.nan\n",
    "suez_cement.tail()"
   ]
  },
  {
   "cell_type": "code",
   "execution_count": 23,
   "metadata": {},
   "outputs": [
    {
     "data": {
      "text/plain": [
       "'12/11/2017 0:00'"
      ]
     },
     "execution_count": 23,
     "metadata": {},
     "output_type": "execute_result"
    }
   ],
   "source": [
    "last_date=suez_cement.iloc[-1].name\n",
    "last_date"
   ]
  },
  {
   "cell_type": "code",
   "execution_count": 24,
   "metadata": {},
   "outputs": [
    {
     "data": {
      "text/plain": [
       "1517974761.958635"
      ]
     },
     "execution_count": 24,
     "metadata": {},
     "output_type": "execute_result"
    }
   ],
   "source": [
    "one_day=86400 #minutes\n",
    "ts = datetime.datetime.now().timestamp()\n",
    "last_day=ts\n",
    "next_day=last_day+one_day\n",
    "ts"
   ]
  },
  {
   "cell_type": "code",
   "execution_count": 26,
   "metadata": {},
   "outputs": [],
   "source": [
    "for i in forecast_set:\n",
    "    next_date=datetime.datetime.fromtimestamp(next_day)\n",
    "    next_day+=86400\n",
    "    suez_cement.loc[next_date]=[np.nan for j in range(len(suez_cement.columns)-1)]+[i]"
   ]
  },
  {
   "cell_type": "code",
   "execution_count": 27,
   "metadata": {},
   "outputs": [
    {
     "data": {
      "image/png": "[encoded data removed]",
      "text/plain": [
       "<matplotlib.figure.Figure at 0x582791d978>"
      ]
     },
     "metadata": {},
     "output_type": "display_data"
    }
   ],
   "source": [
    "suez_cement[['CLOSE_PRICE','Forecast']].plot(figsize=(18,6))\n",
    "plt.legend(loc=4)\n",
    "plt.xlabel('Date')\n",
    "plt.ylabel('Price')\n",
    "plt.show()"
   ]
  },
  {
   "cell_type": "code",
   "execution_count": 28,
   "metadata": {},
   "outputs": [
    {
     "data": {
      "image/png": "[encoded data removed]",
      "text/plain": [
       "<matplotlib.figure.Figure at 0x58287d0400>"
      ]
     },
     "metadata": {},
     "output_type": "display_data"
    }
   ],
   "source": [
    "suez_cement[['CLOSE_PRICE','Forecast']][-200:].plot(figsize=(18,6))\n",
    "plt.legend(loc=4)\n",
    "plt.xlabel('Date')\n",
    "plt.ylabel('Price')\n",
    "plt.show()"
   ]
  },
  {
   "cell_type": "code",
   "execution_count": 29,
   "metadata": {},
   "outputs": [
    {
     "data": {
      "text/plain": [
       "93.477295229262396"
      ]
     },
     "execution_count": 29,
     "metadata": {},
     "output_type": "execute_result"
    }
   ],
   "source": [
    "accuracy=clf.score(X_test,y_test)\n",
    "accuracy*100"
   ]
  },
  {
   "cell_type": "code",
   "execution_count": 31,
   "metadata": {},
   "outputs": [
    {
     "data": {
      "text/html": [
       "<div>\n",
       "<style>\n",
       "    .dataframe thead tr:only-child th {\n",
       "        text-align: right;\n",
       "    }\n",
       "\n",
       "    .dataframe thead th {\n",
       "        text-align: left;\n",
       "    }\n",
       "\n",
       "    .dataframe tbody tr th {\n",
       "        vertical-align: top;\n",
       "    }\n",
       "</style>\n",
       "<table border=\"1\" class=\"dataframe\">\n",
       "  <thead>\n",
       "    <tr style=\"text-align: right;\">\n",
       "      <th></th>\n",
       "      <th>TRADE_VOLUME</th>\n",
       "      <th>CLOSE_PRICE</th>\n",
       "      <th>HL_PCT</th>\n",
       "      <th>PCT_change</th>\n",
       "      <th>Label</th>\n",
       "      <th>Forecast</th>\n",
       "    </tr>\n",
       "    <tr>\n",
       "      <th>TRADE_DATE</th>\n",
       "      <th></th>\n",
       "      <th></th>\n",
       "      <th></th>\n",
       "      <th></th>\n",
       "      <th></th>\n",
       "      <th></th>\n",
       "    </tr>\n",
       "  </thead>\n",
       "  <tbody>\n",
       "    <tr>\n",
       "      <th>2018-02-17 19:39:21.958635</th>\n",
       "      <td>NaN</td>\n",
       "      <td>NaN</td>\n",
       "      <td>NaN</td>\n",
       "      <td>NaN</td>\n",
       "      <td>NaN</td>\n",
       "      <td>24.609907</td>\n",
       "    </tr>\n",
       "    <tr>\n",
       "      <th>2018-02-18 19:39:21.958635</th>\n",
       "      <td>NaN</td>\n",
       "      <td>NaN</td>\n",
       "      <td>NaN</td>\n",
       "      <td>NaN</td>\n",
       "      <td>NaN</td>\n",
       "      <td>24.959676</td>\n",
       "    </tr>\n",
       "    <tr>\n",
       "      <th>2018-02-19 19:39:21.958635</th>\n",
       "      <td>NaN</td>\n",
       "      <td>NaN</td>\n",
       "      <td>NaN</td>\n",
       "      <td>NaN</td>\n",
       "      <td>NaN</td>\n",
       "      <td>24.245279</td>\n",
       "    </tr>\n",
       "    <tr>\n",
       "      <th>2018-02-20 19:39:21.958635</th>\n",
       "      <td>NaN</td>\n",
       "      <td>NaN</td>\n",
       "      <td>NaN</td>\n",
       "      <td>NaN</td>\n",
       "      <td>NaN</td>\n",
       "      <td>24.130686</td>\n",
       "    </tr>\n",
       "    <tr>\n",
       "      <th>2018-02-21 19:39:21.958635</th>\n",
       "      <td>NaN</td>\n",
       "      <td>NaN</td>\n",
       "      <td>NaN</td>\n",
       "      <td>NaN</td>\n",
       "      <td>NaN</td>\n",
       "      <td>24.342911</td>\n",
       "    </tr>\n",
       "  </tbody>\n",
       "</table>\n",
       "</div>"
      ],
      "text/plain": [
       "                            TRADE_VOLUME  CLOSE_PRICE  HL_PCT  PCT_change  \\\n",
       "TRADE_DATE                                                                  \n",
       "2018-02-17 19:39:21.958635           NaN          NaN     NaN         NaN   \n",
       "2018-02-18 19:39:21.958635           NaN          NaN     NaN         NaN   \n",
       "2018-02-19 19:39:21.958635           NaN          NaN     NaN         NaN   \n",
       "2018-02-20 19:39:21.958635           NaN          NaN     NaN         NaN   \n",
       "2018-02-21 19:39:21.958635           NaN          NaN     NaN         NaN   \n",
       "\n",
       "                            Label   Forecast  \n",
       "TRADE_DATE                                    \n",
       "2018-02-17 19:39:21.958635    NaN  24.609907  \n",
       "2018-02-18 19:39:21.958635    NaN  24.959676  \n",
       "2018-02-19 19:39:21.958635    NaN  24.245279  \n",
       "2018-02-20 19:39:21.958635    NaN  24.130686  \n",
       "2018-02-21 19:39:21.958635    NaN  24.342911  "
      ]
     },
     "execution_count": 31,
     "metadata": {},
     "output_type": "execute_result"
    }
   ],
   "source": [
    "suez_cement.tail()"
   ]
  },
  {
   "cell_type": "code",
   "execution_count": null,
   "metadata": {
    "collapsed": true
   },
   "outputs": [],
   "source": []
  },
  {
   "cell_type": "code",
   "execution_count": null,
   "metadata": {
    "collapsed": true
   },
   "outputs": [],
   "source": []
  },
  {
   "cell_type": "code",
   "execution_count": null,
   "metadata": {
    "collapsed": true
   },
   "outputs": [],
   "source": []
  },
  {
   "cell_type": "code",
   "execution_count": null,
   "metadata": {
    "collapsed": true
   },
   "outputs": [],
   "source": []
  },
  {
   "cell_type": "code",
   "execution_count": null,
   "metadata": {
    "collapsed": true
   },
   "outputs": [],
   "source": []
  },
  {
   "cell_type": "code",
   "execution_count": null,
   "metadata": {
    "collapsed": true
   },
   "outputs": [],
   "source": []
  },
  {
   "cell_type": "code",
   "execution_count": null,
   "metadata": {
    "collapsed": true
   },
   "outputs": [],
   "source": []
  },
  {
   "cell_type": "code",
   "execution_count": null,
   "metadata": {
    "collapsed": true
   },
   "outputs": [],
   "source": []
  },
  {
   "cell_type": "code",
   "execution_count": null,
   "metadata": {
    "collapsed": true
   },
   "outputs": [],
   "source": []
  },
  {
   "cell_type": "code",
   "execution_count": null,
   "metadata": {
    "collapsed": true
   },
   "outputs": [],
   "source": []
  },
  {
   "cell_type": "code",
   "execution_count": null,
   "metadata": {
    "collapsed": true
   },
   "outputs": [],
   "source": []
  },
  {
   "cell_type": "code",
   "execution_count": null,
   "metadata": {
    "collapsed": true
   },
   "outputs": [],
   "source": []
  },
  {
   "cell_type": "code",
   "execution_count": null,
   "metadata": {
    "collapsed": true
   },
   "outputs": [],
   "source": []
  },
  {
   "cell_type": "code",
   "execution_count": null,
   "metadata": {
    "collapsed": true
   },
   "outputs": [],
   "source": []
  },
  {
   "cell_type": "code",
   "execution_count": null,
   "metadata": {
    "collapsed": true
   },
   "outputs": [],
   "source": []
  },
  {
   "cell_type": "code",
   "execution_count": null,
   "metadata": {
    "collapsed": true
   },
   "outputs": [],
   "source": []
  },
  {
   "cell_type": "code",
   "execution_count": null,
   "metadata": {
    "collapsed": true
   },
   "outputs": [],
   "source": []
  },
  {
   "cell_type": "code",
   "execution_count": null,
   "metadata": {
    "collapsed": true
   },
   "outputs": [],
   "source": []
  },
  {
   "cell_type": "code",
   "execution_count": null,
   "metadata": {
    "collapsed": true
   },
   "outputs": [],
   "source": []
  },
  {
   "cell_type": "code",
   "execution_count": null,
   "metadata": {
    "collapsed": true
   },
   "outputs": [],
   "source": []
  },
  {
   "cell_type": "code",
   "execution_count": null,
   "metadata": {
    "collapsed": true
   },
   "outputs": [],
   "source": []
  },
  {
   "cell_type": "code",
   "execution_count": null,
   "metadata": {
    "collapsed": true
   },
   "outputs": [],
   "source": []
  },
  {
   "cell_type": "code",
   "execution_count": null,
   "metadata": {
    "collapsed": true
   },
   "outputs": [],
   "source": []
  },
  {
   "cell_type": "code",
   "execution_count": null,
   "metadata": {
    "collapsed": true
   },
   "outputs": [],
   "source": []
  },
  {
   "cell_type": "code",
   "execution_count": null,
   "metadata": {
    "collapsed": true
   },
   "outputs": [],
   "source": []
  },
  {
   "cell_type": "code",
   "execution_count": null,
   "metadata": {
    "collapsed": true
   },
   "outputs": [],
   "source": []
  },
  {
   "cell_type": "code",
   "execution_count": null,
   "metadata": {
    "collapsed": true
   },
   "outputs": [],
   "source": []
  },
  {
   "cell_type": "code",
   "execution_count": null,
   "metadata": {
    "collapsed": true
   },
   "outputs": [],
   "source": []
  },
  {
   "cell_type": "code",
   "execution_count": null,
   "metadata": {
    "collapsed": true
   },
   "outputs": [],
   "source": []
  },
  {
   "cell_type": "code",
   "execution_count": null,
   "metadata": {
    "collapsed": true
   },
   "outputs": [],
   "source": []
  },
  {
   "cell_type": "code",
   "execution_count": null,
   "metadata": {
    "collapsed": true
   },
   "outputs": [],
   "source": []
  },
  {
   "cell_type": "code",
   "execution_count": null,
   "metadata": {
    "collapsed": true
   },
   "outputs": [],
   "source": []
  },
  {
   "cell_type": "code",
   "execution_count": null,
   "metadata": {
    "collapsed": true
   },
   "outputs": [],
   "source": []
  },
  {
   "cell_type": "code",
   "execution_count": null,
   "metadata": {
    "collapsed": true
   },
   "outputs": [],
   "source": []
  },
  {
   "cell_type": "code",
   "execution_count": null,
   "metadata": {
    "collapsed": true
   },
   "outputs": [],
   "source": []
  },
  {
   "cell_type": "code",
   "execution_count": null,
   "metadata": {
    "collapsed": true
   },
   "outputs": [],
   "source": []
  },
  {
   "cell_type": "code",
   "execution_count": null,
   "metadata": {
    "collapsed": true
   },
   "outputs": [],
   "source": []
  },
  {
   "cell_type": "code",
   "execution_count": null,
   "metadata": {
    "collapsed": true
   },
   "outputs": [],
   "source": []
  },
  {
   "cell_type": "code",
   "execution_count": null,
   "metadata": {
    "collapsed": true
   },
   "outputs": [],
   "source": []
  },
  {
   "cell_type": "code",
   "execution_count": null,
   "metadata": {
    "collapsed": true
   },
   "outputs": [],
   "source": []
  },
  {
   "cell_type": "code",
   "execution_count": null,
   "metadata": {
    "collapsed": true
   },
   "outputs": [],
   "source": []
  },
  {
   "cell_type": "code",
   "execution_count": null,
   "metadata": {
    "collapsed": true
   },
   "outputs": [],
   "source": []
  },
  {
   "cell_type": "code",
   "execution_count": null,
   "metadata": {
    "collapsed": true
   },
   "outputs": [],
   "source": []
  }
 ],
 "metadata": {
  "kernelspec": {
   "display_name": "Python 3",
   "language": "python",
   "name": "python3"
  },
  "language_info": {
   "codemirror_mode": {
    "name": "ipython",
    "version": 3
   },
   "file_extension": ".py",
   "mimetype": "text/x-python",
   "name": "python",
   "nbconvert_exporter": "python",
   "pygments_lexer": "ipython3",
   "version": "3.6.1"
  }
 },
 "nbformat": 4,
 "nbformat_minor": 2
}
