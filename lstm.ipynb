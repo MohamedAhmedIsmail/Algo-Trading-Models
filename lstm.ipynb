{
 "cells": [
  {
   "cell_type": "code",
   "execution_count": 91,
   "metadata": {
    "collapsed": true
   },
   "outputs": [],
   "source": [
    "import numpy as np\n",
    "import pandas as pd\n",
    "import urllib\n",
    "# url =\"https://goo.gl/uWbihf\"\n",
    "# data = pd.read_csv(url,sep=\";\")\n",
    "# loc= \"C:\\\\Data\\\\Monthly Sunspots.csv\"\n",
    "# data.to_csv(loc,index = False)\n",
    "# data_csv = pd.read_csv(loc,header=None)"
   ]
  },
  {
   "cell_type": "code",
   "execution_count": 92,
   "metadata": {
    "collapsed": true
   },
   "outputs": [],
   "source": [
    "# data_csv = pd.read_excel('./Suez Cement(01-01-2013 till 01-01-2018).xls')\n",
    "# data_csv = pd.read_excel('./Medinet Nasr Housing(01-01-2013 till 01-01-2018).xls')\n",
    "data_csv= pd.read_excel('./Telecom Egypt(01-01-2013 till 01-01-2018).xls')"
   ]
  },
  {
   "cell_type": "code",
   "execution_count": 93,
   "metadata": {},
   "outputs": [
    {
     "data": {
      "text/html": [
       "<div>\n",
       "<style scoped>\n",
       "    .dataframe tbody tr th:only-of-type {\n",
       "        vertical-align: middle;\n",
       "    }\n",
       "\n",
       "    .dataframe tbody tr th {\n",
       "        vertical-align: top;\n",
       "    }\n",
       "\n",
       "    .dataframe thead th {\n",
       "        text-align: right;\n",
       "    }\n",
       "</style>\n",
       "<table border=\"1\" class=\"dataframe\">\n",
       "  <thead>\n",
       "    <tr style=\"text-align: right;\">\n",
       "      <th></th>\n",
       "      <th>SYMBOL_CODE</th>\n",
       "      <th>TRADE_DATE</th>\n",
       "      <th>TRADE_VOLUME</th>\n",
       "      <th>TRADE_VALUE</th>\n",
       "      <th>TRADE_COUNT</th>\n",
       "      <th>OPEN_PRICE</th>\n",
       "      <th>HIGH_PRICE</th>\n",
       "      <th>LOW_PRICE</th>\n",
       "      <th>CLOSE_PRICE</th>\n",
       "    </tr>\n",
       "  </thead>\n",
       "  <tbody>\n",
       "    <tr>\n",
       "      <th>0</th>\n",
       "      <td>EGS48031C016</td>\n",
       "      <td>2013-01-02</td>\n",
       "      <td>742192</td>\n",
       "      <td>10760813.36</td>\n",
       "      <td>346</td>\n",
       "      <td>14.20</td>\n",
       "      <td>14.58</td>\n",
       "      <td>14.20</td>\n",
       "      <td>14.50</td>\n",
       "    </tr>\n",
       "    <tr>\n",
       "      <th>1</th>\n",
       "      <td>EGS48031C016</td>\n",
       "      <td>2013-01-03</td>\n",
       "      <td>659245</td>\n",
       "      <td>9540410.34</td>\n",
       "      <td>400</td>\n",
       "      <td>14.36</td>\n",
       "      <td>14.54</td>\n",
       "      <td>14.30</td>\n",
       "      <td>14.47</td>\n",
       "    </tr>\n",
       "    <tr>\n",
       "      <th>2</th>\n",
       "      <td>EGS48031C016</td>\n",
       "      <td>2013-01-06</td>\n",
       "      <td>657748</td>\n",
       "      <td>9532597.93</td>\n",
       "      <td>348</td>\n",
       "      <td>14.35</td>\n",
       "      <td>14.52</td>\n",
       "      <td>14.35</td>\n",
       "      <td>14.49</td>\n",
       "    </tr>\n",
       "    <tr>\n",
       "      <th>3</th>\n",
       "      <td>EGS48031C016</td>\n",
       "      <td>2013-01-08</td>\n",
       "      <td>762240</td>\n",
       "      <td>11182074.69</td>\n",
       "      <td>538</td>\n",
       "      <td>14.48</td>\n",
       "      <td>14.93</td>\n",
       "      <td>14.32</td>\n",
       "      <td>14.67</td>\n",
       "    </tr>\n",
       "    <tr>\n",
       "      <th>4</th>\n",
       "      <td>EGS48031C016</td>\n",
       "      <td>2013-01-09</td>\n",
       "      <td>838660</td>\n",
       "      <td>12528344.92</td>\n",
       "      <td>592</td>\n",
       "      <td>14.89</td>\n",
       "      <td>15.11</td>\n",
       "      <td>14.77</td>\n",
       "      <td>14.94</td>\n",
       "    </tr>\n",
       "  </tbody>\n",
       "</table>\n",
       "</div>"
      ],
      "text/plain": [
       "    SYMBOL_CODE TRADE_DATE  TRADE_VOLUME  TRADE_VALUE  TRADE_COUNT  \\\n",
       "0  EGS48031C016 2013-01-02        742192  10760813.36          346   \n",
       "1  EGS48031C016 2013-01-03        659245   9540410.34          400   \n",
       "2  EGS48031C016 2013-01-06        657748   9532597.93          348   \n",
       "3  EGS48031C016 2013-01-08        762240  11182074.69          538   \n",
       "4  EGS48031C016 2013-01-09        838660  12528344.92          592   \n",
       "\n",
       "   OPEN_PRICE  HIGH_PRICE  LOW_PRICE  CLOSE_PRICE  \n",
       "0       14.20       14.58      14.20        14.50  \n",
       "1       14.36       14.54      14.30        14.47  \n",
       "2       14.35       14.52      14.35        14.49  \n",
       "3       14.48       14.93      14.32        14.67  \n",
       "4       14.89       15.11      14.77        14.94  "
      ]
     },
     "execution_count": 93,
     "metadata": {},
     "output_type": "execute_result"
    }
   ],
   "source": [
    "data_csv.head()"
   ]
  },
  {
   "cell_type": "code",
   "execution_count": 94,
   "metadata": {
    "collapsed": true
   },
   "outputs": [],
   "source": [
    "yt= data_csv['CLOSE_PRICE']"
   ]
  },
  {
   "cell_type": "code",
   "execution_count": 95,
   "metadata": {
    "collapsed": true
   },
   "outputs": [],
   "source": [
    "import matplotlib.pyplot as plt"
   ]
  },
  {
   "cell_type": "code",
   "execution_count": 96,
   "metadata": {},
   "outputs": [
    {
     "data": {
      "text/plain": [
       "[<matplotlib.lines.Line2D at 0x1c35cb3ea20>]"
      ]
     },
     "execution_count": 96,
     "metadata": {},
     "output_type": "execute_result"
    },
    {
     "data": {
      "image/png": "[encoded data removed]",
      "text/plain": [
       "<matplotlib.figure.Figure at 0x1c35cbccc50>"
      ]
     },
     "metadata": {},
     "output_type": "display_data"
    }
   ],
   "source": [
    "plt.plot(yt)"
   ]
  },
  {
   "cell_type": "code",
   "execution_count": 97,
   "metadata": {
    "collapsed": true
   },
   "outputs": [],
   "source": [
    "yt_1=yt.shift(1)\n",
    "yt_2=yt.shift(2)\n",
    "yt_3=yt.shift(3)\n",
    "yt_4=yt.shift(4)\n",
    "yt_5=yt.shift(5)"
   ]
  },
  {
   "cell_type": "code",
   "execution_count": null,
   "metadata": {
    "collapsed": true
   },
   "outputs": [],
   "source": []
  },
  {
   "cell_type": "code",
   "execution_count": 98,
   "metadata": {
    "collapsed": true
   },
   "outputs": [],
   "source": [
    "data=pd.concat([yt,yt_1, yt_2,yt_3,yt_4,yt_5], axis=1)\n",
    "data.columns = ['yt','yt_1', 'yt_2','yt_3','yt_4','yt_5']"
   ]
  },
  {
   "cell_type": "code",
   "execution_count": 99,
   "metadata": {},
   "outputs": [
    {
     "data": {
      "text/plain": [
       "0    14.50\n",
       "1    14.47\n",
       "2    14.49\n",
       "3    14.67\n",
       "4    14.94\n",
       "Name: CLOSE_PRICE, dtype: float64"
      ]
     },
     "execution_count": 99,
     "metadata": {},
     "output_type": "execute_result"
    }
   ],
   "source": [
    "yt.head()"
   ]
  },
  {
   "cell_type": "code",
   "execution_count": 100,
   "metadata": {},
   "outputs": [
    {
     "data": {
      "text/plain": [
       "0      NaN\n",
       "1      NaN\n",
       "2    14.50\n",
       "3    14.47\n",
       "4    14.49\n",
       "Name: CLOSE_PRICE, dtype: float64"
      ]
     },
     "execution_count": 100,
     "metadata": {},
     "output_type": "execute_result"
    }
   ],
   "source": [
    "yt_2.head()"
   ]
  },
  {
   "cell_type": "code",
   "execution_count": 101,
   "metadata": {},
   "outputs": [
    {
     "data": {
      "text/html": [
       "<div>\n",
       "<style scoped>\n",
       "    .dataframe tbody tr th:only-of-type {\n",
       "        vertical-align: middle;\n",
       "    }\n",
       "\n",
       "    .dataframe tbody tr th {\n",
       "        vertical-align: top;\n",
       "    }\n",
       "\n",
       "    .dataframe thead th {\n",
       "        text-align: right;\n",
       "    }\n",
       "</style>\n",
       "<table border=\"1\" class=\"dataframe\">\n",
       "  <thead>\n",
       "    <tr style=\"text-align: right;\">\n",
       "      <th></th>\n",
       "      <th>yt</th>\n",
       "      <th>yt_1</th>\n",
       "      <th>yt_2</th>\n",
       "      <th>yt_3</th>\n",
       "      <th>yt_4</th>\n",
       "      <th>yt_5</th>\n",
       "    </tr>\n",
       "  </thead>\n",
       "  <tbody>\n",
       "    <tr>\n",
       "      <th>1215</th>\n",
       "      <td>13.89</td>\n",
       "      <td>13.32</td>\n",
       "      <td>13.23</td>\n",
       "      <td>13.47</td>\n",
       "      <td>13.36</td>\n",
       "      <td>13.43</td>\n",
       "    </tr>\n",
       "    <tr>\n",
       "      <th>1216</th>\n",
       "      <td>13.81</td>\n",
       "      <td>13.89</td>\n",
       "      <td>13.32</td>\n",
       "      <td>13.23</td>\n",
       "      <td>13.47</td>\n",
       "      <td>13.36</td>\n",
       "    </tr>\n",
       "    <tr>\n",
       "      <th>1217</th>\n",
       "      <td>13.44</td>\n",
       "      <td>13.81</td>\n",
       "      <td>13.89</td>\n",
       "      <td>13.32</td>\n",
       "      <td>13.23</td>\n",
       "      <td>13.47</td>\n",
       "    </tr>\n",
       "    <tr>\n",
       "      <th>1218</th>\n",
       "      <td>13.53</td>\n",
       "      <td>13.44</td>\n",
       "      <td>13.81</td>\n",
       "      <td>13.89</td>\n",
       "      <td>13.32</td>\n",
       "      <td>13.23</td>\n",
       "    </tr>\n",
       "    <tr>\n",
       "      <th>1219</th>\n",
       "      <td>13.42</td>\n",
       "      <td>13.53</td>\n",
       "      <td>13.44</td>\n",
       "      <td>13.81</td>\n",
       "      <td>13.89</td>\n",
       "      <td>13.32</td>\n",
       "    </tr>\n",
       "  </tbody>\n",
       "</table>\n",
       "</div>"
      ],
      "text/plain": [
       "         yt   yt_1   yt_2   yt_3   yt_4   yt_5\n",
       "1215  13.89  13.32  13.23  13.47  13.36  13.43\n",
       "1216  13.81  13.89  13.32  13.23  13.47  13.36\n",
       "1217  13.44  13.81  13.89  13.32  13.23  13.47\n",
       "1218  13.53  13.44  13.81  13.89  13.32  13.23\n",
       "1219  13.42  13.53  13.44  13.81  13.89  13.32"
      ]
     },
     "execution_count": 101,
     "metadata": {},
     "output_type": "execute_result"
    }
   ],
   "source": [
    "data.tail()"
   ]
  },
  {
   "cell_type": "code",
   "execution_count": 102,
   "metadata": {
    "collapsed": true
   },
   "outputs": [],
   "source": [
    "data = data.dropna()"
   ]
  },
  {
   "cell_type": "code",
   "execution_count": 103,
   "metadata": {
    "collapsed": true
   },
   "outputs": [],
   "source": [
    "y = data['yt']\n",
    "x = data[['yt_1', 'yt_2','yt_3','yt_4','yt_5']]"
   ]
  },
  {
   "cell_type": "code",
   "execution_count": 104,
   "metadata": {},
   "outputs": [
    {
     "data": {
      "text/plain": [
       "(1215, 1215)"
      ]
     },
     "execution_count": 104,
     "metadata": {},
     "output_type": "execute_result"
    }
   ],
   "source": [
    "len(x),len(y)"
   ]
  },
  {
   "cell_type": "code",
   "execution_count": 105,
   "metadata": {
    "collapsed": true
   },
   "outputs": [],
   "source": [
    "from sklearn import preprocessing\n",
    "scaler_x = preprocessing.MinMaxScaler(feature_range=(-1, 1))\n",
    "x = np.array(x).reshape((len(x), 5))\n",
    "x = scaler_x.fit_transform(x)\n",
    "scaler_y = preprocessing.MinMaxScaler(feature_range=(-1, 1))\n",
    "y = np.array(y).reshape((len(y), 1))\n",
    "y = scaler_y.fit_transform(y)"
   ]
  },
  {
   "cell_type": "code",
   "execution_count": 106,
   "metadata": {
    "collapsed": true
   },
   "outputs": [],
   "source": [
    "train_end = 1140\n",
    "x_train = x[0:train_end ]\n",
    "x_test = x[train_end + 1:len(x) ]\n",
    "y_train = y[0:train_end]\n",
    "y_test = y[train_end + 1:len(x)]\n",
    "x_train = x_train.reshape(x_train.shape + (1, ))\n",
    "x_test = x_test.reshape(x_test.shape + (1, ))"
   ]
  },
  {
   "cell_type": "code",
   "execution_count": 107,
   "metadata": {},
   "outputs": [
    {
     "data": {
      "text/plain": [
       "((1215, 5), (1215, 1), (1140, 5, 1), (1140, 1), (74, 5, 1), (74, 1), 1215)"
      ]
     },
     "execution_count": 107,
     "metadata": {},
     "output_type": "execute_result"
    }
   ],
   "source": [
    "x.shape, y.shape, x_train.shape, y_train.shape, x_test.shape, y_test.shape,len(x)"
   ]
  },
  {
   "cell_type": "code",
   "execution_count": 108,
   "metadata": {
    "collapsed": true
   },
   "outputs": [],
   "source": [
    "from keras.models import Sequential\n",
    "from keras.layers.core import Dense, Activation,Dropout\n",
    "from keras.layers.recurrent import LSTM"
   ]
  },
  {
   "cell_type": "code",
   "execution_count": 109,
   "metadata": {
    "collapsed": true
   },
   "outputs": [],
   "source": [
    "seed = 2016\n",
    "np.random.seed (seed)\n",
    "model = Sequential()\n"
   ]
  },
  {
   "cell_type": "code",
   "execution_count": 110,
   "metadata": {
    "collapsed": true
   },
   "outputs": [],
   "source": [
    "model.add(LSTM(units=4,\n",
    "         activation='relu',\n",
    "         recurrent_activation='hard_sigmoid',\n",
    "         input_shape=(5,1)))\n",
    "\n",
    "model.add(Dropout(0.05))\n",
    "\n",
    "model.add(Dense(units=1,activation='linear'))"
   ]
  },
  {
   "cell_type": "code",
   "execution_count": 111,
   "metadata": {
    "collapsed": true
   },
   "outputs": [],
   "source": [
    "model.compile(loss='mean_squared_error',\n",
    "             optimizer='adam')"
   ]
  },
  {
   "cell_type": "code",
   "execution_count": 132,
   "metadata": {},
   "outputs": [
    {
     "name": "stdout",
     "output_type": "stream",
     "text": [
      "Epoch 1/20\n",
      "1140/1140 [==============================] - 5s 5ms/step - loss: 0.0194\n",
      "Epoch 2/20\n",
      "1140/1140 [==============================] - 6s 5ms/step - loss: 0.0201\n",
      "Epoch 3/20\n",
      "1140/1140 [==============================] - 6s 5ms/step - loss: 0.0158\n",
      "Epoch 4/20\n",
      "1140/1140 [==============================] - 5s 4ms/step - loss: 0.0173\n",
      "Epoch 5/20\n",
      "1140/1140 [==============================] - 6s 5ms/step - loss: 0.0206\n",
      "Epoch 6/20\n",
      "1140/1140 [==============================] - 4s 4ms/step - loss: 0.0220\n",
      "Epoch 7/20\n",
      "1140/1140 [==============================] - 5s 4ms/step - loss: 0.0176\n",
      "Epoch 8/20\n",
      "1140/1140 [==============================] - 5s 5ms/step - loss: 0.0185\n",
      "Epoch 9/20\n",
      "1140/1140 [==============================] - 5s 4ms/step - loss: 0.0202\n",
      "Epoch 10/20\n",
      "1140/1140 [==============================] - 5s 5ms/step - loss: 0.0217\n",
      "Epoch 11/20\n",
      "1140/1140 [==============================] - 7s 6ms/step - loss: 0.0169\n",
      "Epoch 12/20\n",
      "1140/1140 [==============================] - 7s 6ms/step - loss: 0.0150\n",
      "Epoch 13/20\n",
      "1140/1140 [==============================] - 7s 6ms/step - loss: 0.0193\n",
      "Epoch 14/20\n",
      "1140/1140 [==============================] - 6s 6ms/step - loss: 0.0184\n",
      "Epoch 15/20\n",
      "1140/1140 [==============================] - 6s 6ms/step - loss: 0.0186\n",
      "Epoch 16/20\n",
      "1140/1140 [==============================] - 6s 6ms/step - loss: 0.0175\n",
      "Epoch 17/20\n",
      "1140/1140 [==============================] - 6s 6ms/step - loss: 0.0184\n",
      "Epoch 18/20\n",
      "1140/1140 [==============================] - 6s 6ms/step - loss: 0.0170\n",
      "Epoch 19/20\n",
      "1140/1140 [==============================] - 6s 6ms/step - loss: 0.0183\n",
      "Epoch 20/20\n",
      "1140/1140 [==============================] - 7s 6ms/step - loss: 0.0190\n"
     ]
    },
    {
     "data": {
      "text/plain": [
       "<keras.callbacks.History at 0x1c36006b438>"
      ]
     },
     "execution_count": 132,
     "metadata": {},
     "output_type": "execute_result"
    }
   ],
   "source": [
    "model.fit(x_train,y_train,batch_size=1,epochs=20,shuffle=True)"
   ]
  },
  {
   "cell_type": "code",
   "execution_count": 133,
   "metadata": {},
   "outputs": [
    {
     "name": "stdout",
     "output_type": "stream",
     "text": [
      "_________________________________________________________________\n",
      "Layer (type)                 Output Shape              Param #   \n",
      "=================================================================\n",
      "lstm_5 (LSTM)                (None, 4)                 96        \n",
      "_________________________________________________________________\n",
      "dropout_1 (Dropout)          (None, 4)                 0         \n",
      "_________________________________________________________________\n",
      "dense_5 (Dense)              (None, 1)                 5         \n",
      "=================================================================\n",
      "Total params: 101\n",
      "Trainable params: 101\n",
      "Non-trainable params: 0\n",
      "_________________________________________________________________\n"
     ]
    }
   ],
   "source": [
    "model.summary()"
   ]
  },
  {
   "cell_type": "code",
   "execution_count": null,
   "metadata": {
    "collapsed": true
   },
   "outputs": [],
   "source": [
    "score_train = model.evaluate(x_train, y_train, batch_size=1)\n",
    "score_test = model.evaluate(x_test, y_test, batch_size=1)\n"
   ]
  },
  {
   "cell_type": "code",
   "execution_count": null,
   "metadata": {
    "collapsed": true
   },
   "outputs": [],
   "source": []
  },
  {
   "cell_type": "code",
   "execution_count": 134,
   "metadata": {},
   "outputs": [
    {
     "data": {
      "text/plain": [
       "('in train MSE = ', 0.0070000000000000001)"
      ]
     },
     "execution_count": 134,
     "metadata": {},
     "output_type": "execute_result"
    }
   ],
   "source": [
    "\"in train MSE = \", round(score_train,4)"
   ]
  },
  {
   "cell_type": "code",
   "execution_count": 135,
   "metadata": {},
   "outputs": [
    {
     "data": {
      "text/plain": [
       "('in test MSE = ', 0.0035000000000000001)"
      ]
     },
     "execution_count": 135,
     "metadata": {},
     "output_type": "execute_result"
    }
   ],
   "source": [
    " \"in test MSE = \", round(score_test ,4)"
   ]
  },
  {
   "cell_type": "code",
   "execution_count": 136,
   "metadata": {
    "collapsed": true
   },
   "outputs": [],
   "source": [
    "pred1 = model.predict(x_test)\n",
    "pred1 = scaler_y.inverse_transform(np.array(pred1).reshape((len(pred1), 1)))"
   ]
  },
  {
   "cell_type": "code",
   "execution_count": 137,
   "metadata": {
    "collapsed": true
   },
   "outputs": [],
   "source": [
    "y_test_original =  scaler_y.inverse_transform(np.array(y_test).reshape((len(y_test), 1)))"
   ]
  },
  {
   "cell_type": "code",
   "execution_count": 138,
   "metadata": {
    "collapsed": true
   },
   "outputs": [],
   "source": [
    "from sklearn.metrics import mean_squared_error\n",
    "\n",
    "score_rmse  = mean_squared_error(y_true=y_test,y_pred=pred1)"
   ]
  },
  {
   "cell_type": "code",
   "execution_count": 141,
   "metadata": {},
   "outputs": [
    {
     "data": {
      "text/plain": [
       "0.12002265212318573"
      ]
     },
     "execution_count": 141,
     "metadata": {},
     "output_type": "execute_result"
    }
   ],
   "source": [
    "np.square(np.subtract(y_test_original,pred1)).mean()"
   ]
  },
  {
   "cell_type": "code",
   "execution_count": null,
   "metadata": {
    "collapsed": true
   },
   "outputs": [],
   "source": [
    "y_original = scaler_y.inverse_transform(np.array(y).reshape((len(y), 1)))"
   ]
  },
  {
   "cell_type": "code",
   "execution_count": 139,
   "metadata": {
    "collapsed": true
   },
   "outputs": [],
   "source": [
    "x_axis = [i for i in range(len(y))]\n",
    "x_dates = data_csv['TRADE_DATE']"
   ]
  },
  {
   "cell_type": "code",
   "execution_count": null,
   "metadata": {
    "collapsed": true
   },
   "outputs": [],
   "source": [
    "type(x_dates)"
   ]
  },
  {
   "cell_type": "code",
   "execution_count": null,
   "metadata": {
    "collapsed": true
   },
   "outputs": [],
   "source": [
    "df  = pd.read_excel('./Telecom Egypt(01-01-2013 till 01-01-2018).xls')"
   ]
  },
  {
   "cell_type": "code",
   "execution_count": 140,
   "metadata": {},
   "outputs": [
    {
     "data": {
      "text/plain": [
       "<matplotlib.legend.Legend at 0x1c35fc5b940>"
      ]
     },
     "execution_count": 140,
     "metadata": {},
     "output_type": "execute_result"
    },
    {
     "data": {
      "image/png": "[encoded data removed]",
      "text/plain": [
       "<matplotlib.figure.Figure at 0x1c35fcd07f0>"
      ]
     },
     "metadata": {},
     "output_type": "display_data"
    }
   ],
   "source": [
    "\n",
    "plt.plot(pred1,label='pred')\n",
    "plt.plot(y_test_original,label='price')\n",
    "plt.legend()"
   ]
  },
  {
   "cell_type": "code",
   "execution_count": 126,
   "metadata": {
    "collapsed": true
   },
   "outputs": [],
   "source": [
    "# plt.plot(x_axis[len(y)-len(pred1):],pred1)\n",
    "# plt.plot(x_axis[:-200],y_original[:-200])"
   ]
  },
  {
   "cell_type": "code",
   "execution_count": 127,
   "metadata": {
    "collapsed": true
   },
   "outputs": [],
   "source": [
    "# seed = 2016\n",
    "# np.random.seed(seed)\n",
    "# fit2 = Sequential()\n",
    "# fit2.add(\n",
    "#     LSTM(\n",
    "#         units=4,\n",
    "#         stateful=True,\n",
    "#         batch_input_shape=(1, 5, 1),\n",
    "#         activation='relu',\n",
    "#         recurrent_activation='relu'))\n",
    "# fit2.add(Dense(units=1, activation='linear'))\n",
    "# fit2.compile(loss=\"mean_squared_error\", optimizer=\"adam\")"
   ]
  },
  {
   "cell_type": "code",
   "execution_count": 128,
   "metadata": {
    "collapsed": true
   },
   "outputs": [],
   "source": [
    "# end_point =len(x_train)\n",
    "# start_point =end_point -500"
   ]
  },
  {
   "cell_type": "code",
   "execution_count": 129,
   "metadata": {
    "collapsed": true
   },
   "outputs": [],
   "source": [
    "# for i in range(len(x_train[start_point:end_point])):\n",
    "#     print (\"Fitting example \",i)\n",
    "#     fit2.fit(\n",
    "#         x_train[start_point:end_point],\n",
    "#         y_train[start_point:end_point],\n",
    "#         epochs=1,\n",
    "#         batch_size=1,\n",
    "#         verbose=2,\n",
    "#         shuffle=True)\n",
    "    \n",
    "#     fit2.reset_states()"
   ]
  },
  {
   "cell_type": "code",
   "execution_count": 130,
   "metadata": {
    "collapsed": true
   },
   "outputs": [],
   "source": [
    "# pred2 = fit2.predict(x_test, batch_size=1)\n",
    "# pred2 = scaler_y.inverse_transform(np.array(pred2).reshape((len(pred2), 1)))"
   ]
  },
  {
   "cell_type": "code",
   "execution_count": 131,
   "metadata": {
    "collapsed": true
   },
   "outputs": [],
   "source": [
    "# plt.plot(pred2,label='pred')\n",
    "# plt.plot(y_test_original,label='price')\n",
    "# plt.legend()"
   ]
  },
  {
   "cell_type": "code",
   "execution_count": null,
   "metadata": {
    "collapsed": true
   },
   "outputs": [],
   "source": []
  }
 ],
 "metadata": {
  "kernelspec": {
   "display_name": "Python 3",
   "language": "python",
   "name": "python3"
  },
  "language_info": {
   "codemirror_mode": {
    "name": "ipython",
    "version": 3
   },
   "file_extension": ".py",
   "mimetype": "text/x-python",
   "name": "python",
   "nbconvert_exporter": "python",
   "pygments_lexer": "ipython3",
   "version": "3.6.1"
  },
  "varInspector": {
   "cols": {
    "lenName": 16,
    "lenType": 16,
    "lenVar": 40
   },
   "kernels_config": {
    "python": {
     "delete_cmd_postfix": "",
     "delete_cmd_prefix": "del ",
     "library": "var_list.py",
     "varRefreshCmd": "print(var_dic_list())"
    },
    "r": {
     "delete_cmd_postfix": ") ",
     "delete_cmd_prefix": "rm(",
     "library": "var_list.r",
     "varRefreshCmd": "cat(var_dic_list()) "
    }
   },
   "types_to_exclude": [
    "module",
    "function",
    "builtin_function_or_method",
    "instance",
    "_Feature"
   ],
   "window_display": false
  }
 },
 "nbformat": 4,
 "nbformat_minor": 2
}
