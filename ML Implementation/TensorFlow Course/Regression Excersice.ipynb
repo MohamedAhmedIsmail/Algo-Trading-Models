{
 "cells": [
  {
   "cell_type": "code",
   "execution_count": 2,
   "metadata": {
    "collapsed": true
   },
   "outputs": [],
   "source": [
    "import pandas as pd"
   ]
  },
  {
   "cell_type": "code",
   "execution_count": 5,
   "metadata": {
    "collapsed": true
   },
   "outputs": [],
   "source": [
    "housing = pd.read_csv(\"C:/Users/mohamed ismail/Desktop/cal_housing.csv\")"
   ]
  },
  {
   "cell_type": "code",
   "execution_count": 6,
   "metadata": {},
   "outputs": [
    {
     "data": {
      "text/html": [
       "<div>\n",
       "<style>\n",
       "    .dataframe thead tr:only-child th {\n",
       "        text-align: right;\n",
       "    }\n",
       "\n",
       "    .dataframe thead th {\n",
       "        text-align: left;\n",
       "    }\n",
       "\n",
       "    .dataframe tbody tr th {\n",
       "        vertical-align: top;\n",
       "    }\n",
       "</style>\n",
       "<table border=\"1\" class=\"dataframe\">\n",
       "  <thead>\n",
       "    <tr style=\"text-align: right;\">\n",
       "      <th></th>\n",
       "      <th>houseMedianAge</th>\n",
       "      <th>totalRooms</th>\n",
       "      <th>totalBedRooms</th>\n",
       "      <th>population</th>\n",
       "      <th>households</th>\n",
       "      <th>medianIncome</th>\n",
       "      <th>medianHouseValue</th>\n",
       "    </tr>\n",
       "  </thead>\n",
       "  <tbody>\n",
       "    <tr>\n",
       "      <th>0</th>\n",
       "      <td>41</td>\n",
       "      <td>880</td>\n",
       "      <td>129</td>\n",
       "      <td>322</td>\n",
       "      <td>126</td>\n",
       "      <td>8.3252</td>\n",
       "      <td>452600</td>\n",
       "    </tr>\n",
       "    <tr>\n",
       "      <th>1</th>\n",
       "      <td>21</td>\n",
       "      <td>7099</td>\n",
       "      <td>1106</td>\n",
       "      <td>2401</td>\n",
       "      <td>1138</td>\n",
       "      <td>8.3014</td>\n",
       "      <td>358500</td>\n",
       "    </tr>\n",
       "    <tr>\n",
       "      <th>2</th>\n",
       "      <td>52</td>\n",
       "      <td>1467</td>\n",
       "      <td>190</td>\n",
       "      <td>496</td>\n",
       "      <td>177</td>\n",
       "      <td>7.2574</td>\n",
       "      <td>352100</td>\n",
       "    </tr>\n",
       "    <tr>\n",
       "      <th>3</th>\n",
       "      <td>52</td>\n",
       "      <td>1274</td>\n",
       "      <td>235</td>\n",
       "      <td>558</td>\n",
       "      <td>219</td>\n",
       "      <td>5.6431</td>\n",
       "      <td>341300</td>\n",
       "    </tr>\n",
       "    <tr>\n",
       "      <th>4</th>\n",
       "      <td>52</td>\n",
       "      <td>1627</td>\n",
       "      <td>280</td>\n",
       "      <td>565</td>\n",
       "      <td>259</td>\n",
       "      <td>3.8462</td>\n",
       "      <td>342200</td>\n",
       "    </tr>\n",
       "  </tbody>\n",
       "</table>\n",
       "</div>"
      ],
      "text/plain": [
       "   houseMedianAge  totalRooms  totalBedRooms  population  households  \\\n",
       "0              41         880            129         322         126   \n",
       "1              21        7099           1106        2401        1138   \n",
       "2              52        1467            190         496         177   \n",
       "3              52        1274            235         558         219   \n",
       "4              52        1627            280         565         259   \n",
       "\n",
       "   medianIncome  medianHouseValue  \n",
       "0        8.3252            452600  \n",
       "1        8.3014            358500  \n",
       "2        7.2574            352100  \n",
       "3        5.6431            341300  \n",
       "4        3.8462            342200  "
      ]
     },
     "execution_count": 6,
     "metadata": {},
     "output_type": "execute_result"
    }
   ],
   "source": [
    "housing.head()"
   ]
  },
  {
   "cell_type": "code",
   "execution_count": 7,
   "metadata": {},
   "outputs": [
    {
     "data": {
      "text/html": [
       "<div>\n",
       "<style>\n",
       "    .dataframe thead tr:only-child th {\n",
       "        text-align: right;\n",
       "    }\n",
       "\n",
       "    .dataframe thead th {\n",
       "        text-align: left;\n",
       "    }\n",
       "\n",
       "    .dataframe tbody tr th {\n",
       "        vertical-align: top;\n",
       "    }\n",
       "</style>\n",
       "<table border=\"1\" class=\"dataframe\">\n",
       "  <thead>\n",
       "    <tr style=\"text-align: right;\">\n",
       "      <th></th>\n",
       "      <th>count</th>\n",
       "      <th>mean</th>\n",
       "      <th>std</th>\n",
       "      <th>min</th>\n",
       "      <th>25%</th>\n",
       "      <th>50%</th>\n",
       "      <th>75%</th>\n",
       "      <th>max</th>\n",
       "    </tr>\n",
       "  </thead>\n",
       "  <tbody>\n",
       "    <tr>\n",
       "      <th>houseMedianAge</th>\n",
       "      <td>20640.0</td>\n",
       "      <td>28.639486</td>\n",
       "      <td>12.585558</td>\n",
       "      <td>1.0000</td>\n",
       "      <td>18.0000</td>\n",
       "      <td>29.0000</td>\n",
       "      <td>37.00000</td>\n",
       "      <td>52.0000</td>\n",
       "    </tr>\n",
       "    <tr>\n",
       "      <th>totalRooms</th>\n",
       "      <td>20640.0</td>\n",
       "      <td>2635.763081</td>\n",
       "      <td>2181.615252</td>\n",
       "      <td>2.0000</td>\n",
       "      <td>1447.7500</td>\n",
       "      <td>2127.0000</td>\n",
       "      <td>3148.00000</td>\n",
       "      <td>39320.0000</td>\n",
       "    </tr>\n",
       "    <tr>\n",
       "      <th>totalBedRooms</th>\n",
       "      <td>20640.0</td>\n",
       "      <td>537.898014</td>\n",
       "      <td>421.247906</td>\n",
       "      <td>1.0000</td>\n",
       "      <td>295.0000</td>\n",
       "      <td>435.0000</td>\n",
       "      <td>647.00000</td>\n",
       "      <td>6445.0000</td>\n",
       "    </tr>\n",
       "    <tr>\n",
       "      <th>population</th>\n",
       "      <td>20640.0</td>\n",
       "      <td>1425.476744</td>\n",
       "      <td>1132.462122</td>\n",
       "      <td>3.0000</td>\n",
       "      <td>787.0000</td>\n",
       "      <td>1166.0000</td>\n",
       "      <td>1725.00000</td>\n",
       "      <td>35682.0000</td>\n",
       "    </tr>\n",
       "    <tr>\n",
       "      <th>households</th>\n",
       "      <td>20640.0</td>\n",
       "      <td>499.539680</td>\n",
       "      <td>382.329753</td>\n",
       "      <td>1.0000</td>\n",
       "      <td>280.0000</td>\n",
       "      <td>409.0000</td>\n",
       "      <td>605.00000</td>\n",
       "      <td>6082.0000</td>\n",
       "    </tr>\n",
       "    <tr>\n",
       "      <th>medianIncome</th>\n",
       "      <td>20640.0</td>\n",
       "      <td>3.870671</td>\n",
       "      <td>1.899822</td>\n",
       "      <td>0.4999</td>\n",
       "      <td>2.5634</td>\n",
       "      <td>3.5348</td>\n",
       "      <td>4.74325</td>\n",
       "      <td>15.0001</td>\n",
       "    </tr>\n",
       "    <tr>\n",
       "      <th>medianHouseValue</th>\n",
       "      <td>20640.0</td>\n",
       "      <td>206855.816909</td>\n",
       "      <td>115395.615874</td>\n",
       "      <td>14999.0000</td>\n",
       "      <td>119600.0000</td>\n",
       "      <td>179700.0000</td>\n",
       "      <td>264725.00000</td>\n",
       "      <td>500001.0000</td>\n",
       "    </tr>\n",
       "  </tbody>\n",
       "</table>\n",
       "</div>"
      ],
      "text/plain": [
       "                    count           mean            std         min  \\\n",
       "houseMedianAge    20640.0      28.639486      12.585558      1.0000   \n",
       "totalRooms        20640.0    2635.763081    2181.615252      2.0000   \n",
       "totalBedRooms     20640.0     537.898014     421.247906      1.0000   \n",
       "population        20640.0    1425.476744    1132.462122      3.0000   \n",
       "households        20640.0     499.539680     382.329753      1.0000   \n",
       "medianIncome      20640.0       3.870671       1.899822      0.4999   \n",
       "medianHouseValue  20640.0  206855.816909  115395.615874  14999.0000   \n",
       "\n",
       "                          25%          50%           75%          max  \n",
       "houseMedianAge        18.0000      29.0000      37.00000      52.0000  \n",
       "totalRooms          1447.7500    2127.0000    3148.00000   39320.0000  \n",
       "totalBedRooms        295.0000     435.0000     647.00000    6445.0000  \n",
       "population           787.0000    1166.0000    1725.00000   35682.0000  \n",
       "households           280.0000     409.0000     605.00000    6082.0000  \n",
       "medianIncome           2.5634       3.5348       4.74325      15.0001  \n",
       "medianHouseValue  119600.0000  179700.0000  264725.00000  500001.0000  "
      ]
     },
     "execution_count": 7,
     "metadata": {},
     "output_type": "execute_result"
    }
   ],
   "source": [
    "housing.describe().transpose()"
   ]
  },
  {
   "cell_type": "code",
   "execution_count": 8,
   "metadata": {
    "collapsed": true
   },
   "outputs": [],
   "source": [
    "x_data=housing.drop(['medianHouseValue'],axis=1)"
   ]
  },
  {
   "cell_type": "code",
   "execution_count": 9,
   "metadata": {
    "collapsed": true
   },
   "outputs": [],
   "source": [
    "y_val=housing['medianHouseValue']"
   ]
  },
  {
   "cell_type": "code",
   "execution_count": 10,
   "metadata": {
    "collapsed": true
   },
   "outputs": [],
   "source": [
    "from sklearn.model_selection import train_test_split"
   ]
  },
  {
   "cell_type": "code",
   "execution_count": 11,
   "metadata": {
    "collapsed": true
   },
   "outputs": [],
   "source": [
    "X_train,X_test,y_train,y_test=train_test_split(x_data,y_val,test_size=0.3,random_state=101)"
   ]
  },
  {
   "cell_type": "code",
   "execution_count": 12,
   "metadata": {
    "collapsed": true
   },
   "outputs": [],
   "source": [
    "from sklearn.preprocessing import MinMaxScaler"
   ]
  },
  {
   "cell_type": "code",
   "execution_count": 13,
   "metadata": {
    "collapsed": true
   },
   "outputs": [],
   "source": [
    "scaler = MinMaxScaler()"
   ]
  },
  {
   "cell_type": "code",
   "execution_count": 14,
   "metadata": {},
   "outputs": [
    {
     "data": {
      "text/plain": [
       "MinMaxScaler(copy=True, feature_range=(0, 1))"
      ]
     },
     "execution_count": 14,
     "metadata": {},
     "output_type": "execute_result"
    }
   ],
   "source": [
    "scaler.fit(X_train)"
   ]
  },
  {
   "cell_type": "code",
   "execution_count": 15,
   "metadata": {
    "collapsed": true
   },
   "outputs": [],
   "source": [
    "X_train=pd.DataFrame(data=scaler.transform(X_train),columns=X_train.columns,index=X_train.index)"
   ]
  },
  {
   "cell_type": "code",
   "execution_count": 16,
   "metadata": {
    "collapsed": true
   },
   "outputs": [],
   "source": [
    "X_test=pd.DataFrame(data=scaler.transform(X_test),columns=X_test.columns,index=X_test.index)"
   ]
  },
  {
   "cell_type": "code",
   "execution_count": 17,
   "metadata": {},
   "outputs": [
    {
     "data": {
      "text/plain": [
       "Index(['houseMedianAge', 'totalRooms', 'totalBedRooms', 'population',\n",
       "       'households', 'medianIncome', 'medianHouseValue'],\n",
       "      dtype='object')"
      ]
     },
     "execution_count": 17,
     "metadata": {},
     "output_type": "execute_result"
    }
   ],
   "source": [
    "housing.columns"
   ]
  },
  {
   "cell_type": "code",
   "execution_count": 19,
   "metadata": {},
   "outputs": [],
   "source": [
    "import tensorflow as tf"
   ]
  },
  {
   "cell_type": "code",
   "execution_count": 32,
   "metadata": {
    "collapsed": true
   },
   "outputs": [],
   "source": [
    "age = tf.feature_column.numeric_column('houseMedianAge')\n",
    "rooms = tf.feature_column.numeric_column('totalRooms')\n",
    "bedrooms = tf.feature_column.numeric_column('totalBedRooms')\n",
    "pop = tf.feature_column.numeric_column('population')\n",
    "households = tf.feature_column.numeric_column('households')\n",
    "income = tf.feature_column.numeric_column('medianIncome')"
   ]
  },
  {
   "cell_type": "code",
   "execution_count": 33,
   "metadata": {
    "collapsed": true
   },
   "outputs": [],
   "source": [
    "feat_cols=[age,rooms,bedrooms,pop,households,income]"
   ]
  },
  {
   "cell_type": "code",
   "execution_count": 34,
   "metadata": {
    "collapsed": true
   },
   "outputs": [],
   "source": [
    "input_func=tf.estimator.inputs.pandas_input_fn(x=X_train,y=y_train,batch_size=10,num_epochs=1000,shuffle=True)"
   ]
  },
  {
   "cell_type": "code",
   "execution_count": 35,
   "metadata": {},
   "outputs": [
    {
     "name": "stdout",
     "output_type": "stream",
     "text": [
      "INFO:tensorflow:Using default config.\n",
      "WARNING:tensorflow:Using temporary folder as model directory: C:\\Users\\MOHAME~1\\AppData\\Local\\Temp\\tmpuunqelo5\n",
      "INFO:tensorflow:Using config: {'_model_dir': 'C:\\\\Users\\\\MOHAME~1\\\\AppData\\\\Local\\\\Temp\\\\tmpuunqelo5', '_tf_random_seed': None, '_save_summary_steps': 100, '_save_checkpoints_steps': None, '_save_checkpoints_secs': 600, '_session_config': None, '_keep_checkpoint_max': 5, '_keep_checkpoint_every_n_hours': 10000, '_log_step_count_steps': 100, '_service': None, '_cluster_spec': <tensorflow.python.training.server_lib.ClusterSpec object at 0x0000005608A1B9E8>, '_task_type': 'worker', '_task_id': 0, '_master': '', '_is_chief': True, '_num_ps_replicas': 0, '_num_worker_replicas': 1}\n"
     ]
    }
   ],
   "source": [
    "model=tf.estimator.DNNRegressor(hidden_units=[6,6,6],feature_columns=feat_cols)"
   ]
  },
  {
   "cell_type": "code",
   "execution_count": 36,
   "metadata": {},
   "outputs": [
    {
     "name": "stdout",
     "output_type": "stream",
     "text": [
      "INFO:tensorflow:Create CheckpointSaverHook.\n",
      "INFO:tensorflow:Saving checkpoints for 1 into C:\\Users\\MOHAME~1\\AppData\\Local\\Temp\\tmpuunqelo5\\model.ckpt.\n",
      "INFO:tensorflow:loss = 4.13518e+11, step = 1\n",
      "INFO:tensorflow:global_step/sec: 343.529\n",
      "INFO:tensorflow:loss = 2.42326e+11, step = 101 (0.300 sec)\n",
      "INFO:tensorflow:global_step/sec: 294.18\n",
      "INFO:tensorflow:loss = 3.07688e+11, step = 201 (0.340 sec)\n",
      "INFO:tensorflow:global_step/sec: 355.734\n",
      "INFO:tensorflow:loss = 4.23206e+11, step = 301 (0.276 sec)\n",
      "INFO:tensorflow:global_step/sec: 379.048\n",
      "INFO:tensorflow:loss = 3.88376e+11, step = 401 (0.264 sec)\n",
      "INFO:tensorflow:global_step/sec: 394.664\n",
      "INFO:tensorflow:loss = 1.58973e+11, step = 501 (0.258 sec)\n",
      "INFO:tensorflow:global_step/sec: 417.82\n",
      "INFO:tensorflow:loss = 1.76054e+11, step = 601 (0.244 sec)\n",
      "INFO:tensorflow:global_step/sec: 384.186\n",
      "INFO:tensorflow:loss = 3.75173e+11, step = 701 (0.255 sec)\n",
      "INFO:tensorflow:global_step/sec: 419.762\n",
      "INFO:tensorflow:loss = 2.1991e+11, step = 801 (0.238 sec)\n",
      "INFO:tensorflow:global_step/sec: 369.865\n",
      "INFO:tensorflow:loss = 9.51658e+10, step = 901 (0.265 sec)\n",
      "INFO:tensorflow:global_step/sec: 352.72\n",
      "INFO:tensorflow:loss = 1.20084e+11, step = 1001 (0.289 sec)\n",
      "INFO:tensorflow:global_step/sec: 354.515\n",
      "INFO:tensorflow:loss = 1.519e+10, step = 1101 (0.277 sec)\n",
      "INFO:tensorflow:global_step/sec: 389.18\n",
      "INFO:tensorflow:loss = 7.69329e+10, step = 1201 (0.262 sec)\n",
      "INFO:tensorflow:global_step/sec: 390.361\n",
      "INFO:tensorflow:loss = 1.39782e+11, step = 1301 (0.256 sec)\n",
      "INFO:tensorflow:global_step/sec: 367.509\n",
      "INFO:tensorflow:loss = 1.20318e+11, step = 1401 (0.267 sec)\n",
      "INFO:tensorflow:global_step/sec: 395.671\n",
      "INFO:tensorflow:loss = 6.67661e+10, step = 1501 (0.253 sec)\n",
      "INFO:tensorflow:global_step/sec: 359.961\n",
      "INFO:tensorflow:loss = 1.8179e+11, step = 1601 (0.288 sec)\n",
      "INFO:tensorflow:global_step/sec: 290.292\n",
      "INFO:tensorflow:loss = 9.54861e+10, step = 1701 (0.334 sec)\n",
      "INFO:tensorflow:global_step/sec: 390.125\n",
      "INFO:tensorflow:loss = 3.31672e+10, step = 1801 (0.261 sec)\n",
      "INFO:tensorflow:global_step/sec: 360.341\n",
      "INFO:tensorflow:loss = 8.35907e+10, step = 1901 (0.268 sec)\n",
      "INFO:tensorflow:global_step/sec: 381.585\n",
      "INFO:tensorflow:loss = 5.59433e+10, step = 2001 (0.272 sec)\n",
      "INFO:tensorflow:global_step/sec: 330.476\n",
      "INFO:tensorflow:loss = 1.27577e+11, step = 2101 (0.298 sec)\n",
      "INFO:tensorflow:global_step/sec: 371.462\n",
      "INFO:tensorflow:loss = 9.46638e+10, step = 2201 (0.269 sec)\n",
      "INFO:tensorflow:global_step/sec: 362.784\n",
      "INFO:tensorflow:loss = 5.06879e+10, step = 2301 (0.288 sec)\n",
      "INFO:tensorflow:global_step/sec: 306.558\n",
      "INFO:tensorflow:loss = 1.00355e+11, step = 2401 (0.314 sec)\n",
      "INFO:tensorflow:global_step/sec: 326.21\n",
      "INFO:tensorflow:loss = 4.36696e+10, step = 2501 (0.307 sec)\n",
      "INFO:tensorflow:global_step/sec: 261.674\n",
      "INFO:tensorflow:loss = 7.72383e+10, step = 2601 (0.387 sec)\n",
      "INFO:tensorflow:global_step/sec: 279.417\n",
      "INFO:tensorflow:loss = 2.60029e+10, step = 2701 (0.361 sec)\n",
      "INFO:tensorflow:global_step/sec: 240.349\n",
      "INFO:tensorflow:loss = 6.79252e+10, step = 2801 (0.408 sec)\n",
      "INFO:tensorflow:global_step/sec: 298.307\n",
      "INFO:tensorflow:loss = 1.17466e+11, step = 2901 (0.334 sec)\n",
      "INFO:tensorflow:global_step/sec: 347.069\n",
      "INFO:tensorflow:loss = 1.8178e+11, step = 3001 (0.289 sec)\n",
      "INFO:tensorflow:global_step/sec: 359.472\n",
      "INFO:tensorflow:loss = 4.7499e+10, step = 3101 (0.278 sec)\n",
      "INFO:tensorflow:global_step/sec: 371.45\n",
      "INFO:tensorflow:loss = 4.77717e+10, step = 3201 (0.269 sec)\n",
      "INFO:tensorflow:global_step/sec: 312.229\n",
      "INFO:tensorflow:loss = 6.27642e+10, step = 3301 (0.320 sec)\n",
      "INFO:tensorflow:global_step/sec: 321.335\n",
      "INFO:tensorflow:loss = 3.04812e+10, step = 3401 (0.310 sec)\n",
      "INFO:tensorflow:global_step/sec: 382.856\n",
      "INFO:tensorflow:loss = 1.09331e+11, step = 3501 (0.257 sec)\n",
      "INFO:tensorflow:global_step/sec: 330.976\n",
      "INFO:tensorflow:loss = 4.53738e+10, step = 3601 (0.309 sec)\n",
      "INFO:tensorflow:global_step/sec: 357.861\n",
      "INFO:tensorflow:loss = 8.59699e+10, step = 3701 (0.277 sec)\n",
      "INFO:tensorflow:global_step/sec: 354.503\n",
      "INFO:tensorflow:loss = 2.75521e+11, step = 3801 (0.277 sec)\n",
      "INFO:tensorflow:global_step/sec: 367.998\n",
      "INFO:tensorflow:loss = 8.22935e+10, step = 3901 (0.277 sec)\n",
      "INFO:tensorflow:global_step/sec: 326.241\n",
      "INFO:tensorflow:loss = 8.63198e+10, step = 4001 (0.307 sec)\n",
      "INFO:tensorflow:global_step/sec: 363.246\n",
      "INFO:tensorflow:loss = 1.47358e+11, step = 4101 (0.280 sec)\n",
      "INFO:tensorflow:global_step/sec: 354.262\n",
      "INFO:tensorflow:loss = 1.94147e+11, step = 4201 (0.272 sec)\n",
      "INFO:tensorflow:global_step/sec: 364.959\n",
      "INFO:tensorflow:loss = 1.44539e+11, step = 4301 (0.279 sec)\n",
      "INFO:tensorflow:global_step/sec: 315.786\n",
      "INFO:tensorflow:loss = 2.10255e+10, step = 4401 (0.318 sec)\n",
      "INFO:tensorflow:global_step/sec: 401.373\n",
      "INFO:tensorflow:loss = 1.09136e+11, step = 4501 (0.253 sec)\n",
      "INFO:tensorflow:global_step/sec: 362.93\n",
      "INFO:tensorflow:loss = 7.98168e+10, step = 4601 (0.276 sec)\n",
      "INFO:tensorflow:global_step/sec: 359.305\n",
      "INFO:tensorflow:loss = 8.67377e+10, step = 4701 (0.273 sec)\n",
      "INFO:tensorflow:global_step/sec: 380.7\n",
      "INFO:tensorflow:loss = 1.75783e+11, step = 4801 (0.263 sec)\n",
      "INFO:tensorflow:global_step/sec: 388.888\n",
      "INFO:tensorflow:loss = 5.19123e+10, step = 4901 (0.257 sec)\n",
      "INFO:tensorflow:global_step/sec: 388.084\n",
      "INFO:tensorflow:loss = 9.66616e+10, step = 5001 (0.263 sec)\n",
      "INFO:tensorflow:global_step/sec: 385.512\n",
      "INFO:tensorflow:loss = 9.33431e+10, step = 5101 (0.269 sec)\n",
      "INFO:tensorflow:global_step/sec: 359.457\n",
      "INFO:tensorflow:loss = 7.83476e+10, step = 5201 (0.258 sec)\n",
      "INFO:tensorflow:global_step/sec: 382.771\n",
      "INFO:tensorflow:loss = 4.01088e+10, step = 5301 (0.271 sec)\n",
      "INFO:tensorflow:global_step/sec: 408.573\n",
      "INFO:tensorflow:loss = 1.20585e+11, step = 5401 (0.240 sec)\n",
      "INFO:tensorflow:global_step/sec: 406.71\n",
      "INFO:tensorflow:loss = 2.69827e+10, step = 5501 (0.251 sec)\n",
      "INFO:tensorflow:global_step/sec: 410.424\n",
      "INFO:tensorflow:loss = 3.94461e+10, step = 5601 (0.239 sec)\n",
      "INFO:tensorflow:global_step/sec: 385.899\n",
      "INFO:tensorflow:loss = 3.46167e+10, step = 5701 (0.258 sec)\n",
      "INFO:tensorflow:global_step/sec: 389.216\n",
      "INFO:tensorflow:loss = 1.4225e+11, step = 5801 (0.258 sec)\n",
      "INFO:tensorflow:global_step/sec: 354.814\n",
      "INFO:tensorflow:loss = 1.69226e+11, step = 5901 (0.287 sec)\n",
      "INFO:tensorflow:global_step/sec: 316.244\n",
      "INFO:tensorflow:loss = 6.14034e+10, step = 6001 (0.311 sec)\n",
      "INFO:tensorflow:global_step/sec: 249.833\n",
      "INFO:tensorflow:loss = 9.35873e+10, step = 6101 (0.401 sec)\n",
      "INFO:tensorflow:global_step/sec: 244.934\n",
      "INFO:tensorflow:loss = 7.51416e+10, step = 6201 (0.412 sec)\n",
      "INFO:tensorflow:global_step/sec: 281.998\n",
      "INFO:tensorflow:loss = 7.18093e+10, step = 6301 (0.350 sec)\n",
      "INFO:tensorflow:global_step/sec: 321.947\n",
      "INFO:tensorflow:loss = 3.4881e+10, step = 6401 (0.311 sec)\n",
      "INFO:tensorflow:global_step/sec: 380.896\n",
      "INFO:tensorflow:loss = 1.95601e+11, step = 6501 (0.263 sec)\n",
      "INFO:tensorflow:global_step/sec: 390.145\n",
      "INFO:tensorflow:loss = 1.29027e+11, step = 6601 (0.256 sec)\n",
      "INFO:tensorflow:global_step/sec: 388.386\n",
      "INFO:tensorflow:loss = 9.95379e+10, step = 6701 (0.257 sec)\n",
      "INFO:tensorflow:global_step/sec: 362.259\n",
      "INFO:tensorflow:loss = 1.33266e+11, step = 6801 (0.271 sec)\n",
      "INFO:tensorflow:global_step/sec: 410.278\n",
      "INFO:tensorflow:loss = 1.18e+11, step = 6901 (0.254 sec)\n",
      "INFO:tensorflow:global_step/sec: 364.786\n",
      "INFO:tensorflow:loss = 1.04158e+11, step = 7001 (0.269 sec)\n",
      "INFO:tensorflow:global_step/sec: 394.279\n",
      "INFO:tensorflow:loss = 5.70913e+10, step = 7101 (0.254 sec)\n",
      "INFO:tensorflow:global_step/sec: 389.241\n",
      "INFO:tensorflow:loss = 6.6185e+10, step = 7201 (0.262 sec)\n",
      "INFO:tensorflow:global_step/sec: 370.957\n",
      "INFO:tensorflow:loss = 5.95834e+10, step = 7301 (0.260 sec)\n",
      "INFO:tensorflow:global_step/sec: 394.019\n",
      "INFO:tensorflow:loss = 3.79591e+10, step = 7401 (0.259 sec)\n",
      "INFO:tensorflow:global_step/sec: 388.746\n",
      "INFO:tensorflow:loss = 5.76892e+10, step = 7501 (0.262 sec)\n",
      "INFO:tensorflow:global_step/sec: 383.918\n",
      "INFO:tensorflow:loss = 1.48194e+11, step = 7601 (0.260 sec)\n",
      "INFO:tensorflow:global_step/sec: 374.309\n",
      "INFO:tensorflow:loss = 3.01789e+10, step = 7701 (0.262 sec)\n",
      "INFO:tensorflow:global_step/sec: 389.532\n",
      "INFO:tensorflow:loss = 1.08552e+11, step = 7801 (0.252 sec)\n",
      "INFO:tensorflow:global_step/sec: 399.432\n",
      "INFO:tensorflow:loss = 4.54771e+10, step = 7901 (0.255 sec)\n",
      "INFO:tensorflow:global_step/sec: 434.481\n",
      "INFO:tensorflow:loss = 9.64148e+10, step = 8001 (0.235 sec)\n"
     ]
    },
    {
     "name": "stdout",
     "output_type": "stream",
     "text": [
      "INFO:tensorflow:global_step/sec: 417.812\n",
      "INFO:tensorflow:loss = 1.81416e+11, step = 8101 (0.239 sec)\n",
      "INFO:tensorflow:global_step/sec: 379.02\n",
      "INFO:tensorflow:loss = 1.0277e+11, step = 8201 (0.259 sec)\n",
      "INFO:tensorflow:global_step/sec: 393.437\n",
      "INFO:tensorflow:loss = 1.1997e+11, step = 8301 (0.253 sec)\n",
      "INFO:tensorflow:global_step/sec: 457.79\n",
      "INFO:tensorflow:loss = 3.78205e+10, step = 8401 (0.224 sec)\n",
      "INFO:tensorflow:global_step/sec: 420.15\n",
      "INFO:tensorflow:loss = 1.44178e+11, step = 8501 (0.238 sec)\n",
      "INFO:tensorflow:global_step/sec: 399.404\n",
      "INFO:tensorflow:loss = 7.08686e+10, step = 8601 (0.249 sec)\n",
      "INFO:tensorflow:global_step/sec: 396.561\n",
      "INFO:tensorflow:loss = 1.60768e+11, step = 8701 (0.247 sec)\n",
      "INFO:tensorflow:global_step/sec: 411.907\n",
      "INFO:tensorflow:loss = 7.63259e+10, step = 8801 (0.244 sec)\n",
      "INFO:tensorflow:global_step/sec: 411.249\n",
      "INFO:tensorflow:loss = 5.572e+10, step = 8901 (0.242 sec)\n",
      "INFO:tensorflow:global_step/sec: 381.422\n",
      "INFO:tensorflow:loss = 1.80035e+11, step = 9001 (0.262 sec)\n",
      "INFO:tensorflow:global_step/sec: 427.952\n",
      "INFO:tensorflow:loss = 6.21705e+10, step = 9101 (0.235 sec)\n",
      "INFO:tensorflow:global_step/sec: 414.889\n",
      "INFO:tensorflow:loss = 8.30958e+10, step = 9201 (0.241 sec)\n",
      "INFO:tensorflow:global_step/sec: 399.277\n",
      "INFO:tensorflow:loss = 7.88093e+10, step = 9301 (0.250 sec)\n",
      "INFO:tensorflow:global_step/sec: 385.904\n",
      "INFO:tensorflow:loss = 2.30607e+11, step = 9401 (0.258 sec)\n",
      "INFO:tensorflow:global_step/sec: 402.959\n",
      "INFO:tensorflow:loss = 6.72652e+10, step = 9501 (0.249 sec)\n",
      "INFO:tensorflow:global_step/sec: 358.184\n",
      "INFO:tensorflow:loss = 1.08712e+11, step = 9601 (0.278 sec)\n",
      "INFO:tensorflow:global_step/sec: 355.632\n",
      "INFO:tensorflow:loss = 1.95654e+11, step = 9701 (0.281 sec)\n",
      "INFO:tensorflow:global_step/sec: 302.823\n",
      "INFO:tensorflow:loss = 9.17065e+10, step = 9801 (0.333 sec)\n",
      "INFO:tensorflow:global_step/sec: 270.212\n",
      "INFO:tensorflow:loss = 4.03639e+10, step = 9901 (0.367 sec)\n",
      "INFO:tensorflow:global_step/sec: 289.663\n",
      "INFO:tensorflow:loss = 1.47119e+11, step = 10001 (0.346 sec)\n",
      "INFO:tensorflow:global_step/sec: 306.546\n",
      "INFO:tensorflow:loss = 4.72435e+10, step = 10101 (0.325 sec)\n",
      "INFO:tensorflow:global_step/sec: 408.125\n",
      "INFO:tensorflow:loss = 8.59401e+10, step = 10201 (0.251 sec)\n",
      "INFO:tensorflow:global_step/sec: 387.163\n",
      "INFO:tensorflow:loss = 1.25588e+11, step = 10301 (0.252 sec)\n",
      "INFO:tensorflow:global_step/sec: 365.766\n",
      "INFO:tensorflow:loss = 8.67953e+10, step = 10401 (0.273 sec)\n",
      "INFO:tensorflow:global_step/sec: 397.841\n",
      "INFO:tensorflow:loss = 4.39445e+10, step = 10501 (0.252 sec)\n",
      "INFO:tensorflow:global_step/sec: 421.303\n",
      "INFO:tensorflow:loss = 7.25486e+10, step = 10601 (0.242 sec)\n",
      "INFO:tensorflow:global_step/sec: 358.772\n",
      "INFO:tensorflow:loss = 2.49667e+11, step = 10701 (0.274 sec)\n",
      "INFO:tensorflow:global_step/sec: 404.118\n",
      "INFO:tensorflow:loss = 6.586e+10, step = 10801 (0.247 sec)\n",
      "INFO:tensorflow:global_step/sec: 407.869\n",
      "INFO:tensorflow:loss = 8.53229e+10, step = 10901 (0.251 sec)\n",
      "INFO:tensorflow:global_step/sec: 394.224\n",
      "INFO:tensorflow:loss = 1.86801e+11, step = 11001 (0.248 sec)\n",
      "INFO:tensorflow:global_step/sec: 384.11\n",
      "INFO:tensorflow:loss = 5.1208e+10, step = 11101 (0.258 sec)\n",
      "INFO:tensorflow:global_step/sec: 394.993\n",
      "INFO:tensorflow:loss = 2.64991e+10, step = 11201 (0.253 sec)\n",
      "INFO:tensorflow:global_step/sec: 387.335\n",
      "INFO:tensorflow:loss = 1.49439e+11, step = 11301 (0.259 sec)\n",
      "INFO:tensorflow:global_step/sec: 433.558\n",
      "INFO:tensorflow:loss = 1.15548e+11, step = 11401 (0.236 sec)\n",
      "INFO:tensorflow:global_step/sec: 412.481\n",
      "INFO:tensorflow:loss = 1.08569e+11, step = 11501 (0.242 sec)\n",
      "INFO:tensorflow:global_step/sec: 379.255\n",
      "INFO:tensorflow:loss = 1.86079e+11, step = 11601 (0.255 sec)\n",
      "INFO:tensorflow:global_step/sec: 315.558\n",
      "INFO:tensorflow:loss = 1.44791e+11, step = 11701 (0.330 sec)\n",
      "INFO:tensorflow:global_step/sec: 401.16\n",
      "INFO:tensorflow:loss = 7.98794e+09, step = 11801 (0.248 sec)\n",
      "INFO:tensorflow:global_step/sec: 283.994\n",
      "INFO:tensorflow:loss = 1.76992e+11, step = 11901 (0.344 sec)\n",
      "INFO:tensorflow:global_step/sec: 380.766\n",
      "INFO:tensorflow:loss = 1.3097e+11, step = 12001 (0.259 sec)\n",
      "INFO:tensorflow:global_step/sec: 380.163\n",
      "INFO:tensorflow:loss = 2.18901e+11, step = 12101 (0.268 sec)\n",
      "INFO:tensorflow:global_step/sec: 399.915\n",
      "INFO:tensorflow:loss = 1.93255e+11, step = 12201 (0.250 sec)\n",
      "INFO:tensorflow:global_step/sec: 403.893\n",
      "INFO:tensorflow:loss = 7.30827e+10, step = 12301 (0.248 sec)\n",
      "INFO:tensorflow:global_step/sec: 399.115\n",
      "INFO:tensorflow:loss = 1.60495e+11, step = 12401 (0.256 sec)\n",
      "INFO:tensorflow:global_step/sec: 391.259\n",
      "INFO:tensorflow:loss = 2.01267e+11, step = 12501 (0.251 sec)\n",
      "INFO:tensorflow:global_step/sec: 413.827\n",
      "INFO:tensorflow:loss = 4.88746e+10, step = 12601 (0.254 sec)\n",
      "INFO:tensorflow:global_step/sec: 358.559\n",
      "INFO:tensorflow:loss = 7.06303e+10, step = 12701 (0.266 sec)\n",
      "INFO:tensorflow:global_step/sec: 387.324\n",
      "INFO:tensorflow:loss = 1.41751e+11, step = 12801 (0.259 sec)\n",
      "INFO:tensorflow:global_step/sec: 381.836\n",
      "INFO:tensorflow:loss = 3.50391e+10, step = 12901 (0.261 sec)\n",
      "INFO:tensorflow:global_step/sec: 388.477\n",
      "INFO:tensorflow:loss = 1.82192e+11, step = 13001 (0.259 sec)\n",
      "INFO:tensorflow:global_step/sec: 385.842\n",
      "INFO:tensorflow:loss = 5.13932e+10, step = 13101 (0.257 sec)\n",
      "INFO:tensorflow:global_step/sec: 421.305\n",
      "INFO:tensorflow:loss = 1.23625e+11, step = 13201 (0.245 sec)\n",
      "INFO:tensorflow:global_step/sec: 332.006\n",
      "INFO:tensorflow:loss = 4.5404e+10, step = 13301 (0.293 sec)\n",
      "INFO:tensorflow:global_step/sec: 418.915\n",
      "INFO:tensorflow:loss = 1.12364e+11, step = 13401 (0.240 sec)\n",
      "INFO:tensorflow:global_step/sec: 353.651\n",
      "INFO:tensorflow:loss = 5.72268e+10, step = 13501 (0.288 sec)\n",
      "INFO:tensorflow:global_step/sec: 279.758\n",
      "INFO:tensorflow:loss = 9.07426e+10, step = 13601 (0.353 sec)\n",
      "INFO:tensorflow:global_step/sec: 298.662\n",
      "INFO:tensorflow:loss = 1.16607e+11, step = 13701 (0.334 sec)\n",
      "INFO:tensorflow:global_step/sec: 244.872\n",
      "INFO:tensorflow:loss = 4.90831e+10, step = 13801 (0.405 sec)\n",
      "INFO:tensorflow:global_step/sec: 324.755\n",
      "INFO:tensorflow:loss = 3.83064e+10, step = 13901 (0.312 sec)\n",
      "INFO:tensorflow:global_step/sec: 396.698\n",
      "INFO:tensorflow:loss = 6.35531e+10, step = 14001 (0.251 sec)\n",
      "INFO:tensorflow:global_step/sec: 382.955\n",
      "INFO:tensorflow:loss = 1.35927e+11, step = 14101 (0.261 sec)\n",
      "INFO:tensorflow:global_step/sec: 377.112\n",
      "INFO:tensorflow:loss = 5.05636e+10, step = 14201 (0.265 sec)\n",
      "INFO:tensorflow:global_step/sec: 383.491\n",
      "INFO:tensorflow:loss = 7.72472e+10, step = 14301 (0.261 sec)\n",
      "INFO:tensorflow:global_step/sec: 393.068\n",
      "INFO:tensorflow:loss = 4.96054e+10, step = 14401 (0.257 sec)\n",
      "INFO:tensorflow:global_step/sec: 359.558\n",
      "INFO:tensorflow:loss = 1.42837e+11, step = 14501 (0.274 sec)\n",
      "INFO:tensorflow:global_step/sec: 424.971\n",
      "INFO:tensorflow:loss = 4.39645e+10, step = 14601 (0.241 sec)\n",
      "INFO:tensorflow:global_step/sec: 374.968\n",
      "INFO:tensorflow:loss = 6.45379e+10, step = 14701 (0.261 sec)\n",
      "INFO:tensorflow:global_step/sec: 366.056\n",
      "INFO:tensorflow:loss = 6.08674e+10, step = 14801 (0.273 sec)\n",
      "INFO:tensorflow:global_step/sec: 409.042\n",
      "INFO:tensorflow:loss = 4.65624e+10, step = 14901 (0.255 sec)\n",
      "INFO:tensorflow:global_step/sec: 340.107\n",
      "INFO:tensorflow:loss = 9.94803e+10, step = 15001 (0.284 sec)\n",
      "INFO:tensorflow:global_step/sec: 353.205\n",
      "INFO:tensorflow:loss = 8.74121e+10, step = 15101 (0.287 sec)\n",
      "INFO:tensorflow:global_step/sec: 379.826\n",
      "INFO:tensorflow:loss = 9.63893e+10, step = 15201 (0.259 sec)\n",
      "INFO:tensorflow:global_step/sec: 360.938\n",
      "INFO:tensorflow:loss = 1.13481e+11, step = 15301 (0.277 sec)\n",
      "INFO:tensorflow:global_step/sec: 356.025\n",
      "INFO:tensorflow:loss = 7.39036e+10, step = 15401 (0.281 sec)\n",
      "INFO:tensorflow:global_step/sec: 347.632\n",
      "INFO:tensorflow:loss = 2.27264e+10, step = 15501 (0.288 sec)\n",
      "INFO:tensorflow:global_step/sec: 357.147\n",
      "INFO:tensorflow:loss = 8.38243e+10, step = 15601 (0.282 sec)\n",
      "INFO:tensorflow:global_step/sec: 348.984\n",
      "INFO:tensorflow:loss = 9.26959e+10, step = 15701 (0.297 sec)\n",
      "INFO:tensorflow:global_step/sec: 300.214\n",
      "INFO:tensorflow:loss = 7.781e+10, step = 15801 (0.320 sec)\n",
      "INFO:tensorflow:global_step/sec: 368.756\n",
      "INFO:tensorflow:loss = 5.54947e+10, step = 15901 (0.270 sec)\n",
      "INFO:tensorflow:global_step/sec: 391.232\n",
      "INFO:tensorflow:loss = 4.51139e+10, step = 16001 (0.260 sec)\n",
      "INFO:tensorflow:global_step/sec: 281.927\n",
      "INFO:tensorflow:loss = 8.4495e+10, step = 16101 (0.355 sec)\n"
     ]
    },
    {
     "name": "stdout",
     "output_type": "stream",
     "text": [
      "INFO:tensorflow:global_step/sec: 339.09\n",
      "INFO:tensorflow:loss = 1.48112e+11, step = 16201 (0.292 sec)\n",
      "INFO:tensorflow:global_step/sec: 249.028\n",
      "INFO:tensorflow:loss = 1.76391e+11, step = 16301 (0.402 sec)\n",
      "INFO:tensorflow:global_step/sec: 355.27\n",
      "INFO:tensorflow:loss = 1.42013e+11, step = 16401 (0.281 sec)\n",
      "INFO:tensorflow:global_step/sec: 388.991\n",
      "INFO:tensorflow:loss = 9.01679e+10, step = 16501 (0.257 sec)\n",
      "INFO:tensorflow:global_step/sec: 315.172\n",
      "INFO:tensorflow:loss = 3.30317e+10, step = 16601 (0.319 sec)\n",
      "INFO:tensorflow:global_step/sec: 255.062\n",
      "INFO:tensorflow:loss = 9.51817e+10, step = 16701 (0.390 sec)\n",
      "INFO:tensorflow:global_step/sec: 239.647\n",
      "INFO:tensorflow:loss = 8.93878e+10, step = 16801 (0.418 sec)\n",
      "INFO:tensorflow:global_step/sec: 307.114\n",
      "INFO:tensorflow:loss = 8.65985e+10, step = 16901 (0.340 sec)\n",
      "INFO:tensorflow:global_step/sec: 259.593\n",
      "INFO:tensorflow:loss = 8.74206e+10, step = 17001 (0.378 sec)\n",
      "INFO:tensorflow:global_step/sec: 207.761\n",
      "INFO:tensorflow:loss = 5.59809e+10, step = 17101 (0.477 sec)\n",
      "INFO:tensorflow:global_step/sec: 365.825\n",
      "INFO:tensorflow:loss = 7.44038e+10, step = 17201 (0.274 sec)\n",
      "INFO:tensorflow:global_step/sec: 412.785\n",
      "INFO:tensorflow:loss = 5.16847e+10, step = 17301 (0.240 sec)\n",
      "INFO:tensorflow:global_step/sec: 429.038\n",
      "INFO:tensorflow:loss = 6.04966e+10, step = 17401 (0.236 sec)\n",
      "INFO:tensorflow:global_step/sec: 396.206\n",
      "INFO:tensorflow:loss = 3.46274e+10, step = 17501 (0.254 sec)\n",
      "INFO:tensorflow:global_step/sec: 382.995\n",
      "INFO:tensorflow:loss = 2.48847e+10, step = 17601 (0.255 sec)\n",
      "INFO:tensorflow:global_step/sec: 398.438\n",
      "INFO:tensorflow:loss = 4.53132e+10, step = 17701 (0.256 sec)\n",
      "INFO:tensorflow:global_step/sec: 408.469\n",
      "INFO:tensorflow:loss = 7.79363e+10, step = 17801 (0.245 sec)\n",
      "INFO:tensorflow:global_step/sec: 402.421\n",
      "INFO:tensorflow:loss = 1.1687e+11, step = 17901 (0.243 sec)\n",
      "INFO:tensorflow:global_step/sec: 418.008\n",
      "INFO:tensorflow:loss = 7.45723e+10, step = 18001 (0.244 sec)\n",
      "INFO:tensorflow:global_step/sec: 419.098\n",
      "INFO:tensorflow:loss = 5.98185e+10, step = 18101 (0.235 sec)\n",
      "INFO:tensorflow:global_step/sec: 412.665\n",
      "INFO:tensorflow:loss = 1.22394e+11, step = 18201 (0.241 sec)\n",
      "INFO:tensorflow:global_step/sec: 340.131\n",
      "INFO:tensorflow:loss = 2.45703e+10, step = 18301 (0.299 sec)\n",
      "INFO:tensorflow:global_step/sec: 390.024\n",
      "INFO:tensorflow:loss = 8.81264e+10, step = 18401 (0.246 sec)\n",
      "INFO:tensorflow:global_step/sec: 324.825\n",
      "INFO:tensorflow:loss = 1.33492e+11, step = 18501 (0.321 sec)\n",
      "INFO:tensorflow:global_step/sec: 237.371\n",
      "INFO:tensorflow:loss = 8.32998e+10, step = 18601 (0.413 sec)\n",
      "INFO:tensorflow:global_step/sec: 263.676\n",
      "INFO:tensorflow:loss = 1.11926e+11, step = 18701 (0.379 sec)\n",
      "INFO:tensorflow:global_step/sec: 387.566\n",
      "INFO:tensorflow:loss = 4.45597e+10, step = 18801 (0.262 sec)\n",
      "INFO:tensorflow:global_step/sec: 421.657\n",
      "INFO:tensorflow:loss = 9.98597e+10, step = 18901 (0.243 sec)\n",
      "INFO:tensorflow:global_step/sec: 334.798\n",
      "INFO:tensorflow:loss = 4.76304e+10, step = 19001 (0.287 sec)\n",
      "INFO:tensorflow:global_step/sec: 367.94\n",
      "INFO:tensorflow:loss = 7.9251e+10, step = 19101 (0.274 sec)\n",
      "INFO:tensorflow:global_step/sec: 372.674\n",
      "INFO:tensorflow:loss = 1.26538e+11, step = 19201 (0.268 sec)\n",
      "INFO:tensorflow:global_step/sec: 395.367\n",
      "INFO:tensorflow:loss = 9.45263e+10, step = 19301 (0.253 sec)\n",
      "INFO:tensorflow:global_step/sec: 407.424\n",
      "INFO:tensorflow:loss = 8.01026e+10, step = 19401 (0.245 sec)\n",
      "INFO:tensorflow:global_step/sec: 384.345\n",
      "INFO:tensorflow:loss = 5.05485e+10, step = 19501 (0.258 sec)\n",
      "INFO:tensorflow:global_step/sec: 414.874\n",
      "INFO:tensorflow:loss = 1.48499e+11, step = 19601 (0.243 sec)\n",
      "INFO:tensorflow:global_step/sec: 416.366\n",
      "INFO:tensorflow:loss = 9.02965e+10, step = 19701 (0.249 sec)\n",
      "INFO:tensorflow:global_step/sec: 399.321\n",
      "INFO:tensorflow:loss = 1.22536e+11, step = 19801 (0.240 sec)\n",
      "INFO:tensorflow:global_step/sec: 398.737\n",
      "INFO:tensorflow:loss = 1.74108e+10, step = 19901 (0.256 sec)\n",
      "INFO:tensorflow:global_step/sec: 419.181\n",
      "INFO:tensorflow:loss = 8.42285e+10, step = 20001 (0.239 sec)\n",
      "INFO:tensorflow:global_step/sec: 415.12\n",
      "INFO:tensorflow:loss = 9.07047e+10, step = 20101 (0.236 sec)\n",
      "INFO:tensorflow:global_step/sec: 409.417\n",
      "INFO:tensorflow:loss = 1.28267e+11, step = 20201 (0.244 sec)\n",
      "INFO:tensorflow:global_step/sec: 434.359\n",
      "INFO:tensorflow:loss = 1.01857e+11, step = 20301 (0.240 sec)\n",
      "INFO:tensorflow:global_step/sec: 408.872\n",
      "INFO:tensorflow:loss = 1.3978e+11, step = 20401 (0.240 sec)\n",
      "INFO:tensorflow:global_step/sec: 377.7\n",
      "INFO:tensorflow:loss = 6.80325e+10, step = 20501 (0.265 sec)\n",
      "INFO:tensorflow:global_step/sec: 290.642\n",
      "INFO:tensorflow:loss = 4.14853e+10, step = 20601 (0.339 sec)\n",
      "INFO:tensorflow:global_step/sec: 304.719\n",
      "INFO:tensorflow:loss = 9.16271e+10, step = 20701 (0.330 sec)\n",
      "INFO:tensorflow:global_step/sec: 301.051\n",
      "INFO:tensorflow:loss = 1.31923e+11, step = 20801 (0.325 sec)\n",
      "INFO:tensorflow:global_step/sec: 352.894\n",
      "INFO:tensorflow:loss = 6.86051e+10, step = 20901 (0.288 sec)\n",
      "INFO:tensorflow:global_step/sec: 407.322\n",
      "INFO:tensorflow:loss = 9.17023e+10, step = 21001 (0.246 sec)\n",
      "INFO:tensorflow:global_step/sec: 423.937\n",
      "INFO:tensorflow:loss = 1.28832e+11, step = 21101 (0.242 sec)\n",
      "INFO:tensorflow:global_step/sec: 393.042\n",
      "INFO:tensorflow:loss = 9.10204e+10, step = 21201 (0.248 sec)\n",
      "INFO:tensorflow:global_step/sec: 408.138\n",
      "INFO:tensorflow:loss = 7.76053e+10, step = 21301 (0.250 sec)\n",
      "INFO:tensorflow:global_step/sec: 398.065\n",
      "INFO:tensorflow:loss = 7.08402e+10, step = 21401 (0.241 sec)\n",
      "INFO:tensorflow:global_step/sec: 408.353\n",
      "INFO:tensorflow:loss = 6.73051e+10, step = 21501 (0.245 sec)\n",
      "INFO:tensorflow:global_step/sec: 408.854\n",
      "INFO:tensorflow:loss = 2.00789e+11, step = 21601 (0.255 sec)\n",
      "INFO:tensorflow:global_step/sec: 406.155\n",
      "INFO:tensorflow:loss = 1.22245e+11, step = 21701 (0.241 sec)\n",
      "INFO:tensorflow:global_step/sec: 408.293\n",
      "INFO:tensorflow:loss = 2.07103e+11, step = 21801 (0.245 sec)\n",
      "INFO:tensorflow:global_step/sec: 427.481\n",
      "INFO:tensorflow:loss = 4.50919e+10, step = 21901 (0.245 sec)\n",
      "INFO:tensorflow:global_step/sec: 384.787\n",
      "INFO:tensorflow:loss = 4.68246e+10, step = 22001 (0.248 sec)\n",
      "INFO:tensorflow:global_step/sec: 406.243\n",
      "INFO:tensorflow:loss = 5.2293e+10, step = 22101 (0.246 sec)\n",
      "INFO:tensorflow:global_step/sec: 401.99\n",
      "INFO:tensorflow:loss = 1.16314e+11, step = 22201 (0.249 sec)\n",
      "INFO:tensorflow:global_step/sec: 413.54\n",
      "INFO:tensorflow:loss = 1.53452e+11, step = 22301 (0.247 sec)\n",
      "INFO:tensorflow:global_step/sec: 398.443\n",
      "INFO:tensorflow:loss = 6.0851e+10, step = 22401 (0.252 sec)\n",
      "INFO:tensorflow:global_step/sec: 402.085\n",
      "INFO:tensorflow:loss = 1.19653e+11, step = 22501 (0.243 sec)\n",
      "INFO:tensorflow:global_step/sec: 414.39\n",
      "INFO:tensorflow:loss = 3.56857e+10, step = 22601 (0.245 sec)\n",
      "INFO:tensorflow:global_step/sec: 399.585\n",
      "INFO:tensorflow:loss = 1.16119e+11, step = 22701 (0.245 sec)\n",
      "INFO:tensorflow:global_step/sec: 398.083\n",
      "INFO:tensorflow:loss = 5.16173e+10, step = 22801 (0.251 sec)\n",
      "INFO:tensorflow:global_step/sec: 417.083\n",
      "INFO:tensorflow:loss = 1.2468e+11, step = 22901 (0.245 sec)\n",
      "INFO:tensorflow:global_step/sec: 410.217\n",
      "INFO:tensorflow:loss = 4.05931e+10, step = 23001 (0.238 sec)\n",
      "INFO:tensorflow:global_step/sec: 414.898\n",
      "INFO:tensorflow:loss = 7.86472e+10, step = 23101 (0.246 sec)\n",
      "INFO:tensorflow:global_step/sec: 407.489\n",
      "INFO:tensorflow:loss = 3.98743e+10, step = 23201 (0.240 sec)\n",
      "INFO:tensorflow:global_step/sec: 447.231\n",
      "INFO:tensorflow:loss = 8.29358e+10, step = 23301 (0.234 sec)\n",
      "INFO:tensorflow:global_step/sec: 427.166\n",
      "INFO:tensorflow:loss = 1.69844e+11, step = 23401 (0.224 sec)\n",
      "INFO:tensorflow:global_step/sec: 404.231\n",
      "INFO:tensorflow:loss = 9.2721e+10, step = 23501 (0.252 sec)\n",
      "INFO:tensorflow:global_step/sec: 406.725\n",
      "INFO:tensorflow:loss = 5.31376e+10, step = 23601 (0.251 sec)\n",
      "INFO:tensorflow:global_step/sec: 415.741\n",
      "INFO:tensorflow:loss = 5.29541e+10, step = 23701 (0.241 sec)\n",
      "INFO:tensorflow:global_step/sec: 384.512\n",
      "INFO:tensorflow:loss = 1.11795e+11, step = 23801 (0.250 sec)\n",
      "INFO:tensorflow:global_step/sec: 423.118\n",
      "INFO:tensorflow:loss = 1.35012e+11, step = 23901 (0.246 sec)\n",
      "INFO:tensorflow:global_step/sec: 420.093\n",
      "INFO:tensorflow:loss = 7.34335e+10, step = 24001 (0.235 sec)\n",
      "INFO:tensorflow:global_step/sec: 403.811\n",
      "INFO:tensorflow:loss = 6.24307e+10, step = 24101 (0.245 sec)\n",
      "INFO:tensorflow:global_step/sec: 404.332\n",
      "INFO:tensorflow:loss = 8.69719e+10, step = 24201 (0.244 sec)\n"
     ]
    },
    {
     "name": "stdout",
     "output_type": "stream",
     "text": [
      "INFO:tensorflow:global_step/sec: 357.998\n",
      "INFO:tensorflow:loss = 5.74518e+10, step = 24301 (0.280 sec)\n",
      "INFO:tensorflow:global_step/sec: 415.236\n",
      "INFO:tensorflow:loss = 1.12221e+11, step = 24401 (0.250 sec)\n",
      "INFO:tensorflow:global_step/sec: 294.057\n",
      "INFO:tensorflow:loss = 8.33863e+10, step = 24501 (0.331 sec)\n",
      "INFO:tensorflow:global_step/sec: 370.249\n",
      "INFO:tensorflow:loss = 6.31062e+10, step = 24601 (0.274 sec)\n",
      "INFO:tensorflow:global_step/sec: 259.456\n",
      "INFO:tensorflow:loss = 2.4251e+10, step = 24701 (0.388 sec)\n",
      "INFO:tensorflow:global_step/sec: 305.011\n",
      "INFO:tensorflow:loss = 1.00359e+11, step = 24801 (0.323 sec)\n",
      "INFO:tensorflow:global_step/sec: 302.132\n",
      "INFO:tensorflow:loss = 8.19787e+10, step = 24901 (0.332 sec)\n",
      "INFO:tensorflow:Saving checkpoints for 25000 into C:\\Users\\MOHAME~1\\AppData\\Local\\Temp\\tmpuunqelo5\\model.ckpt.\n",
      "INFO:tensorflow:Loss for final step: 1.37053e+11.\n"
     ]
    },
    {
     "data": {
      "text/plain": [
       "<tensorflow.python.estimator.canned.dnn.DNNRegressor at 0x5608a1b860>"
      ]
     },
     "execution_count": 36,
     "metadata": {},
     "output_type": "execute_result"
    }
   ],
   "source": [
    "model.train(input_fn=input_func,steps=25000)"
   ]
  },
  {
   "cell_type": "code",
   "execution_count": 37,
   "metadata": {
    "collapsed": true
   },
   "outputs": [],
   "source": [
    "predict_input_func=tf.estimator.inputs.pandas_input_fn(x=X_test,batch_size=10,num_epochs=1,shuffle=False)"
   ]
  },
  {
   "cell_type": "code",
   "execution_count": 38,
   "metadata": {
    "collapsed": true
   },
   "outputs": [],
   "source": [
    "pred_gen=model.predict(predict_input_func)"
   ]
  },
  {
   "cell_type": "code",
   "execution_count": 39,
   "metadata": {},
   "outputs": [
    {
     "name": "stdout",
     "output_type": "stream",
     "text": [
      "INFO:tensorflow:Restoring parameters from C:\\Users\\MOHAME~1\\AppData\\Local\\Temp\\tmpuunqelo5\\model.ckpt-25000\n"
     ]
    }
   ],
   "source": [
    "predictions=list(pred_gen)"
   ]
  },
  {
   "cell_type": "code",
   "execution_count": 40,
   "metadata": {
    "collapsed": true
   },
   "outputs": [],
   "source": [
    "final_preds=[]\n",
    "for pred in predictions:\n",
    "    final_preds.append(pred['predictions'])"
   ]
  },
  {
   "cell_type": "code",
   "execution_count": 41,
   "metadata": {
    "collapsed": true
   },
   "outputs": [],
   "source": [
    "from sklearn.metrics import mean_squared_error"
   ]
  },
  {
   "cell_type": "code",
   "execution_count": 43,
   "metadata": {},
   "outputs": [
    {
     "data": {
      "text/plain": [
       "95366.519176029484"
      ]
     },
     "execution_count": 43,
     "metadata": {},
     "output_type": "execute_result"
    }
   ],
   "source": [
    "mean_squared_error(y_test,final_preds)**0.5"
   ]
  },
  {
   "cell_type": "code",
   "execution_count": null,
   "metadata": {
    "collapsed": true
   },
   "outputs": [],
   "source": []
  },
  {
   "cell_type": "code",
   "execution_count": null,
   "metadata": {
    "collapsed": true
   },
   "outputs": [],
   "source": []
  },
  {
   "cell_type": "code",
   "execution_count": null,
   "metadata": {
    "collapsed": true
   },
   "outputs": [],
   "source": []
  },
  {
   "cell_type": "code",
   "execution_count": null,
   "metadata": {
    "collapsed": true
   },
   "outputs": [],
   "source": []
  },
  {
   "cell_type": "code",
   "execution_count": null,
   "metadata": {
    "collapsed": true
   },
   "outputs": [],
   "source": []
  },
  {
   "cell_type": "code",
   "execution_count": null,
   "metadata": {
    "collapsed": true
   },
   "outputs": [],
   "source": []
  },
  {
   "cell_type": "code",
   "execution_count": null,
   "metadata": {
    "collapsed": true
   },
   "outputs": [],
   "source": []
  },
  {
   "cell_type": "code",
   "execution_count": null,
   "metadata": {
    "collapsed": true
   },
   "outputs": [],
   "source": []
  },
  {
   "cell_type": "code",
   "execution_count": null,
   "metadata": {
    "collapsed": true
   },
   "outputs": [],
   "source": []
  },
  {
   "cell_type": "code",
   "execution_count": null,
   "metadata": {
    "collapsed": true
   },
   "outputs": [],
   "source": []
  },
  {
   "cell_type": "code",
   "execution_count": null,
   "metadata": {
    "collapsed": true
   },
   "outputs": [],
   "source": []
  },
  {
   "cell_type": "code",
   "execution_count": null,
   "metadata": {
    "collapsed": true
   },
   "outputs": [],
   "source": []
  },
  {
   "cell_type": "code",
   "execution_count": null,
   "metadata": {
    "collapsed": true
   },
   "outputs": [],
   "source": []
  },
  {
   "cell_type": "code",
   "execution_count": null,
   "metadata": {
    "collapsed": true
   },
   "outputs": [],
   "source": []
  },
  {
   "cell_type": "code",
   "execution_count": null,
   "metadata": {
    "collapsed": true
   },
   "outputs": [],
   "source": []
  },
  {
   "cell_type": "code",
   "execution_count": null,
   "metadata": {
    "collapsed": true
   },
   "outputs": [],
   "source": []
  },
  {
   "cell_type": "code",
   "execution_count": null,
   "metadata": {
    "collapsed": true
   },
   "outputs": [],
   "source": []
  },
  {
   "cell_type": "code",
   "execution_count": null,
   "metadata": {
    "collapsed": true
   },
   "outputs": [],
   "source": []
  },
  {
   "cell_type": "code",
   "execution_count": null,
   "metadata": {
    "collapsed": true
   },
   "outputs": [],
   "source": []
  },
  {
   "cell_type": "code",
   "execution_count": null,
   "metadata": {
    "collapsed": true
   },
   "outputs": [],
   "source": []
  },
  {
   "cell_type": "code",
   "execution_count": null,
   "metadata": {
    "collapsed": true
   },
   "outputs": [],
   "source": []
  },
  {
   "cell_type": "code",
   "execution_count": null,
   "metadata": {
    "collapsed": true
   },
   "outputs": [],
   "source": []
  },
  {
   "cell_type": "code",
   "execution_count": null,
   "metadata": {
    "collapsed": true
   },
   "outputs": [],
   "source": []
  },
  {
   "cell_type": "code",
   "execution_count": null,
   "metadata": {
    "collapsed": true
   },
   "outputs": [],
   "source": []
  },
  {
   "cell_type": "code",
   "execution_count": null,
   "metadata": {
    "collapsed": true
   },
   "outputs": [],
   "source": []
  },
  {
   "cell_type": "code",
   "execution_count": null,
   "metadata": {
    "collapsed": true
   },
   "outputs": [],
   "source": []
  },
  {
   "cell_type": "code",
   "execution_count": null,
   "metadata": {
    "collapsed": true
   },
   "outputs": [],
   "source": []
  },
  {
   "cell_type": "code",
   "execution_count": null,
   "metadata": {
    "collapsed": true
   },
   "outputs": [],
   "source": []
  },
  {
   "cell_type": "code",
   "execution_count": null,
   "metadata": {
    "collapsed": true
   },
   "outputs": [],
   "source": []
  },
  {
   "cell_type": "code",
   "execution_count": null,
   "metadata": {
    "collapsed": true
   },
   "outputs": [],
   "source": []
  },
  {
   "cell_type": "code",
   "execution_count": null,
   "metadata": {
    "collapsed": true
   },
   "outputs": [],
   "source": []
  },
  {
   "cell_type": "code",
   "execution_count": null,
   "metadata": {
    "collapsed": true
   },
   "outputs": [],
   "source": []
  },
  {
   "cell_type": "code",
   "execution_count": null,
   "metadata": {
    "collapsed": true
   },
   "outputs": [],
   "source": []
  },
  {
   "cell_type": "code",
   "execution_count": null,
   "metadata": {
    "collapsed": true
   },
   "outputs": [],
   "source": []
  },
  {
   "cell_type": "code",
   "execution_count": null,
   "metadata": {
    "collapsed": true
   },
   "outputs": [],
   "source": []
  },
  {
   "cell_type": "code",
   "execution_count": null,
   "metadata": {
    "collapsed": true
   },
   "outputs": [],
   "source": []
  },
  {
   "cell_type": "code",
   "execution_count": null,
   "metadata": {
    "collapsed": true
   },
   "outputs": [],
   "source": []
  },
  {
   "cell_type": "code",
   "execution_count": null,
   "metadata": {
    "collapsed": true
   },
   "outputs": [],
   "source": []
  },
  {
   "cell_type": "code",
   "execution_count": null,
   "metadata": {
    "collapsed": true
   },
   "outputs": [],
   "source": []
  },
  {
   "cell_type": "code",
   "execution_count": null,
   "metadata": {
    "collapsed": true
   },
   "outputs": [],
   "source": []
  },
  {
   "cell_type": "code",
   "execution_count": null,
   "metadata": {
    "collapsed": true
   },
   "outputs": [],
   "source": []
  },
  {
   "cell_type": "code",
   "execution_count": null,
   "metadata": {
    "collapsed": true
   },
   "outputs": [],
   "source": []
  },
  {
   "cell_type": "code",
   "execution_count": null,
   "metadata": {
    "collapsed": true
   },
   "outputs": [],
   "source": []
  },
  {
   "cell_type": "code",
   "execution_count": null,
   "metadata": {
    "collapsed": true
   },
   "outputs": [],
   "source": []
  },
  {
   "cell_type": "code",
   "execution_count": null,
   "metadata": {
    "collapsed": true
   },
   "outputs": [],
   "source": []
  },
  {
   "cell_type": "code",
   "execution_count": null,
   "metadata": {
    "collapsed": true
   },
   "outputs": [],
   "source": []
  },
  {
   "cell_type": "code",
   "execution_count": null,
   "metadata": {
    "collapsed": true
   },
   "outputs": [],
   "source": []
  },
  {
   "cell_type": "code",
   "execution_count": null,
   "metadata": {
    "collapsed": true
   },
   "outputs": [],
   "source": []
  },
  {
   "cell_type": "code",
   "execution_count": null,
   "metadata": {
    "collapsed": true
   },
   "outputs": [],
   "source": []
  },
  {
   "cell_type": "code",
   "execution_count": null,
   "metadata": {
    "collapsed": true
   },
   "outputs": [],
   "source": []
  },
  {
   "cell_type": "code",
   "execution_count": null,
   "metadata": {
    "collapsed": true
   },
   "outputs": [],
   "source": []
  },
  {
   "cell_type": "code",
   "execution_count": null,
   "metadata": {
    "collapsed": true
   },
   "outputs": [],
   "source": []
  },
  {
   "cell_type": "code",
   "execution_count": null,
   "metadata": {
    "collapsed": true
   },
   "outputs": [],
   "source": []
  },
  {
   "cell_type": "code",
   "execution_count": null,
   "metadata": {
    "collapsed": true
   },
   "outputs": [],
   "source": []
  },
  {
   "cell_type": "code",
   "execution_count": null,
   "metadata": {
    "collapsed": true
   },
   "outputs": [],
   "source": []
  },
  {
   "cell_type": "code",
   "execution_count": null,
   "metadata": {
    "collapsed": true
   },
   "outputs": [],
   "source": []
  },
  {
   "cell_type": "code",
   "execution_count": null,
   "metadata": {
    "collapsed": true
   },
   "outputs": [],
   "source": []
  },
  {
   "cell_type": "code",
   "execution_count": null,
   "metadata": {
    "collapsed": true
   },
   "outputs": [],
   "source": []
  },
  {
   "cell_type": "code",
   "execution_count": null,
   "metadata": {
    "collapsed": true
   },
   "outputs": [],
   "source": []
  },
  {
   "cell_type": "code",
   "execution_count": null,
   "metadata": {
    "collapsed": true
   },
   "outputs": [],
   "source": []
  },
  {
   "cell_type": "code",
   "execution_count": null,
   "metadata": {
    "collapsed": true
   },
   "outputs": [],
   "source": []
  },
  {
   "cell_type": "code",
   "execution_count": null,
   "metadata": {
    "collapsed": true
   },
   "outputs": [],
   "source": []
  },
  {
   "cell_type": "code",
   "execution_count": null,
   "metadata": {
    "collapsed": true
   },
   "outputs": [],
   "source": []
  },
  {
   "cell_type": "code",
   "execution_count": null,
   "metadata": {
    "collapsed": true
   },
   "outputs": [],
   "source": []
  },
  {
   "cell_type": "code",
   "execution_count": null,
   "metadata": {
    "collapsed": true
   },
   "outputs": [],
   "source": []
  },
  {
   "cell_type": "code",
   "execution_count": null,
   "metadata": {
    "collapsed": true
   },
   "outputs": [],
   "source": []
  },
  {
   "cell_type": "code",
   "execution_count": null,
   "metadata": {
    "collapsed": true
   },
   "outputs": [],
   "source": []
  },
  {
   "cell_type": "code",
   "execution_count": null,
   "metadata": {
    "collapsed": true
   },
   "outputs": [],
   "source": []
  },
  {
   "cell_type": "code",
   "execution_count": null,
   "metadata": {
    "collapsed": true
   },
   "outputs": [],
   "source": []
  },
  {
   "cell_type": "code",
   "execution_count": null,
   "metadata": {
    "collapsed": true
   },
   "outputs": [],
   "source": []
  },
  {
   "cell_type": "code",
   "execution_count": null,
   "metadata": {
    "collapsed": true
   },
   "outputs": [],
   "source": []
  },
  {
   "cell_type": "code",
   "execution_count": null,
   "metadata": {
    "collapsed": true
   },
   "outputs": [],
   "source": []
  },
  {
   "cell_type": "code",
   "execution_count": null,
   "metadata": {
    "collapsed": true
   },
   "outputs": [],
   "source": []
  },
  {
   "cell_type": "code",
   "execution_count": null,
   "metadata": {
    "collapsed": true
   },
   "outputs": [],
   "source": []
  },
  {
   "cell_type": "code",
   "execution_count": null,
   "metadata": {
    "collapsed": true
   },
   "outputs": [],
   "source": []
  },
  {
   "cell_type": "code",
   "execution_count": null,
   "metadata": {
    "collapsed": true
   },
   "outputs": [],
   "source": []
  },
  {
   "cell_type": "code",
   "execution_count": null,
   "metadata": {
    "collapsed": true
   },
   "outputs": [],
   "source": []
  },
  {
   "cell_type": "code",
   "execution_count": null,
   "metadata": {
    "collapsed": true
   },
   "outputs": [],
   "source": []
  },
  {
   "cell_type": "code",
   "execution_count": null,
   "metadata": {
    "collapsed": true
   },
   "outputs": [],
   "source": []
  },
  {
   "cell_type": "code",
   "execution_count": null,
   "metadata": {
    "collapsed": true
   },
   "outputs": [],
   "source": []
  },
  {
   "cell_type": "code",
   "execution_count": null,
   "metadata": {
    "collapsed": true
   },
   "outputs": [],
   "source": []
  },
  {
   "cell_type": "code",
   "execution_count": null,
   "metadata": {
    "collapsed": true
   },
   "outputs": [],
   "source": []
  },
  {
   "cell_type": "code",
   "execution_count": null,
   "metadata": {
    "collapsed": true
   },
   "outputs": [],
   "source": []
  },
  {
   "cell_type": "code",
   "execution_count": null,
   "metadata": {
    "collapsed": true
   },
   "outputs": [],
   "source": []
  },
  {
   "cell_type": "code",
   "execution_count": null,
   "metadata": {
    "collapsed": true
   },
   "outputs": [],
   "source": []
  },
  {
   "cell_type": "code",
   "execution_count": null,
   "metadata": {
    "collapsed": true
   },
   "outputs": [],
   "source": []
  },
  {
   "cell_type": "code",
   "execution_count": null,
   "metadata": {
    "collapsed": true
   },
   "outputs": [],
   "source": []
  },
  {
   "cell_type": "code",
   "execution_count": null,
   "metadata": {
    "collapsed": true
   },
   "outputs": [],
   "source": []
  },
  {
   "cell_type": "code",
   "execution_count": null,
   "metadata": {
    "collapsed": true
   },
   "outputs": [],
   "source": []
  },
  {
   "cell_type": "code",
   "execution_count": null,
   "metadata": {
    "collapsed": true
   },
   "outputs": [],
   "source": []
  },
  {
   "cell_type": "code",
   "execution_count": null,
   "metadata": {
    "collapsed": true
   },
   "outputs": [],
   "source": []
  },
  {
   "cell_type": "code",
   "execution_count": null,
   "metadata": {
    "collapsed": true
   },
   "outputs": [],
   "source": []
  },
  {
   "cell_type": "code",
   "execution_count": null,
   "metadata": {
    "collapsed": true
   },
   "outputs": [],
   "source": []
  },
  {
   "cell_type": "code",
   "execution_count": null,
   "metadata": {
    "collapsed": true
   },
   "outputs": [],
   "source": []
  },
  {
   "cell_type": "code",
   "execution_count": null,
   "metadata": {
    "collapsed": true
   },
   "outputs": [],
   "source": []
  },
  {
   "cell_type": "code",
   "execution_count": null,
   "metadata": {
    "collapsed": true
   },
   "outputs": [],
   "source": []
  },
  {
   "cell_type": "code",
   "execution_count": null,
   "metadata": {
    "collapsed": true
   },
   "outputs": [],
   "source": []
  },
  {
   "cell_type": "code",
   "execution_count": null,
   "metadata": {
    "collapsed": true
   },
   "outputs": [],
   "source": []
  },
  {
   "cell_type": "code",
   "execution_count": null,
   "metadata": {
    "collapsed": true
   },
   "outputs": [],
   "source": []
  },
  {
   "cell_type": "code",
   "execution_count": null,
   "metadata": {
    "collapsed": true
   },
   "outputs": [],
   "source": []
  },
  {
   "cell_type": "code",
   "execution_count": null,
   "metadata": {
    "collapsed": true
   },
   "outputs": [],
   "source": []
  },
  {
   "cell_type": "code",
   "execution_count": null,
   "metadata": {
    "collapsed": true
   },
   "outputs": [],
   "source": []
  },
  {
   "cell_type": "code",
   "execution_count": null,
   "metadata": {
    "collapsed": true
   },
   "outputs": [],
   "source": []
  },
  {
   "cell_type": "code",
   "execution_count": null,
   "metadata": {
    "collapsed": true
   },
   "outputs": [],
   "source": []
  },
  {
   "cell_type": "code",
   "execution_count": null,
   "metadata": {
    "collapsed": true
   },
   "outputs": [],
   "source": []
  },
  {
   "cell_type": "code",
   "execution_count": null,
   "metadata": {
    "collapsed": true
   },
   "outputs": [],
   "source": []
  },
  {
   "cell_type": "code",
   "execution_count": null,
   "metadata": {
    "collapsed": true
   },
   "outputs": [],
   "source": []
  }
 ],
 "metadata": {
  "kernelspec": {
   "display_name": "Python 3",
   "language": "python",
   "name": "python3"
  },
  "language_info": {
   "codemirror_mode": {
    "name": "ipython",
    "version": 3
   },
   "file_extension": ".py",
   "mimetype": "text/x-python",
   "name": "python",
   "nbconvert_exporter": "python",
   "pygments_lexer": "ipython3",
   "version": "3.6.1"
  }
 },
 "nbformat": 4,
 "nbformat_minor": 2
}
