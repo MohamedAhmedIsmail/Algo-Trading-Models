{
 "cells": [
  {
   "cell_type": "code",
   "execution_count": 1,
   "metadata": {
    "collapsed": true
   },
   "outputs": [],
   "source": [
    "import pandas as pd"
   ]
  },
  {
   "cell_type": "code",
   "execution_count": 2,
   "metadata": {
    "collapsed": true
   },
   "outputs": [],
   "source": [
    "diabetes=pd.read_csv(\"C:/Users/mohamed ismail/Desktop/pima-indians-diabetes.data.csv\")"
   ]
  },
  {
   "cell_type": "code",
   "execution_count": 3,
   "metadata": {},
   "outputs": [
    {
     "data": {
      "text/html": [
       "<div>\n",
       "<style>\n",
       "    .dataframe thead tr:only-child th {\n",
       "        text-align: right;\n",
       "    }\n",
       "\n",
       "    .dataframe thead th {\n",
       "        text-align: left;\n",
       "    }\n",
       "\n",
       "    .dataframe tbody tr th {\n",
       "        vertical-align: top;\n",
       "    }\n",
       "</style>\n",
       "<table border=\"1\" class=\"dataframe\">\n",
       "  <thead>\n",
       "    <tr style=\"text-align: right;\">\n",
       "      <th></th>\n",
       "      <th>Number_pregnant</th>\n",
       "      <th>Glucose_concentration</th>\n",
       "      <th>Blood_pressure</th>\n",
       "      <th>Triceps</th>\n",
       "      <th>Insulin</th>\n",
       "      <th>BMI</th>\n",
       "      <th>Pedigree</th>\n",
       "      <th>Age</th>\n",
       "      <th>Class</th>\n",
       "    </tr>\n",
       "  </thead>\n",
       "  <tbody>\n",
       "    <tr>\n",
       "      <th>0</th>\n",
       "      <td>6</td>\n",
       "      <td>148</td>\n",
       "      <td>72</td>\n",
       "      <td>35</td>\n",
       "      <td>0</td>\n",
       "      <td>33.6</td>\n",
       "      <td>0.627</td>\n",
       "      <td>50</td>\n",
       "      <td>1</td>\n",
       "    </tr>\n",
       "    <tr>\n",
       "      <th>1</th>\n",
       "      <td>1</td>\n",
       "      <td>85</td>\n",
       "      <td>66</td>\n",
       "      <td>29</td>\n",
       "      <td>0</td>\n",
       "      <td>26.6</td>\n",
       "      <td>0.351</td>\n",
       "      <td>31</td>\n",
       "      <td>0</td>\n",
       "    </tr>\n",
       "    <tr>\n",
       "      <th>2</th>\n",
       "      <td>8</td>\n",
       "      <td>183</td>\n",
       "      <td>64</td>\n",
       "      <td>0</td>\n",
       "      <td>0</td>\n",
       "      <td>23.3</td>\n",
       "      <td>0.672</td>\n",
       "      <td>32</td>\n",
       "      <td>1</td>\n",
       "    </tr>\n",
       "    <tr>\n",
       "      <th>3</th>\n",
       "      <td>1</td>\n",
       "      <td>89</td>\n",
       "      <td>66</td>\n",
       "      <td>23</td>\n",
       "      <td>94</td>\n",
       "      <td>28.1</td>\n",
       "      <td>0.167</td>\n",
       "      <td>21</td>\n",
       "      <td>0</td>\n",
       "    </tr>\n",
       "    <tr>\n",
       "      <th>4</th>\n",
       "      <td>0</td>\n",
       "      <td>137</td>\n",
       "      <td>40</td>\n",
       "      <td>35</td>\n",
       "      <td>168</td>\n",
       "      <td>43.1</td>\n",
       "      <td>2.288</td>\n",
       "      <td>33</td>\n",
       "      <td>1</td>\n",
       "    </tr>\n",
       "  </tbody>\n",
       "</table>\n",
       "</div>"
      ],
      "text/plain": [
       "   Number_pregnant  Glucose_concentration  Blood_pressure  Triceps  Insulin  \\\n",
       "0                6                    148              72       35        0   \n",
       "1                1                     85              66       29        0   \n",
       "2                8                    183              64        0        0   \n",
       "3                1                     89              66       23       94   \n",
       "4                0                    137              40       35      168   \n",
       "\n",
       "    BMI  Pedigree  Age  Class  \n",
       "0  33.6     0.627   50      1  \n",
       "1  26.6     0.351   31      0  \n",
       "2  23.3     0.672   32      1  \n",
       "3  28.1     0.167   21      0  \n",
       "4  43.1     2.288   33      1  "
      ]
     },
     "execution_count": 3,
     "metadata": {},
     "output_type": "execute_result"
    }
   ],
   "source": [
    "diabetes.head()"
   ]
  },
  {
   "cell_type": "code",
   "execution_count": 4,
   "metadata": {},
   "outputs": [
    {
     "data": {
      "text/plain": [
       "Index(['Number_pregnant', 'Glucose_concentration', 'Blood_pressure', 'Triceps',\n",
       "       'Insulin', 'BMI', 'Pedigree', 'Age', 'Class'],\n",
       "      dtype='object')"
      ]
     },
     "execution_count": 4,
     "metadata": {},
     "output_type": "execute_result"
    }
   ],
   "source": [
    "diabetes.columns"
   ]
  },
  {
   "cell_type": "code",
   "execution_count": 6,
   "metadata": {},
   "outputs": [],
   "source": [
    "cols_to_norm=['Number_pregnant', 'Glucose_concentration', 'Blood_pressure', 'Triceps',\n",
    "       'Insulin', 'BMI', 'Pedigree']\n",
    "diabetes[cols_to_norm]=diabetes[cols_to_norm].apply(lambda x :(x-x.min())/(x.max()-x.min()))"
   ]
  },
  {
   "cell_type": "code",
   "execution_count": 7,
   "metadata": {},
   "outputs": [
    {
     "data": {
      "text/html": [
       "<div>\n",
       "<style>\n",
       "    .dataframe thead tr:only-child th {\n",
       "        text-align: right;\n",
       "    }\n",
       "\n",
       "    .dataframe thead th {\n",
       "        text-align: left;\n",
       "    }\n",
       "\n",
       "    .dataframe tbody tr th {\n",
       "        vertical-align: top;\n",
       "    }\n",
       "</style>\n",
       "<table border=\"1\" class=\"dataframe\">\n",
       "  <thead>\n",
       "    <tr style=\"text-align: right;\">\n",
       "      <th></th>\n",
       "      <th>Number_pregnant</th>\n",
       "      <th>Glucose_concentration</th>\n",
       "      <th>Blood_pressure</th>\n",
       "      <th>Triceps</th>\n",
       "      <th>Insulin</th>\n",
       "      <th>BMI</th>\n",
       "      <th>Pedigree</th>\n",
       "      <th>Age</th>\n",
       "      <th>Class</th>\n",
       "    </tr>\n",
       "  </thead>\n",
       "  <tbody>\n",
       "    <tr>\n",
       "      <th>0</th>\n",
       "      <td>0.352941</td>\n",
       "      <td>0.743719</td>\n",
       "      <td>0.590164</td>\n",
       "      <td>0.353535</td>\n",
       "      <td>0.000000</td>\n",
       "      <td>0.500745</td>\n",
       "      <td>0.234415</td>\n",
       "      <td>50</td>\n",
       "      <td>1</td>\n",
       "    </tr>\n",
       "    <tr>\n",
       "      <th>1</th>\n",
       "      <td>0.058824</td>\n",
       "      <td>0.427136</td>\n",
       "      <td>0.540984</td>\n",
       "      <td>0.292929</td>\n",
       "      <td>0.000000</td>\n",
       "      <td>0.396423</td>\n",
       "      <td>0.116567</td>\n",
       "      <td>31</td>\n",
       "      <td>0</td>\n",
       "    </tr>\n",
       "    <tr>\n",
       "      <th>2</th>\n",
       "      <td>0.470588</td>\n",
       "      <td>0.919598</td>\n",
       "      <td>0.524590</td>\n",
       "      <td>0.000000</td>\n",
       "      <td>0.000000</td>\n",
       "      <td>0.347243</td>\n",
       "      <td>0.253629</td>\n",
       "      <td>32</td>\n",
       "      <td>1</td>\n",
       "    </tr>\n",
       "    <tr>\n",
       "      <th>3</th>\n",
       "      <td>0.058824</td>\n",
       "      <td>0.447236</td>\n",
       "      <td>0.540984</td>\n",
       "      <td>0.232323</td>\n",
       "      <td>0.111111</td>\n",
       "      <td>0.418778</td>\n",
       "      <td>0.038002</td>\n",
       "      <td>21</td>\n",
       "      <td>0</td>\n",
       "    </tr>\n",
       "    <tr>\n",
       "      <th>4</th>\n",
       "      <td>0.000000</td>\n",
       "      <td>0.688442</td>\n",
       "      <td>0.327869</td>\n",
       "      <td>0.353535</td>\n",
       "      <td>0.198582</td>\n",
       "      <td>0.642325</td>\n",
       "      <td>0.943638</td>\n",
       "      <td>33</td>\n",
       "      <td>1</td>\n",
       "    </tr>\n",
       "  </tbody>\n",
       "</table>\n",
       "</div>"
      ],
      "text/plain": [
       "   Number_pregnant  Glucose_concentration  Blood_pressure   Triceps   Insulin  \\\n",
       "0         0.352941               0.743719        0.590164  0.353535  0.000000   \n",
       "1         0.058824               0.427136        0.540984  0.292929  0.000000   \n",
       "2         0.470588               0.919598        0.524590  0.000000  0.000000   \n",
       "3         0.058824               0.447236        0.540984  0.232323  0.111111   \n",
       "4         0.000000               0.688442        0.327869  0.353535  0.198582   \n",
       "\n",
       "        BMI  Pedigree  Age  Class  \n",
       "0  0.500745  0.234415   50      1  \n",
       "1  0.396423  0.116567   31      0  \n",
       "2  0.347243  0.253629   32      1  \n",
       "3  0.418778  0.038002   21      0  \n",
       "4  0.642325  0.943638   33      1  "
      ]
     },
     "execution_count": 7,
     "metadata": {},
     "output_type": "execute_result"
    }
   ],
   "source": [
    "diabetes.head()"
   ]
  },
  {
   "cell_type": "code",
   "execution_count": 8,
   "metadata": {},
   "outputs": [
    {
     "data": {
      "text/plain": [
       "Index(['Number_pregnant', 'Glucose_concentration', 'Blood_pressure', 'Triceps',\n",
       "       'Insulin', 'BMI', 'Pedigree', 'Age', 'Class'],\n",
       "      dtype='object')"
      ]
     },
     "execution_count": 8,
     "metadata": {},
     "output_type": "execute_result"
    }
   ],
   "source": [
    "diabetes.columns"
   ]
  },
  {
   "cell_type": "code",
   "execution_count": 9,
   "metadata": {
    "collapsed": true
   },
   "outputs": [],
   "source": [
    "import tensorflow as tf"
   ]
  },
  {
   "cell_type": "code",
   "execution_count": 10,
   "metadata": {
    "collapsed": true
   },
   "outputs": [],
   "source": [
    "num_preg=tf.feature_column.numeric_column('Number_pregnant')\n",
    "plasma_gluc = tf.feature_column.numeric_column('Glucose_concentration')\n",
    "dias_press = tf.feature_column.numeric_column('Blood_pressure')\n",
    "tricep = tf.feature_column.numeric_column('Triceps')\n",
    "insulin = tf.feature_column.numeric_column('Insulin')\n",
    "bmi = tf.feature_column.numeric_column('BMI')\n",
    "diabetes_pedigree = tf.feature_column.numeric_column('Pedigree')\n",
    "age = tf.feature_column.numeric_column('Age')"
   ]
  },
  {
   "cell_type": "code",
   "execution_count": 11,
   "metadata": {
    "collapsed": true
   },
   "outputs": [],
   "source": [
    "import matplotlib.pyplot as plt"
   ]
  },
  {
   "cell_type": "code",
   "execution_count": 12,
   "metadata": {
    "collapsed": true
   },
   "outputs": [],
   "source": [
    "%matplotlib inline"
   ]
  },
  {
   "cell_type": "code",
   "execution_count": 13,
   "metadata": {},
   "outputs": [
    {
     "data": {
      "text/plain": [
       "<matplotlib.axes._subplots.AxesSubplot at 0x4a84a5b7f0>"
      ]
     },
     "execution_count": 13,
     "metadata": {},
     "output_type": "execute_result"
    },
    {
     "data": {
      "image/png": "[encoded data removed]",
      "text/plain": [
       "<matplotlib.figure.Figure at 0x4a84a52f60>"
      ]
     },
     "metadata": {},
     "output_type": "display_data"
    }
   ],
   "source": [
    "diabetes['Age'].hist(bins=20)"
   ]
  },
  {
   "cell_type": "code",
   "execution_count": 14,
   "metadata": {
    "collapsed": true
   },
   "outputs": [],
   "source": [
    "age_buckets=tf.feature_column.bucketized_column(age,boundaries=[20,30,40,50,60,70,80])"
   ]
  },
  {
   "cell_type": "code",
   "execution_count": 15,
   "metadata": {
    "collapsed": true
   },
   "outputs": [],
   "source": [
    "feat_cols=[num_preg ,plasma_gluc,dias_press ,tricep ,insulin,bmi,diabetes_pedigree ,age_buckets]"
   ]
  },
  {
   "cell_type": "code",
   "execution_count": 16,
   "metadata": {},
   "outputs": [
    {
     "data": {
      "text/html": [
       "<div>\n",
       "<style>\n",
       "    .dataframe thead tr:only-child th {\n",
       "        text-align: right;\n",
       "    }\n",
       "\n",
       "    .dataframe thead th {\n",
       "        text-align: left;\n",
       "    }\n",
       "\n",
       "    .dataframe tbody tr th {\n",
       "        vertical-align: top;\n",
       "    }\n",
       "</style>\n",
       "<table border=\"1\" class=\"dataframe\">\n",
       "  <thead>\n",
       "    <tr style=\"text-align: right;\">\n",
       "      <th></th>\n",
       "      <th>Number_pregnant</th>\n",
       "      <th>Glucose_concentration</th>\n",
       "      <th>Blood_pressure</th>\n",
       "      <th>Triceps</th>\n",
       "      <th>Insulin</th>\n",
       "      <th>BMI</th>\n",
       "      <th>Pedigree</th>\n",
       "      <th>Age</th>\n",
       "      <th>Class</th>\n",
       "    </tr>\n",
       "  </thead>\n",
       "  <tbody>\n",
       "    <tr>\n",
       "      <th>0</th>\n",
       "      <td>0.352941</td>\n",
       "      <td>0.743719</td>\n",
       "      <td>0.590164</td>\n",
       "      <td>0.353535</td>\n",
       "      <td>0.000000</td>\n",
       "      <td>0.500745</td>\n",
       "      <td>0.234415</td>\n",
       "      <td>50</td>\n",
       "      <td>1</td>\n",
       "    </tr>\n",
       "    <tr>\n",
       "      <th>1</th>\n",
       "      <td>0.058824</td>\n",
       "      <td>0.427136</td>\n",
       "      <td>0.540984</td>\n",
       "      <td>0.292929</td>\n",
       "      <td>0.000000</td>\n",
       "      <td>0.396423</td>\n",
       "      <td>0.116567</td>\n",
       "      <td>31</td>\n",
       "      <td>0</td>\n",
       "    </tr>\n",
       "    <tr>\n",
       "      <th>2</th>\n",
       "      <td>0.470588</td>\n",
       "      <td>0.919598</td>\n",
       "      <td>0.524590</td>\n",
       "      <td>0.000000</td>\n",
       "      <td>0.000000</td>\n",
       "      <td>0.347243</td>\n",
       "      <td>0.253629</td>\n",
       "      <td>32</td>\n",
       "      <td>1</td>\n",
       "    </tr>\n",
       "    <tr>\n",
       "      <th>3</th>\n",
       "      <td>0.058824</td>\n",
       "      <td>0.447236</td>\n",
       "      <td>0.540984</td>\n",
       "      <td>0.232323</td>\n",
       "      <td>0.111111</td>\n",
       "      <td>0.418778</td>\n",
       "      <td>0.038002</td>\n",
       "      <td>21</td>\n",
       "      <td>0</td>\n",
       "    </tr>\n",
       "    <tr>\n",
       "      <th>4</th>\n",
       "      <td>0.000000</td>\n",
       "      <td>0.688442</td>\n",
       "      <td>0.327869</td>\n",
       "      <td>0.353535</td>\n",
       "      <td>0.198582</td>\n",
       "      <td>0.642325</td>\n",
       "      <td>0.943638</td>\n",
       "      <td>33</td>\n",
       "      <td>1</td>\n",
       "    </tr>\n",
       "  </tbody>\n",
       "</table>\n",
       "</div>"
      ],
      "text/plain": [
       "   Number_pregnant  Glucose_concentration  Blood_pressure   Triceps   Insulin  \\\n",
       "0         0.352941               0.743719        0.590164  0.353535  0.000000   \n",
       "1         0.058824               0.427136        0.540984  0.292929  0.000000   \n",
       "2         0.470588               0.919598        0.524590  0.000000  0.000000   \n",
       "3         0.058824               0.447236        0.540984  0.232323  0.111111   \n",
       "4         0.000000               0.688442        0.327869  0.353535  0.198582   \n",
       "\n",
       "        BMI  Pedigree  Age  Class  \n",
       "0  0.500745  0.234415   50      1  \n",
       "1  0.396423  0.116567   31      0  \n",
       "2  0.347243  0.253629   32      1  \n",
       "3  0.418778  0.038002   21      0  \n",
       "4  0.642325  0.943638   33      1  "
      ]
     },
     "execution_count": 16,
     "metadata": {},
     "output_type": "execute_result"
    }
   ],
   "source": [
    "diabetes.head()"
   ]
  },
  {
   "cell_type": "code",
   "execution_count": 17,
   "metadata": {},
   "outputs": [
    {
     "name": "stdout",
     "output_type": "stream",
     "text": [
      "<class 'pandas.core.frame.DataFrame'>\n",
      "RangeIndex: 768 entries, 0 to 767\n",
      "Data columns (total 9 columns):\n",
      "Number_pregnant          768 non-null float64\n",
      "Glucose_concentration    768 non-null float64\n",
      "Blood_pressure           768 non-null float64\n",
      "Triceps                  768 non-null float64\n",
      "Insulin                  768 non-null float64\n",
      "BMI                      768 non-null float64\n",
      "Pedigree                 768 non-null float64\n",
      "Age                      768 non-null int64\n",
      "Class                    768 non-null int64\n",
      "dtypes: float64(7), int64(2)\n",
      "memory usage: 54.1 KB\n"
     ]
    }
   ],
   "source": [
    "diabetes.info()"
   ]
  },
  {
   "cell_type": "code",
   "execution_count": 19,
   "metadata": {},
   "outputs": [],
   "source": [
    "x_data=diabetes.drop('Class',axis=1)"
   ]
  },
  {
   "cell_type": "code",
   "execution_count": 20,
   "metadata": {
    "collapsed": true
   },
   "outputs": [],
   "source": [
    "labels=diabetes['Class']"
   ]
  },
  {
   "cell_type": "code",
   "execution_count": 21,
   "metadata": {
    "collapsed": true
   },
   "outputs": [],
   "source": [
    "from sklearn.model_selection import train_test_split"
   ]
  },
  {
   "cell_type": "code",
   "execution_count": 22,
   "metadata": {
    "collapsed": true
   },
   "outputs": [],
   "source": [
    "X_train,X_test,y_train,y_test=train_test_split(x_data,labels,test_size=0.33,random_state=101)"
   ]
  },
  {
   "cell_type": "code",
   "execution_count": 23,
   "metadata": {
    "collapsed": true
   },
   "outputs": [],
   "source": [
    "input_func=tf.estimator.inputs.pandas_input_fn(x=X_train,y=y_train,batch_size=10,num_epochs=1000,shuffle=True)"
   ]
  },
  {
   "cell_type": "code",
   "execution_count": 24,
   "metadata": {},
   "outputs": [
    {
     "name": "stdout",
     "output_type": "stream",
     "text": [
      "INFO:tensorflow:Using default config.\n",
      "WARNING:tensorflow:Using temporary folder as model directory: C:\\Users\\MOHAME~1\\AppData\\Local\\Temp\\tmp0ghm_54a\n",
      "INFO:tensorflow:Using config: {'_model_dir': 'C:\\\\Users\\\\MOHAME~1\\\\AppData\\\\Local\\\\Temp\\\\tmp0ghm_54a', '_tf_random_seed': None, '_save_summary_steps': 100, '_save_checkpoints_steps': None, '_save_checkpoints_secs': 600, '_session_config': None, '_keep_checkpoint_max': 5, '_keep_checkpoint_every_n_hours': 10000, '_log_step_count_steps': 100, '_service': None, '_cluster_spec': <tensorflow.python.training.server_lib.ClusterSpec object at 0x0000004A85258198>, '_task_type': 'worker', '_task_id': 0, '_master': '', '_is_chief': True, '_num_ps_replicas': 0, '_num_worker_replicas': 1}\n"
     ]
    }
   ],
   "source": [
    "model=tf.estimator.LinearClassifier(feature_columns=feat_cols,n_classes=2)"
   ]
  },
  {
   "cell_type": "code",
   "execution_count": 25,
   "metadata": {},
   "outputs": [
    {
     "name": "stdout",
     "output_type": "stream",
     "text": [
      "INFO:tensorflow:Create CheckpointSaverHook.\n",
      "INFO:tensorflow:Saving checkpoints for 1 into C:\\Users\\MOHAME~1\\AppData\\Local\\Temp\\tmp0ghm_54a\\model.ckpt.\n",
      "INFO:tensorflow:loss = 6.93147, step = 1\n",
      "INFO:tensorflow:global_step/sec: 149.154\n",
      "INFO:tensorflow:loss = 5.11463, step = 101 (0.673 sec)\n",
      "INFO:tensorflow:global_step/sec: 256.238\n",
      "INFO:tensorflow:loss = 5.53676, step = 201 (0.389 sec)\n",
      "INFO:tensorflow:global_step/sec: 305.607\n",
      "INFO:tensorflow:loss = 6.53786, step = 301 (0.327 sec)\n",
      "INFO:tensorflow:global_step/sec: 335.346\n",
      "INFO:tensorflow:loss = 5.84105, step = 401 (0.298 sec)\n",
      "INFO:tensorflow:global_step/sec: 287.164\n",
      "INFO:tensorflow:loss = 5.2532, step = 501 (0.348 sec)\n",
      "INFO:tensorflow:global_step/sec: 320.298\n",
      "INFO:tensorflow:loss = 6.17076, step = 601 (0.311 sec)\n",
      "INFO:tensorflow:global_step/sec: 304.674\n",
      "INFO:tensorflow:loss = 3.59659, step = 701 (0.329 sec)\n",
      "INFO:tensorflow:global_step/sec: 342.236\n",
      "INFO:tensorflow:loss = 4.19241, step = 801 (0.292 sec)\n",
      "INFO:tensorflow:global_step/sec: 346.991\n",
      "INFO:tensorflow:loss = 6.41917, step = 901 (0.287 sec)\n",
      "INFO:tensorflow:Saving checkpoints for 1000 into C:\\Users\\MOHAME~1\\AppData\\Local\\Temp\\tmp0ghm_54a\\model.ckpt.\n",
      "INFO:tensorflow:Loss for final step: 3.86432.\n"
     ]
    },
    {
     "data": {
      "text/plain": [
       "<tensorflow.python.estimator.canned.linear.LinearClassifier at 0x4a852419b0>"
      ]
     },
     "execution_count": 25,
     "metadata": {},
     "output_type": "execute_result"
    }
   ],
   "source": [
    "model.train(input_fn=input_func,steps=1000)"
   ]
  },
  {
   "cell_type": "code",
   "execution_count": 26,
   "metadata": {
    "collapsed": true
   },
   "outputs": [],
   "source": [
    "eval_input_func=tf.estimator.inputs.pandas_input_fn(x=X_test,y=y_test,batch_size=10,num_epochs=1,shuffle=False)"
   ]
  },
  {
   "cell_type": "code",
   "execution_count": 27,
   "metadata": {},
   "outputs": [
    {
     "name": "stdout",
     "output_type": "stream",
     "text": [
      "WARNING:tensorflow:Casting <dtype: 'float32'> labels to bool.\n",
      "WARNING:tensorflow:Casting <dtype: 'float32'> labels to bool.\n",
      "INFO:tensorflow:Starting evaluation at 2018-01-31-17:55:45\n",
      "INFO:tensorflow:Restoring parameters from C:\\Users\\MOHAME~1\\AppData\\Local\\Temp\\tmp0ghm_54a\\model.ckpt-1000\n",
      "INFO:tensorflow:Finished evaluation at 2018-01-31-17:55:47\n",
      "INFO:tensorflow:Saving dict for global step 1000: accuracy = 0.716535, accuracy_baseline = 0.65748, auc = 0.786599, auc_precision_recall = 0.628099, average_loss = 0.533769, global_step = 1000, label/mean = 0.34252, loss = 5.21451, prediction/mean = 0.384654\n"
     ]
    }
   ],
   "source": [
    "results=model.evaluate(eval_input_func)"
   ]
  },
  {
   "cell_type": "code",
   "execution_count": 28,
   "metadata": {},
   "outputs": [
    {
     "data": {
      "text/plain": [
       "{'accuracy': 0.71653545,\n",
       " 'accuracy_baseline': 0.65748036,\n",
       " 'auc': 0.78659928,\n",
       " 'auc_precision_recall': 0.62809873,\n",
       " 'average_loss': 0.53376889,\n",
       " 'global_step': 1000,\n",
       " 'label/mean': 0.34251967,\n",
       " 'loss': 5.2145114,\n",
       " 'prediction/mean': 0.38465381}"
      ]
     },
     "execution_count": 28,
     "metadata": {},
     "output_type": "execute_result"
    }
   ],
   "source": [
    "results"
   ]
  },
  {
   "cell_type": "code",
   "execution_count": 29,
   "metadata": {
    "collapsed": true
   },
   "outputs": [],
   "source": [
    "pred_input_func=tf.estimator.inputs.pandas_input_fn(x=X_test,batch_size=10,num_epochs=1,shuffle=False)"
   ]
  },
  {
   "cell_type": "code",
   "execution_count": 30,
   "metadata": {
    "collapsed": true
   },
   "outputs": [],
   "source": [
    "predictions=model.predict(pred_input_func)"
   ]
  },
  {
   "cell_type": "code",
   "execution_count": 31,
   "metadata": {},
   "outputs": [
    {
     "name": "stdout",
     "output_type": "stream",
     "text": [
      "INFO:tensorflow:Restoring parameters from C:\\Users\\MOHAME~1\\AppData\\Local\\Temp\\tmp0ghm_54a\\model.ckpt-1000\n"
     ]
    },
    {
     "data": {
      "text/plain": [
       "[{'class_ids': array([1], dtype=int64),\n",
       "  'classes': array([b'1'], dtype=object),\n",
       "  'logistic': array([ 0.51941013], dtype=float32),\n",
       "  'logits': array([ 0.07767963], dtype=float32),\n",
       "  'probabilities': array([ 0.48058984,  0.51941013], dtype=float32)},\n",
       " {'class_ids': array([1], dtype=int64),\n",
       "  'classes': array([b'1'], dtype=object),\n",
       "  'logistic': array([ 0.65539032], dtype=float32),\n",
       "  'logits': array([ 0.64281845], dtype=float32),\n",
       "  'probabilities': array([ 0.34460974,  0.65539032], dtype=float32)},\n",
       " {'class_ids': array([0], dtype=int64),\n",
       "  'classes': array([b'0'], dtype=object),\n",
       "  'logistic': array([ 0.40255147], dtype=float32),\n",
       "  'logits': array([-0.39484519], dtype=float32),\n",
       "  'probabilities': array([ 0.59744853,  0.40255147], dtype=float32)},\n",
       " {'class_ids': array([0], dtype=int64),\n",
       "  'classes': array([b'0'], dtype=object),\n",
       "  'logistic': array([ 0.31719115], dtype=float32),\n",
       "  'logits': array([-0.76671028], dtype=float32),\n",
       "  'probabilities': array([ 0.68280882,  0.31719115], dtype=float32)},\n",
       " {'class_ids': array([0], dtype=int64),\n",
       "  'classes': array([b'0'], dtype=object),\n",
       "  'logistic': array([ 0.13991749], dtype=float32),\n",
       "  'logits': array([-1.81597543], dtype=float32),\n",
       "  'probabilities': array([ 0.86008245,  0.13991748], dtype=float32)},\n",
       " {'class_ids': array([1], dtype=int64),\n",
       "  'classes': array([b'1'], dtype=object),\n",
       "  'logistic': array([ 0.71178508], dtype=float32),\n",
       "  'logits': array([ 0.90406966], dtype=float32),\n",
       "  'probabilities': array([ 0.28821489,  0.71178508], dtype=float32)},\n",
       " {'class_ids': array([1], dtype=int64),\n",
       "  'classes': array([b'1'], dtype=object),\n",
       "  'logistic': array([ 0.6264863], dtype=float32),\n",
       "  'logits': array([ 0.51717222], dtype=float32),\n",
       "  'probabilities': array([ 0.3735137,  0.6264863], dtype=float32)},\n",
       " {'class_ids': array([0], dtype=int64),\n",
       "  'classes': array([b'0'], dtype=object),\n",
       "  'logistic': array([ 0.35129845], dtype=float32),\n",
       "  'logits': array([-0.61333656], dtype=float32),\n",
       "  'probabilities': array([ 0.64870155,  0.35129848], dtype=float32)},\n",
       " {'class_ids': array([0], dtype=int64),\n",
       "  'classes': array([b'0'], dtype=object),\n",
       "  'logistic': array([ 0.24167216], dtype=float32),\n",
       "  'logits': array([-1.14353371], dtype=float32),\n",
       "  'probabilities': array([ 0.75832784,  0.24167216], dtype=float32)},\n",
       " {'class_ids': array([0], dtype=int64),\n",
       "  'classes': array([b'0'], dtype=object),\n",
       "  'logistic': array([ 0.24592678], dtype=float32),\n",
       "  'logits': array([-1.1204555], dtype=float32),\n",
       "  'probabilities': array([ 0.7540732 ,  0.24592681], dtype=float32)},\n",
       " {'class_ids': array([0], dtype=int64),\n",
       "  'classes': array([b'0'], dtype=object),\n",
       "  'logistic': array([ 0.15115753], dtype=float32),\n",
       "  'logits': array([-1.72555113], dtype=float32),\n",
       "  'probabilities': array([ 0.8488425 ,  0.15115753], dtype=float32)},\n",
       " {'class_ids': array([0], dtype=int64),\n",
       "  'classes': array([b'0'], dtype=object),\n",
       "  'logistic': array([ 0.15243952], dtype=float32),\n",
       "  'logits': array([-1.71559429], dtype=float32),\n",
       "  'probabilities': array([ 0.84756052,  0.15243953], dtype=float32)},\n",
       " {'class_ids': array([0], dtype=int64),\n",
       "  'classes': array([b'0'], dtype=object),\n",
       "  'logistic': array([ 0.32343721], dtype=float32),\n",
       "  'logits': array([-0.7380203], dtype=float32),\n",
       "  'probabilities': array([ 0.67656279,  0.32343718], dtype=float32)},\n",
       " {'class_ids': array([1], dtype=int64),\n",
       "  'classes': array([b'1'], dtype=object),\n",
       "  'logistic': array([ 0.57190984], dtype=float32),\n",
       "  'logits': array([ 0.28964746], dtype=float32),\n",
       "  'probabilities': array([ 0.42809018,  0.57190984], dtype=float32)},\n",
       " {'class_ids': array([0], dtype=int64),\n",
       "  'classes': array([b'0'], dtype=object),\n",
       "  'logistic': array([ 0.19766703], dtype=float32),\n",
       "  'logits': array([-1.4009397], dtype=float32),\n",
       "  'probabilities': array([ 0.802333  ,  0.19766705], dtype=float32)},\n",
       " {'class_ids': array([0], dtype=int64),\n",
       "  'classes': array([b'0'], dtype=object),\n",
       "  'logistic': array([ 0.36323828], dtype=float32),\n",
       "  'logits': array([-0.56133652], dtype=float32),\n",
       "  'probabilities': array([ 0.63676172,  0.36323828], dtype=float32)},\n",
       " {'class_ids': array([0], dtype=int64),\n",
       "  'classes': array([b'0'], dtype=object),\n",
       "  'logistic': array([ 0.39600602], dtype=float32),\n",
       "  'logits': array([-0.42213476], dtype=float32),\n",
       "  'probabilities': array([ 0.60399401,  0.39600605], dtype=float32)},\n",
       " {'class_ids': array([0], dtype=int64),\n",
       "  'classes': array([b'0'], dtype=object),\n",
       "  'logistic': array([ 0.14843147], dtype=float32),\n",
       "  'logits': array([-1.74695671], dtype=float32),\n",
       "  'probabilities': array([ 0.85156858,  0.14843147], dtype=float32)},\n",
       " {'class_ids': array([0], dtype=int64),\n",
       "  'classes': array([b'0'], dtype=object),\n",
       "  'logistic': array([ 0.39748818], dtype=float32),\n",
       "  'logits': array([-0.41594213], dtype=float32),\n",
       "  'probabilities': array([ 0.60251182,  0.39748818], dtype=float32)},\n",
       " {'class_ids': array([0], dtype=int64),\n",
       "  'classes': array([b'0'], dtype=object),\n",
       "  'logistic': array([ 0.14140788], dtype=float32),\n",
       "  'logits': array([-1.80364549], dtype=float32),\n",
       "  'probabilities': array([ 0.85859209,  0.14140788], dtype=float32)},\n",
       " {'class_ids': array([0], dtype=int64),\n",
       "  'classes': array([b'0'], dtype=object),\n",
       "  'logistic': array([ 0.22368781], dtype=float32),\n",
       "  'logits': array([-1.24430335], dtype=float32),\n",
       "  'probabilities': array([ 0.77631217,  0.22368781], dtype=float32)},\n",
       " {'class_ids': array([0], dtype=int64),\n",
       "  'classes': array([b'0'], dtype=object),\n",
       "  'logistic': array([ 0.30685252], dtype=float32),\n",
       "  'logits': array([-0.81487548], dtype=float32),\n",
       "  'probabilities': array([ 0.69314748,  0.30685255], dtype=float32)},\n",
       " {'class_ids': array([1], dtype=int64),\n",
       "  'classes': array([b'1'], dtype=object),\n",
       "  'logistic': array([ 0.65425831], dtype=float32),\n",
       "  'logits': array([ 0.63781011], dtype=float32),\n",
       "  'probabilities': array([ 0.34574175,  0.65425831], dtype=float32)},\n",
       " {'class_ids': array([0], dtype=int64),\n",
       "  'classes': array([b'0'], dtype=object),\n",
       "  'logistic': array([ 0.20811959], dtype=float32),\n",
       "  'logits': array([-1.33629751], dtype=float32),\n",
       "  'probabilities': array([ 0.79188043,  0.20811959], dtype=float32)},\n",
       " {'class_ids': array([0], dtype=int64),\n",
       "  'classes': array([b'0'], dtype=object),\n",
       "  'logistic': array([ 0.20077462], dtype=float32),\n",
       "  'logits': array([-1.38145995], dtype=float32),\n",
       "  'probabilities': array([ 0.79922539,  0.20077462], dtype=float32)},\n",
       " {'class_ids': array([1], dtype=int64),\n",
       "  'classes': array([b'1'], dtype=object),\n",
       "  'logistic': array([ 0.79062343], dtype=float32),\n",
       "  'logits': array([ 1.32868767], dtype=float32),\n",
       "  'probabilities': array([ 0.20937651,  0.79062343], dtype=float32)},\n",
       " {'class_ids': array([0], dtype=int64),\n",
       "  'classes': array([b'0'], dtype=object),\n",
       "  'logistic': array([ 0.18922281], dtype=float32),\n",
       "  'logits': array([-1.45506811], dtype=float32),\n",
       "  'probabilities': array([ 0.81077719,  0.1892228 ], dtype=float32)},\n",
       " {'class_ids': array([0], dtype=int64),\n",
       "  'classes': array([b'0'], dtype=object),\n",
       "  'logistic': array([ 0.34367704], dtype=float32),\n",
       "  'logits': array([-0.6469506], dtype=float32),\n",
       "  'probabilities': array([ 0.65632296,  0.34367704], dtype=float32)},\n",
       " {'class_ids': array([0], dtype=int64),\n",
       "  'classes': array([b'0'], dtype=object),\n",
       "  'logistic': array([ 0.12109901], dtype=float32),\n",
       "  'logits': array([-1.98206377], dtype=float32),\n",
       "  'probabilities': array([ 0.878901  ,  0.12109901], dtype=float32)},\n",
       " {'class_ids': array([1], dtype=int64),\n",
       "  'classes': array([b'1'], dtype=object),\n",
       "  'logistic': array([ 0.58827895], dtype=float32),\n",
       "  'logits': array([ 0.35685515], dtype=float32),\n",
       "  'probabilities': array([ 0.41172105,  0.58827895], dtype=float32)},\n",
       " {'class_ids': array([1], dtype=int64),\n",
       "  'classes': array([b'1'], dtype=object),\n",
       "  'logistic': array([ 0.93667012], dtype=float32),\n",
       "  'logits': array([ 2.69397473], dtype=float32),\n",
       "  'probabilities': array([ 0.06332982,  0.93667012], dtype=float32)},\n",
       " {'class_ids': array([0], dtype=int64),\n",
       "  'classes': array([b'0'], dtype=object),\n",
       "  'logistic': array([ 0.40329438], dtype=float32),\n",
       "  'logits': array([-0.39175713], dtype=float32),\n",
       "  'probabilities': array([ 0.59670562,  0.40329438], dtype=float32)},\n",
       " {'class_ids': array([0], dtype=int64),\n",
       "  'classes': array([b'0'], dtype=object),\n",
       "  'logistic': array([ 0.31073046], dtype=float32),\n",
       "  'logits': array([-0.79670656], dtype=float32),\n",
       "  'probabilities': array([ 0.68926954,  0.31073046], dtype=float32)},\n",
       " {'class_ids': array([1], dtype=int64),\n",
       "  'classes': array([b'1'], dtype=object),\n",
       "  'logistic': array([ 0.59982306], dtype=float32),\n",
       "  'logits': array([ 0.40472794], dtype=float32),\n",
       "  'probabilities': array([ 0.40017694,  0.59982306], dtype=float32)},\n",
       " {'class_ids': array([0], dtype=int64),\n",
       "  'classes': array([b'0'], dtype=object),\n",
       "  'logistic': array([ 0.27079937], dtype=float32),\n",
       "  'logits': array([-0.99057078], dtype=float32),\n",
       "  'probabilities': array([ 0.72920066,  0.27079934], dtype=float32)},\n",
       " {'class_ids': array([0], dtype=int64),\n",
       "  'classes': array([b'0'], dtype=object),\n",
       "  'logistic': array([ 0.41152495], dtype=float32),\n",
       "  'logits': array([-0.35766488], dtype=float32),\n",
       "  'probabilities': array([ 0.58847505,  0.41152495], dtype=float32)},\n",
       " {'class_ids': array([1], dtype=int64),\n",
       "  'classes': array([b'1'], dtype=object),\n",
       "  'logistic': array([ 0.51424539], dtype=float32),\n",
       "  'logits': array([ 0.05699694], dtype=float32),\n",
       "  'probabilities': array([ 0.48575464,  0.51424539], dtype=float32)},\n",
       " {'class_ids': array([1], dtype=int64),\n",
       "  'classes': array([b'1'], dtype=object),\n",
       "  'logistic': array([ 0.66204602], dtype=float32),\n",
       "  'logits': array([ 0.67242527], dtype=float32),\n",
       "  'probabilities': array([ 0.33795401,  0.66204602], dtype=float32)},\n",
       " {'class_ids': array([1], dtype=int64),\n",
       "  'classes': array([b'1'], dtype=object),\n",
       "  'logistic': array([ 0.76634008], dtype=float32),\n",
       "  'logits': array([ 1.18775892], dtype=float32),\n",
       "  'probabilities': array([ 0.23366001,  0.76634008], dtype=float32)},\n",
       " {'class_ids': array([0], dtype=int64),\n",
       "  'classes': array([b'0'], dtype=object),\n",
       "  'logistic': array([ 0.33549857], dtype=float32),\n",
       "  'logits': array([-0.68341929], dtype=float32),\n",
       "  'probabilities': array([ 0.66450143,  0.3354986 ], dtype=float32)},\n",
       " {'class_ids': array([0], dtype=int64),\n",
       "  'classes': array([b'0'], dtype=object),\n",
       "  'logistic': array([ 0.19017527], dtype=float32),\n",
       "  'logits': array([-1.44887173], dtype=float32),\n",
       "  'probabilities': array([ 0.80982471,  0.19017525], dtype=float32)},\n",
       " {'class_ids': array([1], dtype=int64),\n",
       "  'classes': array([b'1'], dtype=object),\n",
       "  'logistic': array([ 0.57301527], dtype=float32),\n",
       "  'logits': array([ 0.29416418], dtype=float32),\n",
       "  'probabilities': array([ 0.4269847 ,  0.57301527], dtype=float32)},\n",
       " {'class_ids': array([0], dtype=int64),\n",
       "  'classes': array([b'0'], dtype=object),\n",
       "  'logistic': array([ 0.17276937], dtype=float32),\n",
       "  'logits': array([-1.56612599], dtype=float32),\n",
       "  'probabilities': array([ 0.82723057,  0.17276935], dtype=float32)},\n",
       " {'class_ids': array([1], dtype=int64),\n",
       "  'classes': array([b'1'], dtype=object),\n",
       "  'logistic': array([ 0.54183763], dtype=float32),\n",
       "  'logits': array([ 0.16774273], dtype=float32),\n",
       "  'probabilities': array([ 0.45816237,  0.54183763], dtype=float32)},\n",
       " {'class_ids': array([0], dtype=int64),\n",
       "  'classes': array([b'0'], dtype=object),\n",
       "  'logistic': array([ 0.16033185], dtype=float32),\n",
       "  'logits': array([-1.655761], dtype=float32),\n",
       "  'probabilities': array([ 0.83966815,  0.16033186], dtype=float32)},\n",
       " {'class_ids': array([0], dtype=int64),\n",
       "  'classes': array([b'0'], dtype=object),\n",
       "  'logistic': array([ 0.11946502], dtype=float32),\n",
       "  'logits': array([-1.99750614], dtype=float32),\n",
       "  'probabilities': array([ 0.88053501,  0.11946501], dtype=float32)},\n",
       " {'class_ids': array([1], dtype=int64),\n",
       "  'classes': array([b'1'], dtype=object),\n",
       "  'logistic': array([ 0.6180231], dtype=float32),\n",
       "  'logits': array([ 0.48116577], dtype=float32),\n",
       "  'probabilities': array([ 0.38197687,  0.6180231 ], dtype=float32)},\n",
       " {'class_ids': array([0], dtype=int64),\n",
       "  'classes': array([b'0'], dtype=object),\n",
       "  'logistic': array([ 0.18050636], dtype=float32),\n",
       "  'logits': array([-1.51292062], dtype=float32),\n",
       "  'probabilities': array([ 0.81949365,  0.18050636], dtype=float32)},\n",
       " {'class_ids': array([0], dtype=int64),\n",
       "  'classes': array([b'0'], dtype=object),\n",
       "  'logistic': array([ 0.22201304], dtype=float32),\n",
       "  'logits': array([-1.2539736], dtype=float32),\n",
       "  'probabilities': array([ 0.777987  ,  0.22201306], dtype=float32)},\n",
       " {'class_ids': array([0], dtype=int64),\n",
       "  'classes': array([b'0'], dtype=object),\n",
       "  'logistic': array([ 0.15034308], dtype=float32),\n",
       "  'logits': array([-1.73191285], dtype=float32),\n",
       "  'probabilities': array([ 0.84965694,  0.15034306], dtype=float32)},\n",
       " {'class_ids': array([0], dtype=int64),\n",
       "  'classes': array([b'0'], dtype=object),\n",
       "  'logistic': array([ 0.16852002], dtype=float32),\n",
       "  'logits': array([-1.59615266], dtype=float32),\n",
       "  'probabilities': array([ 0.83148003,  0.16852003], dtype=float32)},\n",
       " {'class_ids': array([0], dtype=int64),\n",
       "  'classes': array([b'0'], dtype=object),\n",
       "  'logistic': array([ 0.27652353], dtype=float32),\n",
       "  'logits': array([-0.9617722], dtype=float32),\n",
       "  'probabilities': array([ 0.72347653,  0.2765235 ], dtype=float32)},\n",
       " {'class_ids': array([0], dtype=int64),\n",
       "  'classes': array([b'0'], dtype=object),\n",
       "  'logistic': array([ 0.24945746], dtype=float32),\n",
       "  'logits': array([-1.1015079], dtype=float32),\n",
       "  'probabilities': array([ 0.75054252,  0.24945746], dtype=float32)},\n",
       " {'class_ids': array([0], dtype=int64),\n",
       "  'classes': array([b'0'], dtype=object),\n",
       "  'logistic': array([ 0.38887143], dtype=float32),\n",
       "  'logits': array([-0.45205855], dtype=float32),\n",
       "  'probabilities': array([ 0.61112857,  0.38887143], dtype=float32)},\n",
       " {'class_ids': array([0], dtype=int64),\n",
       "  'classes': array([b'0'], dtype=object),\n",
       "  'logistic': array([ 0.14547072], dtype=float32),\n",
       "  'logits': array([-1.77057588], dtype=float32),\n",
       "  'probabilities': array([ 0.85452926,  0.14547072], dtype=float32)},\n",
       " {'class_ids': array([0], dtype=int64),\n",
       "  'classes': array([b'0'], dtype=object),\n",
       "  'logistic': array([ 0.21585961], dtype=float32),\n",
       "  'logits': array([-1.28995991], dtype=float32),\n",
       "  'probabilities': array([ 0.78414041,  0.21585959], dtype=float32)},\n",
       " {'class_ids': array([0], dtype=int64),\n",
       "  'classes': array([b'0'], dtype=object),\n",
       "  'logistic': array([ 0.20263943], dtype=float32),\n",
       "  'logits': array([-1.36987877], dtype=float32),\n",
       "  'probabilities': array([ 0.7973606 ,  0.20263943], dtype=float32)},\n",
       " {'class_ids': array([0], dtype=int64),\n",
       "  'classes': array([b'0'], dtype=object),\n",
       "  'logistic': array([ 0.22428446], dtype=float32),\n",
       "  'logits': array([-1.24087083], dtype=float32),\n",
       "  'probabilities': array([ 0.77571553,  0.22428444], dtype=float32)},\n",
       " {'class_ids': array([1], dtype=int64),\n",
       "  'classes': array([b'1'], dtype=object),\n",
       "  'logistic': array([ 0.51189387], dtype=float32),\n",
       "  'logits': array([ 0.04758465], dtype=float32),\n",
       "  'probabilities': array([ 0.48810604,  0.51189387], dtype=float32)},\n",
       " {'class_ids': array([0], dtype=int64),\n",
       "  'classes': array([b'0'], dtype=object),\n",
       "  'logistic': array([ 0.1580158], dtype=float32),\n",
       "  'logits': array([-1.67306626], dtype=float32),\n",
       "  'probabilities': array([ 0.84198421,  0.1580158 ], dtype=float32)},\n",
       " {'class_ids': array([0], dtype=int64),\n",
       "  'classes': array([b'0'], dtype=object),\n",
       "  'logistic': array([ 0.23735839], dtype=float32),\n",
       "  'logits': array([-1.16721702], dtype=float32),\n",
       "  'probabilities': array([ 0.76264161,  0.23735838], dtype=float32)},\n",
       " {'class_ids': array([1], dtype=int64),\n",
       "  'classes': array([b'1'], dtype=object),\n",
       "  'logistic': array([ 0.64033866], dtype=float32),\n",
       "  'logits': array([ 0.5768342], dtype=float32),\n",
       "  'probabilities': array([ 0.35966137,  0.64033866], dtype=float32)},\n",
       " {'class_ids': array([1], dtype=int64),\n",
       "  'classes': array([b'1'], dtype=object),\n",
       "  'logistic': array([ 0.64512646], dtype=float32),\n",
       "  'logits': array([ 0.5976851], dtype=float32),\n",
       "  'probabilities': array([ 0.35487348,  0.64512646], dtype=float32)},\n",
       " {'class_ids': array([1], dtype=int64),\n",
       "  'classes': array([b'1'], dtype=object),\n",
       "  'logistic': array([ 0.53151757], dtype=float32),\n",
       "  'logits': array([ 0.12623763], dtype=float32),\n",
       "  'probabilities': array([ 0.46848243,  0.53151757], dtype=float32)},\n",
       " {'class_ids': array([0], dtype=int64),\n",
       "  'classes': array([b'0'], dtype=object),\n",
       "  'logistic': array([ 0.35277054], dtype=float32),\n",
       "  'logits': array([-0.60688305], dtype=float32),\n",
       "  'probabilities': array([ 0.64722949,  0.35277057], dtype=float32)},\n",
       " {'class_ids': array([1], dtype=int64),\n",
       "  'classes': array([b'1'], dtype=object),\n",
       "  'logistic': array([ 0.5154717], dtype=float32),\n",
       "  'logits': array([ 0.0619067], dtype=float32),\n",
       "  'probabilities': array([ 0.48452824,  0.5154717 ], dtype=float32)},\n",
       " {'class_ids': array([0], dtype=int64),\n",
       "  'classes': array([b'0'], dtype=object),\n",
       "  'logistic': array([ 0.19907251], dtype=float32),\n",
       "  'logits': array([-1.39210129], dtype=float32),\n",
       "  'probabilities': array([ 0.80092752,  0.19907251], dtype=float32)},\n",
       " {'class_ids': array([0], dtype=int64),\n",
       "  'classes': array([b'0'], dtype=object),\n",
       "  'logistic': array([ 0.21702868], dtype=float32),\n",
       "  'logits': array([-1.28306663], dtype=float32),\n",
       "  'probabilities': array([ 0.78297138,  0.21702869], dtype=float32)},\n",
       " {'class_ids': array([0], dtype=int64),\n",
       "  'classes': array([b'0'], dtype=object),\n",
       "  'logistic': array([ 0.16348766], dtype=float32),\n",
       "  'logits': array([-1.63250375], dtype=float32),\n",
       "  'probabilities': array([ 0.83651239,  0.16348767], dtype=float32)},\n",
       " {'class_ids': array([0], dtype=int64),\n",
       "  'classes': array([b'0'], dtype=object),\n",
       "  'logistic': array([ 0.14431888], dtype=float32),\n",
       "  'logits': array([-1.77987254], dtype=float32),\n",
       "  'probabilities': array([ 0.85568112,  0.14431888], dtype=float32)},\n",
       " {'class_ids': array([1], dtype=int64),\n",
       "  'classes': array([b'1'], dtype=object),\n",
       "  'logistic': array([ 0.6401599], dtype=float32),\n",
       "  'logits': array([ 0.57605839], dtype=float32),\n",
       "  'probabilities': array([ 0.35984007,  0.6401599 ], dtype=float32)},\n",
       " {'class_ids': array([0], dtype=int64),\n",
       "  'classes': array([b'0'], dtype=object),\n",
       "  'logistic': array([ 0.26052111], dtype=float32),\n",
       "  'logits': array([-1.04326177], dtype=float32),\n",
       "  'probabilities': array([ 0.73947883,  0.26052111], dtype=float32)},\n",
       " {'class_ids': array([0], dtype=int64),\n",
       "  'classes': array([b'0'], dtype=object),\n",
       "  'logistic': array([ 0.43455118], dtype=float32),\n",
       "  'logits': array([-0.26330614], dtype=float32),\n",
       "  'probabilities': array([ 0.56544888,  0.43455118], dtype=float32)},\n",
       " {'class_ids': array([1], dtype=int64),\n",
       "  'classes': array([b'1'], dtype=object),\n",
       "  'logistic': array([ 0.56854373], dtype=float32),\n",
       "  'logits': array([ 0.27591205], dtype=float32),\n",
       "  'probabilities': array([ 0.43145627,  0.56854373], dtype=float32)},\n",
       " {'class_ids': array([0], dtype=int64),\n",
       "  'classes': array([b'0'], dtype=object),\n",
       "  'logistic': array([ 0.32243446], dtype=float32),\n",
       "  'logits': array([-0.7426064], dtype=float32),\n",
       "  'probabilities': array([ 0.67756552,  0.32243446], dtype=float32)},\n",
       " {'class_ids': array([1], dtype=int64),\n",
       "  'classes': array([b'1'], dtype=object),\n",
       "  'logistic': array([ 0.65295905], dtype=float32),\n",
       "  'logits': array([ 0.6320715], dtype=float32),\n",
       "  'probabilities': array([ 0.34704098,  0.65295905], dtype=float32)},\n",
       " {'class_ids': array([0], dtype=int64),\n",
       "  'classes': array([b'0'], dtype=object),\n",
       "  'logistic': array([ 0.12723258], dtype=float32),\n",
       "  'logits': array([-1.92565238], dtype=float32),\n",
       "  'probabilities': array([ 0.87276745,  0.12723258], dtype=float32)},\n",
       " {'class_ids': array([1], dtype=int64),\n",
       "  'classes': array([b'1'], dtype=object),\n",
       "  'logistic': array([ 0.64026791], dtype=float32),\n",
       "  'logits': array([ 0.576527], dtype=float32),\n",
       "  'probabilities': array([ 0.35973212,  0.64026791], dtype=float32)},\n",
       " {'class_ids': array([0], dtype=int64),\n",
       "  'classes': array([b'0'], dtype=object),\n",
       "  'logistic': array([ 0.14253718], dtype=float32),\n",
       "  'logits': array([-1.79437494], dtype=float32),\n",
       "  'probabilities': array([ 0.85746276,  0.14253718], dtype=float32)},\n",
       " {'class_ids': array([1], dtype=int64),\n",
       "  'classes': array([b'1'], dtype=object),\n",
       "  'logistic': array([ 0.59611177], dtype=float32),\n",
       "  'logits': array([ 0.38929009], dtype=float32),\n",
       "  'probabilities': array([ 0.4038882 ,  0.59611177], dtype=float32)},\n",
       " {'class_ids': array([0], dtype=int64),\n",
       "  'classes': array([b'0'], dtype=object),\n",
       "  'logistic': array([ 0.36147752], dtype=float32),\n",
       "  'logits': array([-0.56895703], dtype=float32),\n",
       "  'probabilities': array([ 0.63852245,  0.36147749], dtype=float32)},\n",
       " {'class_ids': array([0], dtype=int64),\n",
       "  'classes': array([b'0'], dtype=object),\n",
       "  'logistic': array([ 0.18451184], dtype=float32),\n",
       "  'logits': array([-1.48607326], dtype=float32),\n",
       "  'probabilities': array([ 0.81548816,  0.18451184], dtype=float32)},\n",
       " {'class_ids': array([1], dtype=int64),\n",
       "  'classes': array([b'1'], dtype=object),\n",
       "  'logistic': array([ 0.57456636], dtype=float32),\n",
       "  'logits': array([ 0.30050659], dtype=float32),\n",
       "  'probabilities': array([ 0.42543364,  0.57456636], dtype=float32)},\n",
       " {'class_ids': array([1], dtype=int64),\n",
       "  'classes': array([b'1'], dtype=object),\n",
       "  'logistic': array([ 0.58204108], dtype=float32),\n",
       "  'logits': array([ 0.33115804], dtype=float32),\n",
       "  'probabilities': array([ 0.41795886,  0.58204108], dtype=float32)},\n",
       " {'class_ids': array([1], dtype=int64),\n",
       "  'classes': array([b'1'], dtype=object),\n",
       "  'logistic': array([ 0.58159047], dtype=float32),\n",
       "  'logits': array([ 0.32930589], dtype=float32),\n",
       "  'probabilities': array([ 0.41840953,  0.58159047], dtype=float32)},\n",
       " {'class_ids': array([0], dtype=int64),\n",
       "  'classes': array([b'0'], dtype=object),\n",
       "  'logistic': array([ 0.17951821], dtype=float32),\n",
       "  'logits': array([-1.51961505], dtype=float32),\n",
       "  'probabilities': array([ 0.82048178,  0.17951822], dtype=float32)},\n",
       " {'class_ids': array([0], dtype=int64),\n",
       "  'classes': array([b'0'], dtype=object),\n",
       "  'logistic': array([ 0.41259697], dtype=float32),\n",
       "  'logits': array([-0.35323983], dtype=float32),\n",
       "  'probabilities': array([ 0.587403  ,  0.41259697], dtype=float32)},\n",
       " {'class_ids': array([0], dtype=int64),\n",
       "  'classes': array([b'0'], dtype=object),\n",
       "  'logistic': array([ 0.16678472], dtype=float32),\n",
       "  'logits': array([-1.60858822], dtype=float32),\n",
       "  'probabilities': array([ 0.8332153 ,  0.16678472], dtype=float32)},\n",
       " {'class_ids': array([1], dtype=int64),\n",
       "  'classes': array([b'1'], dtype=object),\n",
       "  'logistic': array([ 0.72164434], dtype=float32),\n",
       "  'logits': array([ 0.95263267], dtype=float32),\n",
       "  'probabilities': array([ 0.27835569,  0.72164434], dtype=float32)},\n",
       " {'class_ids': array([1], dtype=int64),\n",
       "  'classes': array([b'1'], dtype=object),\n",
       "  'logistic': array([ 0.84096491], dtype=float32),\n",
       "  'logits': array([ 1.66542506], dtype=float32),\n",
       "  'probabilities': array([ 0.15903509,  0.84096491], dtype=float32)},\n",
       " {'class_ids': array([1], dtype=int64),\n",
       "  'classes': array([b'1'], dtype=object),\n",
       "  'logistic': array([ 0.59968394], dtype=float32),\n",
       "  'logits': array([ 0.40414846], dtype=float32),\n",
       "  'probabilities': array([ 0.40031603,  0.59968394], dtype=float32)},\n",
       " {'class_ids': array([0], dtype=int64),\n",
       "  'classes': array([b'0'], dtype=object),\n",
       "  'logistic': array([ 0.20837644], dtype=float32),\n",
       "  'logits': array([-1.33473969], dtype=float32),\n",
       "  'probabilities': array([ 0.79162353,  0.20837644], dtype=float32)},\n",
       " {'class_ids': array([1], dtype=int64),\n",
       "  'classes': array([b'1'], dtype=object),\n",
       "  'logistic': array([ 0.50654471], dtype=float32),\n",
       "  'logits': array([ 0.02618027], dtype=float32),\n",
       "  'probabilities': array([ 0.49345532,  0.50654471], dtype=float32)},\n",
       " {'class_ids': array([0], dtype=int64),\n",
       "  'classes': array([b'0'], dtype=object),\n",
       "  'logistic': array([ 0.38043997], dtype=float32),\n",
       "  'logits': array([-0.48768115], dtype=float32),\n",
       "  'probabilities': array([ 0.61956   ,  0.38043997], dtype=float32)},\n",
       " {'class_ids': array([0], dtype=int64),\n",
       "  'classes': array([b'0'], dtype=object),\n",
       "  'logistic': array([ 0.47546315], dtype=float32),\n",
       "  'logits': array([-0.09822619], dtype=float32),\n",
       "  'probabilities': array([ 0.52453685,  0.47546318], dtype=float32)},\n",
       " {'class_ids': array([0], dtype=int64),\n",
       "  'classes': array([b'0'], dtype=object),\n",
       "  'logistic': array([ 0.38584059], dtype=float32),\n",
       "  'logits': array([-0.46483028], dtype=float32),\n",
       "  'probabilities': array([ 0.61415941,  0.38584056], dtype=float32)},\n",
       " {'class_ids': array([0], dtype=int64),\n",
       "  'classes': array([b'0'], dtype=object),\n",
       "  'logistic': array([ 0.4533065], dtype=float32),\n",
       "  'logits': array([-0.18731987], dtype=float32),\n",
       "  'probabilities': array([ 0.5466935 ,  0.45330647], dtype=float32)},\n",
       " {'class_ids': array([0], dtype=int64),\n",
       "  'classes': array([b'0'], dtype=object),\n",
       "  'logistic': array([ 0.17652532], dtype=float32),\n",
       "  'logits': array([-1.54006839], dtype=float32),\n",
       "  'probabilities': array([ 0.82347465,  0.17652532], dtype=float32)},\n",
       " {'class_ids': array([1], dtype=int64),\n",
       "  'classes': array([b'1'], dtype=object),\n",
       "  'logistic': array([ 0.57862067], dtype=float32),\n",
       "  'logits': array([ 0.31711364], dtype=float32),\n",
       "  'probabilities': array([ 0.42137936,  0.57862067], dtype=float32)},\n",
       " {'class_ids': array([1], dtype=int64),\n",
       "  'classes': array([b'1'], dtype=object),\n",
       "  'logistic': array([ 0.56269777], dtype=float32),\n",
       "  'logits': array([ 0.25211799], dtype=float32),\n",
       "  'probabilities': array([ 0.43730226,  0.56269777], dtype=float32)},\n",
       " {'class_ids': array([0], dtype=int64),\n",
       "  'classes': array([b'0'], dtype=object),\n",
       "  'logistic': array([ 0.23127972], dtype=float32),\n",
       "  'logits': array([-1.20109928], dtype=float32),\n",
       "  'probabilities': array([ 0.76872033,  0.23127973], dtype=float32)},\n",
       " {'class_ids': array([0], dtype=int64),\n",
       "  'classes': array([b'0'], dtype=object),\n",
       "  'logistic': array([ 0.19379133], dtype=float32),\n",
       "  'logits': array([-1.42556071], dtype=float32),\n",
       "  'probabilities': array([ 0.80620873,  0.19379133], dtype=float32)},\n",
       " {'class_ids': array([0], dtype=int64),\n",
       "  'classes': array([b'0'], dtype=object),\n",
       "  'logistic': array([ 0.18175146], dtype=float32),\n",
       "  'logits': array([-1.5045259], dtype=float32),\n",
       "  'probabilities': array([ 0.81824857,  0.18175149], dtype=float32)},\n",
       " {'class_ids': array([0], dtype=int64),\n",
       "  'classes': array([b'0'], dtype=object),\n",
       "  'logistic': array([ 0.26551878], dtype=float32),\n",
       "  'logits': array([-1.01747882], dtype=float32),\n",
       "  'probabilities': array([ 0.73448116,  0.26551875], dtype=float32)},\n",
       " {'class_ids': array([0], dtype=int64),\n",
       "  'classes': array([b'0'], dtype=object),\n",
       "  'logistic': array([ 0.40571424], dtype=float32),\n",
       "  'logits': array([-0.38171124], dtype=float32),\n",
       "  'probabilities': array([ 0.59428579,  0.40571424], dtype=float32)},\n",
       " {'class_ids': array([0], dtype=int64),\n",
       "  'classes': array([b'0'], dtype=object),\n",
       "  'logistic': array([ 0.15492658], dtype=float32),\n",
       "  'logits': array([-1.69647217], dtype=float32),\n",
       "  'probabilities': array([ 0.84507346,  0.15492658], dtype=float32)},\n",
       " {'class_ids': array([0], dtype=int64),\n",
       "  'classes': array([b'0'], dtype=object),\n",
       "  'logistic': array([ 0.3273387], dtype=float32),\n",
       "  'logits': array([-0.72024649], dtype=float32),\n",
       "  'probabilities': array([ 0.67266124,  0.32733867], dtype=float32)},\n",
       " {'class_ids': array([0], dtype=int64),\n",
       "  'classes': array([b'0'], dtype=object),\n",
       "  'logistic': array([ 0.26078722], dtype=float32),\n",
       "  'logits': array([-1.04188097], dtype=float32),\n",
       "  'probabilities': array([ 0.73921275,  0.26078722], dtype=float32)},\n",
       " {'class_ids': array([0], dtype=int64),\n",
       "  'classes': array([b'0'], dtype=object),\n",
       "  'logistic': array([ 0.10884219], dtype=float32),\n",
       "  'logits': array([-2.10262251], dtype=float32),\n",
       "  'probabilities': array([ 0.89115775,  0.10884218], dtype=float32)},\n",
       " {'class_ids': array([0], dtype=int64),\n",
       "  'classes': array([b'0'], dtype=object),\n",
       "  'logistic': array([ 0.14357868], dtype=float32),\n",
       "  'logits': array([-1.78587937], dtype=float32),\n",
       "  'probabilities': array([ 0.85642135,  0.14357866], dtype=float32)},\n",
       " {'class_ids': array([1], dtype=int64),\n",
       "  'classes': array([b'1'], dtype=object),\n",
       "  'logistic': array([ 0.75426078], dtype=float32),\n",
       "  'logits': array([ 1.12146759], dtype=float32),\n",
       "  'probabilities': array([ 0.24573915,  0.75426078], dtype=float32)},\n",
       " {'class_ids': array([0], dtype=int64),\n",
       "  'classes': array([b'0'], dtype=object),\n",
       "  'logistic': array([ 0.18632114], dtype=float32),\n",
       "  'logits': array([-1.47409403], dtype=float32),\n",
       "  'probabilities': array([ 0.81367892,  0.18632115], dtype=float32)},\n",
       " {'class_ids': array([0], dtype=int64),\n",
       "  'classes': array([b'0'], dtype=object),\n",
       "  'logistic': array([ 0.15107009], dtype=float32),\n",
       "  'logits': array([-1.72623277], dtype=float32),\n",
       "  'probabilities': array([ 0.84892994,  0.15107009], dtype=float32)},\n",
       " {'class_ids': array([0], dtype=int64),\n",
       "  'classes': array([b'0'], dtype=object),\n",
       "  'logistic': array([ 0.16491571], dtype=float32),\n",
       "  'logits': array([-1.62209809], dtype=float32),\n",
       "  'probabilities': array([ 0.83508432,  0.16491573], dtype=float32)},\n",
       " {'class_ids': array([1], dtype=int64),\n",
       "  'classes': array([b'1'], dtype=object),\n",
       "  'logistic': array([ 0.52647066], dtype=float32),\n",
       "  'logits': array([ 0.10598183], dtype=float32),\n",
       "  'probabilities': array([ 0.47352931,  0.52647066], dtype=float32)},\n",
       " {'class_ids': array([0], dtype=int64),\n",
       "  'classes': array([b'0'], dtype=object),\n",
       "  'logistic': array([ 0.47324744], dtype=float32),\n",
       "  'logits': array([-0.10711241], dtype=float32),\n",
       "  'probabilities': array([ 0.52675253,  0.47324747], dtype=float32)},\n",
       " {'class_ids': array([0], dtype=int64),\n",
       "  'classes': array([b'0'], dtype=object),\n",
       "  'logistic': array([ 0.25086403], dtype=float32),\n",
       "  'logits': array([-1.0940094], dtype=float32),\n",
       "  'probabilities': array([ 0.74913597,  0.25086403], dtype=float32)},\n",
       " {'class_ids': array([0], dtype=int64),\n",
       "  'classes': array([b'0'], dtype=object),\n",
       "  'logistic': array([ 0.4338879], dtype=float32),\n",
       "  'logits': array([-0.26600587], dtype=float32),\n",
       "  'probabilities': array([ 0.5661121,  0.4338879], dtype=float32)},\n",
       " {'class_ids': array([0], dtype=int64),\n",
       "  'classes': array([b'0'], dtype=object),\n",
       "  'logistic': array([ 0.20679815], dtype=float32),\n",
       "  'logits': array([-1.3443346], dtype=float32),\n",
       "  'probabilities': array([ 0.79320186,  0.20679814], dtype=float32)},\n",
       " {'class_ids': array([0], dtype=int64),\n",
       "  'classes': array([b'0'], dtype=object),\n",
       "  'logistic': array([ 0.22220676], dtype=float32),\n",
       "  'logits': array([-1.25285244], dtype=float32),\n",
       "  'probabilities': array([ 0.77779323,  0.22220676], dtype=float32)},\n",
       " {'class_ids': array([0], dtype=int64),\n",
       "  'classes': array([b'0'], dtype=object),\n",
       "  'logistic': array([ 0.4944019], dtype=float32),\n",
       "  'logits': array([-0.02239347], dtype=float32),\n",
       "  'probabilities': array([ 0.50559813,  0.49440184], dtype=float32)},\n",
       " {'class_ids': array([1], dtype=int64),\n",
       "  'classes': array([b'1'], dtype=object),\n",
       "  'logistic': array([ 0.52727503], dtype=float32),\n",
       "  'logits': array([ 0.10920858], dtype=float32),\n",
       "  'probabilities': array([ 0.47272494,  0.52727503], dtype=float32)},\n",
       " {'class_ids': array([0], dtype=int64),\n",
       "  'classes': array([b'0'], dtype=object),\n",
       "  'logistic': array([ 0.15438098], dtype=float32),\n",
       "  'logits': array([-1.70064545], dtype=float32),\n",
       "  'probabilities': array([ 0.84561896,  0.15438098], dtype=float32)},\n",
       " {'class_ids': array([0], dtype=int64),\n",
       "  'classes': array([b'0'], dtype=object),\n",
       "  'logistic': array([ 0.41893998], dtype=float32),\n",
       "  'logits': array([-0.32712638], dtype=float32),\n",
       "  'probabilities': array([ 0.58106005,  0.41894001], dtype=float32)},\n",
       " {'class_ids': array([1], dtype=int64),\n",
       "  'classes': array([b'1'], dtype=object),\n",
       "  'logistic': array([ 0.70282269], dtype=float32),\n",
       "  'logits': array([ 0.86077547], dtype=float32),\n",
       "  'probabilities': array([ 0.29717737,  0.70282269], dtype=float32)},\n",
       " {'class_ids': array([1], dtype=int64),\n",
       "  'classes': array([b'1'], dtype=object),\n",
       "  'logistic': array([ 0.56914973], dtype=float32),\n",
       "  'logits': array([ 0.27838302], dtype=float32),\n",
       "  'probabilities': array([ 0.43085024,  0.56914973], dtype=float32)},\n",
       " {'class_ids': array([0], dtype=int64),\n",
       "  'classes': array([b'0'], dtype=object),\n",
       "  'logistic': array([ 0.43381444], dtype=float32),\n",
       "  'logits': array([-0.26630509], dtype=float32),\n",
       "  'probabilities': array([ 0.56618559,  0.43381441], dtype=float32)},\n",
       " {'class_ids': array([1], dtype=int64),\n",
       "  'classes': array([b'1'], dtype=object),\n",
       "  'logistic': array([ 0.567554], dtype=float32),\n",
       "  'logits': array([ 0.27187848], dtype=float32),\n",
       "  'probabilities': array([ 0.43244597,  0.567554  ], dtype=float32)},\n",
       " {'class_ids': array([0], dtype=int64),\n",
       "  'classes': array([b'0'], dtype=object),\n",
       "  'logistic': array([ 0.25609452], dtype=float32),\n",
       "  'logits': array([-1.06636751], dtype=float32),\n",
       "  'probabilities': array([ 0.74390548,  0.25609449], dtype=float32)},\n",
       " {'class_ids': array([0], dtype=int64),\n",
       "  'classes': array([b'0'], dtype=object),\n",
       "  'logistic': array([ 0.20941651], dtype=float32),\n",
       "  'logits': array([-1.32844615], dtype=float32),\n",
       "  'probabilities': array([ 0.79058349,  0.20941649], dtype=float32)},\n",
       " {'class_ids': array([0], dtype=int64),\n",
       "  'classes': array([b'0'], dtype=object),\n",
       "  'logistic': array([ 0.15087435], dtype=float32),\n",
       "  'logits': array([-1.72775984], dtype=float32),\n",
       "  'probabilities': array([ 0.84912562,  0.15087433], dtype=float32)},\n",
       " {'class_ids': array([0], dtype=int64),\n",
       "  'classes': array([b'0'], dtype=object),\n",
       "  'logistic': array([ 0.28729364], dtype=float32),\n",
       "  'logits': array([-0.90856469], dtype=float32),\n",
       "  'probabilities': array([ 0.71270639,  0.28729364], dtype=float32)},\n",
       " {'class_ids': array([1], dtype=int64),\n",
       "  'classes': array([b'1'], dtype=object),\n",
       "  'logistic': array([ 0.52493447], dtype=float32),\n",
       "  'logits': array([ 0.09982073], dtype=float32),\n",
       "  'probabilities': array([ 0.4750655 ,  0.52493447], dtype=float32)},\n",
       " {'class_ids': array([1], dtype=int64),\n",
       "  'classes': array([b'1'], dtype=object),\n",
       "  'logistic': array([ 0.70713097], dtype=float32),\n",
       "  'logits': array([ 0.88149047], dtype=float32),\n",
       "  'probabilities': array([ 0.292869  ,  0.70713097], dtype=float32)},\n",
       " {'class_ids': array([0], dtype=int64),\n",
       "  'classes': array([b'0'], dtype=object),\n",
       "  'logistic': array([ 0.25548998], dtype=float32),\n",
       "  'logits': array([-1.06954312], dtype=float32),\n",
       "  'probabilities': array([ 0.74450999,  0.25548998], dtype=float32)},\n",
       " {'class_ids': array([0], dtype=int64),\n",
       "  'classes': array([b'0'], dtype=object),\n",
       "  'logistic': array([ 0.17969887], dtype=float32),\n",
       "  'logits': array([-1.51838899], dtype=float32),\n",
       "  'probabilities': array([ 0.82030118,  0.17969888], dtype=float32)},\n",
       " {'class_ids': array([0], dtype=int64),\n",
       "  'classes': array([b'0'], dtype=object),\n",
       "  'logistic': array([ 0.41579857], dtype=float32),\n",
       "  'logits': array([-0.34004498], dtype=float32),\n",
       "  'probabilities': array([ 0.58420146,  0.41579857], dtype=float32)},\n",
       " {'class_ids': array([0], dtype=int64),\n",
       "  'classes': array([b'0'], dtype=object),\n",
       "  'logistic': array([ 0.24150549], dtype=float32),\n",
       "  'logits': array([-1.14444339], dtype=float32),\n",
       "  'probabilities': array([ 0.7584945 ,  0.24150547], dtype=float32)},\n",
       " {'class_ids': array([0], dtype=int64),\n",
       "  'classes': array([b'0'], dtype=object),\n",
       "  'logistic': array([ 0.15555808], dtype=float32),\n",
       "  'logits': array([-1.69165683], dtype=float32),\n",
       "  'probabilities': array([ 0.84444189,  0.15555806], dtype=float32)},\n",
       " {'class_ids': array([0], dtype=int64),\n",
       "  'classes': array([b'0'], dtype=object),\n",
       "  'logistic': array([ 0.1820734], dtype=float32),\n",
       "  'logits': array([-1.50236273], dtype=float32),\n",
       "  'probabilities': array([ 0.81792665,  0.18207341], dtype=float32)},\n",
       " {'class_ids': array([0], dtype=int64),\n",
       "  'classes': array([b'0'], dtype=object),\n",
       "  'logistic': array([ 0.14408198], dtype=float32),\n",
       "  'logits': array([-1.78179216], dtype=float32),\n",
       "  'probabilities': array([ 0.85591805,  0.14408198], dtype=float32)},\n",
       " {'class_ids': array([0], dtype=int64),\n",
       "  'classes': array([b'0'], dtype=object),\n",
       "  'logistic': array([ 0.4043695], dtype=float32),\n",
       "  'logits': array([-0.38729143], dtype=float32),\n",
       "  'probabilities': array([ 0.59563053,  0.40436953], dtype=float32)},\n",
       " {'class_ids': array([1], dtype=int64),\n",
       "  'classes': array([b'1'], dtype=object),\n",
       "  'logistic': array([ 0.78238744], dtype=float32),\n",
       "  'logits': array([ 1.279634], dtype=float32),\n",
       "  'probabilities': array([ 0.21761252,  0.78238744], dtype=float32)},\n",
       " {'class_ids': array([1], dtype=int64),\n",
       "  'classes': array([b'1'], dtype=object),\n",
       "  'logistic': array([ 0.77589464], dtype=float32),\n",
       "  'logits': array([ 1.24190021], dtype=float32),\n",
       "  'probabilities': array([ 0.2241054 ,  0.77589464], dtype=float32)},\n",
       " {'class_ids': array([1], dtype=int64),\n",
       "  'classes': array([b'1'], dtype=object),\n",
       "  'logistic': array([ 0.54579943], dtype=float32),\n",
       "  'logits': array([ 0.18371272], dtype=float32),\n",
       "  'probabilities': array([ 0.45420057,  0.54579943], dtype=float32)},\n",
       " {'class_ids': array([1], dtype=int64),\n",
       "  'classes': array([b'1'], dtype=object),\n",
       "  'logistic': array([ 0.53504342], dtype=float32),\n",
       "  'logits': array([ 0.14040399], dtype=float32),\n",
       "  'probabilities': array([ 0.46495652,  0.53504342], dtype=float32)},\n",
       " {'class_ids': array([1], dtype=int64),\n",
       "  'classes': array([b'1'], dtype=object),\n",
       "  'logistic': array([ 0.59837979], dtype=float32),\n",
       "  'logits': array([ 0.39871883], dtype=float32),\n",
       "  'probabilities': array([ 0.40162021,  0.59837979], dtype=float32)},\n",
       " {'class_ids': array([0], dtype=int64),\n",
       "  'classes': array([b'0'], dtype=object),\n",
       "  'logistic': array([ 0.12226438], dtype=float32),\n",
       "  'logits': array([-1.9711597], dtype=float32),\n",
       "  'probabilities': array([ 0.87773561,  0.12226438], dtype=float32)},\n",
       " {'class_ids': array([1], dtype=int64),\n",
       "  'classes': array([b'1'], dtype=object),\n",
       "  'logistic': array([ 0.56401938], dtype=float32),\n",
       "  'logits': array([ 0.25749087], dtype=float32),\n",
       "  'probabilities': array([ 0.43598059,  0.56401938], dtype=float32)},\n",
       " {'class_ids': array([1], dtype=int64),\n",
       "  'classes': array([b'1'], dtype=object),\n",
       "  'logistic': array([ 0.77200162], dtype=float32),\n",
       "  'logits': array([ 1.21964788], dtype=float32),\n",
       "  'probabilities': array([ 0.22799844,  0.77200162], dtype=float32)},\n",
       " {'class_ids': array([0], dtype=int64),\n",
       "  'classes': array([b'0'], dtype=object),\n",
       "  'logistic': array([ 0.44110721], dtype=float32),\n",
       "  'logits': array([-0.23666966], dtype=float32),\n",
       "  'probabilities': array([ 0.55889273,  0.44110718], dtype=float32)},\n",
       " {'class_ids': array([0], dtype=int64),\n",
       "  'classes': array([b'0'], dtype=object),\n",
       "  'logistic': array([ 0.29048562], dtype=float32),\n",
       "  'logits': array([-0.89302659], dtype=float32),\n",
       "  'probabilities': array([ 0.70951432,  0.29048562], dtype=float32)},\n",
       " {'class_ids': array([0], dtype=int64),\n",
       "  'classes': array([b'0'], dtype=object),\n",
       "  'logistic': array([ 0.3675639], dtype=float32),\n",
       "  'logits': array([-0.54268199], dtype=float32),\n",
       "  'probabilities': array([ 0.6324361,  0.3675639], dtype=float32)},\n",
       " {'class_ids': array([1], dtype=int64),\n",
       "  'classes': array([b'1'], dtype=object),\n",
       "  'logistic': array([ 0.56829339], dtype=float32),\n",
       "  'logits': array([ 0.27489161], dtype=float32),\n",
       "  'probabilities': array([ 0.43170661,  0.56829339], dtype=float32)},\n",
       " {'class_ids': array([0], dtype=int64),\n",
       "  'classes': array([b'0'], dtype=object),\n",
       "  'logistic': array([ 0.24769494], dtype=float32),\n",
       "  'logits': array([-1.11094403], dtype=float32),\n",
       "  'probabilities': array([ 0.75230509,  0.24769495], dtype=float32)},\n",
       " {'class_ids': array([1], dtype=int64),\n",
       "  'classes': array([b'1'], dtype=object),\n",
       "  'logistic': array([ 0.650819], dtype=float32),\n",
       "  'logits': array([ 0.62264121], dtype=float32),\n",
       "  'probabilities': array([ 0.349181,  0.650819], dtype=float32)},\n",
       " {'class_ids': array([0], dtype=int64),\n",
       "  'classes': array([b'0'], dtype=object),\n",
       "  'logistic': array([ 0.4479045], dtype=float32),\n",
       "  'logits': array([-0.20914102], dtype=float32),\n",
       "  'probabilities': array([ 0.55209547,  0.4479045 ], dtype=float32)},\n",
       " {'class_ids': array([0], dtype=int64),\n",
       "  'classes': array([b'0'], dtype=object),\n",
       "  'logistic': array([ 0.4556036], dtype=float32),\n",
       "  'logits': array([-0.17805445], dtype=float32),\n",
       "  'probabilities': array([ 0.54439634,  0.45560357], dtype=float32)},\n",
       " {'class_ids': array([0], dtype=int64),\n",
       "  'classes': array([b'0'], dtype=object),\n",
       "  'logistic': array([ 0.16640116], dtype=float32),\n",
       "  'logits': array([-1.61135077], dtype=float32),\n",
       "  'probabilities': array([ 0.83359879,  0.16640116], dtype=float32)},\n",
       " {'class_ids': array([0], dtype=int64),\n",
       "  'classes': array([b'0'], dtype=object),\n",
       "  'logistic': array([ 0.20984186], dtype=float32),\n",
       "  'logits': array([-1.32587898], dtype=float32),\n",
       "  'probabilities': array([ 0.79015815,  0.20984185], dtype=float32)},\n",
       " {'class_ids': array([0], dtype=int64),\n",
       "  'classes': array([b'0'], dtype=object),\n",
       "  'logistic': array([ 0.20434663], dtype=float32),\n",
       "  'logits': array([-1.35934591], dtype=float32),\n",
       "  'probabilities': array([ 0.79565334,  0.20434663], dtype=float32)},\n",
       " {'class_ids': array([0], dtype=int64),\n",
       "  'classes': array([b'0'], dtype=object),\n",
       "  'logistic': array([ 0.45618704], dtype=float32),\n",
       "  'logits': array([-0.17570245], dtype=float32),\n",
       "  'probabilities': array([ 0.54381293,  0.45618701], dtype=float32)},\n",
       " {'class_ids': array([0], dtype=int64),\n",
       "  'classes': array([b'0'], dtype=object),\n",
       "  'logistic': array([ 0.16045272], dtype=float32),\n",
       "  'logits': array([-1.65486348], dtype=float32),\n",
       "  'probabilities': array([ 0.83954728,  0.16045272], dtype=float32)},\n",
       " {'class_ids': array([1], dtype=int64),\n",
       "  'classes': array([b'1'], dtype=object),\n",
       "  'logistic': array([ 0.75988489], dtype=float32),\n",
       "  'logits': array([ 1.15204859], dtype=float32),\n",
       "  'probabilities': array([ 0.24011511,  0.75988489], dtype=float32)},\n",
       " {'class_ids': array([0], dtype=int64),\n",
       "  'classes': array([b'0'], dtype=object),\n",
       "  'logistic': array([ 0.20602693], dtype=float32),\n",
       "  'logits': array([-1.34904265], dtype=float32),\n",
       "  'probabilities': array([ 0.79397303,  0.20602691], dtype=float32)},\n",
       " {'class_ids': array([0], dtype=int64),\n",
       "  'classes': array([b'0'], dtype=object),\n",
       "  'logistic': array([ 0.49274471], dtype=float32),\n",
       "  'logits': array([-0.02902317], dtype=float32),\n",
       "  'probabilities': array([ 0.50725532,  0.49274474], dtype=float32)},\n",
       " {'class_ids': array([0], dtype=int64),\n",
       "  'classes': array([b'0'], dtype=object),\n",
       "  'logistic': array([ 0.16554342], dtype=float32),\n",
       "  'logits': array([-1.61754715], dtype=float32),\n",
       "  'probabilities': array([ 0.83445656,  0.16554342], dtype=float32)},\n",
       " {'class_ids': array([1], dtype=int64),\n",
       "  'classes': array([b'1'], dtype=object),\n",
       "  'logistic': array([ 0.68900007], dtype=float32),\n",
       "  'logits': array([ 0.79544854], dtype=float32),\n",
       "  'probabilities': array([ 0.31099999,  0.68900007], dtype=float32)},\n",
       " {'class_ids': array([0], dtype=int64),\n",
       "  'classes': array([b'0'], dtype=object),\n",
       "  'logistic': array([ 0.35149014], dtype=float32),\n",
       "  'logits': array([-0.6124956], dtype=float32),\n",
       "  'probabilities': array([ 0.64850986,  0.35149014], dtype=float32)},\n",
       " {'class_ids': array([0], dtype=int64),\n",
       "  'classes': array([b'0'], dtype=object),\n",
       "  'logistic': array([ 0.18721381], dtype=float32),\n",
       "  'logits': array([-1.46821678], dtype=float32),\n",
       "  'probabilities': array([ 0.81278622,  0.18721381], dtype=float32)},\n",
       " {'class_ids': array([0], dtype=int64),\n",
       "  'classes': array([b'0'], dtype=object),\n",
       "  'logistic': array([ 0.36971313], dtype=float32),\n",
       "  'logits': array([-0.53344774], dtype=float32),\n",
       "  'probabilities': array([ 0.63028687,  0.3697131 ], dtype=float32)},\n",
       " {'class_ids': array([0], dtype=int64),\n",
       "  'classes': array([b'0'], dtype=object),\n",
       "  'logistic': array([ 0.35074791], dtype=float32),\n",
       "  'logits': array([-0.61575329], dtype=float32),\n",
       "  'probabilities': array([ 0.64925206,  0.35074791], dtype=float32)},\n",
       " {'class_ids': array([0], dtype=int64),\n",
       "  'classes': array([b'0'], dtype=object),\n",
       "  'logistic': array([ 0.1681063], dtype=float32),\n",
       "  'logits': array([-1.5991081], dtype=float32),\n",
       "  'probabilities': array([ 0.83189368,  0.1681063 ], dtype=float32)},\n",
       " {'class_ids': array([1], dtype=int64),\n",
       "  'classes': array([b'1'], dtype=object),\n",
       "  'logistic': array([ 0.72495759], dtype=float32),\n",
       "  'logits': array([ 0.96918774], dtype=float32),\n",
       "  'probabilities': array([ 0.27504244,  0.72495759], dtype=float32)},\n",
       " {'class_ids': array([0], dtype=int64),\n",
       "  'classes': array([b'0'], dtype=object),\n",
       "  'logistic': array([ 0.18769595], dtype=float32),\n",
       "  'logits': array([-1.46505129], dtype=float32),\n",
       "  'probabilities': array([ 0.81230408,  0.18769597], dtype=float32)},\n",
       " {'class_ids': array([0], dtype=int64),\n",
       "  'classes': array([b'0'], dtype=object),\n",
       "  'logistic': array([ 0.17276326], dtype=float32),\n",
       "  'logits': array([-1.56616867], dtype=float32),\n",
       "  'probabilities': array([ 0.82723671,  0.17276326], dtype=float32)},\n",
       " {'class_ids': array([0], dtype=int64),\n",
       "  'classes': array([b'0'], dtype=object),\n",
       "  'logistic': array([ 0.29784659], dtype=float32),\n",
       "  'logits': array([-0.85757339], dtype=float32),\n",
       "  'probabilities': array([ 0.70215344,  0.29784659], dtype=float32)},\n",
       " {'class_ids': array([0], dtype=int64),\n",
       "  'classes': array([b'0'], dtype=object),\n",
       "  'logistic': array([ 0.48634231], dtype=float32),\n",
       "  'logits': array([-0.05464435], dtype=float32),\n",
       "  'probabilities': array([ 0.51365769,  0.48634231], dtype=float32)},\n",
       " {'class_ids': array([0], dtype=int64),\n",
       "  'classes': array([b'0'], dtype=object),\n",
       "  'logistic': array([ 0.29956853], dtype=float32),\n",
       "  'logits': array([-0.84935325], dtype=float32),\n",
       "  'probabilities': array([ 0.70043147,  0.29956856], dtype=float32)},\n",
       " {'class_ids': array([0], dtype=int64),\n",
       "  'classes': array([b'0'], dtype=object),\n",
       "  'logistic': array([ 0.13454033], dtype=float32),\n",
       "  'logits': array([-1.86139679], dtype=float32),\n",
       "  'probabilities': array([ 0.86545968,  0.13454032], dtype=float32)},\n",
       " {'class_ids': array([1], dtype=int64),\n",
       "  'classes': array([b'1'], dtype=object),\n",
       "  'logistic': array([ 0.8361522], dtype=float32),\n",
       "  'logits': array([ 1.62987232], dtype=float32),\n",
       "  'probabilities': array([ 0.16384786,  0.8361522 ], dtype=float32)},\n",
       " {'class_ids': array([1], dtype=int64),\n",
       "  'classes': array([b'1'], dtype=object),\n",
       "  'logistic': array([ 0.66683054], dtype=float32),\n",
       "  'logits': array([ 0.69388461], dtype=float32),\n",
       "  'probabilities': array([ 0.33316949,  0.66683054], dtype=float32)},\n",
       " {'class_ids': array([1], dtype=int64),\n",
       "  'classes': array([b'1'], dtype=object),\n",
       "  'logistic': array([ 0.54217494], dtype=float32),\n",
       "  'logits': array([ 0.1691016], dtype=float32),\n",
       "  'probabilities': array([ 0.45782503,  0.54217494], dtype=float32)},\n",
       " {'class_ids': array([1], dtype=int64),\n",
       "  'classes': array([b'1'], dtype=object),\n",
       "  'logistic': array([ 0.76315343], dtype=float32),\n",
       "  'logits': array([ 1.17004681], dtype=float32),\n",
       "  'probabilities': array([ 0.23684651,  0.76315343], dtype=float32)},\n",
       " {'class_ids': array([0], dtype=int64),\n",
       "  'classes': array([b'0'], dtype=object),\n",
       "  'logistic': array([ 0.1452162], dtype=float32),\n",
       "  'logits': array([-1.77262497], dtype=float32),\n",
       "  'probabilities': array([ 0.85478377,  0.14521618], dtype=float32)},\n",
       " {'class_ids': array([0], dtype=int64),\n",
       "  'classes': array([b'0'], dtype=object),\n",
       "  'logistic': array([ 0.15332049], dtype=float32),\n",
       "  'logits': array([-1.70879185], dtype=float32),\n",
       "  'probabilities': array([ 0.84667957,  0.15332049], dtype=float32)},\n",
       " {'class_ids': array([0], dtype=int64),\n",
       "  'classes': array([b'0'], dtype=object),\n",
       "  'logistic': array([ 0.23749837], dtype=float32),\n",
       "  'logits': array([-1.16644382], dtype=float32),\n",
       "  'probabilities': array([ 0.7625016 ,  0.23749837], dtype=float32)},\n",
       " {'class_ids': array([0], dtype=int64),\n",
       "  'classes': array([b'0'], dtype=object),\n",
       "  'logistic': array([ 0.33553085], dtype=float32),\n",
       "  'logits': array([-0.68327457], dtype=float32),\n",
       "  'probabilities': array([ 0.66446912,  0.33553085], dtype=float32)},\n",
       " {'class_ids': array([0], dtype=int64),\n",
       "  'classes': array([b'0'], dtype=object),\n",
       "  'logistic': array([ 0.372774], dtype=float32),\n",
       "  'logits': array([-0.52033466], dtype=float32),\n",
       "  'probabilities': array([ 0.627226  ,  0.37277398], dtype=float32)},\n",
       " {'class_ids': array([1], dtype=int64),\n",
       "  'classes': array([b'1'], dtype=object),\n",
       "  'logistic': array([ 0.59714943], dtype=float32),\n",
       "  'logits': array([ 0.39360154], dtype=float32),\n",
       "  'probabilities': array([ 0.40285063,  0.59714943], dtype=float32)},\n",
       " {'class_ids': array([1], dtype=int64),\n",
       "  'classes': array([b'1'], dtype=object),\n",
       "  'logistic': array([ 0.58447003], dtype=float32),\n",
       "  'logits': array([ 0.34115076], dtype=float32),\n",
       "  'probabilities': array([ 0.41552997,  0.58447003], dtype=float32)},\n",
       " {'class_ids': array([0], dtype=int64),\n",
       "  'classes': array([b'0'], dtype=object),\n",
       "  'logistic': array([ 0.42383987], dtype=float32),\n",
       "  'logits': array([-0.30702984], dtype=float32),\n",
       "  'probabilities': array([ 0.57616013,  0.42383987], dtype=float32)},\n",
       " {'class_ids': array([0], dtype=int64),\n",
       "  'classes': array([b'0'], dtype=object),\n",
       "  'logistic': array([ 0.39703989], dtype=float32),\n",
       "  'logits': array([-0.41781425], dtype=float32),\n",
       "  'probabilities': array([ 0.60296011,  0.39703989], dtype=float32)},\n",
       " {'class_ids': array([0], dtype=int64),\n",
       "  'classes': array([b'0'], dtype=object),\n",
       "  'logistic': array([ 0.34105328], dtype=float32),\n",
       "  'logits': array([-0.65860397], dtype=float32),\n",
       "  'probabilities': array([ 0.65894675,  0.34105328], dtype=float32)},\n",
       " {'class_ids': array([0], dtype=int64),\n",
       "  'classes': array([b'0'], dtype=object),\n",
       "  'logistic': array([ 0.18641055], dtype=float32),\n",
       "  'logits': array([-1.47350442], dtype=float32),\n",
       "  'probabilities': array([ 0.81358951,  0.18641055], dtype=float32)},\n",
       " {'class_ids': array([1], dtype=int64),\n",
       "  'classes': array([b'1'], dtype=object),\n",
       "  'logistic': array([ 0.66491324], dtype=float32),\n",
       "  'logits': array([ 0.68526697], dtype=float32),\n",
       "  'probabilities': array([ 0.33508679,  0.66491324], dtype=float32)},\n",
       " {'class_ids': array([0], dtype=int64),\n",
       "  'classes': array([b'0'], dtype=object),\n",
       "  'logistic': array([ 0.14824229], dtype=float32),\n",
       "  'logits': array([-1.74845409], dtype=float32),\n",
       "  'probabilities': array([ 0.85175771,  0.14824229], dtype=float32)},\n",
       " {'class_ids': array([0], dtype=int64),\n",
       "  'classes': array([b'0'], dtype=object),\n",
       "  'logistic': array([ 0.26257116], dtype=float32),\n",
       "  'logits': array([-1.03264749], dtype=float32),\n",
       "  'probabilities': array([ 0.73742884,  0.26257116], dtype=float32)},\n",
       " {'class_ids': array([1], dtype=int64),\n",
       "  'classes': array([b'1'], dtype=object),\n",
       "  'logistic': array([ 0.60054886], dtype=float32),\n",
       "  'logits': array([ 0.40775251], dtype=float32),\n",
       "  'probabilities': array([ 0.39945117,  0.60054886], dtype=float32)},\n",
       " {'class_ids': array([0], dtype=int64),\n",
       "  'classes': array([b'0'], dtype=object),\n",
       "  'logistic': array([ 0.38241547], dtype=float32),\n",
       "  'logits': array([-0.47930819], dtype=float32),\n",
       "  'probabilities': array([ 0.61758447,  0.38241547], dtype=float32)},\n",
       " {'class_ids': array([0], dtype=int64),\n",
       "  'classes': array([b'0'], dtype=object),\n",
       "  'logistic': array([ 0.19012326], dtype=float32),\n",
       "  'logits': array([-1.44920945], dtype=float32),\n",
       "  'probabilities': array([ 0.80987674,  0.19012326], dtype=float32)},\n",
       " {'class_ids': array([0], dtype=int64),\n",
       "  'classes': array([b'0'], dtype=object),\n",
       "  'logistic': array([ 0.30525589], dtype=float32),\n",
       "  'logits': array([-0.82239312], dtype=float32),\n",
       "  'probabilities': array([ 0.69474405,  0.30525589], dtype=float32)},\n",
       " {'class_ids': array([0], dtype=int64),\n",
       "  'classes': array([b'0'], dtype=object),\n",
       "  'logistic': array([ 0.26075414], dtype=float32),\n",
       "  'logits': array([-1.04205263], dtype=float32),\n",
       "  'probabilities': array([ 0.73924589,  0.26075414], dtype=float32)},\n",
       " {'class_ids': array([0], dtype=int64),\n",
       "  'classes': array([b'0'], dtype=object),\n",
       "  'logistic': array([ 0.15249747], dtype=float32),\n",
       "  'logits': array([-1.71514583], dtype=float32),\n",
       "  'probabilities': array([ 0.84750253,  0.15249747], dtype=float32)},\n",
       " {'class_ids': array([0], dtype=int64),\n",
       "  'classes': array([b'0'], dtype=object),\n",
       "  'logistic': array([ 0.22928362], dtype=float32),\n",
       "  'logits': array([-1.21236074], dtype=float32),\n",
       "  'probabilities': array([ 0.77071637,  0.2292836 ], dtype=float32)},\n",
       " {'class_ids': array([1], dtype=int64),\n",
       "  'classes': array([b'1'], dtype=object),\n",
       "  'logistic': array([ 0.58412528], dtype=float32),\n",
       "  'logits': array([ 0.33973145], dtype=float32),\n",
       "  'probabilities': array([ 0.41587472,  0.58412528], dtype=float32)},\n",
       " {'class_ids': array([1], dtype=int64),\n",
       "  'classes': array([b'1'], dtype=object),\n",
       "  'logistic': array([ 0.6956504], dtype=float32),\n",
       "  'logits': array([ 0.82667017], dtype=float32),\n",
       "  'probabilities': array([ 0.3043496,  0.6956504], dtype=float32)},\n",
       " {'class_ids': array([1], dtype=int64),\n",
       "  'classes': array([b'1'], dtype=object),\n",
       "  'logistic': array([ 0.64551532], dtype=float32),\n",
       "  'logits': array([ 0.59938383], dtype=float32),\n",
       "  'probabilities': array([ 0.35448465,  0.64551532], dtype=float32)},\n",
       " {'class_ids': array([1], dtype=int64),\n",
       "  'classes': array([b'1'], dtype=object),\n",
       "  'logistic': array([ 0.72286987], dtype=float32),\n",
       "  'logits': array([ 0.95874214], dtype=float32),\n",
       "  'probabilities': array([ 0.2771301 ,  0.72286987], dtype=float32)},\n",
       " {'class_ids': array([0], dtype=int64),\n",
       "  'classes': array([b'0'], dtype=object),\n",
       "  'logistic': array([ 0.4421159], dtype=float32),\n",
       "  'logits': array([-0.23257923], dtype=float32),\n",
       "  'probabilities': array([ 0.55788416,  0.44211593], dtype=float32)},\n",
       " {'class_ids': array([0], dtype=int64),\n",
       "  'classes': array([b'0'], dtype=object),\n",
       "  'logistic': array([ 0.3320215], dtype=float32),\n",
       "  'logits': array([-0.69905621], dtype=float32),\n",
       "  'probabilities': array([ 0.66797847,  0.3320215 ], dtype=float32)},\n",
       " {'class_ids': array([1], dtype=int64),\n",
       "  'classes': array([b'1'], dtype=object),\n",
       "  'logistic': array([ 0.54184306], dtype=float32),\n",
       "  'logits': array([ 0.16776443], dtype=float32),\n",
       "  'probabilities': array([ 0.458157  ,  0.54184306], dtype=float32)},\n",
       " {'class_ids': array([0], dtype=int64),\n",
       "  'classes': array([b'0'], dtype=object),\n",
       "  'logistic': array([ 0.20380794], dtype=float32),\n",
       "  'logits': array([-1.36266243], dtype=float32),\n",
       "  'probabilities': array([ 0.79619205,  0.20380792], dtype=float32)},\n",
       " {'class_ids': array([0], dtype=int64),\n",
       "  'classes': array([b'0'], dtype=object),\n",
       "  'logistic': array([ 0.17311408], dtype=float32),\n",
       "  'logits': array([-1.56371605], dtype=float32),\n",
       "  'probabilities': array([ 0.82688594,  0.17311406], dtype=float32)},\n",
       " {'class_ids': array([0], dtype=int64),\n",
       "  'classes': array([b'0'], dtype=object),\n",
       "  'logistic': array([ 0.19524927], dtype=float32),\n",
       "  'logits': array([-1.41625547], dtype=float32),\n",
       "  'probabilities': array([ 0.80475074,  0.19524927], dtype=float32)},\n",
       " {'class_ids': array([1], dtype=int64),\n",
       "  'classes': array([b'1'], dtype=object),\n",
       "  'logistic': array([ 0.51496583], dtype=float32),\n",
       "  'logits': array([ 0.05988121], dtype=float32),\n",
       "  'probabilities': array([ 0.48503417,  0.51496583], dtype=float32)},\n",
       " {'class_ids': array([0], dtype=int64),\n",
       "  'classes': array([b'0'], dtype=object),\n",
       "  'logistic': array([ 0.06545271], dtype=float32),\n",
       "  'logits': array([-2.65873432], dtype=float32),\n",
       "  'probabilities': array([ 0.93454731,  0.06545272], dtype=float32)},\n",
       " {'class_ids': array([0], dtype=int64),\n",
       "  'classes': array([b'0'], dtype=object),\n",
       "  'logistic': array([ 0.28830436], dtype=float32),\n",
       "  'logits': array([-0.90363359], dtype=float32),\n",
       "  'probabilities': array([ 0.71169561,  0.28830436], dtype=float32)},\n",
       " {'class_ids': array([0], dtype=int64),\n",
       "  'classes': array([b'0'], dtype=object),\n",
       "  'logistic': array([ 0.16674055], dtype=float32),\n",
       "  'logits': array([-1.60890603], dtype=float32),\n",
       "  'probabilities': array([ 0.83325946,  0.16674057], dtype=float32)},\n",
       " {'class_ids': array([0], dtype=int64),\n",
       "  'classes': array([b'0'], dtype=object),\n",
       "  'logistic': array([ 0.27259502], dtype=float32),\n",
       "  'logits': array([-0.98149616], dtype=float32),\n",
       "  'probabilities': array([ 0.72740495,  0.27259499], dtype=float32)},\n",
       " {'class_ids': array([0], dtype=int64),\n",
       "  'classes': array([b'0'], dtype=object),\n",
       "  'logistic': array([ 0.26995882], dtype=float32),\n",
       "  'logits': array([-0.99483144], dtype=float32),\n",
       "  'probabilities': array([ 0.73004115,  0.26995885], dtype=float32)},\n",
       " {'class_ids': array([0], dtype=int64),\n",
       "  'classes': array([b'0'], dtype=object),\n",
       "  'logistic': array([ 0.30181691], dtype=float32),\n",
       "  'logits': array([-0.83866078], dtype=float32),\n",
       "  'probabilities': array([ 0.69818306,  0.30181691], dtype=float32)},\n",
       " {'class_ids': array([1], dtype=int64),\n",
       "  'classes': array([b'1'], dtype=object),\n",
       "  'logistic': array([ 0.78123862], dtype=float32),\n",
       "  'logits': array([ 1.27289891], dtype=float32),\n",
       "  'probabilities': array([ 0.21876141,  0.78123862], dtype=float32)},\n",
       " {'class_ids': array([0], dtype=int64),\n",
       "  'classes': array([b'0'], dtype=object),\n",
       "  'logistic': array([ 0.19518718], dtype=float32),\n",
       "  'logits': array([-1.41665065], dtype=float32),\n",
       "  'probabilities': array([ 0.80481279,  0.19518718], dtype=float32)},\n",
       " {'class_ids': array([0], dtype=int64),\n",
       "  'classes': array([b'0'], dtype=object),\n",
       "  'logistic': array([ 0.1422067], dtype=float32),\n",
       "  'logits': array([-1.79708147], dtype=float32),\n",
       "  'probabilities': array([ 0.85779333,  0.14220671], dtype=float32)},\n",
       " {'class_ids': array([1], dtype=int64),\n",
       "  'classes': array([b'1'], dtype=object),\n",
       "  'logistic': array([ 0.61871374], dtype=float32),\n",
       "  'logits': array([ 0.48409224], dtype=float32),\n",
       "  'probabilities': array([ 0.38128626,  0.61871374], dtype=float32)},\n",
       " {'class_ids': array([0], dtype=int64),\n",
       "  'classes': array([b'0'], dtype=object),\n",
       "  'logistic': array([ 0.47180101], dtype=float32),\n",
       "  'logits': array([-0.11291575], dtype=float32),\n",
       "  'probabilities': array([ 0.52819896,  0.47180098], dtype=float32)},\n",
       " {'class_ids': array([1], dtype=int64),\n",
       "  'classes': array([b'1'], dtype=object),\n",
       "  'logistic': array([ 0.85935026], dtype=float32),\n",
       "  'logits': array([ 1.80990434], dtype=float32),\n",
       "  'probabilities': array([ 0.14064968,  0.85935026], dtype=float32)},\n",
       " {'class_ids': array([1], dtype=int64),\n",
       "  'classes': array([b'1'], dtype=object),\n",
       "  'logistic': array([ 0.62429148], dtype=float32),\n",
       "  'logits': array([ 0.5078038], dtype=float32),\n",
       "  'probabilities': array([ 0.37570849,  0.62429148], dtype=float32)},\n",
       " {'class_ids': array([0], dtype=int64),\n",
       "  'classes': array([b'0'], dtype=object),\n",
       "  'logistic': array([ 0.1426197], dtype=float32),\n",
       "  'logits': array([-1.79369998], dtype=float32),\n",
       "  'probabilities': array([ 0.85738027,  0.1426197 ], dtype=float32)},\n",
       " {'class_ids': array([1], dtype=int64),\n",
       "  'classes': array([b'1'], dtype=object),\n",
       "  'logistic': array([ 0.62273562], dtype=float32),\n",
       "  'logits': array([ 0.50117576], dtype=float32),\n",
       "  'probabilities': array([ 0.37726438,  0.62273562], dtype=float32)},\n",
       " {'class_ids': array([1], dtype=int64),\n",
       "  'classes': array([b'1'], dtype=object),\n",
       "  'logistic': array([ 0.53604925], dtype=float32),\n",
       "  'logits': array([ 0.14444768], dtype=float32),\n",
       "  'probabilities': array([ 0.46395072,  0.53604925], dtype=float32)},\n",
       " {'class_ids': array([1], dtype=int64),\n",
       "  'classes': array([b'1'], dtype=object),\n",
       "  'logistic': array([ 0.76124197], dtype=float32),\n",
       "  'logits': array([ 1.15950084], dtype=float32),\n",
       "  'probabilities': array([ 0.238758  ,  0.76124197], dtype=float32)},\n",
       " {'class_ids': array([0], dtype=int64),\n",
       "  'classes': array([b'0'], dtype=object),\n",
       "  'logistic': array([ 0.25813562], dtype=float32),\n",
       "  'logits': array([-1.05568147], dtype=float32),\n",
       "  'probabilities': array([ 0.74186438,  0.25813559], dtype=float32)},\n",
       " {'class_ids': array([0], dtype=int64),\n",
       "  'classes': array([b'0'], dtype=object),\n",
       "  'logistic': array([ 0.19344774], dtype=float32),\n",
       "  'logits': array([-1.42776132], dtype=float32),\n",
       "  'probabilities': array([ 0.80655223,  0.19344772], dtype=float32)},\n",
       " {'class_ids': array([1], dtype=int64),\n",
       "  'classes': array([b'1'], dtype=object),\n",
       "  'logistic': array([ 0.58734959], dtype=float32),\n",
       "  'logits': array([ 0.35301948], dtype=float32),\n",
       "  'probabilities': array([ 0.41265041,  0.58734959], dtype=float32)},\n",
       " {'class_ids': array([0], dtype=int64),\n",
       "  'classes': array([b'0'], dtype=object),\n",
       "  'logistic': array([ 0.15997458], dtype=float32),\n",
       "  'logits': array([-1.65841722], dtype=float32),\n",
       "  'probabilities': array([ 0.84002542,  0.15997458], dtype=float32)},\n",
       " {'class_ids': array([1], dtype=int64),\n",
       "  'classes': array([b'1'], dtype=object),\n",
       "  'logistic': array([ 0.81322235], dtype=float32),\n",
       "  'logits': array([ 1.47108579], dtype=float32),\n",
       "  'probabilities': array([ 0.18677762,  0.81322235], dtype=float32)},\n",
       " {'class_ids': array([1], dtype=int64),\n",
       "  'classes': array([b'1'], dtype=object),\n",
       "  'logistic': array([ 0.51080334], dtype=float32),\n",
       "  'logits': array([ 0.04322028], dtype=float32),\n",
       "  'probabilities': array([ 0.4891966,  0.5108034], dtype=float32)},\n",
       " {'class_ids': array([0], dtype=int64),\n",
       "  'classes': array([b'0'], dtype=object),\n",
       "  'logistic': array([ 0.19170864], dtype=float32),\n",
       "  'logits': array([-1.43894589], dtype=float32),\n",
       "  'probabilities': array([ 0.80829138,  0.19170864], dtype=float32)},\n",
       " {'class_ids': array([1], dtype=int64),\n",
       "  'classes': array([b'1'], dtype=object),\n",
       "  'logistic': array([ 0.57561499], dtype=float32),\n",
       "  'logits': array([ 0.30479789], dtype=float32),\n",
       "  'probabilities': array([ 0.42438504,  0.57561499], dtype=float32)},\n",
       " {'class_ids': array([1], dtype=int64),\n",
       "  'classes': array([b'1'], dtype=object),\n",
       "  'logistic': array([ 0.50653768], dtype=float32),\n",
       "  'logits': array([ 0.02615213], dtype=float32),\n",
       "  'probabilities': array([ 0.49346235,  0.50653768], dtype=float32)},\n",
       " {'class_ids': array([0], dtype=int64),\n",
       "  'classes': array([b'0'], dtype=object),\n",
       "  'logistic': array([ 0.11204259], dtype=float32),\n",
       "  'logits': array([-2.07004476], dtype=float32),\n",
       "  'probabilities': array([ 0.88795739,  0.11204258], dtype=float32)},\n",
       " {'class_ids': array([1], dtype=int64),\n",
       "  'classes': array([b'1'], dtype=object),\n",
       "  'logistic': array([ 0.51506299], dtype=float32),\n",
       "  'logits': array([ 0.06027007], dtype=float32),\n",
       "  'probabilities': array([ 0.48493707,  0.51506299], dtype=float32)},\n",
       " {'class_ids': array([1], dtype=int64),\n",
       "  'classes': array([b'1'], dtype=object),\n",
       "  'logistic': array([ 0.65066355], dtype=float32),\n",
       "  'logits': array([ 0.62195706], dtype=float32),\n",
       "  'probabilities': array([ 0.34933648,  0.65066355], dtype=float32)},\n",
       " {'class_ids': array([1], dtype=int64),\n",
       "  'classes': array([b'1'], dtype=object),\n",
       "  'logistic': array([ 0.75858444], dtype=float32),\n",
       "  'logits': array([ 1.14493442], dtype=float32),\n",
       "  'probabilities': array([ 0.24141555,  0.75858444], dtype=float32)},\n",
       " {'class_ids': array([1], dtype=int64),\n",
       "  'classes': array([b'1'], dtype=object),\n",
       "  'logistic': array([ 0.83318383], dtype=float32),\n",
       "  'logits': array([ 1.60836172], dtype=float32),\n",
       "  'probabilities': array([ 0.16681619,  0.83318383], dtype=float32)},\n",
       " {'class_ids': array([0], dtype=int64),\n",
       "  'classes': array([b'0'], dtype=object),\n",
       "  'logistic': array([ 0.42499489], dtype=float32),\n",
       "  'logits': array([-0.30230176], dtype=float32),\n",
       "  'probabilities': array([ 0.57500511,  0.42499492], dtype=float32)},\n",
       " {'class_ids': array([0], dtype=int64),\n",
       "  'classes': array([b'0'], dtype=object),\n",
       "  'logistic': array([ 0.1694255], dtype=float32),\n",
       "  'logits': array([-1.58970428], dtype=float32),\n",
       "  'probabilities': array([ 0.83057451,  0.16942552], dtype=float32)},\n",
       " {'class_ids': array([0], dtype=int64),\n",
       "  'classes': array([b'0'], dtype=object),\n",
       "  'logistic': array([ 0.09194556], dtype=float32),\n",
       "  'logits': array([-2.29010773], dtype=float32),\n",
       "  'probabilities': array([ 0.90805447,  0.09194556], dtype=float32)},\n",
       " {'class_ids': array([0], dtype=int64),\n",
       "  'classes': array([b'0'], dtype=object),\n",
       "  'logistic': array([ 0.12541592], dtype=float32),\n",
       "  'logits': array([-1.94211292], dtype=float32),\n",
       "  'probabilities': array([ 0.87458408,  0.12541592], dtype=float32)},\n",
       " {'class_ids': array([0], dtype=int64),\n",
       "  'classes': array([b'0'], dtype=object),\n",
       "  'logistic': array([ 0.25668597], dtype=float32),\n",
       "  'logits': array([-1.0632652], dtype=float32),\n",
       "  'probabilities': array([ 0.74331403,  0.25668597], dtype=float32)},\n",
       " {'class_ids': array([0], dtype=int64),\n",
       "  'classes': array([b'0'], dtype=object),\n",
       "  'logistic': array([ 0.35671133], dtype=float32),\n",
       "  'logits': array([-0.58966666], dtype=float32),\n",
       "  'probabilities': array([ 0.64328867,  0.35671133], dtype=float32)},\n",
       " {'class_ids': array([0], dtype=int64),\n",
       "  'classes': array([b'0'], dtype=object),\n",
       "  'logistic': array([ 0.29944596], dtype=float32),\n",
       "  'logits': array([-0.84993768], dtype=float32),\n",
       "  'probabilities': array([ 0.70055407,  0.29944593], dtype=float32)}]"
      ]
     },
     "execution_count": 31,
     "metadata": {},
     "output_type": "execute_result"
    }
   ],
   "source": [
    "list(predictions)"
   ]
  },
  {
   "cell_type": "code",
   "execution_count": 32,
   "metadata": {},
   "outputs": [
    {
     "name": "stdout",
     "output_type": "stream",
     "text": [
      "INFO:tensorflow:Using default config.\n",
      "WARNING:tensorflow:Using temporary folder as model directory: C:\\Users\\MOHAME~1\\AppData\\Local\\Temp\\tmpnm335x4l\n",
      "INFO:tensorflow:Using config: {'_model_dir': 'C:\\\\Users\\\\MOHAME~1\\\\AppData\\\\Local\\\\Temp\\\\tmpnm335x4l', '_tf_random_seed': None, '_save_summary_steps': 100, '_save_checkpoints_steps': None, '_save_checkpoints_secs': 600, '_session_config': None, '_keep_checkpoint_max': 5, '_keep_checkpoint_every_n_hours': 10000, '_log_step_count_steps': 100, '_service': None, '_cluster_spec': <tensorflow.python.training.server_lib.ClusterSpec object at 0x0000004A8711FF60>, '_task_type': 'worker', '_task_id': 0, '_master': '', '_is_chief': True, '_num_ps_replicas': 0, '_num_worker_replicas': 1}\n"
     ]
    }
   ],
   "source": [
    "dnn_model=tf.estimator.DNNClassifier(hidden_units=[10,10,10],feature_columns=feat_cols,n_classes=2)"
   ]
  },
  {
   "cell_type": "code",
   "execution_count": 33,
   "metadata": {},
   "outputs": [
    {
     "name": "stdout",
     "output_type": "stream",
     "text": [
      "INFO:tensorflow:Create CheckpointSaverHook.\n",
      "INFO:tensorflow:Saving checkpoints for 1 into C:\\Users\\MOHAME~1\\AppData\\Local\\Temp\\tmpnm335x4l\\model.ckpt.\n",
      "INFO:tensorflow:loss = 6.80662, step = 1\n",
      "INFO:tensorflow:global_step/sec: 302.573\n",
      "INFO:tensorflow:loss = 4.78149, step = 101 (0.337 sec)\n",
      "INFO:tensorflow:global_step/sec: 374.799\n",
      "INFO:tensorflow:loss = 6.02057, step = 201 (0.264 sec)\n",
      "INFO:tensorflow:global_step/sec: 339.909\n",
      "INFO:tensorflow:loss = 6.7622, step = 301 (0.293 sec)\n",
      "INFO:tensorflow:global_step/sec: 350.642\n",
      "INFO:tensorflow:loss = 3.36146, step = 401 (0.288 sec)\n",
      "INFO:tensorflow:global_step/sec: 343.413\n",
      "INFO:tensorflow:loss = 4.17184, step = 501 (0.289 sec)\n",
      "INFO:tensorflow:global_step/sec: 346.989\n",
      "INFO:tensorflow:loss = 6.01926, step = 601 (0.291 sec)\n",
      "INFO:tensorflow:global_step/sec: 333.112\n",
      "INFO:tensorflow:loss = 3.39521, step = 701 (0.298 sec)\n",
      "INFO:tensorflow:global_step/sec: 335.343\n",
      "INFO:tensorflow:loss = 4.75537, step = 801 (0.297 sec)\n",
      "INFO:tensorflow:global_step/sec: 333.111\n",
      "INFO:tensorflow:loss = 2.75227, step = 901 (0.301 sec)\n",
      "INFO:tensorflow:Saving checkpoints for 1000 into C:\\Users\\MOHAME~1\\AppData\\Local\\Temp\\tmpnm335x4l\\model.ckpt.\n",
      "INFO:tensorflow:Loss for final step: 3.17262.\n"
     ]
    },
    {
     "data": {
      "text/plain": [
       "<tensorflow.python.estimator.canned.dnn.DNNClassifier at 0x4a8711fb38>"
      ]
     },
     "execution_count": 33,
     "metadata": {},
     "output_type": "execute_result"
    }
   ],
   "source": [
    "dnn_model.train(input_fn=input_func,steps=1000)"
   ]
  },
  {
   "cell_type": "code",
   "execution_count": 35,
   "metadata": {
    "collapsed": true
   },
   "outputs": [],
   "source": [
    "eval_input_func=tf.estimator.inputs.pandas_input_fn(x=X_test,y=y_test,batch_size=10,num_epochs=1,shuffle=False)"
   ]
  },
  {
   "cell_type": "code",
   "execution_count": 36,
   "metadata": {},
   "outputs": [
    {
     "name": "stdout",
     "output_type": "stream",
     "text": [
      "WARNING:tensorflow:Casting <dtype: 'float32'> labels to bool.\n",
      "WARNING:tensorflow:Casting <dtype: 'float32'> labels to bool.\n",
      "INFO:tensorflow:Starting evaluation at 2018-01-31-18:05:19\n",
      "INFO:tensorflow:Restoring parameters from C:\\Users\\MOHAME~1\\AppData\\Local\\Temp\\tmpnm335x4l\\model.ckpt-1000\n",
      "INFO:tensorflow:Finished evaluation at 2018-01-31-18:05:20\n",
      "INFO:tensorflow:Saving dict for global step 1000: accuracy = 0.728346, accuracy_baseline = 0.65748, auc = 0.822046, auc_precision_recall = 0.70657, average_loss = 0.49679, global_step = 1000, label/mean = 0.34252, loss = 4.85325, prediction/mean = 0.351205\n"
     ]
    },
    {
     "data": {
      "text/plain": [
       "{'accuracy': 0.72834647,\n",
       " 'accuracy_baseline': 0.65748036,\n",
       " 'auc': 0.82204551,\n",
       " 'auc_precision_recall': 0.70657021,\n",
       " 'average_loss': 0.49678984,\n",
       " 'global_step': 1000,\n",
       " 'label/mean': 0.34251967,\n",
       " 'loss': 4.8532548,\n",
       " 'prediction/mean': 0.35120511}"
      ]
     },
     "execution_count": 36,
     "metadata": {},
     "output_type": "execute_result"
    }
   ],
   "source": [
    "dnn_model.evaluate(eval_input_func)"
   ]
  },
  {
   "cell_type": "code",
   "execution_count": null,
   "metadata": {
    "collapsed": true
   },
   "outputs": [],
   "source": []
  },
  {
   "cell_type": "code",
   "execution_count": null,
   "metadata": {
    "collapsed": true
   },
   "outputs": [],
   "source": []
  },
  {
   "cell_type": "code",
   "execution_count": null,
   "metadata": {
    "collapsed": true
   },
   "outputs": [],
   "source": []
  },
  {
   "cell_type": "code",
   "execution_count": null,
   "metadata": {
    "collapsed": true
   },
   "outputs": [],
   "source": []
  },
  {
   "cell_type": "code",
   "execution_count": null,
   "metadata": {
    "collapsed": true
   },
   "outputs": [],
   "source": []
  },
  {
   "cell_type": "code",
   "execution_count": null,
   "metadata": {
    "collapsed": true
   },
   "outputs": [],
   "source": []
  },
  {
   "cell_type": "code",
   "execution_count": null,
   "metadata": {
    "collapsed": true
   },
   "outputs": [],
   "source": []
  },
  {
   "cell_type": "code",
   "execution_count": null,
   "metadata": {
    "collapsed": true
   },
   "outputs": [],
   "source": []
  },
  {
   "cell_type": "code",
   "execution_count": null,
   "metadata": {
    "collapsed": true
   },
   "outputs": [],
   "source": []
  },
  {
   "cell_type": "code",
   "execution_count": null,
   "metadata": {
    "collapsed": true
   },
   "outputs": [],
   "source": []
  },
  {
   "cell_type": "code",
   "execution_count": null,
   "metadata": {
    "collapsed": true
   },
   "outputs": [],
   "source": []
  },
  {
   "cell_type": "code",
   "execution_count": null,
   "metadata": {
    "collapsed": true
   },
   "outputs": [],
   "source": []
  },
  {
   "cell_type": "code",
   "execution_count": null,
   "metadata": {
    "collapsed": true
   },
   "outputs": [],
   "source": []
  },
  {
   "cell_type": "code",
   "execution_count": null,
   "metadata": {
    "collapsed": true
   },
   "outputs": [],
   "source": []
  },
  {
   "cell_type": "code",
   "execution_count": null,
   "metadata": {
    "collapsed": true
   },
   "outputs": [],
   "source": []
  },
  {
   "cell_type": "code",
   "execution_count": null,
   "metadata": {
    "collapsed": true
   },
   "outputs": [],
   "source": []
  },
  {
   "cell_type": "code",
   "execution_count": null,
   "metadata": {
    "collapsed": true
   },
   "outputs": [],
   "source": []
  },
  {
   "cell_type": "code",
   "execution_count": null,
   "metadata": {
    "collapsed": true
   },
   "outputs": [],
   "source": []
  },
  {
   "cell_type": "code",
   "execution_count": null,
   "metadata": {
    "collapsed": true
   },
   "outputs": [],
   "source": []
  },
  {
   "cell_type": "code",
   "execution_count": null,
   "metadata": {
    "collapsed": true
   },
   "outputs": [],
   "source": []
  },
  {
   "cell_type": "code",
   "execution_count": null,
   "metadata": {
    "collapsed": true
   },
   "outputs": [],
   "source": []
  },
  {
   "cell_type": "code",
   "execution_count": null,
   "metadata": {
    "collapsed": true
   },
   "outputs": [],
   "source": []
  },
  {
   "cell_type": "code",
   "execution_count": null,
   "metadata": {
    "collapsed": true
   },
   "outputs": [],
   "source": []
  },
  {
   "cell_type": "code",
   "execution_count": null,
   "metadata": {
    "collapsed": true
   },
   "outputs": [],
   "source": []
  },
  {
   "cell_type": "code",
   "execution_count": null,
   "metadata": {
    "collapsed": true
   },
   "outputs": [],
   "source": []
  },
  {
   "cell_type": "code",
   "execution_count": null,
   "metadata": {
    "collapsed": true
   },
   "outputs": [],
   "source": []
  },
  {
   "cell_type": "code",
   "execution_count": null,
   "metadata": {
    "collapsed": true
   },
   "outputs": [],
   "source": []
  },
  {
   "cell_type": "code",
   "execution_count": null,
   "metadata": {
    "collapsed": true
   },
   "outputs": [],
   "source": []
  },
  {
   "cell_type": "code",
   "execution_count": null,
   "metadata": {
    "collapsed": true
   },
   "outputs": [],
   "source": []
  },
  {
   "cell_type": "code",
   "execution_count": null,
   "metadata": {
    "collapsed": true
   },
   "outputs": [],
   "source": []
  },
  {
   "cell_type": "code",
   "execution_count": null,
   "metadata": {
    "collapsed": true
   },
   "outputs": [],
   "source": []
  },
  {
   "cell_type": "code",
   "execution_count": null,
   "metadata": {
    "collapsed": true
   },
   "outputs": [],
   "source": []
  },
  {
   "cell_type": "code",
   "execution_count": null,
   "metadata": {
    "collapsed": true
   },
   "outputs": [],
   "source": []
  },
  {
   "cell_type": "code",
   "execution_count": null,
   "metadata": {
    "collapsed": true
   },
   "outputs": [],
   "source": []
  },
  {
   "cell_type": "code",
   "execution_count": null,
   "metadata": {
    "collapsed": true
   },
   "outputs": [],
   "source": []
  },
  {
   "cell_type": "code",
   "execution_count": null,
   "metadata": {
    "collapsed": true
   },
   "outputs": [],
   "source": []
  },
  {
   "cell_type": "code",
   "execution_count": null,
   "metadata": {
    "collapsed": true
   },
   "outputs": [],
   "source": []
  },
  {
   "cell_type": "code",
   "execution_count": null,
   "metadata": {
    "collapsed": true
   },
   "outputs": [],
   "source": []
  },
  {
   "cell_type": "code",
   "execution_count": null,
   "metadata": {
    "collapsed": true
   },
   "outputs": [],
   "source": []
  },
  {
   "cell_type": "code",
   "execution_count": null,
   "metadata": {
    "collapsed": true
   },
   "outputs": [],
   "source": []
  },
  {
   "cell_type": "code",
   "execution_count": null,
   "metadata": {
    "collapsed": true
   },
   "outputs": [],
   "source": []
  },
  {
   "cell_type": "code",
   "execution_count": null,
   "metadata": {
    "collapsed": true
   },
   "outputs": [],
   "source": []
  },
  {
   "cell_type": "code",
   "execution_count": null,
   "metadata": {
    "collapsed": true
   },
   "outputs": [],
   "source": []
  },
  {
   "cell_type": "code",
   "execution_count": null,
   "metadata": {
    "collapsed": true
   },
   "outputs": [],
   "source": []
  },
  {
   "cell_type": "code",
   "execution_count": null,
   "metadata": {
    "collapsed": true
   },
   "outputs": [],
   "source": []
  },
  {
   "cell_type": "code",
   "execution_count": null,
   "metadata": {
    "collapsed": true
   },
   "outputs": [],
   "source": []
  },
  {
   "cell_type": "code",
   "execution_count": null,
   "metadata": {
    "collapsed": true
   },
   "outputs": [],
   "source": []
  },
  {
   "cell_type": "code",
   "execution_count": null,
   "metadata": {
    "collapsed": true
   },
   "outputs": [],
   "source": []
  },
  {
   "cell_type": "code",
   "execution_count": null,
   "metadata": {
    "collapsed": true
   },
   "outputs": [],
   "source": []
  },
  {
   "cell_type": "code",
   "execution_count": null,
   "metadata": {
    "collapsed": true
   },
   "outputs": [],
   "source": []
  },
  {
   "cell_type": "code",
   "execution_count": null,
   "metadata": {
    "collapsed": true
   },
   "outputs": [],
   "source": []
  },
  {
   "cell_type": "code",
   "execution_count": null,
   "metadata": {
    "collapsed": true
   },
   "outputs": [],
   "source": []
  },
  {
   "cell_type": "code",
   "execution_count": null,
   "metadata": {
    "collapsed": true
   },
   "outputs": [],
   "source": []
  },
  {
   "cell_type": "code",
   "execution_count": null,
   "metadata": {
    "collapsed": true
   },
   "outputs": [],
   "source": []
  },
  {
   "cell_type": "code",
   "execution_count": null,
   "metadata": {
    "collapsed": true
   },
   "outputs": [],
   "source": []
  },
  {
   "cell_type": "code",
   "execution_count": null,
   "metadata": {
    "collapsed": true
   },
   "outputs": [],
   "source": []
  },
  {
   "cell_type": "code",
   "execution_count": null,
   "metadata": {
    "collapsed": true
   },
   "outputs": [],
   "source": []
  },
  {
   "cell_type": "code",
   "execution_count": null,
   "metadata": {
    "collapsed": true
   },
   "outputs": [],
   "source": []
  },
  {
   "cell_type": "code",
   "execution_count": null,
   "metadata": {
    "collapsed": true
   },
   "outputs": [],
   "source": []
  },
  {
   "cell_type": "code",
   "execution_count": null,
   "metadata": {
    "collapsed": true
   },
   "outputs": [],
   "source": []
  },
  {
   "cell_type": "code",
   "execution_count": null,
   "metadata": {
    "collapsed": true
   },
   "outputs": [],
   "source": []
  }
 ],
 "metadata": {
  "kernelspec": {
   "display_name": "Python 3",
   "language": "python",
   "name": "python3"
  },
  "language_info": {
   "codemirror_mode": {
    "name": "ipython",
    "version": 3
   },
   "file_extension": ".py",
   "mimetype": "text/x-python",
   "name": "python",
   "nbconvert_exporter": "python",
   "pygments_lexer": "ipython3",
   "version": "3.6.1"
  }
 },
 "nbformat": 4,
 "nbformat_minor": 2
}
