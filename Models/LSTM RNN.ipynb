{
 "cells": [
  {
   "cell_type": "code",
   "execution_count": 1,
   "metadata": {
    "collapsed": true
   },
   "outputs": [],
   "source": [
    "import pandas as pd\n",
    "import numpy as np\n",
    "import matplotlib.pyplot as plt\n",
    "%matplotlib inline"
   ]
  },
  {
   "cell_type": "code",
   "execution_count": 2,
   "metadata": {
    "collapsed": true
   },
   "outputs": [],
   "source": [
    "training_set=pd.read_csv(\"C:/Users/mohamed ismail/Desktop/Google_Stock_Price_Train.csv\")"
   ]
  },
  {
   "cell_type": "code",
   "execution_count": 3,
   "metadata": {},
   "outputs": [
    {
     "data": {
      "text/html": [
       "<div>\n",
       "<style>\n",
       "    .dataframe thead tr:only-child th {\n",
       "        text-align: right;\n",
       "    }\n",
       "\n",
       "    .dataframe thead th {\n",
       "        text-align: left;\n",
       "    }\n",
       "\n",
       "    .dataframe tbody tr th {\n",
       "        vertical-align: top;\n",
       "    }\n",
       "</style>\n",
       "<table border=\"1\" class=\"dataframe\">\n",
       "  <thead>\n",
       "    <tr style=\"text-align: right;\">\n",
       "      <th></th>\n",
       "      <th>Date</th>\n",
       "      <th>Open</th>\n",
       "      <th>High</th>\n",
       "      <th>Low</th>\n",
       "      <th>Close</th>\n",
       "      <th>Volume</th>\n",
       "    </tr>\n",
       "  </thead>\n",
       "  <tbody>\n",
       "    <tr>\n",
       "      <th>0</th>\n",
       "      <td>1/3/2012</td>\n",
       "      <td>325.25</td>\n",
       "      <td>332.83</td>\n",
       "      <td>324.97</td>\n",
       "      <td>663.59</td>\n",
       "      <td>7,380,500</td>\n",
       "    </tr>\n",
       "    <tr>\n",
       "      <th>1</th>\n",
       "      <td>1/4/2012</td>\n",
       "      <td>331.27</td>\n",
       "      <td>333.87</td>\n",
       "      <td>329.08</td>\n",
       "      <td>666.45</td>\n",
       "      <td>5,749,400</td>\n",
       "    </tr>\n",
       "    <tr>\n",
       "      <th>2</th>\n",
       "      <td>1/5/2012</td>\n",
       "      <td>329.83</td>\n",
       "      <td>330.75</td>\n",
       "      <td>326.89</td>\n",
       "      <td>657.21</td>\n",
       "      <td>6,590,300</td>\n",
       "    </tr>\n",
       "    <tr>\n",
       "      <th>3</th>\n",
       "      <td>1/6/2012</td>\n",
       "      <td>328.34</td>\n",
       "      <td>328.77</td>\n",
       "      <td>323.68</td>\n",
       "      <td>648.24</td>\n",
       "      <td>5,405,900</td>\n",
       "    </tr>\n",
       "    <tr>\n",
       "      <th>4</th>\n",
       "      <td>1/9/2012</td>\n",
       "      <td>322.04</td>\n",
       "      <td>322.29</td>\n",
       "      <td>309.46</td>\n",
       "      <td>620.76</td>\n",
       "      <td>11,688,800</td>\n",
       "    </tr>\n",
       "  </tbody>\n",
       "</table>\n",
       "</div>"
      ],
      "text/plain": [
       "       Date    Open    High     Low   Close      Volume\n",
       "0  1/3/2012  325.25  332.83  324.97  663.59   7,380,500\n",
       "1  1/4/2012  331.27  333.87  329.08  666.45   5,749,400\n",
       "2  1/5/2012  329.83  330.75  326.89  657.21   6,590,300\n",
       "3  1/6/2012  328.34  328.77  323.68  648.24   5,405,900\n",
       "4  1/9/2012  322.04  322.29  309.46  620.76  11,688,800"
      ]
     },
     "execution_count": 3,
     "metadata": {},
     "output_type": "execute_result"
    }
   ],
   "source": [
    "training_set.head()"
   ]
  },
  {
   "cell_type": "code",
   "execution_count": 4,
   "metadata": {
    "collapsed": true
   },
   "outputs": [],
   "source": [
    "training_set =training_set.iloc[:,1:2].values"
   ]
  },
  {
   "cell_type": "code",
   "execution_count": 5,
   "metadata": {},
   "outputs": [
    {
     "data": {
      "text/plain": [
       "array([[ 325.25],\n",
       "       [ 331.27],\n",
       "       [ 329.83],\n",
       "       ..., \n",
       "       [ 793.7 ],\n",
       "       [ 783.33],\n",
       "       [ 782.75]])"
      ]
     },
     "execution_count": 5,
     "metadata": {},
     "output_type": "execute_result"
    }
   ],
   "source": [
    "training_set"
   ]
  },
  {
   "cell_type": "code",
   "execution_count": 6,
   "metadata": {
    "collapsed": true
   },
   "outputs": [],
   "source": [
    "from sklearn.preprocessing import MinMaxScaler"
   ]
  },
  {
   "cell_type": "code",
   "execution_count": 7,
   "metadata": {
    "collapsed": true
   },
   "outputs": [],
   "source": [
    "sc=MinMaxScaler()\n",
    "training_set=sc.fit_transform(training_set)"
   ]
  },
  {
   "cell_type": "code",
   "execution_count": 8,
   "metadata": {
    "collapsed": true
   },
   "outputs": [],
   "source": [
    "X_train=training_set[0:1257]"
   ]
  },
  {
   "cell_type": "code",
   "execution_count": 9,
   "metadata": {
    "collapsed": true
   },
   "outputs": [],
   "source": [
    "y_train=training_set[1:1258]"
   ]
  },
  {
   "cell_type": "code",
   "execution_count": 10,
   "metadata": {
    "collapsed": true
   },
   "outputs": [],
   "source": [
    "X_train=np.reshape(X_train,(1257,1,1))"
   ]
  },
  {
   "cell_type": "code",
   "execution_count": 11,
   "metadata": {},
   "outputs": [
    {
     "name": "stderr",
     "output_type": "stream",
     "text": [
      "Using Theano backend.\n",
      "WARNING (theano.configdefaults): g++ not available, if using conda: `conda install m2w64-toolchain`\n",
      "C:\\Users\\mohamed ismail\\Anaconda3\\lib\\site-packages\\theano\\configdefaults.py:560: UserWarning: DeprecationWarning: there is no c++ compiler.This is deprecated and with Theano 0.11 a c++ compiler will be mandatory\n",
      "  warnings.warn(\"DeprecationWarning: there is no c++ compiler.\"\n",
      "WARNING (theano.configdefaults): g++ not detected ! Theano will be unable to execute optimized C-implementations (for both CPU and GPU) and will default to Python implementations. Performance will be severely degraded. To remove this warning, set Theano flags cxx to an empty string.\n",
      "WARNING (theano.tensor.blas): Using NumPy C-API based implementation for BLAS functions.\n"
     ]
    }
   ],
   "source": [
    "from keras.models import Sequential\n",
    "from keras.layers import Dense\n",
    "from keras.layers import LSTM"
   ]
  },
  {
   "cell_type": "code",
   "execution_count": 12,
   "metadata": {
    "collapsed": true
   },
   "outputs": [],
   "source": [
    "regressor = Sequential()"
   ]
  },
  {
   "cell_type": "code",
   "execution_count": 13,
   "metadata": {
    "collapsed": true
   },
   "outputs": [],
   "source": [
    "regressor.add(LSTM(units=4,activation='sigmoid',input_shape=(None,1)))"
   ]
  },
  {
   "cell_type": "code",
   "execution_count": 14,
   "metadata": {
    "collapsed": true
   },
   "outputs": [],
   "source": [
    "regressor.add(Dense(units=1))"
   ]
  },
  {
   "cell_type": "code",
   "execution_count": 15,
   "metadata": {
    "collapsed": true
   },
   "outputs": [],
   "source": [
    "regressor.compile(optimizer='adam',loss='mean_squared_error')"
   ]
  },
  {
   "cell_type": "code",
   "execution_count": 16,
   "metadata": {},
   "outputs": [
    {
     "name": "stdout",
     "output_type": "stream",
     "text": [
      "Epoch 1/200\n",
      "1257/1257 [==============================] - 4s 3ms/step - loss: 0.1195\n",
      "Epoch 2/200\n",
      "1257/1257 [==============================] - 3s 3ms/step - loss: 0.0892\n",
      "Epoch 3/200\n",
      "1257/1257 [==============================] - 3s 3ms/step - loss: 0.0757\n",
      "Epoch 4/200\n",
      "1257/1257 [==============================] - 3s 3ms/step - loss: 0.0705\n",
      "Epoch 5/200\n",
      "1257/1257 [==============================] - 3s 3ms/step - loss: 0.0683\n",
      "Epoch 6/200\n",
      "1257/1257 [==============================] - 3s 3ms/step - loss: 0.0667\n",
      "Epoch 7/200\n",
      "1257/1257 [==============================] - 4s 3ms/step - loss: 0.0653\n",
      "Epoch 8/200\n",
      "1257/1257 [==============================] - 4s 3ms/step - loss: 0.0636\n",
      "Epoch 9/200\n",
      "1257/1257 [==============================] - 3s 3ms/step - loss: 0.0619\n",
      "Epoch 10/200\n",
      "1257/1257 [==============================] - 3s 3ms/step - loss: 0.0602\n",
      "Epoch 11/200\n",
      "1257/1257 [==============================] - 3s 3ms/step - loss: 0.0583\n",
      "Epoch 12/200\n",
      "1257/1257 [==============================] - 4s 3ms/step - loss: 0.0564\n",
      "Epoch 13/200\n",
      "1257/1257 [==============================] - 4s 3ms/step - loss: 0.0544\n",
      "Epoch 14/200\n",
      "1257/1257 [==============================] - 4s 3ms/step - loss: 0.0523\n",
      "Epoch 15/200\n",
      "1257/1257 [==============================] - 4s 3ms/step - loss: 0.0502\n",
      "Epoch 16/200\n",
      "1257/1257 [==============================] - 3s 3ms/step - loss: 0.0480\n",
      "Epoch 17/200\n",
      "1257/1257 [==============================] - 3s 3ms/step - loss: 0.0457\n",
      "Epoch 18/200\n",
      "1257/1257 [==============================] - 4s 3ms/step - loss: 0.0434\n",
      "Epoch 19/200\n",
      "1257/1257 [==============================] - 4s 3ms/step - loss: 0.0410\n",
      "Epoch 20/200\n",
      "1257/1257 [==============================] - 3s 2ms/step - loss: 0.0386\n",
      "Epoch 21/200\n",
      "1257/1257 [==============================] - 3s 2ms/step - loss: 0.0361\n",
      "Epoch 22/200\n",
      "1257/1257 [==============================] - 3s 3ms/step - loss: 0.0336\n",
      "Epoch 23/200\n",
      "1257/1257 [==============================] - 3s 2ms/step - loss: 0.0312\n",
      "Epoch 24/200\n",
      "1257/1257 [==============================] - 3s 2ms/step - loss: 0.0287\n",
      "Epoch 25/200\n",
      "1257/1257 [==============================] - 3s 3ms/step - loss: 0.0263\n",
      "Epoch 26/200\n",
      "1257/1257 [==============================] - 3s 2ms/step - loss: 0.0239\n",
      "Epoch 27/200\n",
      "1257/1257 [==============================] - 3s 3ms/step - loss: 0.0216\n",
      "Epoch 28/200\n",
      "1257/1257 [==============================] - 3s 3ms/step - loss: 0.0194\n",
      "Epoch 29/200\n",
      "1257/1257 [==============================] - 3s 2ms/step - loss: 0.0172\n",
      "Epoch 30/200\n",
      "1257/1257 [==============================] - 3s 2ms/step - loss: 0.0152\n",
      "Epoch 31/200\n",
      "1257/1257 [==============================] - 3s 3ms/step - loss: 0.0133\n",
      "Epoch 32/200\n",
      "1257/1257 [==============================] - 3s 2ms/step - loss: 0.0116\n",
      "Epoch 33/200\n",
      "1257/1257 [==============================] - 3s 2ms/step - loss: 0.0100\n",
      "Epoch 34/200\n",
      "1257/1257 [==============================] - 3s 2ms/step - loss: 0.0086\n",
      "Epoch 35/200\n",
      "1257/1257 [==============================] - 4s 3ms/step - loss: 0.0073\n",
      "Epoch 36/200\n",
      "1257/1257 [==============================] - 3s 3ms/step - loss: 0.0061\n",
      "Epoch 37/200\n",
      "1257/1257 [==============================] - 4s 3ms/step - loss: 0.0051\n",
      "Epoch 38/200\n",
      "1257/1257 [==============================] - 3s 3ms/step - loss: 0.0042\n",
      "Epoch 39/200\n",
      "1257/1257 [==============================] - 3s 3ms/step - loss: 0.0034\n",
      "Epoch 40/200\n",
      "1257/1257 [==============================] - 4s 3ms/step - loss: 0.0028\n",
      "Epoch 41/200\n",
      "1257/1257 [==============================] - 3s 3ms/step - loss: 0.0023\n",
      "Epoch 42/200\n",
      "1257/1257 [==============================] - 3s 2ms/step - loss: 0.0018\n",
      "Epoch 43/200\n",
      "1257/1257 [==============================] - 3s 3ms/step - loss: 0.0015\n",
      "Epoch 44/200\n",
      "1257/1257 [==============================] - 3s 2ms/step - loss: 0.0012\n",
      "Epoch 45/200\n",
      "1257/1257 [==============================] - 3s 2ms/step - loss: 9.4212e-04\n",
      "Epoch 46/200\n",
      "1257/1257 [==============================] - 3s 2ms/step - loss: 7.6356e-04\n",
      "Epoch 47/200\n",
      "1257/1257 [==============================] - 3s 2ms/step - loss: 6.2934e-04\n",
      "Epoch 48/200\n",
      "1257/1257 [==============================] - 3s 2ms/step - loss: 5.2654e-04\n",
      "Epoch 49/200\n",
      "1257/1257 [==============================] - 3s 2ms/step - loss: 4.4807e-04\n",
      "Epoch 50/200\n",
      "1257/1257 [==============================] - 3s 2ms/step - loss: 3.9081e-04\n",
      "Epoch 51/200\n",
      "1257/1257 [==============================] - 3s 2ms/step - loss: 3.4793e-04\n",
      "Epoch 52/200\n",
      "1257/1257 [==============================] - 3s 2ms/step - loss: 3.1665e-04\n",
      "Epoch 53/200\n",
      "1257/1257 [==============================] - 3s 3ms/step - loss: 2.9425e-04\n",
      "Epoch 54/200\n",
      "1257/1257 [==============================] - 3s 2ms/step - loss: 2.7861e-04\n",
      "Epoch 55/200\n",
      "1257/1257 [==============================] - 4s 3ms/step - loss: 2.6744e-04\n",
      "Epoch 56/200\n",
      "1257/1257 [==============================] - 4s 3ms/step - loss: 2.6017e-04\n",
      "Epoch 57/200\n",
      "1257/1257 [==============================] - 4s 3ms/step - loss: 2.5529e-04\n",
      "Epoch 58/200\n",
      "1257/1257 [==============================] - 4s 3ms/step - loss: 2.5191e-04\n",
      "Epoch 59/200\n",
      "1257/1257 [==============================] - 3s 3ms/step - loss: 2.4911e-04\n",
      "Epoch 60/200\n",
      "1257/1257 [==============================] - 3s 3ms/step - loss: 2.4792e-04\n",
      "Epoch 61/200\n",
      "1257/1257 [==============================] - 4s 3ms/step - loss: 2.4668e-04\n",
      "Epoch 62/200\n",
      "1257/1257 [==============================] - 4s 4ms/step - loss: 2.4573e-04\n",
      "Epoch 63/200\n",
      "1257/1257 [==============================] - 4s 3ms/step - loss: 2.4638e-04\n",
      "Epoch 64/200\n",
      "1257/1257 [==============================] - 4s 3ms/step - loss: 2.4534e-04\n",
      "Epoch 65/200\n",
      "1257/1257 [==============================] - 3s 3ms/step - loss: 2.4508e-04\n",
      "Epoch 66/200\n",
      "1257/1257 [==============================] - 3s 2ms/step - loss: 2.4551e-04\n",
      "Epoch 67/200\n",
      "1257/1257 [==============================] - 4s 3ms/step - loss: 2.4524e-04\n",
      "Epoch 68/200\n",
      "1257/1257 [==============================] - 3s 3ms/step - loss: 2.4800e-04\n",
      "Epoch 69/200\n",
      "1257/1257 [==============================] - 3s 3ms/step - loss: 2.4477e-04\n",
      "Epoch 70/200\n",
      "1257/1257 [==============================] - 3s 3ms/step - loss: 2.4482e-04\n",
      "Epoch 71/200\n",
      "1257/1257 [==============================] - 3s 3ms/step - loss: 2.4480e-04\n",
      "Epoch 72/200\n",
      "1257/1257 [==============================] - 5s 4ms/step - loss: 2.4558e-04\n",
      "Epoch 73/200\n",
      "1257/1257 [==============================] - 3s 3ms/step - loss: 2.4495e-04\n",
      "Epoch 74/200\n",
      "1257/1257 [==============================] - 4s 3ms/step - loss: 2.4587e-04\n",
      "Epoch 75/200\n",
      "1257/1257 [==============================] - 4s 3ms/step - loss: 2.4555e-04\n",
      "Epoch 76/200\n",
      "1257/1257 [==============================] - 3s 3ms/step - loss: 2.4477e-04\n",
      "Epoch 77/200\n",
      "1257/1257 [==============================] - 4s 3ms/step - loss: 2.4553e-04\n",
      "Epoch 78/200\n",
      "1257/1257 [==============================] - 3s 3ms/step - loss: 2.4685e-04\n",
      "Epoch 79/200\n",
      "1257/1257 [==============================] - 3s 3ms/step - loss: 2.4548e-04\n",
      "Epoch 80/200\n",
      "1257/1257 [==============================] - 3s 3ms/step - loss: 2.4478e-04\n",
      "Epoch 81/200\n",
      "1257/1257 [==============================] - 3s 3ms/step - loss: 2.4567e-04\n",
      "Epoch 82/200\n",
      "1257/1257 [==============================] - 3s 2ms/step - loss: 2.4486e-04\n",
      "Epoch 83/200\n",
      "1257/1257 [==============================] - 3s 3ms/step - loss: 2.4459e-04\n",
      "Epoch 84/200\n",
      "1257/1257 [==============================] - 3s 3ms/step - loss: 2.4510e-04\n",
      "Epoch 85/200\n",
      "1257/1257 [==============================] - 3s 2ms/step - loss: 2.4481e-04\n",
      "Epoch 86/200\n",
      "1257/1257 [==============================] - 4s 3ms/step - loss: 2.4482e-04\n",
      "Epoch 87/200\n",
      "1257/1257 [==============================] - 3s 3ms/step - loss: 2.4534e-04\n",
      "Epoch 88/200\n",
      "1257/1257 [==============================] - 3s 2ms/step - loss: 2.4469e-04\n",
      "Epoch 89/200\n",
      "1257/1257 [==============================] - 4s 3ms/step - loss: 2.4482e-04\n",
      "Epoch 90/200\n",
      "1257/1257 [==============================] - 4s 3ms/step - loss: 2.4464e-04\n",
      "Epoch 91/200\n",
      "1257/1257 [==============================] - 4s 3ms/step - loss: 2.4467e-04\n",
      "Epoch 92/200\n",
      "1257/1257 [==============================] - 4s 3ms/step - loss: 2.4543e-04\n",
      "Epoch 93/200\n",
      "1257/1257 [==============================] - 4s 3ms/step - loss: 2.4604e-04\n",
      "Epoch 94/200\n",
      "1257/1257 [==============================] - 3s 3ms/step - loss: 2.4509e-04\n",
      "Epoch 95/200\n"
     ]
    },
    {
     "name": "stdout",
     "output_type": "stream",
     "text": [
      "1257/1257 [==============================] - 3s 3ms/step - loss: 2.4564e-04\n",
      "Epoch 96/200\n",
      "1257/1257 [==============================] - 4s 3ms/step - loss: 2.4507e-04\n",
      "Epoch 97/200\n",
      "1257/1257 [==============================] - 3s 3ms/step - loss: 2.4533e-04\n",
      "Epoch 98/200\n",
      "1257/1257 [==============================] - 4s 3ms/step - loss: 2.4535e-04\n",
      "Epoch 99/200\n",
      "1257/1257 [==============================] - 3s 3ms/step - loss: 2.4589e-04\n",
      "Epoch 100/200\n",
      "1257/1257 [==============================] - 3s 3ms/step - loss: 2.4529e-04\n",
      "Epoch 101/200\n",
      "1257/1257 [==============================] - 3s 3ms/step - loss: 2.4509e-04\n",
      "Epoch 102/200\n",
      "1257/1257 [==============================] - 3s 3ms/step - loss: 2.4529e-04\n",
      "Epoch 103/200\n",
      "1257/1257 [==============================] - 3s 3ms/step - loss: 2.4505e-04\n",
      "Epoch 104/200\n",
      "1257/1257 [==============================] - 3s 3ms/step - loss: 2.4711e-04\n",
      "Epoch 105/200\n",
      "1257/1257 [==============================] - 3s 3ms/step - loss: 2.4468e-04\n",
      "Epoch 106/200\n",
      "1257/1257 [==============================] - 3s 3ms/step - loss: 2.4590e-04\n",
      "Epoch 107/200\n",
      "1257/1257 [==============================] - 3s 3ms/step - loss: 2.4534e-04\n",
      "Epoch 108/200\n",
      "1257/1257 [==============================] - 3s 2ms/step - loss: 2.4658e-04\n",
      "Epoch 109/200\n",
      "1257/1257 [==============================] - 3s 2ms/step - loss: 2.4586e-04\n",
      "Epoch 110/200\n",
      "1257/1257 [==============================] - 3s 3ms/step - loss: 2.4577e-04\n",
      "Epoch 111/200\n",
      "1257/1257 [==============================] - 3s 3ms/step - loss: 2.4524e-04\n",
      "Epoch 112/200\n",
      "1257/1257 [==============================] - 3s 3ms/step - loss: 2.4430e-04\n",
      "Epoch 113/200\n",
      "1257/1257 [==============================] - 3s 3ms/step - loss: 2.4637e-04\n",
      "Epoch 114/200\n",
      "1257/1257 [==============================] - 3s 3ms/step - loss: 2.4505e-04\n",
      "Epoch 115/200\n",
      "1257/1257 [==============================] - 3s 3ms/step - loss: 2.4698e-04\n",
      "Epoch 116/200\n",
      "1257/1257 [==============================] - 4s 3ms/step - loss: 2.4534e-04\n",
      "Epoch 117/200\n",
      "1257/1257 [==============================] - 3s 3ms/step - loss: 2.4720e-04\n",
      "Epoch 118/200\n",
      "1257/1257 [==============================] - 3s 2ms/step - loss: 2.4591e-04\n",
      "Epoch 119/200\n",
      "1257/1257 [==============================] - 3s 3ms/step - loss: 2.4546e-04\n",
      "Epoch 120/200\n",
      "1257/1257 [==============================] - 3s 3ms/step - loss: 2.4577e-04\n",
      "Epoch 121/200\n",
      "1257/1257 [==============================] - 3s 2ms/step - loss: 2.4575e-04\n",
      "Epoch 122/200\n",
      "1257/1257 [==============================] - 3s 3ms/step - loss: 2.4602e-04\n",
      "Epoch 123/200\n",
      "1257/1257 [==============================] - 3s 3ms/step - loss: 2.4617e-04\n",
      "Epoch 124/200\n",
      "1257/1257 [==============================] - 3s 3ms/step - loss: 2.4574e-04\n",
      "Epoch 125/200\n",
      "1257/1257 [==============================] - 3s 2ms/step - loss: 2.4586e-04\n",
      "Epoch 126/200\n",
      "1257/1257 [==============================] - 3s 3ms/step - loss: 2.4609e-04\n",
      "Epoch 127/200\n",
      "1257/1257 [==============================] - 3s 2ms/step - loss: 2.4988e-04\n",
      "Epoch 128/200\n",
      "1257/1257 [==============================] - 3s 2ms/step - loss: 2.4598e-04\n",
      "Epoch 129/200\n",
      "1257/1257 [==============================] - 3s 3ms/step - loss: 2.4749e-04\n",
      "Epoch 130/200\n",
      "1257/1257 [==============================] - 4s 3ms/step - loss: 2.4641e-04\n",
      "Epoch 131/200\n",
      "1257/1257 [==============================] - 3s 3ms/step - loss: 2.4578e-04\n",
      "Epoch 132/200\n",
      "1257/1257 [==============================] - 3s 2ms/step - loss: 2.4639e-04\n",
      "Epoch 133/200\n",
      "1257/1257 [==============================] - 3s 2ms/step - loss: 2.4748e-04\n",
      "Epoch 134/200\n",
      "1257/1257 [==============================] - 3s 2ms/step - loss: 2.4581e-04\n",
      "Epoch 135/200\n",
      "1257/1257 [==============================] - 3s 3ms/step - loss: 2.4762e-04\n",
      "Epoch 136/200\n",
      "1257/1257 [==============================] - 3s 2ms/step - loss: 2.4783e-04\n",
      "Epoch 137/200\n",
      "1257/1257 [==============================] - 3s 2ms/step - loss: 2.4702e-04\n",
      "Epoch 138/200\n",
      "1257/1257 [==============================] - 4s 3ms/step - loss: 2.4595e-04\n",
      "Epoch 139/200\n",
      "1257/1257 [==============================] - 4s 3ms/step - loss: 2.4780e-04\n",
      "Epoch 140/200\n",
      "1257/1257 [==============================] - 4s 3ms/step - loss: 2.4616e-04\n",
      "Epoch 141/200\n",
      "1257/1257 [==============================] - 3s 3ms/step - loss: 2.4608e-04\n",
      "Epoch 142/200\n",
      "1257/1257 [==============================] - 3s 3ms/step - loss: 2.4504e-04\n",
      "Epoch 143/200\n",
      "1257/1257 [==============================] - 3s 3ms/step - loss: 2.4711e-04\n",
      "Epoch 144/200\n",
      "1257/1257 [==============================] - 3s 3ms/step - loss: 2.4713e-04\n",
      "Epoch 145/200\n",
      "1257/1257 [==============================] - 3s 3ms/step - loss: 2.5377e-04\n",
      "Epoch 146/200\n",
      "1257/1257 [==============================] - 3s 3ms/step - loss: 2.4761e-04\n",
      "Epoch 147/200\n",
      "1257/1257 [==============================] - 3s 3ms/step - loss: 2.4563e-04\n",
      "Epoch 148/200\n",
      "1257/1257 [==============================] - 3s 3ms/step - loss: 2.4530e-04\n",
      "Epoch 149/200\n",
      "1257/1257 [==============================] - 3s 3ms/step - loss: 2.4638e-04\n",
      "Epoch 150/200\n",
      "1257/1257 [==============================] - 3s 3ms/step - loss: 2.4800e-04\n",
      "Epoch 151/200\n",
      "1257/1257 [==============================] - 3s 3ms/step - loss: 2.4660e-04\n",
      "Epoch 152/200\n",
      "1257/1257 [==============================] - 3s 3ms/step - loss: 2.4563e-04\n",
      "Epoch 153/200\n",
      "1257/1257 [==============================] - 3s 3ms/step - loss: 2.4521e-04\n",
      "Epoch 154/200\n",
      "1257/1257 [==============================] - 3s 3ms/step - loss: 2.4697e-04\n",
      "Epoch 155/200\n",
      "1257/1257 [==============================] - 3s 3ms/step - loss: 2.4891e-04\n",
      "Epoch 156/200\n",
      "1257/1257 [==============================] - 4s 3ms/step - loss: 2.4724e-04\n",
      "Epoch 157/200\n",
      "1257/1257 [==============================] - 5s 4ms/step - loss: 2.4622e-04\n",
      "Epoch 158/200\n",
      "1257/1257 [==============================] - 5s 4ms/step - loss: 2.4850e-04\n",
      "Epoch 159/200\n",
      "1257/1257 [==============================] - 5s 4ms/step - loss: 2.4937e-04\n",
      "Epoch 160/200\n",
      "1257/1257 [==============================] - 4s 3ms/step - loss: 2.4531e-04\n",
      "Epoch 161/200\n",
      "1257/1257 [==============================] - 4s 3ms/step - loss: 2.4529e-04\n",
      "Epoch 162/200\n",
      "1257/1257 [==============================] - 4s 3ms/step - loss: 2.4558e-04\n",
      "Epoch 163/200\n",
      "1257/1257 [==============================] - 4s 3ms/step - loss: 2.4573e-04\n",
      "Epoch 164/200\n",
      "1257/1257 [==============================] - 3s 3ms/step - loss: 2.4650e-04\n",
      "Epoch 165/200\n",
      "1257/1257 [==============================] - 4s 3ms/step - loss: 2.4839e-04\n",
      "Epoch 166/200\n",
      "1257/1257 [==============================] - 4s 3ms/step - loss: 2.4819e-04\n",
      "Epoch 167/200\n",
      "1257/1257 [==============================] - 4s 3ms/step - loss: 2.4615e-04\n",
      "Epoch 168/200\n",
      "1257/1257 [==============================] - 4s 3ms/step - loss: 2.4799e-04\n",
      "Epoch 169/200\n",
      "1257/1257 [==============================] - 3s 2ms/step - loss: 2.4860e-04\n",
      "Epoch 170/200\n",
      "1257/1257 [==============================] - 3s 3ms/step - loss: 2.4801e-04\n",
      "Epoch 171/200\n",
      "1257/1257 [==============================] - 4s 3ms/step - loss: 2.4580e-04\n",
      "Epoch 172/200\n",
      "1257/1257 [==============================] - 4s 3ms/step - loss: 2.4655e-04\n",
      "Epoch 173/200\n",
      "1257/1257 [==============================] - 4s 3ms/step - loss: 2.4672e-04\n",
      "Epoch 174/200\n",
      "1257/1257 [==============================] - 3s 3ms/step - loss: 2.4767e-04\n",
      "Epoch 175/200\n",
      "1257/1257 [==============================] - 3s 2ms/step - loss: 2.4614e-04\n",
      "Epoch 176/200\n",
      "1257/1257 [==============================] - 3s 3ms/step - loss: 2.4750e-04\n",
      "Epoch 177/200\n",
      "1257/1257 [==============================] - 3s 3ms/step - loss: 2.4595e-04\n",
      "Epoch 178/200\n",
      "1257/1257 [==============================] - 3s 3ms/step - loss: 2.4911e-04\n",
      "Epoch 179/200\n",
      "1257/1257 [==============================] - 3s 3ms/step - loss: 2.4718e-04\n",
      "Epoch 180/200\n",
      "1257/1257 [==============================] - 3s 3ms/step - loss: 2.5190e-04\n",
      "Epoch 181/200\n",
      "1257/1257 [==============================] - 3s 3ms/step - loss: 2.5207e-04\n",
      "Epoch 182/200\n",
      "1257/1257 [==============================] - 3s 3ms/step - loss: 2.4471e-04\n",
      "Epoch 183/200\n",
      "1257/1257 [==============================] - 4s 4ms/step - loss: 2.4790e-04\n",
      "Epoch 184/200\n",
      "1257/1257 [==============================] - 4s 3ms/step - loss: 2.4734e-04\n",
      "Epoch 185/200\n",
      "1257/1257 [==============================] - 4s 3ms/step - loss: 2.5482e-04\n",
      "Epoch 186/200\n",
      "1257/1257 [==============================] - 3s 3ms/step - loss: 2.4617e-04\n",
      "Epoch 187/200\n",
      "1257/1257 [==============================] - 3s 3ms/step - loss: 2.5225e-04\n",
      "Epoch 188/200\n",
      "1257/1257 [==============================] - 3s 3ms/step - loss: 2.4668e-04\n",
      "Epoch 189/200\n",
      "1257/1257 [==============================] - 3s 3ms/step - loss: 2.4796e-04\n",
      "Epoch 190/200\n",
      "1257/1257 [==============================] - 3s 3ms/step - loss: 2.4821e-04\n",
      "Epoch 191/200\n",
      "1257/1257 [==============================] - 3s 3ms/step - loss: 2.4607e-04\n",
      "Epoch 192/200\n",
      "1257/1257 [==============================] - 3s 3ms/step - loss: 2.4922e-04\n",
      "Epoch 193/200\n",
      "1257/1257 [==============================] - 3s 3ms/step - loss: 2.4686e-04\n",
      "Epoch 194/200\n",
      "1257/1257 [==============================] - 3s 3ms/step - loss: 2.4541e-04\n",
      "Epoch 195/200\n",
      "1257/1257 [==============================] - 3s 3ms/step - loss: 2.4719e-04\n",
      "Epoch 196/200\n",
      "1257/1257 [==============================] - 3s 3ms/step - loss: 2.4908e-04\n",
      "Epoch 197/200\n",
      "1257/1257 [==============================] - 3s 3ms/step - loss: 2.4724e-04\n",
      "Epoch 198/200\n",
      "1257/1257 [==============================] - 3s 3ms/step - loss: 2.4664e-04\n",
      "Epoch 199/200\n",
      "1257/1257 [==============================] - 3s 3ms/step - loss: 2.5013e-04\n",
      "Epoch 200/200\n",
      "1257/1257 [==============================] - 3s 3ms/step - loss: 2.4732e-04\n"
     ]
    },
    {
     "data": {
      "text/plain": [
       "<keras.callbacks.History at 0xbf84d0feb8>"
      ]
     },
     "execution_count": 16,
     "metadata": {},
     "output_type": "execute_result"
    }
   ],
   "source": [
    "regressor.fit(X_train,y_train,batch_size=32,epochs=200)"
   ]
  },
  {
   "cell_type": "code",
   "execution_count": 17,
   "metadata": {
    "collapsed": true
   },
   "outputs": [],
   "source": [
    "test_set=pd.read_csv(\"C:/Users/mohamed ismail/Desktop/Google_Stock_Price_Test.csv\")"
   ]
  },
  {
   "cell_type": "code",
   "execution_count": 18,
   "metadata": {
    "collapsed": true
   },
   "outputs": [],
   "source": [
    "real_stock_price=test_set.iloc[:,1:2].values"
   ]
  },
  {
   "cell_type": "code",
   "execution_count": 20,
   "metadata": {
    "collapsed": true
   },
   "outputs": [],
   "source": [
    "inputs=real_stock_price"
   ]
  },
  {
   "cell_type": "code",
   "execution_count": 21,
   "metadata": {
    "collapsed": true
   },
   "outputs": [],
   "source": [
    "inputs=sc.transform(inputs)"
   ]
  },
  {
   "cell_type": "code",
   "execution_count": 22,
   "metadata": {
    "collapsed": true
   },
   "outputs": [],
   "source": [
    "inputs=np.reshape(inputs,(20,1,1))"
   ]
  },
  {
   "cell_type": "code",
   "execution_count": 23,
   "metadata": {
    "collapsed": true
   },
   "outputs": [],
   "source": [
    "predicted_stock_price=regressor.predict(inputs)"
   ]
  },
  {
   "cell_type": "code",
   "execution_count": 24,
   "metadata": {
    "collapsed": true
   },
   "outputs": [],
   "source": [
    "predicted_stock_price=sc.inverse_transform(predicted_stock_price)"
   ]
  },
  {
   "cell_type": "code",
   "execution_count": 25,
   "metadata": {},
   "outputs": [
    {
     "data": {
      "image/png": "[encoded data removed]",
      "text/plain": [
       "<matplotlib.figure.Figure at 0xbf871ea630>"
      ]
     },
     "metadata": {},
     "output_type": "display_data"
    }
   ],
   "source": [
    "plt.plot(real_stock_price,color='red',label='Real Google Stock Price')\n",
    "plt.plot(predicted_stock_price,color='blue',label='Predicted Stock Price')\n",
    "plt.title('Google Stock Price Prediction')\n",
    "plt.xlabel('Time')\n",
    "plt.ylabel('Google Stock Price')\n",
    "plt.legend()\n",
    "plt.show()"
   ]
  },
  {
   "cell_type": "code",
   "execution_count": 26,
   "metadata": {
    "collapsed": true
   },
   "outputs": [],
   "source": [
    "real_stock_price_train=pd.read_csv(\"C:/Users/mohamed ismail/Desktop/Google_Stock_Price_Train.csv\")"
   ]
  },
  {
   "cell_type": "code",
   "execution_count": 27,
   "metadata": {
    "collapsed": true
   },
   "outputs": [],
   "source": [
    "real_stock_price_train=real_stock_price_train.iloc[:,1:2].values"
   ]
  },
  {
   "cell_type": "code",
   "execution_count": 29,
   "metadata": {
    "collapsed": true
   },
   "outputs": [],
   "source": [
    "predicted_stock_price_train=regressor.predict(X_train)\n",
    "predicted_stock_price_train=sc.inverse_transform(predicted_stock_price_train)"
   ]
  },
  {
   "cell_type": "code",
   "execution_count": 35,
   "metadata": {},
   "outputs": [
    {
     "data": {
      "image/png": "[encoded data removed]",
      "text/plain": [
       "<matplotlib.figure.Figure at 0xbf8767c2b0>"
      ]
     },
     "metadata": {},
     "output_type": "display_data"
    }
   ],
   "source": [
    "plt.plot(real_stock_price_train,color='red',label='Real Google Stock Price')\n",
    "plt.plot(predicted_stock_price_train,color='blue',label='Predicted Stock Price')\n",
    "plt.title('Google Stock Price Prediction')\n",
    "plt.xlabel('Time')\n",
    "plt.ylabel('Google Stock Price')\n",
    "plt.legend()\n",
    "plt.show()"
   ]
  },
  {
   "cell_type": "code",
   "execution_count": 36,
   "metadata": {
    "collapsed": true
   },
   "outputs": [],
   "source": [
    "import math\n",
    "from sklearn.metrics import mean_squared_error"
   ]
  },
  {
   "cell_type": "code",
   "execution_count": 38,
   "metadata": {
    "collapsed": true
   },
   "outputs": [],
   "source": [
    "rmse=math.sqrt(mean_squared_error(real_stock_price,predicted_stock_price))"
   ]
  },
  {
   "cell_type": "code",
   "execution_count": 39,
   "metadata": {},
   "outputs": [
    {
     "data": {
      "text/plain": [
       "1.1670618502114694"
      ]
     },
     "execution_count": 39,
     "metadata": {},
     "output_type": "execute_result"
    }
   ],
   "source": [
    "rmse"
   ]
  },
  {
   "cell_type": "code",
   "execution_count": null,
   "metadata": {
    "collapsed": true
   },
   "outputs": [],
   "source": []
  },
  {
   "cell_type": "code",
   "execution_count": null,
   "metadata": {
    "collapsed": true
   },
   "outputs": [],
   "source": []
  },
  {
   "cell_type": "code",
   "execution_count": null,
   "metadata": {
    "collapsed": true
   },
   "outputs": [],
   "source": []
  },
  {
   "cell_type": "code",
   "execution_count": null,
   "metadata": {
    "collapsed": true
   },
   "outputs": [],
   "source": []
  },
  {
   "cell_type": "code",
   "execution_count": null,
   "metadata": {
    "collapsed": true
   },
   "outputs": [],
   "source": []
  }
 ],
 "metadata": {
  "kernelspec": {
   "display_name": "Python 3",
   "language": "python",
   "name": "python3"
  },
  "language_info": {
   "codemirror_mode": {
    "name": "ipython",
    "version": 3
   },
   "file_extension": ".py",
   "mimetype": "text/x-python",
   "name": "python",
   "nbconvert_exporter": "python",
   "pygments_lexer": "ipython3",
   "version": "3.6.1"
  }
 },
 "nbformat": 4,
 "nbformat_minor": 2
}
