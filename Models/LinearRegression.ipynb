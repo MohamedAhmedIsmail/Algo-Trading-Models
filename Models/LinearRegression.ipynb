{
 "cells": [
  {
   "cell_type": "code",
   "execution_count": 2,
   "metadata": {},
   "outputs": [
    {
     "name": "stderr",
     "output_type": "stream",
     "text": [
      "C:\\Users\\MohamedIsmail\\Anaconda3\\lib\\site-packages\\sklearn\\cross_validation.py:44: DeprecationWarning: This module was deprecated in version 0.18 in favor of the model_selection module into which all the refactored classes and functions are moved. Also note that the interface of the new CV iterators are different from that of this module. This module will be removed in 0.20.\n",
      "  \"This module will be removed in 0.20.\", DeprecationWarning)\n"
     ]
    }
   ],
   "source": [
    "import math\n",
    "import pandas as pd\n",
    "import numpy as np\n",
    "import matplotlib.pyplot as plt\n",
    "from sklearn.model_selection import train_test_split\n",
    "from sklearn.preprocessing import StandardScaler\n",
    "from sklearn import preprocessing, cross_validation, svm\n",
    "from sklearn.linear_model import LinearRegression\n",
    "from sklearn.metrics import mean_squared_error"
   ]
  },
  {
   "cell_type": "code",
   "execution_count": 3,
   "metadata": {
    "collapsed": true
   },
   "outputs": [],
   "source": [
    "df=pd.read_csv(\"C:/Users/MohamedIsmail/Desktop/AAPL.csv\")"
   ]
  },
  {
   "cell_type": "code",
   "execution_count": 4,
   "metadata": {},
   "outputs": [
    {
     "data": {
      "text/html": [
       "<div>\n",
       "<style>\n",
       "    .dataframe thead tr:only-child th {\n",
       "        text-align: right;\n",
       "    }\n",
       "\n",
       "    .dataframe thead th {\n",
       "        text-align: left;\n",
       "    }\n",
       "\n",
       "    .dataframe tbody tr th {\n",
       "        vertical-align: top;\n",
       "    }\n",
       "</style>\n",
       "<table border=\"1\" class=\"dataframe\">\n",
       "  <thead>\n",
       "    <tr style=\"text-align: right;\">\n",
       "      <th></th>\n",
       "      <th>Date</th>\n",
       "      <th>Open</th>\n",
       "      <th>High</th>\n",
       "      <th>Low</th>\n",
       "      <th>Close</th>\n",
       "      <th>Volume</th>\n",
       "      <th>Adj Close</th>\n",
       "    </tr>\n",
       "  </thead>\n",
       "  <tbody>\n",
       "    <tr>\n",
       "      <th>997</th>\n",
       "      <td>2013-04-18</td>\n",
       "      <td>404.989990</td>\n",
       "      <td>405.790009</td>\n",
       "      <td>389.740002</td>\n",
       "      <td>392.049988</td>\n",
       "      <td>166574800</td>\n",
       "      <td>51.543549</td>\n",
       "    </tr>\n",
       "    <tr>\n",
       "      <th>998</th>\n",
       "      <td>2013-04-17</td>\n",
       "      <td>420.269993</td>\n",
       "      <td>420.599987</td>\n",
       "      <td>398.109993</td>\n",
       "      <td>402.800007</td>\n",
       "      <td>236264000</td>\n",
       "      <td>52.956875</td>\n",
       "    </tr>\n",
       "    <tr>\n",
       "      <th>999</th>\n",
       "      <td>2013-04-16</td>\n",
       "      <td>421.569996</td>\n",
       "      <td>426.610004</td>\n",
       "      <td>420.570000</td>\n",
       "      <td>426.240009</td>\n",
       "      <td>76442800</td>\n",
       "      <td>56.038576</td>\n",
       "    </tr>\n",
       "    <tr>\n",
       "      <th>1000</th>\n",
       "      <td>2013-04-15</td>\n",
       "      <td>427.000000</td>\n",
       "      <td>427.890007</td>\n",
       "      <td>419.550003</td>\n",
       "      <td>419.850010</td>\n",
       "      <td>79380000</td>\n",
       "      <td>55.198470</td>\n",
       "    </tr>\n",
       "    <tr>\n",
       "      <th>1001</th>\n",
       "      <td>2013-04-12</td>\n",
       "      <td>434.149990</td>\n",
       "      <td>434.149990</td>\n",
       "      <td>429.090008</td>\n",
       "      <td>429.800011</td>\n",
       "      <td>59653300</td>\n",
       "      <td>56.506616</td>\n",
       "    </tr>\n",
       "  </tbody>\n",
       "</table>\n",
       "</div>"
      ],
      "text/plain": [
       "            Date        Open        High         Low       Close     Volume  \\\n",
       "997   2013-04-18  404.989990  405.790009  389.740002  392.049988  166574800   \n",
       "998   2013-04-17  420.269993  420.599987  398.109993  402.800007  236264000   \n",
       "999   2013-04-16  421.569996  426.610004  420.570000  426.240009   76442800   \n",
       "1000  2013-04-15  427.000000  427.890007  419.550003  419.850010   79380000   \n",
       "1001  2013-04-12  434.149990  434.149990  429.090008  429.800011   59653300   \n",
       "\n",
       "      Adj Close  \n",
       "997   51.543549  \n",
       "998   52.956875  \n",
       "999   56.038576  \n",
       "1000  55.198470  \n",
       "1001  56.506616  "
      ]
     },
     "execution_count": 4,
     "metadata": {},
     "output_type": "execute_result"
    }
   ],
   "source": [
    "df=df[:1002]\n",
    "df.tail()"
   ]
  },
  {
   "cell_type": "code",
   "execution_count": 5,
   "metadata": {
    "collapsed": true
   },
   "outputs": [],
   "source": [
    "df['HL_PCT']=(df['High']-df['Low'])/df['Adj Close']*100.0\n",
    "df['PCT_change']=(df['Adj Close']-df['Open'])/df['Open']*100.0\n",
    "df['Return'] = df['Adj Close'].pct_change()"
   ]
  },
  {
   "cell_type": "code",
   "execution_count": 6,
   "metadata": {},
   "outputs": [
    {
     "data": {
      "text/html": [
       "<div>\n",
       "<style>\n",
       "    .dataframe thead tr:only-child th {\n",
       "        text-align: right;\n",
       "    }\n",
       "\n",
       "    .dataframe thead th {\n",
       "        text-align: left;\n",
       "    }\n",
       "\n",
       "    .dataframe tbody tr th {\n",
       "        vertical-align: top;\n",
       "    }\n",
       "</style>\n",
       "<table border=\"1\" class=\"dataframe\">\n",
       "  <thead>\n",
       "    <tr style=\"text-align: right;\">\n",
       "      <th></th>\n",
       "      <th>Date</th>\n",
       "      <th>Open</th>\n",
       "      <th>High</th>\n",
       "      <th>Low</th>\n",
       "      <th>Close</th>\n",
       "      <th>Volume</th>\n",
       "      <th>Adj Close</th>\n",
       "      <th>HL_PCT</th>\n",
       "      <th>PCT_change</th>\n",
       "      <th>Return</th>\n",
       "    </tr>\n",
       "  </thead>\n",
       "  <tbody>\n",
       "    <tr>\n",
       "      <th>0</th>\n",
       "      <td>2017-04-03</td>\n",
       "      <td>143.710007</td>\n",
       "      <td>144.119995</td>\n",
       "      <td>143.050003</td>\n",
       "      <td>143.699997</td>\n",
       "      <td>19967200</td>\n",
       "      <td>143.699997</td>\n",
       "      <td>0.744601</td>\n",
       "      <td>-0.006965</td>\n",
       "      <td>NaN</td>\n",
       "    </tr>\n",
       "    <tr>\n",
       "      <th>1</th>\n",
       "      <td>2017-03-31</td>\n",
       "      <td>143.720001</td>\n",
       "      <td>144.270004</td>\n",
       "      <td>143.009995</td>\n",
       "      <td>143.660004</td>\n",
       "      <td>19534100</td>\n",
       "      <td>143.660004</td>\n",
       "      <td>0.877077</td>\n",
       "      <td>-0.041746</td>\n",
       "      <td>-0.000278</td>\n",
       "    </tr>\n",
       "    <tr>\n",
       "      <th>2</th>\n",
       "      <td>2017-03-30</td>\n",
       "      <td>144.190002</td>\n",
       "      <td>144.500000</td>\n",
       "      <td>143.500000</td>\n",
       "      <td>143.929993</td>\n",
       "      <td>21179100</td>\n",
       "      <td>143.929993</td>\n",
       "      <td>0.694782</td>\n",
       "      <td>-0.180324</td>\n",
       "      <td>0.001879</td>\n",
       "    </tr>\n",
       "    <tr>\n",
       "      <th>3</th>\n",
       "      <td>2017-03-29</td>\n",
       "      <td>143.679993</td>\n",
       "      <td>144.490005</td>\n",
       "      <td>143.190002</td>\n",
       "      <td>144.119995</td>\n",
       "      <td>29120900</td>\n",
       "      <td>144.119995</td>\n",
       "      <td>0.902028</td>\n",
       "      <td>0.306237</td>\n",
       "      <td>0.001320</td>\n",
       "    </tr>\n",
       "    <tr>\n",
       "      <th>4</th>\n",
       "      <td>2017-03-28</td>\n",
       "      <td>140.910004</td>\n",
       "      <td>144.039993</td>\n",
       "      <td>140.619995</td>\n",
       "      <td>143.800003</td>\n",
       "      <td>33320700</td>\n",
       "      <td>143.800003</td>\n",
       "      <td>2.378302</td>\n",
       "      <td>2.050954</td>\n",
       "      <td>-0.002220</td>\n",
       "    </tr>\n",
       "  </tbody>\n",
       "</table>\n",
       "</div>"
      ],
      "text/plain": [
       "         Date        Open        High         Low       Close    Volume  \\\n",
       "0  2017-04-03  143.710007  144.119995  143.050003  143.699997  19967200   \n",
       "1  2017-03-31  143.720001  144.270004  143.009995  143.660004  19534100   \n",
       "2  2017-03-30  144.190002  144.500000  143.500000  143.929993  21179100   \n",
       "3  2017-03-29  143.679993  144.490005  143.190002  144.119995  29120900   \n",
       "4  2017-03-28  140.910004  144.039993  140.619995  143.800003  33320700   \n",
       "\n",
       "    Adj Close    HL_PCT  PCT_change    Return  \n",
       "0  143.699997  0.744601   -0.006965       NaN  \n",
       "1  143.660004  0.877077   -0.041746 -0.000278  \n",
       "2  143.929993  0.694782   -0.180324  0.001879  \n",
       "3  144.119995  0.902028    0.306237  0.001320  \n",
       "4  143.800003  2.378302    2.050954 -0.002220  "
      ]
     },
     "execution_count": 6,
     "metadata": {},
     "output_type": "execute_result"
    }
   ],
   "source": [
    "df.head()"
   ]
  },
  {
   "cell_type": "code",
   "execution_count": 7,
   "metadata": {},
   "outputs": [
    {
     "data": {
      "image/png": "[encoded data removed]",
      "text/plain": [
       "<matplotlib.figure.Figure at 0x4528180f0>"
      ]
     },
     "metadata": {},
     "output_type": "display_data"
    }
   ],
   "source": [
    "tmp = df[['HL_PCT','PCT_change','Return']]\n",
    "tmp[:100].plot(figsize=(12,6))\n",
    "plt.show()"
   ]
  },
  {
   "cell_type": "code",
   "execution_count": 8,
   "metadata": {},
   "outputs": [
    {
     "data": {
      "text/plain": [
       "997     52.956875\n",
       "998     56.038576\n",
       "999     55.198470\n",
       "1000    56.506616\n",
       "1001          NaN\n",
       "Name: Adj Close, dtype: float64"
      ]
     },
     "execution_count": 8,
     "metadata": {},
     "output_type": "execute_result"
    }
   ],
   "source": [
    "df.dropna(inplace=True)\n",
    "df['Adj Close'].shift(-1).tail()"
   ]
  },
  {
   "cell_type": "code",
   "execution_count": 37,
   "metadata": {},
   "outputs": [
    {
     "data": {
      "text/plain": [
       "(1001, 1001)"
      ]
     },
     "execution_count": 37,
     "metadata": {},
     "output_type": "execute_result"
    }
   ],
   "source": [
    "X=df[['HL_PCT','PCT_change','Return']].values\n",
    "y=df['Adj Close'].values\n",
    "len(X),len(y)"
   ]
  },
  {
   "cell_type": "code",
   "execution_count": 38,
   "metadata": {},
   "outputs": [
    {
     "data": {
      "text/plain": [
       "(1001, 800, 201)"
      ]
     },
     "execution_count": 38,
     "metadata": {},
     "output_type": "execute_result"
    }
   ],
   "source": [
    "X_train, X_test, y_train, y_test = train_test_split(X, y, test_size=0.2,random_state=1)\n",
    "len(X), len(X_train), len(X_test)"
   ]
  },
  {
   "cell_type": "code",
   "execution_count": 39,
   "metadata": {},
   "outputs": [
    {
     "data": {
      "text/plain": [
       "LinearRegression(copy_X=True, fit_intercept=True, n_jobs=1, normalize=False)"
      ]
     },
     "execution_count": 39,
     "metadata": {},
     "output_type": "execute_result"
    }
   ],
   "source": [
    "sc = StandardScaler()\n",
    "sc.fit(X_train)\n",
    "X_train = sc.transform(X_train)\n",
    "X_test = sc.transform(X_test)\n",
    "linearRegression = LinearRegression()\n",
    "linearRegression.fit(X_train,y_train)"
   ]
  },
  {
   "cell_type": "code",
   "execution_count": 40,
   "metadata": {
    "collapsed": true
   },
   "outputs": [],
   "source": [
    "y_pred_lr=linearRegression.predict(X_test)"
   ]
  },
  {
   "cell_type": "code",
   "execution_count": 41,
   "metadata": {},
   "outputs": [
    {
     "name": "stderr",
     "output_type": "stream",
     "text": [
      "C:\\Users\\MohamedIsmail\\Anaconda3\\lib\\site-packages\\pandas\\core\\indexing.py:179: SettingWithCopyWarning: \n",
      "A value is trying to be set on a copy of a slice from a DataFrame\n",
      "\n",
      "See the caveats in the documentation: http://pandas.pydata.org/pandas-docs/stable/indexing.html#indexing-view-versus-copy\n",
      "  self._setitem_with_indexer(indexer, value)\n"
     ]
    },
    {
     "data": {
      "text/html": [
       "<div>\n",
       "<style>\n",
       "    .dataframe thead tr:only-child th {\n",
       "        text-align: right;\n",
       "    }\n",
       "\n",
       "    .dataframe thead th {\n",
       "        text-align: left;\n",
       "    }\n",
       "\n",
       "    .dataframe tbody tr th {\n",
       "        vertical-align: top;\n",
       "    }\n",
       "</style>\n",
       "<table border=\"1\" class=\"dataframe\">\n",
       "  <thead>\n",
       "    <tr style=\"text-align: right;\">\n",
       "      <th></th>\n",
       "      <th>Date</th>\n",
       "      <th>Open</th>\n",
       "      <th>High</th>\n",
       "      <th>Low</th>\n",
       "      <th>Close</th>\n",
       "      <th>Volume</th>\n",
       "      <th>Adj Close</th>\n",
       "      <th>HL_PCT</th>\n",
       "      <th>PCT_change</th>\n",
       "      <th>Return</th>\n",
       "      <th>LR</th>\n",
       "    </tr>\n",
       "  </thead>\n",
       "  <tbody>\n",
       "    <tr>\n",
       "      <th>997</th>\n",
       "      <td>2013-04-18</td>\n",
       "      <td>404.989990</td>\n",
       "      <td>405.790009</td>\n",
       "      <td>389.740002</td>\n",
       "      <td>392.049988</td>\n",
       "      <td>166574800</td>\n",
       "      <td>51.543549</td>\n",
       "      <td>31.138731</td>\n",
       "      <td>-87.272883</td>\n",
       "      <td>0.003892</td>\n",
       "      <td>109.104995</td>\n",
       "    </tr>\n",
       "    <tr>\n",
       "      <th>998</th>\n",
       "      <td>2013-04-17</td>\n",
       "      <td>420.269993</td>\n",
       "      <td>420.599987</td>\n",
       "      <td>398.109993</td>\n",
       "      <td>402.800007</td>\n",
       "      <td>236264000</td>\n",
       "      <td>52.956875</td>\n",
       "      <td>42.468507</td>\n",
       "      <td>-87.399320</td>\n",
       "      <td>0.027420</td>\n",
       "      <td>108.368556</td>\n",
       "    </tr>\n",
       "    <tr>\n",
       "      <th>999</th>\n",
       "      <td>2013-04-16</td>\n",
       "      <td>421.569996</td>\n",
       "      <td>426.610004</td>\n",
       "      <td>420.570000</td>\n",
       "      <td>426.240009</td>\n",
       "      <td>76442800</td>\n",
       "      <td>56.038576</td>\n",
       "      <td>10.778297</td>\n",
       "      <td>-86.707172</td>\n",
       "      <td>0.058193</td>\n",
       "      <td>68.548444</td>\n",
       "    </tr>\n",
       "    <tr>\n",
       "      <th>1000</th>\n",
       "      <td>2013-04-15</td>\n",
       "      <td>427.000000</td>\n",
       "      <td>427.890007</td>\n",
       "      <td>419.550003</td>\n",
       "      <td>419.850010</td>\n",
       "      <td>79380000</td>\n",
       "      <td>55.198470</td>\n",
       "      <td>15.109122</td>\n",
       "      <td>-87.072958</td>\n",
       "      <td>-0.014992</td>\n",
       "      <td>107.970155</td>\n",
       "    </tr>\n",
       "    <tr>\n",
       "      <th>1001</th>\n",
       "      <td>2013-04-12</td>\n",
       "      <td>434.149990</td>\n",
       "      <td>434.149990</td>\n",
       "      <td>429.090008</td>\n",
       "      <td>429.800011</td>\n",
       "      <td>59653300</td>\n",
       "      <td>56.506616</td>\n",
       "      <td>8.954672</td>\n",
       "      <td>-86.984541</td>\n",
       "      <td>0.023699</td>\n",
       "      <td>109.419045</td>\n",
       "    </tr>\n",
       "  </tbody>\n",
       "</table>\n",
       "</div>"
      ],
      "text/plain": [
       "            Date        Open        High         Low       Close     Volume  \\\n",
       "997   2013-04-18  404.989990  405.790009  389.740002  392.049988  166574800   \n",
       "998   2013-04-17  420.269993  420.599987  398.109993  402.800007  236264000   \n",
       "999   2013-04-16  421.569996  426.610004  420.570000  426.240009   76442800   \n",
       "1000  2013-04-15  427.000000  427.890007  419.550003  419.850010   79380000   \n",
       "1001  2013-04-12  434.149990  434.149990  429.090008  429.800011   59653300   \n",
       "\n",
       "      Adj Close     HL_PCT  PCT_change    Return          LR  \n",
       "997   51.543549  31.138731  -87.272883  0.003892  109.104995  \n",
       "998   52.956875  42.468507  -87.399320  0.027420  108.368556  \n",
       "999   56.038576  10.778297  -86.707172  0.058193   68.548444  \n",
       "1000  55.198470  15.109122  -87.072958 -0.014992  107.970155  \n",
       "1001  56.506616   8.954672  -86.984541  0.023699  109.419045  "
      ]
     },
     "execution_count": 41,
     "metadata": {},
     "output_type": "execute_result"
    }
   ],
   "source": [
    "df['LR']=np.nan\n",
    "df['LR'].iloc[800:]=y_pred_lr\n",
    "df.tail()"
   ]
  },
  {
   "cell_type": "code",
   "execution_count": 42,
   "metadata": {},
   "outputs": [
    {
     "data": {
      "image/png": "[encoded data removed]",
      "text/plain": [
       "<matplotlib.figure.Figure at 0x452877710>"
      ]
     },
     "metadata": {},
     "output_type": "display_data"
    }
   ],
   "source": [
    "df[['Adj Close','LR']].plot(figsize=(18,6))\n",
    "plt.show()"
   ]
  },
  {
   "cell_type": "code",
   "execution_count": 43,
   "metadata": {},
   "outputs": [
    {
     "name": "stdout",
     "output_type": "stream",
     "text": [
      "Mean_Squared_Error= : 11.4235384\n"
     ]
    }
   ],
   "source": [
    "LR_RMSE = np.sqrt(mean_squared_error(y_true=y_test,y_pred=y_pred_lr))\n",
    "print('Mean_Squared_Error= :',LR_RMSE)"
   ]
  },
  {
   "cell_type": "code",
   "execution_count": null,
   "metadata": {
    "collapsed": true
   },
   "outputs": [],
   "source": []
  },
  {
   "cell_type": "code",
   "execution_count": null,
   "metadata": {
    "collapsed": true
   },
   "outputs": [],
   "source": []
  },
  {
   "cell_type": "code",
   "execution_count": null,
   "metadata": {
    "collapsed": true
   },
   "outputs": [],
   "source": []
  },
  {
   "cell_type": "code",
   "execution_count": null,
   "metadata": {
    "collapsed": true
   },
   "outputs": [],
   "source": []
  },
  {
   "cell_type": "code",
   "execution_count": null,
   "metadata": {
    "collapsed": true
   },
   "outputs": [],
   "source": []
  },
  {
   "cell_type": "code",
   "execution_count": null,
   "metadata": {
    "collapsed": true
   },
   "outputs": [],
   "source": []
  },
  {
   "cell_type": "code",
   "execution_count": null,
   "metadata": {
    "collapsed": true
   },
   "outputs": [],
   "source": []
  },
  {
   "cell_type": "code",
   "execution_count": null,
   "metadata": {
    "collapsed": true
   },
   "outputs": [],
   "source": []
  },
  {
   "cell_type": "code",
   "execution_count": null,
   "metadata": {
    "collapsed": true
   },
   "outputs": [],
   "source": []
  },
  {
   "cell_type": "code",
   "execution_count": null,
   "metadata": {
    "collapsed": true
   },
   "outputs": [],
   "source": []
  },
  {
   "cell_type": "code",
   "execution_count": null,
   "metadata": {
    "collapsed": true
   },
   "outputs": [],
   "source": []
  },
  {
   "cell_type": "code",
   "execution_count": null,
   "metadata": {
    "collapsed": true
   },
   "outputs": [],
   "source": []
  },
  {
   "cell_type": "code",
   "execution_count": null,
   "metadata": {
    "collapsed": true
   },
   "outputs": [],
   "source": []
  },
  {
   "cell_type": "code",
   "execution_count": null,
   "metadata": {
    "collapsed": true
   },
   "outputs": [],
   "source": []
  },
  {
   "cell_type": "code",
   "execution_count": null,
   "metadata": {
    "collapsed": true
   },
   "outputs": [],
   "source": []
  },
  {
   "cell_type": "code",
   "execution_count": null,
   "metadata": {
    "collapsed": true
   },
   "outputs": [],
   "source": []
  },
  {
   "cell_type": "code",
   "execution_count": null,
   "metadata": {
    "collapsed": true
   },
   "outputs": [],
   "source": []
  },
  {
   "cell_type": "code",
   "execution_count": null,
   "metadata": {
    "collapsed": true
   },
   "outputs": [],
   "source": []
  },
  {
   "cell_type": "code",
   "execution_count": null,
   "metadata": {
    "collapsed": true
   },
   "outputs": [],
   "source": []
  },
  {
   "cell_type": "code",
   "execution_count": null,
   "metadata": {
    "collapsed": true
   },
   "outputs": [],
   "source": []
  },
  {
   "cell_type": "code",
   "execution_count": null,
   "metadata": {
    "collapsed": true
   },
   "outputs": [],
   "source": []
  },
  {
   "cell_type": "code",
   "execution_count": null,
   "metadata": {
    "collapsed": true
   },
   "outputs": [],
   "source": []
  },
  {
   "cell_type": "code",
   "execution_count": null,
   "metadata": {
    "collapsed": true
   },
   "outputs": [],
   "source": []
  },
  {
   "cell_type": "code",
   "execution_count": null,
   "metadata": {
    "collapsed": true
   },
   "outputs": [],
   "source": []
  },
  {
   "cell_type": "code",
   "execution_count": null,
   "metadata": {
    "collapsed": true
   },
   "outputs": [],
   "source": []
  },
  {
   "cell_type": "code",
   "execution_count": null,
   "metadata": {
    "collapsed": true
   },
   "outputs": [],
   "source": []
  },
  {
   "cell_type": "code",
   "execution_count": null,
   "metadata": {
    "collapsed": true
   },
   "outputs": [],
   "source": []
  },
  {
   "cell_type": "code",
   "execution_count": null,
   "metadata": {
    "collapsed": true
   },
   "outputs": [],
   "source": []
  },
  {
   "cell_type": "code",
   "execution_count": null,
   "metadata": {
    "collapsed": true
   },
   "outputs": [],
   "source": []
  },
  {
   "cell_type": "code",
   "execution_count": null,
   "metadata": {
    "collapsed": true
   },
   "outputs": [],
   "source": []
  }
 ],
 "metadata": {
  "kernelspec": {
   "display_name": "Python 3",
   "language": "python",
   "name": "python3"
  },
  "language_info": {
   "codemirror_mode": {
    "name": "ipython",
    "version": 3
   },
   "file_extension": ".py",
   "mimetype": "text/x-python",
   "name": "python",
   "nbconvert_exporter": "python",
   "pygments_lexer": "ipython3",
   "version": "3.6.1"
  }
 },
 "nbformat": 4,
 "nbformat_minor": 2
}
