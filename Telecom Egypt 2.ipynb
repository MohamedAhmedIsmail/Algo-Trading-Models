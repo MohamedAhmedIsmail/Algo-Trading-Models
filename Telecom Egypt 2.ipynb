{
 "cells": [
  {
   "cell_type": "code",
   "execution_count": 1,
   "metadata": {
    "collapsed": true
   },
   "outputs": [],
   "source": [
    "import pandas as pd\n",
    "import numpy as np\n",
    "import matplotlib.pyplot as plt\n",
    "%matplotlib inline"
   ]
  },
  {
   "cell_type": "code",
   "execution_count": 2,
   "metadata": {
    "collapsed": true
   },
   "outputs": [],
   "source": [
    "training_set=pd.read_csv(\"C:/Users/mohamed ismail/Desktop/GP And Data/Telecom Egypt.csv\",index_col=1)"
   ]
  },
  {
   "cell_type": "code",
   "execution_count": 3,
   "metadata": {},
   "outputs": [
    {
     "data": {
      "text/html": [
       "<div>\n",
       "<style>\n",
       "    .dataframe thead tr:only-child th {\n",
       "        text-align: right;\n",
       "    }\n",
       "\n",
       "    .dataframe thead th {\n",
       "        text-align: left;\n",
       "    }\n",
       "\n",
       "    .dataframe tbody tr th {\n",
       "        vertical-align: top;\n",
       "    }\n",
       "</style>\n",
       "<table border=\"1\" class=\"dataframe\">\n",
       "  <thead>\n",
       "    <tr style=\"text-align: right;\">\n",
       "      <th></th>\n",
       "      <th>SYMBOL_CODE</th>\n",
       "      <th>TRADE_VOLUME</th>\n",
       "      <th>TRADE_VALUE</th>\n",
       "      <th>TRADE_COUNT</th>\n",
       "      <th>OPEN_PRICE</th>\n",
       "      <th>HIGH_PRICE</th>\n",
       "      <th>LOW_PRICE</th>\n",
       "      <th>CLOSE_PRICE</th>\n",
       "    </tr>\n",
       "    <tr>\n",
       "      <th>TRADE_DATE</th>\n",
       "      <th></th>\n",
       "      <th></th>\n",
       "      <th></th>\n",
       "      <th></th>\n",
       "      <th></th>\n",
       "      <th></th>\n",
       "      <th></th>\n",
       "      <th></th>\n",
       "    </tr>\n",
       "  </thead>\n",
       "  <tbody>\n",
       "    <tr>\n",
       "      <th>1/2/2013 0:00</th>\n",
       "      <td>EGS48031C016</td>\n",
       "      <td>742192</td>\n",
       "      <td>10760813.36</td>\n",
       "      <td>346</td>\n",
       "      <td>14.20</td>\n",
       "      <td>14.58</td>\n",
       "      <td>14.20</td>\n",
       "      <td>14.50</td>\n",
       "    </tr>\n",
       "    <tr>\n",
       "      <th>1/3/2013 0:00</th>\n",
       "      <td>EGS48031C016</td>\n",
       "      <td>659245</td>\n",
       "      <td>9540410.34</td>\n",
       "      <td>400</td>\n",
       "      <td>14.36</td>\n",
       "      <td>14.54</td>\n",
       "      <td>14.30</td>\n",
       "      <td>14.47</td>\n",
       "    </tr>\n",
       "    <tr>\n",
       "      <th>1/6/2013 0:00</th>\n",
       "      <td>EGS48031C016</td>\n",
       "      <td>657748</td>\n",
       "      <td>9532597.93</td>\n",
       "      <td>348</td>\n",
       "      <td>14.35</td>\n",
       "      <td>14.52</td>\n",
       "      <td>14.35</td>\n",
       "      <td>14.49</td>\n",
       "    </tr>\n",
       "    <tr>\n",
       "      <th>1/8/2013 0:00</th>\n",
       "      <td>EGS48031C016</td>\n",
       "      <td>762240</td>\n",
       "      <td>11182074.69</td>\n",
       "      <td>538</td>\n",
       "      <td>14.48</td>\n",
       "      <td>14.93</td>\n",
       "      <td>14.32</td>\n",
       "      <td>14.67</td>\n",
       "    </tr>\n",
       "    <tr>\n",
       "      <th>1/9/2013 0:00</th>\n",
       "      <td>EGS48031C016</td>\n",
       "      <td>838660</td>\n",
       "      <td>12528344.92</td>\n",
       "      <td>592</td>\n",
       "      <td>14.89</td>\n",
       "      <td>15.11</td>\n",
       "      <td>14.77</td>\n",
       "      <td>14.94</td>\n",
       "    </tr>\n",
       "  </tbody>\n",
       "</table>\n",
       "</div>"
      ],
      "text/plain": [
       "                SYMBOL_CODE  TRADE_VOLUME  TRADE_VALUE  TRADE_COUNT  \\\n",
       "TRADE_DATE                                                            \n",
       "1/2/2013 0:00  EGS48031C016        742192  10760813.36          346   \n",
       "1/3/2013 0:00  EGS48031C016        659245   9540410.34          400   \n",
       "1/6/2013 0:00  EGS48031C016        657748   9532597.93          348   \n",
       "1/8/2013 0:00  EGS48031C016        762240  11182074.69          538   \n",
       "1/9/2013 0:00  EGS48031C016        838660  12528344.92          592   \n",
       "\n",
       "               OPEN_PRICE  HIGH_PRICE  LOW_PRICE  CLOSE_PRICE  \n",
       "TRADE_DATE                                                     \n",
       "1/2/2013 0:00       14.20       14.58      14.20        14.50  \n",
       "1/3/2013 0:00       14.36       14.54      14.30        14.47  \n",
       "1/6/2013 0:00       14.35       14.52      14.35        14.49  \n",
       "1/8/2013 0:00       14.48       14.93      14.32        14.67  \n",
       "1/9/2013 0:00       14.89       15.11      14.77        14.94  "
      ]
     },
     "execution_count": 3,
     "metadata": {},
     "output_type": "execute_result"
    }
   ],
   "source": [
    "training_set.head()"
   ]
  },
  {
   "cell_type": "code",
   "execution_count": 4,
   "metadata": {},
   "outputs": [
    {
     "data": {
      "text/html": [
       "<div>\n",
       "<style>\n",
       "    .dataframe thead tr:only-child th {\n",
       "        text-align: right;\n",
       "    }\n",
       "\n",
       "    .dataframe thead th {\n",
       "        text-align: left;\n",
       "    }\n",
       "\n",
       "    .dataframe tbody tr th {\n",
       "        vertical-align: top;\n",
       "    }\n",
       "</style>\n",
       "<table border=\"1\" class=\"dataframe\">\n",
       "  <thead>\n",
       "    <tr style=\"text-align: right;\">\n",
       "      <th></th>\n",
       "      <th>SYMBOL_CODE</th>\n",
       "      <th>TRADE_VOLUME</th>\n",
       "      <th>TRADE_VALUE</th>\n",
       "      <th>TRADE_COUNT</th>\n",
       "      <th>OPEN_PRICE</th>\n",
       "      <th>HIGH_PRICE</th>\n",
       "      <th>LOW_PRICE</th>\n",
       "      <th>CLOSE_PRICE</th>\n",
       "    </tr>\n",
       "    <tr>\n",
       "      <th>TRADE_DATE</th>\n",
       "      <th></th>\n",
       "      <th></th>\n",
       "      <th></th>\n",
       "      <th></th>\n",
       "      <th></th>\n",
       "      <th></th>\n",
       "      <th></th>\n",
       "      <th></th>\n",
       "    </tr>\n",
       "  </thead>\n",
       "  <tbody>\n",
       "    <tr>\n",
       "      <th>12/25/2017 0:00</th>\n",
       "      <td>EGS48031C016</td>\n",
       "      <td>3062782</td>\n",
       "      <td>42551770.77</td>\n",
       "      <td>842</td>\n",
       "      <td>13.44</td>\n",
       "      <td>14.03</td>\n",
       "      <td>13.30</td>\n",
       "      <td>13.89</td>\n",
       "    </tr>\n",
       "    <tr>\n",
       "      <th>12/26/2017 0:00</th>\n",
       "      <td>EGS48031C016</td>\n",
       "      <td>364077</td>\n",
       "      <td>5028239.36</td>\n",
       "      <td>142</td>\n",
       "      <td>13.80</td>\n",
       "      <td>13.90</td>\n",
       "      <td>13.68</td>\n",
       "      <td>13.81</td>\n",
       "    </tr>\n",
       "    <tr>\n",
       "      <th>12/27/2017 0:00</th>\n",
       "      <td>EGS48031C016</td>\n",
       "      <td>610672</td>\n",
       "      <td>8207441.74</td>\n",
       "      <td>242</td>\n",
       "      <td>13.62</td>\n",
       "      <td>13.65</td>\n",
       "      <td>13.36</td>\n",
       "      <td>13.44</td>\n",
       "    </tr>\n",
       "    <tr>\n",
       "      <th>12/28/2017 0:00</th>\n",
       "      <td>EGS48031C016</td>\n",
       "      <td>525026</td>\n",
       "      <td>7102266.77</td>\n",
       "      <td>256</td>\n",
       "      <td>13.40</td>\n",
       "      <td>13.68</td>\n",
       "      <td>13.40</td>\n",
       "      <td>13.53</td>\n",
       "    </tr>\n",
       "    <tr>\n",
       "      <th>12/31/2017 0:00</th>\n",
       "      <td>EGS48031C016</td>\n",
       "      <td>621441</td>\n",
       "      <td>8337761.07</td>\n",
       "      <td>236</td>\n",
       "      <td>13.51</td>\n",
       "      <td>13.51</td>\n",
       "      <td>13.38</td>\n",
       "      <td>13.42</td>\n",
       "    </tr>\n",
       "  </tbody>\n",
       "</table>\n",
       "</div>"
      ],
      "text/plain": [
       "                  SYMBOL_CODE  TRADE_VOLUME  TRADE_VALUE  TRADE_COUNT  \\\n",
       "TRADE_DATE                                                              \n",
       "12/25/2017 0:00  EGS48031C016       3062782  42551770.77          842   \n",
       "12/26/2017 0:00  EGS48031C016        364077   5028239.36          142   \n",
       "12/27/2017 0:00  EGS48031C016        610672   8207441.74          242   \n",
       "12/28/2017 0:00  EGS48031C016        525026   7102266.77          256   \n",
       "12/31/2017 0:00  EGS48031C016        621441   8337761.07          236   \n",
       "\n",
       "                 OPEN_PRICE  HIGH_PRICE  LOW_PRICE  CLOSE_PRICE  \n",
       "TRADE_DATE                                                       \n",
       "12/25/2017 0:00       13.44       14.03      13.30        13.89  \n",
       "12/26/2017 0:00       13.80       13.90      13.68        13.81  \n",
       "12/27/2017 0:00       13.62       13.65      13.36        13.44  \n",
       "12/28/2017 0:00       13.40       13.68      13.40        13.53  \n",
       "12/31/2017 0:00       13.51       13.51      13.38        13.42  "
      ]
     },
     "execution_count": 4,
     "metadata": {},
     "output_type": "execute_result"
    }
   ],
   "source": [
    "training_set.tail()"
   ]
  },
  {
   "cell_type": "code",
   "execution_count": 5,
   "metadata": {},
   "outputs": [
    {
     "data": {
      "text/html": [
       "<div>\n",
       "<style>\n",
       "    .dataframe thead tr:only-child th {\n",
       "        text-align: right;\n",
       "    }\n",
       "\n",
       "    .dataframe thead th {\n",
       "        text-align: left;\n",
       "    }\n",
       "\n",
       "    .dataframe tbody tr th {\n",
       "        vertical-align: top;\n",
       "    }\n",
       "</style>\n",
       "<table border=\"1\" class=\"dataframe\">\n",
       "  <thead>\n",
       "    <tr style=\"text-align: right;\">\n",
       "      <th></th>\n",
       "      <th>SYMBOL_CODE</th>\n",
       "      <th>TRADE_VOLUME</th>\n",
       "      <th>TRADE_VALUE</th>\n",
       "      <th>TRADE_COUNT</th>\n",
       "      <th>OPEN_PRICE</th>\n",
       "      <th>HIGH_PRICE</th>\n",
       "      <th>LOW_PRICE</th>\n",
       "      <th>CLOSE_PRICE</th>\n",
       "    </tr>\n",
       "    <tr>\n",
       "      <th>TRADE_DATE</th>\n",
       "      <th></th>\n",
       "      <th></th>\n",
       "      <th></th>\n",
       "      <th></th>\n",
       "      <th></th>\n",
       "      <th></th>\n",
       "      <th></th>\n",
       "      <th></th>\n",
       "    </tr>\n",
       "  </thead>\n",
       "  <tbody>\n",
       "    <tr>\n",
       "      <th>11/22/2017 0:00</th>\n",
       "      <td>EGS48031C016</td>\n",
       "      <td>288140</td>\n",
       "      <td>3559136.10</td>\n",
       "      <td>138</td>\n",
       "      <td>12.50</td>\n",
       "      <td>12.50</td>\n",
       "      <td>12.31</td>\n",
       "      <td>12.35</td>\n",
       "    </tr>\n",
       "    <tr>\n",
       "      <th>11/23/2017 0:00</th>\n",
       "      <td>EGS48031C016</td>\n",
       "      <td>2066870</td>\n",
       "      <td>26678879.20</td>\n",
       "      <td>855</td>\n",
       "      <td>12.59</td>\n",
       "      <td>13.20</td>\n",
       "      <td>12.51</td>\n",
       "      <td>12.91</td>\n",
       "    </tr>\n",
       "    <tr>\n",
       "      <th>11/26/2017 0:00</th>\n",
       "      <td>EGS48031C016</td>\n",
       "      <td>961269</td>\n",
       "      <td>12828802.65</td>\n",
       "      <td>471</td>\n",
       "      <td>12.90</td>\n",
       "      <td>13.70</td>\n",
       "      <td>12.85</td>\n",
       "      <td>13.35</td>\n",
       "    </tr>\n",
       "    <tr>\n",
       "      <th>11/27/2017 0:00</th>\n",
       "      <td>EGS48031C016</td>\n",
       "      <td>1280897</td>\n",
       "      <td>17180695.27</td>\n",
       "      <td>442</td>\n",
       "      <td>13.30</td>\n",
       "      <td>13.69</td>\n",
       "      <td>13.05</td>\n",
       "      <td>13.41</td>\n",
       "    </tr>\n",
       "    <tr>\n",
       "      <th>11/28/2017 0:00</th>\n",
       "      <td>EGS48031C016</td>\n",
       "      <td>1256678</td>\n",
       "      <td>16976061.11</td>\n",
       "      <td>597</td>\n",
       "      <td>13.64</td>\n",
       "      <td>13.79</td>\n",
       "      <td>13.13</td>\n",
       "      <td>13.51</td>\n",
       "    </tr>\n",
       "  </tbody>\n",
       "</table>\n",
       "</div>"
      ],
      "text/plain": [
       "                  SYMBOL_CODE  TRADE_VOLUME  TRADE_VALUE  TRADE_COUNT  \\\n",
       "TRADE_DATE                                                              \n",
       "11/22/2017 0:00  EGS48031C016        288140   3559136.10          138   \n",
       "11/23/2017 0:00  EGS48031C016       2066870  26678879.20          855   \n",
       "11/26/2017 0:00  EGS48031C016        961269  12828802.65          471   \n",
       "11/27/2017 0:00  EGS48031C016       1280897  17180695.27          442   \n",
       "11/28/2017 0:00  EGS48031C016       1256678  16976061.11          597   \n",
       "\n",
       "                 OPEN_PRICE  HIGH_PRICE  LOW_PRICE  CLOSE_PRICE  \n",
       "TRADE_DATE                                                       \n",
       "11/22/2017 0:00       12.50       12.50      12.31        12.35  \n",
       "11/23/2017 0:00       12.59       13.20      12.51        12.91  \n",
       "11/26/2017 0:00       12.90       13.70      12.85        13.35  \n",
       "11/27/2017 0:00       13.30       13.69      13.05        13.41  \n",
       "11/28/2017 0:00       13.64       13.79      13.13        13.51  "
      ]
     },
     "execution_count": 5,
     "metadata": {},
     "output_type": "execute_result"
    }
   ],
   "source": [
    "Telecom_Egypt=training_set[:1198]\n",
    "Telecom_Egypt.tail()"
   ]
  },
  {
   "cell_type": "code",
   "execution_count": 6,
   "metadata": {
    "collapsed": true
   },
   "outputs": [],
   "source": [
    "training_set=Telecom_Egypt.iloc[:,7:8].values"
   ]
  },
  {
   "cell_type": "code",
   "execution_count": 7,
   "metadata": {},
   "outputs": [
    {
     "data": {
      "text/plain": [
       "array([[ 14.5 ],\n",
       "       [ 14.47],\n",
       "       [ 14.49],\n",
       "       ..., \n",
       "       [ 13.35],\n",
       "       [ 13.41],\n",
       "       [ 13.51]])"
      ]
     },
     "execution_count": 7,
     "metadata": {},
     "output_type": "execute_result"
    }
   ],
   "source": [
    "training_set"
   ]
  },
  {
   "cell_type": "code",
   "execution_count": 8,
   "metadata": {},
   "outputs": [
    {
     "data": {
      "text/plain": [
       "1198"
      ]
     },
     "execution_count": 8,
     "metadata": {},
     "output_type": "execute_result"
    }
   ],
   "source": [
    "len(training_set)"
   ]
  },
  {
   "cell_type": "code",
   "execution_count": 9,
   "metadata": {
    "collapsed": true
   },
   "outputs": [],
   "source": [
    "from sklearn.preprocessing import MinMaxScaler"
   ]
  },
  {
   "cell_type": "code",
   "execution_count": 10,
   "metadata": {
    "collapsed": true
   },
   "outputs": [],
   "source": [
    "sc=MinMaxScaler()\n",
    "training_set=sc.fit_transform(training_set)"
   ]
  },
  {
   "cell_type": "code",
   "execution_count": 11,
   "metadata": {
    "collapsed": true
   },
   "outputs": [],
   "source": [
    "X_train=training_set[0:1197]"
   ]
  },
  {
   "cell_type": "code",
   "execution_count": 12,
   "metadata": {
    "collapsed": true
   },
   "outputs": [],
   "source": [
    "y_train=training_set[1:1198]"
   ]
  },
  {
   "cell_type": "code",
   "execution_count": 13,
   "metadata": {},
   "outputs": [
    {
     "data": {
      "text/plain": [
       "(1197, 1197)"
      ]
     },
     "execution_count": 13,
     "metadata": {},
     "output_type": "execute_result"
    }
   ],
   "source": [
    "len(X_train),len(y_train)"
   ]
  },
  {
   "cell_type": "code",
   "execution_count": 14,
   "metadata": {
    "collapsed": true
   },
   "outputs": [],
   "source": [
    "X_train=np.reshape(X_train,(1197,1,1))"
   ]
  },
  {
   "cell_type": "code",
   "execution_count": 15,
   "metadata": {},
   "outputs": [
    {
     "name": "stderr",
     "output_type": "stream",
     "text": [
      "Using TensorFlow backend.\n"
     ]
    }
   ],
   "source": [
    "from keras.models import Sequential\n",
    "from keras.layers import Dense\n",
    "from keras.layers import LSTM"
   ]
  },
  {
   "cell_type": "code",
   "execution_count": 16,
   "metadata": {
    "collapsed": true
   },
   "outputs": [],
   "source": [
    "regressor=Sequential()"
   ]
  },
  {
   "cell_type": "code",
   "execution_count": 17,
   "metadata": {
    "collapsed": true
   },
   "outputs": [],
   "source": [
    "regressor.add(LSTM(units=4,activation='sigmoid',input_shape=(None,1)))"
   ]
  },
  {
   "cell_type": "code",
   "execution_count": 18,
   "metadata": {
    "collapsed": true
   },
   "outputs": [],
   "source": [
    "regressor.add(Dense(units=1))"
   ]
  },
  {
   "cell_type": "code",
   "execution_count": 19,
   "metadata": {
    "collapsed": true
   },
   "outputs": [],
   "source": [
    "regressor.compile(optimizer='adam',loss='mean_squared_error')"
   ]
  },
  {
   "cell_type": "code",
   "execution_count": 20,
   "metadata": {},
   "outputs": [
    {
     "name": "stdout",
     "output_type": "stream",
     "text": [
      "Epoch 1/150\n",
      "1197/1197 [==============================] - 5s 4ms/step - loss: 0.3549\n",
      "Epoch 2/150\n",
      "1197/1197 [==============================] - 0s 221us/step - loss: 0.2681 0s - loss: 0.2\n",
      "Epoch 3/150\n",
      "1197/1197 [==============================] - 0s 240us/step - loss: 0.2012\n",
      "Epoch 4/150\n",
      "1197/1197 [==============================] - 0s 200us/step - loss: 0.1512\n",
      "Epoch 5/150\n",
      "1197/1197 [==============================] - 0s 195us/step - loss: 0.1149\n",
      "Epoch 6/150\n",
      "1197/1197 [==============================] - 0s 175us/step - loss: 0.0893\n",
      "Epoch 7/150\n",
      "1197/1197 [==============================] - 0s 151us/step - loss: 0.0723\n",
      "Epoch 8/150\n",
      "1197/1197 [==============================] - 0s 148us/step - loss: 0.0612\n",
      "Epoch 9/150\n",
      "1197/1197 [==============================] - 0s 148us/step - loss: 0.0545\n",
      "Epoch 10/150\n",
      "1197/1197 [==============================] - 0s 144us/step - loss: 0.0505\n",
      "Epoch 11/150\n",
      "1197/1197 [==============================] - 0s 126us/step - loss: 0.0482\n",
      "Epoch 12/150\n",
      "1197/1197 [==============================] - 0s 123us/step - loss: 0.0470\n",
      "Epoch 13/150\n",
      "1197/1197 [==============================] - 0s 131us/step - loss: 0.0462\n",
      "Epoch 14/150\n",
      "1197/1197 [==============================] - 0s 106us/step - loss: 0.0456\n",
      "Epoch 15/150\n",
      "1197/1197 [==============================] - 0s 117us/step - loss: 0.0452\n",
      "Epoch 16/150\n",
      "1197/1197 [==============================] - 0s 108us/step - loss: 0.0448 0s - loss: 0.04\n",
      "Epoch 17/150\n",
      "1197/1197 [==============================] - 0s 108us/step - loss: 0.0445\n",
      "Epoch 18/150\n",
      "1197/1197 [==============================] - 0s 95us/step - loss: 0.0441\n",
      "Epoch 19/150\n",
      "1197/1197 [==============================] - 0s 107us/step - loss: 0.0437\n",
      "Epoch 20/150\n",
      "1197/1197 [==============================] - 0s 102us/step - loss: 0.0433\n",
      "Epoch 21/150\n",
      "1197/1197 [==============================] - 0s 105us/step - loss: 0.0429\n",
      "Epoch 22/150\n",
      "1197/1197 [==============================] - 0s 99us/step - loss: 0.0424\n",
      "Epoch 23/150\n",
      "1197/1197 [==============================] - 0s 96us/step - loss: 0.0420\n",
      "Epoch 24/150\n",
      "1197/1197 [==============================] - 0s 98us/step - loss: 0.0416\n",
      "Epoch 25/150\n",
      "1197/1197 [==============================] - 0s 87us/step - loss: 0.0411\n",
      "Epoch 26/150\n",
      "1197/1197 [==============================] - 0s 87us/step - loss: 0.0406\n",
      "Epoch 27/150\n",
      "1197/1197 [==============================] - 0s 87us/step - loss: 0.0401\n",
      "Epoch 28/150\n",
      "1197/1197 [==============================] - 0s 94us/step - loss: 0.0396\n",
      "Epoch 29/150\n",
      "1197/1197 [==============================] - 0s 89us/step - loss: 0.0390\n",
      "Epoch 30/150\n",
      "1197/1197 [==============================] - 0s 94us/step - loss: 0.0385\n",
      "Epoch 31/150\n",
      "1197/1197 [==============================] - 0s 89us/step - loss: 0.0379\n",
      "Epoch 32/150\n",
      "1197/1197 [==============================] - 0s 86us/step - loss: 0.0373\n",
      "Epoch 33/150\n",
      "1197/1197 [==============================] - 0s 97us/step - loss: 0.0367\n",
      "Epoch 34/150\n",
      "1197/1197 [==============================] - 0s 84us/step - loss: 0.0360\n",
      "Epoch 35/150\n",
      "1197/1197 [==============================] - 0s 94us/step - loss: 0.0354\n",
      "Epoch 36/150\n",
      "1197/1197 [==============================] - 0s 84us/step - loss: 0.0347\n",
      "Epoch 37/150\n",
      "1197/1197 [==============================] - 0s 95us/step - loss: 0.0341\n",
      "Epoch 38/150\n",
      "1197/1197 [==============================] - 0s 89us/step - loss: 0.0333\n",
      "Epoch 39/150\n",
      "1197/1197 [==============================] - 0s 89us/step - loss: 0.0326\n",
      "Epoch 40/150\n",
      "1197/1197 [==============================] - 0s 86us/step - loss: 0.0319\n",
      "Epoch 41/150\n",
      "1197/1197 [==============================] - 0s 93us/step - loss: 0.0311\n",
      "Epoch 42/150\n",
      "1197/1197 [==============================] - 0s 97us/step - loss: 0.0303\n",
      "Epoch 43/150\n",
      "1197/1197 [==============================] - 0s 93us/step - loss: 0.0295\n",
      "Epoch 44/150\n",
      "1197/1197 [==============================] - 0s 92us/step - loss: 0.0287\n",
      "Epoch 45/150\n",
      "1197/1197 [==============================] - 0s 87us/step - loss: 0.0279\n",
      "Epoch 46/150\n",
      "1197/1197 [==============================] - 0s 94us/step - loss: 0.0270\n",
      "Epoch 47/150\n",
      "1197/1197 [==============================] - 0s 94us/step - loss: 0.0262\n",
      "Epoch 48/150\n",
      "1197/1197 [==============================] - 0s 92us/step - loss: 0.0253\n",
      "Epoch 49/150\n",
      "1197/1197 [==============================] - 0s 92us/step - loss: 0.0244\n",
      "Epoch 50/150\n",
      "1197/1197 [==============================] - 0s 89us/step - loss: 0.0235\n",
      "Epoch 51/150\n",
      "1197/1197 [==============================] - 0s 88us/step - loss: 0.0226\n",
      "Epoch 52/150\n",
      "1197/1197 [==============================] - 0s 98us/step - loss: 0.0217\n",
      "Epoch 53/150\n",
      "1197/1197 [==============================] - 0s 86us/step - loss: 0.0208\n",
      "Epoch 54/150\n",
      "1197/1197 [==============================] - 0s 86us/step - loss: 0.0199\n",
      "Epoch 55/150\n",
      "1197/1197 [==============================] - 0s 84us/step - loss: 0.0189\n",
      "Epoch 56/150\n",
      "1197/1197 [==============================] - 0s 87us/step - loss: 0.0180\n",
      "Epoch 57/150\n",
      "1197/1197 [==============================] - 0s 85us/step - loss: 0.0171\n",
      "Epoch 58/150\n",
      "1197/1197 [==============================] - 0s 83us/step - loss: 0.0162\n",
      "Epoch 59/150\n",
      "1197/1197 [==============================] - 0s 83us/step - loss: 0.0153\n",
      "Epoch 60/150\n",
      "1197/1197 [==============================] - 0s 80us/step - loss: 0.0144\n",
      "Epoch 61/150\n",
      "1197/1197 [==============================] - 0s 83us/step - loss: 0.0135\n",
      "Epoch 62/150\n",
      "1197/1197 [==============================] - 0s 87us/step - loss: 0.0126\n",
      "Epoch 63/150\n",
      "1197/1197 [==============================] - 0s 84us/step - loss: 0.0118\n",
      "Epoch 64/150\n",
      "1197/1197 [==============================] - 0s 84us/step - loss: 0.0110\n",
      "Epoch 65/150\n",
      "1197/1197 [==============================] - 0s 80us/step - loss: 0.0102\n",
      "Epoch 66/150\n",
      "1197/1197 [==============================] - 0s 84us/step - loss: 0.0094\n",
      "Epoch 67/150\n",
      "1197/1197 [==============================] - 0s 84us/step - loss: 0.0086\n",
      "Epoch 68/150\n",
      "1197/1197 [==============================] - 0s 84us/step - loss: 0.0079\n",
      "Epoch 69/150\n",
      "1197/1197 [==============================] - 0s 84us/step - loss: 0.0072\n",
      "Epoch 70/150\n",
      "1197/1197 [==============================] - 0s 83us/step - loss: 0.0066\n",
      "Epoch 71/150\n",
      "1197/1197 [==============================] - 0s 82us/step - loss: 0.0060\n",
      "Epoch 72/150\n",
      "1197/1197 [==============================] - 0s 84us/step - loss: 0.0054\n",
      "Epoch 73/150\n",
      "1197/1197 [==============================] - 0s 89us/step - loss: 0.0049\n",
      "Epoch 74/150\n",
      "1197/1197 [==============================] - 0s 94us/step - loss: 0.0044\n",
      "Epoch 75/150\n",
      "1197/1197 [==============================] - 0s 87us/step - loss: 0.0039\n",
      "Epoch 76/150\n",
      "1197/1197 [==============================] - 0s 99us/step - loss: 0.0035\n",
      "Epoch 77/150\n",
      "1197/1197 [==============================] - 0s 113us/step - loss: 0.0031\n",
      "Epoch 78/150\n",
      "1197/1197 [==============================] - 0s 96us/step - loss: 0.0027\n",
      "Epoch 79/150\n",
      "1197/1197 [==============================] - 0s 120us/step - loss: 0.0024\n",
      "Epoch 80/150\n",
      "1197/1197 [==============================] - 0s 125us/step - loss: 0.0021\n",
      "Epoch 81/150\n",
      "1197/1197 [==============================] - 0s 120us/step - loss: 0.0019\n",
      "Epoch 82/150\n",
      "1197/1197 [==============================] - 0s 117us/step - loss: 0.0016\n",
      "Epoch 83/150\n",
      "1197/1197 [==============================] - 0s 122us/step - loss: 0.0014 0s - loss: 0.00\n",
      "Epoch 84/150\n",
      "1197/1197 [==============================] - 0s 122us/step - loss: 0.0013\n",
      "Epoch 85/150\n",
      "1197/1197 [==============================] - 0s 96us/step - loss: 0.0011\n",
      "Epoch 86/150\n",
      "1197/1197 [==============================] - 0s 79us/step - loss: 9.7622e-04\n",
      "Epoch 87/150\n",
      "1197/1197 [==============================] - 0s 85us/step - loss: 8.6294e-04\n",
      "Epoch 88/150\n",
      "1197/1197 [==============================] - 0s 88us/step - loss: 7.6480e-04\n",
      "Epoch 89/150\n",
      "1197/1197 [==============================] - 0s 83us/step - loss: 6.8373e-04\n",
      "Epoch 90/150\n",
      "1197/1197 [==============================] - 0s 85us/step - loss: 6.1401e-04\n",
      "Epoch 91/150\n",
      "1197/1197 [==============================] - 0s 80us/step - loss: 5.5685e-04\n",
      "Epoch 92/150\n",
      "1197/1197 [==============================] - 0s 84us/step - loss: 5.0969e-04\n",
      "Epoch 93/150\n",
      "1197/1197 [==============================] - 0s 85us/step - loss: 4.6964e-04\n",
      "Epoch 94/150\n",
      "1197/1197 [==============================] - 0s 85us/step - loss: 4.3760e-04\n",
      "Epoch 95/150\n"
     ]
    },
    {
     "name": "stdout",
     "output_type": "stream",
     "text": [
      "1197/1197 [==============================] - 0s 85us/step - loss: 4.1040e-04\n",
      "Epoch 96/150\n",
      "1197/1197 [==============================] - 0s 96us/step - loss: 3.8907e-04\n",
      "Epoch 97/150\n",
      "1197/1197 [==============================] - 0s 84us/step - loss: 3.7190e-04\n",
      "Epoch 98/150\n",
      "1197/1197 [==============================] - 0s 84us/step - loss: 3.5782e-04\n",
      "Epoch 99/150\n",
      "1197/1197 [==============================] - 0s 87us/step - loss: 3.4585e-04\n",
      "Epoch 100/150\n",
      "1197/1197 [==============================] - 0s 86us/step - loss: 3.3685e-04\n",
      "Epoch 101/150\n",
      "1197/1197 [==============================] - 0s 91us/step - loss: 3.2983e-04\n",
      "Epoch 102/150\n",
      "1197/1197 [==============================] - 0s 84us/step - loss: 3.2496e-04\n",
      "Epoch 103/150\n",
      "1197/1197 [==============================] - 0s 84us/step - loss: 3.2013e-04\n",
      "Epoch 104/150\n",
      "1197/1197 [==============================] - 0s 87us/step - loss: 3.1707e-04\n",
      "Epoch 105/150\n",
      "1197/1197 [==============================] - 0s 84us/step - loss: 3.1432e-04\n",
      "Epoch 106/150\n",
      "1197/1197 [==============================] - 0s 85us/step - loss: 3.1336e-04\n",
      "Epoch 107/150\n",
      "1197/1197 [==============================] - 0s 86us/step - loss: 3.1220e-04\n",
      "Epoch 108/150\n",
      "1197/1197 [==============================] - 0s 85us/step - loss: 3.1021e-04\n",
      "Epoch 109/150\n",
      "1197/1197 [==============================] - 0s 88us/step - loss: 3.0907e-04\n",
      "Epoch 110/150\n",
      "1197/1197 [==============================] - 0s 83us/step - loss: 3.0844e-04\n",
      "Epoch 111/150\n",
      "1197/1197 [==============================] - 0s 88us/step - loss: 3.0863e-04\n",
      "Epoch 112/150\n",
      "1197/1197 [==============================] - 0s 85us/step - loss: 3.0735e-04\n",
      "Epoch 113/150\n",
      "1197/1197 [==============================] - 0s 87us/step - loss: 3.0770e-04\n",
      "Epoch 114/150\n",
      "1197/1197 [==============================] - 0s 86us/step - loss: 3.0715e-04\n",
      "Epoch 115/150\n",
      "1197/1197 [==============================] - 0s 88us/step - loss: 3.0820e-04\n",
      "Epoch 116/150\n",
      "1197/1197 [==============================] - 0s 86us/step - loss: 3.0930e-04\n",
      "Epoch 117/150\n",
      "1197/1197 [==============================] - 0s 89us/step - loss: 3.0682e-04\n",
      "Epoch 118/150\n",
      "1197/1197 [==============================] - 0s 85us/step - loss: 3.0633e-04\n",
      "Epoch 119/150\n",
      "1197/1197 [==============================] - 0s 101us/step - loss: 3.0771e-04\n",
      "Epoch 120/150\n",
      "1197/1197 [==============================] - 0s 98us/step - loss: 3.0635e-04\n",
      "Epoch 121/150\n",
      "1197/1197 [==============================] - 0s 94us/step - loss: 3.0877e-04\n",
      "Epoch 122/150\n",
      "1197/1197 [==============================] - 0s 99us/step - loss: 3.0698e-04\n",
      "Epoch 123/150\n",
      "1197/1197 [==============================] - 0s 97us/step - loss: 3.0596e-04\n",
      "Epoch 124/150\n",
      "1197/1197 [==============================] - 0s 98us/step - loss: 3.0657e-04\n",
      "Epoch 125/150\n",
      "1197/1197 [==============================] - 0s 121us/step - loss: 3.0617e-04\n",
      "Epoch 126/150\n",
      "1197/1197 [==============================] - 0s 130us/step - loss: 3.0600e-04\n",
      "Epoch 127/150\n",
      "1197/1197 [==============================] - 0s 125us/step - loss: 3.0621e-04\n",
      "Epoch 128/150\n",
      "1197/1197 [==============================] - 0s 115us/step - loss: 3.0572e-04\n",
      "Epoch 129/150\n",
      "1197/1197 [==============================] - 0s 121us/step - loss: 3.0553e-04\n",
      "Epoch 130/150\n",
      "1197/1197 [==============================] - 0s 118us/step - loss: 3.0702e-04\n",
      "Epoch 131/150\n",
      "1197/1197 [==============================] - 0s 113us/step - loss: 3.0751e-04\n",
      "Epoch 132/150\n",
      "1197/1197 [==============================] - 0s 96us/step - loss: 3.0603e-04\n",
      "Epoch 133/150\n",
      "1197/1197 [==============================] - 0s 104us/step - loss: 3.0672e-04\n",
      "Epoch 134/150\n",
      "1197/1197 [==============================] - 0s 95us/step - loss: 3.0802e-04\n",
      "Epoch 135/150\n",
      "1197/1197 [==============================] - 0s 97us/step - loss: 3.0629e-04\n",
      "Epoch 136/150\n",
      "1197/1197 [==============================] - 0s 97us/step - loss: 3.0678e-04\n",
      "Epoch 137/150\n",
      "1197/1197 [==============================] - 0s 93us/step - loss: 3.0697e-04\n",
      "Epoch 138/150\n",
      "1197/1197 [==============================] - 0s 101us/step - loss: 3.0655e-04\n",
      "Epoch 139/150\n",
      "1197/1197 [==============================] - 0s 116us/step - loss: 3.0501e-04\n",
      "Epoch 140/150\n",
      "1197/1197 [==============================] - 0s 120us/step - loss: 3.0497e-04\n",
      "Epoch 141/150\n",
      "1197/1197 [==============================] - 0s 95us/step - loss: 3.0618e-04\n",
      "Epoch 142/150\n",
      "1197/1197 [==============================] - 0s 93us/step - loss: 3.0920e-04\n",
      "Epoch 143/150\n",
      "1197/1197 [==============================] - 0s 96us/step - loss: 3.0583e-04\n",
      "Epoch 144/150\n",
      "1197/1197 [==============================] - 0s 96us/step - loss: 3.0618e-04\n",
      "Epoch 145/150\n",
      "1197/1197 [==============================] - 0s 94us/step - loss: 3.0545e-04\n",
      "Epoch 146/150\n",
      "1197/1197 [==============================] - 0s 92us/step - loss: 3.0689e-04\n",
      "Epoch 147/150\n",
      "1197/1197 [==============================] - 0s 99us/step - loss: 3.0477e-04\n",
      "Epoch 148/150\n",
      "1197/1197 [==============================] - 0s 98us/step - loss: 3.0777e-04\n",
      "Epoch 149/150\n",
      "1197/1197 [==============================] - 0s 89us/step - loss: 3.0602e-04\n",
      "Epoch 150/150\n",
      "1197/1197 [==============================] - 0s 95us/step - loss: 3.0446e-04\n"
     ]
    },
    {
     "data": {
      "text/plain": [
       "<keras.callbacks.History at 0x18648d5fd0>"
      ]
     },
     "execution_count": 20,
     "metadata": {},
     "output_type": "execute_result"
    }
   ],
   "source": [
    "regressor.fit(X_train,y_train,batch_size=32,epochs=150)"
   ]
  },
  {
   "cell_type": "code",
   "execution_count": 21,
   "metadata": {
    "collapsed": true
   },
   "outputs": [],
   "source": [
    "test_set=pd.read_csv(\"C:/Users/mohamed ismail/Desktop/GP And Data/Telecom Egypt 2.csv\")"
   ]
  },
  {
   "cell_type": "code",
   "execution_count": 22,
   "metadata": {
    "collapsed": true
   },
   "outputs": [],
   "source": [
    "real_stock_price=test_set.iloc[:,7:8].values"
   ]
  },
  {
   "cell_type": "code",
   "execution_count": 23,
   "metadata": {
    "collapsed": true
   },
   "outputs": [],
   "source": [
    "inputs=real_stock_price"
   ]
  },
  {
   "cell_type": "code",
   "execution_count": 24,
   "metadata": {
    "collapsed": true
   },
   "outputs": [],
   "source": [
    "inputs=sc.transform(inputs)"
   ]
  },
  {
   "cell_type": "code",
   "execution_count": 25,
   "metadata": {},
   "outputs": [
    {
     "data": {
      "text/plain": [
       "21"
      ]
     },
     "execution_count": 25,
     "metadata": {},
     "output_type": "execute_result"
    }
   ],
   "source": [
    "len(inputs)"
   ]
  },
  {
   "cell_type": "code",
   "execution_count": 26,
   "metadata": {
    "collapsed": true
   },
   "outputs": [],
   "source": [
    "inputs=np.reshape(inputs,(21,1,1))"
   ]
  },
  {
   "cell_type": "code",
   "execution_count": 27,
   "metadata": {
    "collapsed": true
   },
   "outputs": [],
   "source": [
    "predicted_stock_prices=regressor.predict(inputs)"
   ]
  },
  {
   "cell_type": "code",
   "execution_count": 28,
   "metadata": {
    "collapsed": true
   },
   "outputs": [],
   "source": [
    "predicted_stock_prices=sc.inverse_transform(predicted_stock_prices)"
   ]
  },
  {
   "cell_type": "code",
   "execution_count": 29,
   "metadata": {},
   "outputs": [
    {
     "data": {
      "image/png": "[encoded data removed]",
      "text/plain": [
       "<matplotlib.figure.Figure at 0x1867482908>"
      ]
     },
     "metadata": {},
     "output_type": "display_data"
    }
   ],
   "source": [
    "plt.plot(real_stock_price,color='red',label='Real Telecom Egypt Stock Price')\n",
    "plt.plot(predicted_stock_prices,color='blue',label='Predicted Telecom Egypt Stock Price')\n",
    "plt.title('Telecom Egypt Stock Price Prediction')\n",
    "plt.xlabel('Time')\n",
    "plt.ylabel('Telecom Egypt Stock Price')\n",
    "plt.legend()\n",
    "plt.show()"
   ]
  },
  {
   "cell_type": "code",
   "execution_count": 30,
   "metadata": {
    "collapsed": true
   },
   "outputs": [],
   "source": [
    "import math\n",
    "from sklearn.metrics import mean_squared_error"
   ]
  },
  {
   "cell_type": "code",
   "execution_count": 31,
   "metadata": {},
   "outputs": [
    {
     "data": {
      "text/plain": [
       "0.024910700990765314"
      ]
     },
     "execution_count": 31,
     "metadata": {},
     "output_type": "execute_result"
    }
   ],
   "source": [
    "rmse=math.sqrt(mean_squared_error(real_stock_price,predicted_stock_prices))\n",
    "rmse"
   ]
  },
  {
   "cell_type": "code",
   "execution_count": 32,
   "metadata": {},
   "outputs": [
    {
     "data": {
      "text/plain": [
       "0.00062054302385131609"
      ]
     },
     "execution_count": 32,
     "metadata": {},
     "output_type": "execute_result"
    }
   ],
   "source": [
    "mse=mean_squared_error(real_stock_price,predicted_stock_prices)\n",
    "mse"
   ]
  },
  {
   "cell_type": "code",
   "execution_count": null,
   "metadata": {
    "collapsed": true
   },
   "outputs": [],
   "source": []
  },
  {
   "cell_type": "code",
   "execution_count": null,
   "metadata": {
    "collapsed": true
   },
   "outputs": [],
   "source": []
  },
  {
   "cell_type": "code",
   "execution_count": null,
   "metadata": {
    "collapsed": true
   },
   "outputs": [],
   "source": []
  },
  {
   "cell_type": "code",
   "execution_count": null,
   "metadata": {
    "collapsed": true
   },
   "outputs": [],
   "source": []
  },
  {
   "cell_type": "code",
   "execution_count": null,
   "metadata": {
    "collapsed": true
   },
   "outputs": [],
   "source": []
  },
  {
   "cell_type": "code",
   "execution_count": null,
   "metadata": {
    "collapsed": true
   },
   "outputs": [],
   "source": []
  },
  {
   "cell_type": "code",
   "execution_count": null,
   "metadata": {
    "collapsed": true
   },
   "outputs": [],
   "source": []
  },
  {
   "cell_type": "code",
   "execution_count": null,
   "metadata": {
    "collapsed": true
   },
   "outputs": [],
   "source": []
  },
  {
   "cell_type": "code",
   "execution_count": null,
   "metadata": {
    "collapsed": true
   },
   "outputs": [],
   "source": []
  },
  {
   "cell_type": "code",
   "execution_count": null,
   "metadata": {
    "collapsed": true
   },
   "outputs": [],
   "source": []
  },
  {
   "cell_type": "code",
   "execution_count": null,
   "metadata": {
    "collapsed": true
   },
   "outputs": [],
   "source": []
  },
  {
   "cell_type": "code",
   "execution_count": null,
   "metadata": {
    "collapsed": true
   },
   "outputs": [],
   "source": []
  },
  {
   "cell_type": "code",
   "execution_count": null,
   "metadata": {
    "collapsed": true
   },
   "outputs": [],
   "source": []
  },
  {
   "cell_type": "code",
   "execution_count": null,
   "metadata": {
    "collapsed": true
   },
   "outputs": [],
   "source": []
  },
  {
   "cell_type": "code",
   "execution_count": null,
   "metadata": {
    "collapsed": true
   },
   "outputs": [],
   "source": []
  },
  {
   "cell_type": "code",
   "execution_count": null,
   "metadata": {
    "collapsed": true
   },
   "outputs": [],
   "source": []
  },
  {
   "cell_type": "code",
   "execution_count": null,
   "metadata": {
    "collapsed": true
   },
   "outputs": [],
   "source": []
  },
  {
   "cell_type": "code",
   "execution_count": null,
   "metadata": {
    "collapsed": true
   },
   "outputs": [],
   "source": []
  },
  {
   "cell_type": "code",
   "execution_count": null,
   "metadata": {
    "collapsed": true
   },
   "outputs": [],
   "source": []
  },
  {
   "cell_type": "code",
   "execution_count": null,
   "metadata": {
    "collapsed": true
   },
   "outputs": [],
   "source": []
  },
  {
   "cell_type": "code",
   "execution_count": null,
   "metadata": {
    "collapsed": true
   },
   "outputs": [],
   "source": []
  },
  {
   "cell_type": "code",
   "execution_count": null,
   "metadata": {
    "collapsed": true
   },
   "outputs": [],
   "source": []
  },
  {
   "cell_type": "code",
   "execution_count": null,
   "metadata": {
    "collapsed": true
   },
   "outputs": [],
   "source": []
  },
  {
   "cell_type": "code",
   "execution_count": null,
   "metadata": {
    "collapsed": true
   },
   "outputs": [],
   "source": []
  },
  {
   "cell_type": "code",
   "execution_count": null,
   "metadata": {
    "collapsed": true
   },
   "outputs": [],
   "source": []
  },
  {
   "cell_type": "code",
   "execution_count": null,
   "metadata": {
    "collapsed": true
   },
   "outputs": [],
   "source": []
  },
  {
   "cell_type": "code",
   "execution_count": null,
   "metadata": {
    "collapsed": true
   },
   "outputs": [],
   "source": []
  },
  {
   "cell_type": "code",
   "execution_count": null,
   "metadata": {
    "collapsed": true
   },
   "outputs": [],
   "source": []
  },
  {
   "cell_type": "code",
   "execution_count": null,
   "metadata": {
    "collapsed": true
   },
   "outputs": [],
   "source": []
  },
  {
   "cell_type": "code",
   "execution_count": null,
   "metadata": {
    "collapsed": true
   },
   "outputs": [],
   "source": []
  },
  {
   "cell_type": "code",
   "execution_count": null,
   "metadata": {
    "collapsed": true
   },
   "outputs": [],
   "source": []
  },
  {
   "cell_type": "code",
   "execution_count": null,
   "metadata": {
    "collapsed": true
   },
   "outputs": [],
   "source": []
  },
  {
   "cell_type": "code",
   "execution_count": null,
   "metadata": {
    "collapsed": true
   },
   "outputs": [],
   "source": []
  },
  {
   "cell_type": "code",
   "execution_count": null,
   "metadata": {
    "collapsed": true
   },
   "outputs": [],
   "source": []
  },
  {
   "cell_type": "code",
   "execution_count": null,
   "metadata": {
    "collapsed": true
   },
   "outputs": [],
   "source": []
  },
  {
   "cell_type": "code",
   "execution_count": null,
   "metadata": {
    "collapsed": true
   },
   "outputs": [],
   "source": []
  },
  {
   "cell_type": "code",
   "execution_count": null,
   "metadata": {
    "collapsed": true
   },
   "outputs": [],
   "source": []
  },
  {
   "cell_type": "code",
   "execution_count": null,
   "metadata": {
    "collapsed": true
   },
   "outputs": [],
   "source": []
  }
 ],
 "metadata": {
  "kernelspec": {
   "display_name": "Python 3",
   "language": "python",
   "name": "python3"
  },
  "language_info": {
   "codemirror_mode": {
    "name": "ipython",
    "version": 3
   },
   "file_extension": ".py",
   "mimetype": "text/x-python",
   "name": "python",
   "nbconvert_exporter": "python",
   "pygments_lexer": "ipython3",
   "version": "3.6.1"
  }
 },
 "nbformat": 4,
 "nbformat_minor": 2
}
