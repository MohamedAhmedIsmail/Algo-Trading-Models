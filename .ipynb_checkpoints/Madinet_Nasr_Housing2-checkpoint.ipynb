{
 "cells": [
  {
   "cell_type": "code",
   "execution_count": 123,
   "metadata": {},
   "outputs": [],
   "source": [
    "import pandas as pd\n",
    "import numpy as np\n",
    "import matplotlib.pyplot as plt\n",
    "%matplotlib inline"
   ]
  },
  {
   "cell_type": "code",
   "execution_count": 124,
   "metadata": {
    "collapsed": true
   },
   "outputs": [],
   "source": [
    "training_set=pd.read_csv(\"C:/Users/mohamed ismail/Desktop/GP And Data/Medinet Nasr Housing.csv\")"
   ]
  },
  {
   "cell_type": "code",
   "execution_count": 125,
   "metadata": {},
   "outputs": [
    {
     "data": {
      "text/html": [
       "<div>\n",
       "<style>\n",
       "    .dataframe thead tr:only-child th {\n",
       "        text-align: right;\n",
       "    }\n",
       "\n",
       "    .dataframe thead th {\n",
       "        text-align: left;\n",
       "    }\n",
       "\n",
       "    .dataframe tbody tr th {\n",
       "        vertical-align: top;\n",
       "    }\n",
       "</style>\n",
       "<table border=\"1\" class=\"dataframe\">\n",
       "  <thead>\n",
       "    <tr style=\"text-align: right;\">\n",
       "      <th></th>\n",
       "      <th>SYMBOL_CODE</th>\n",
       "      <th>TRADE_DATE</th>\n",
       "      <th>TRADE_VOLUME</th>\n",
       "      <th>TRADE_VALUE</th>\n",
       "      <th>TRADE_COUNT</th>\n",
       "      <th>OPEN_PRICE</th>\n",
       "      <th>HIGH_PRICE</th>\n",
       "      <th>LOW_PRICE</th>\n",
       "      <th>CLOSE_PRICE</th>\n",
       "    </tr>\n",
       "  </thead>\n",
       "  <tbody>\n",
       "    <tr>\n",
       "      <th>0</th>\n",
       "      <td>EGS65571C019</td>\n",
       "      <td>1/2/2013 0:00</td>\n",
       "      <td>103941</td>\n",
       "      <td>2582112.50</td>\n",
       "      <td>119</td>\n",
       "      <td>24.39</td>\n",
       "      <td>25.05</td>\n",
       "      <td>24.02</td>\n",
       "      <td>24.84</td>\n",
       "    </tr>\n",
       "    <tr>\n",
       "      <th>1</th>\n",
       "      <td>EGS65571C019</td>\n",
       "      <td>1/3/2013 0:00</td>\n",
       "      <td>232703</td>\n",
       "      <td>5961554.06</td>\n",
       "      <td>167</td>\n",
       "      <td>24.70</td>\n",
       "      <td>26.00</td>\n",
       "      <td>24.70</td>\n",
       "      <td>25.62</td>\n",
       "    </tr>\n",
       "    <tr>\n",
       "      <th>2</th>\n",
       "      <td>EGS65571C019</td>\n",
       "      <td>1/6/2013 0:00</td>\n",
       "      <td>76886</td>\n",
       "      <td>1956936.75</td>\n",
       "      <td>117</td>\n",
       "      <td>25.30</td>\n",
       "      <td>25.85</td>\n",
       "      <td>25.07</td>\n",
       "      <td>25.45</td>\n",
       "    </tr>\n",
       "    <tr>\n",
       "      <th>3</th>\n",
       "      <td>EGS65571C019</td>\n",
       "      <td>1/8/2013 0:00</td>\n",
       "      <td>64687</td>\n",
       "      <td>1620033.52</td>\n",
       "      <td>91</td>\n",
       "      <td>25.16</td>\n",
       "      <td>25.16</td>\n",
       "      <td>24.87</td>\n",
       "      <td>25.04</td>\n",
       "    </tr>\n",
       "    <tr>\n",
       "      <th>4</th>\n",
       "      <td>EGS65571C019</td>\n",
       "      <td>1/9/2013 0:00</td>\n",
       "      <td>49786</td>\n",
       "      <td>1242881.47</td>\n",
       "      <td>62</td>\n",
       "      <td>25.04</td>\n",
       "      <td>25.19</td>\n",
       "      <td>24.66</td>\n",
       "      <td>24.96</td>\n",
       "    </tr>\n",
       "  </tbody>\n",
       "</table>\n",
       "</div>"
      ],
      "text/plain": [
       "    SYMBOL_CODE     TRADE_DATE  TRADE_VOLUME  TRADE_VALUE  TRADE_COUNT  \\\n",
       "0  EGS65571C019  1/2/2013 0:00        103941   2582112.50          119   \n",
       "1  EGS65571C019  1/3/2013 0:00        232703   5961554.06          167   \n",
       "2  EGS65571C019  1/6/2013 0:00         76886   1956936.75          117   \n",
       "3  EGS65571C019  1/8/2013 0:00         64687   1620033.52           91   \n",
       "4  EGS65571C019  1/9/2013 0:00         49786   1242881.47           62   \n",
       "\n",
       "   OPEN_PRICE  HIGH_PRICE  LOW_PRICE  CLOSE_PRICE  \n",
       "0       24.39       25.05      24.02        24.84  \n",
       "1       24.70       26.00      24.70        25.62  \n",
       "2       25.30       25.85      25.07        25.45  \n",
       "3       25.16       25.16      24.87        25.04  \n",
       "4       25.04       25.19      24.66        24.96  "
      ]
     },
     "execution_count": 125,
     "metadata": {},
     "output_type": "execute_result"
    }
   ],
   "source": [
    "training_set.head()"
   ]
  },
  {
   "cell_type": "code",
   "execution_count": 126,
   "metadata": {},
   "outputs": [
    {
     "data": {
      "text/html": [
       "<div>\n",
       "<style>\n",
       "    .dataframe thead tr:only-child th {\n",
       "        text-align: right;\n",
       "    }\n",
       "\n",
       "    .dataframe thead th {\n",
       "        text-align: left;\n",
       "    }\n",
       "\n",
       "    .dataframe tbody tr th {\n",
       "        vertical-align: top;\n",
       "    }\n",
       "</style>\n",
       "<table border=\"1\" class=\"dataframe\">\n",
       "  <thead>\n",
       "    <tr style=\"text-align: right;\">\n",
       "      <th></th>\n",
       "      <th>SYMBOL_CODE</th>\n",
       "      <th>TRADE_DATE</th>\n",
       "      <th>TRADE_VOLUME</th>\n",
       "      <th>TRADE_VALUE</th>\n",
       "      <th>TRADE_COUNT</th>\n",
       "      <th>OPEN_PRICE</th>\n",
       "      <th>HIGH_PRICE</th>\n",
       "      <th>LOW_PRICE</th>\n",
       "      <th>CLOSE_PRICE</th>\n",
       "    </tr>\n",
       "  </thead>\n",
       "  <tbody>\n",
       "    <tr>\n",
       "      <th>1214</th>\n",
       "      <td>EGS65571C019</td>\n",
       "      <td>12/25/2017 0:00</td>\n",
       "      <td>3298857</td>\n",
       "      <td>36039349.60</td>\n",
       "      <td>819</td>\n",
       "      <td>10.79</td>\n",
       "      <td>11.02</td>\n",
       "      <td>10.77</td>\n",
       "      <td>10.92</td>\n",
       "    </tr>\n",
       "    <tr>\n",
       "      <th>1215</th>\n",
       "      <td>EGS65571C019</td>\n",
       "      <td>12/26/2017 0:00</td>\n",
       "      <td>464501</td>\n",
       "      <td>5049787.47</td>\n",
       "      <td>160</td>\n",
       "      <td>10.89</td>\n",
       "      <td>10.98</td>\n",
       "      <td>10.80</td>\n",
       "      <td>10.87</td>\n",
       "    </tr>\n",
       "    <tr>\n",
       "      <th>1216</th>\n",
       "      <td>EGS65571C019</td>\n",
       "      <td>12/27/2017 0:00</td>\n",
       "      <td>3037790</td>\n",
       "      <td>32747169.53</td>\n",
       "      <td>344</td>\n",
       "      <td>10.85</td>\n",
       "      <td>10.96</td>\n",
       "      <td>10.68</td>\n",
       "      <td>10.78</td>\n",
       "    </tr>\n",
       "    <tr>\n",
       "      <th>1217</th>\n",
       "      <td>EGS65571C019</td>\n",
       "      <td>12/28/2017 0:00</td>\n",
       "      <td>666757</td>\n",
       "      <td>7145359.50</td>\n",
       "      <td>269</td>\n",
       "      <td>10.75</td>\n",
       "      <td>10.82</td>\n",
       "      <td>10.64</td>\n",
       "      <td>10.72</td>\n",
       "    </tr>\n",
       "    <tr>\n",
       "      <th>1218</th>\n",
       "      <td>EGS65571C019</td>\n",
       "      <td>12/31/2017 0:00</td>\n",
       "      <td>1328205</td>\n",
       "      <td>14053645.10</td>\n",
       "      <td>295</td>\n",
       "      <td>10.70</td>\n",
       "      <td>10.73</td>\n",
       "      <td>10.49</td>\n",
       "      <td>10.58</td>\n",
       "    </tr>\n",
       "  </tbody>\n",
       "</table>\n",
       "</div>"
      ],
      "text/plain": [
       "       SYMBOL_CODE       TRADE_DATE  TRADE_VOLUME  TRADE_VALUE  TRADE_COUNT  \\\n",
       "1214  EGS65571C019  12/25/2017 0:00       3298857  36039349.60          819   \n",
       "1215  EGS65571C019  12/26/2017 0:00        464501   5049787.47          160   \n",
       "1216  EGS65571C019  12/27/2017 0:00       3037790  32747169.53          344   \n",
       "1217  EGS65571C019  12/28/2017 0:00        666757   7145359.50          269   \n",
       "1218  EGS65571C019  12/31/2017 0:00       1328205  14053645.10          295   \n",
       "\n",
       "      OPEN_PRICE  HIGH_PRICE  LOW_PRICE  CLOSE_PRICE  \n",
       "1214       10.79       11.02      10.77        10.92  \n",
       "1215       10.89       10.98      10.80        10.87  \n",
       "1216       10.85       10.96      10.68        10.78  \n",
       "1217       10.75       10.82      10.64        10.72  \n",
       "1218       10.70       10.73      10.49        10.58  "
      ]
     },
     "execution_count": 126,
     "metadata": {},
     "output_type": "execute_result"
    }
   ],
   "source": [
    "training_set.tail()"
   ]
  },
  {
   "cell_type": "code",
   "execution_count": 127,
   "metadata": {
    "collapsed": true
   },
   "outputs": [],
   "source": [
    "madinet_Nasr_Housing_training=training_set[:1198]"
   ]
  },
  {
   "cell_type": "code",
   "execution_count": 128,
   "metadata": {},
   "outputs": [
    {
     "data": {
      "text/html": [
       "<div>\n",
       "<style>\n",
       "    .dataframe thead tr:only-child th {\n",
       "        text-align: right;\n",
       "    }\n",
       "\n",
       "    .dataframe thead th {\n",
       "        text-align: left;\n",
       "    }\n",
       "\n",
       "    .dataframe tbody tr th {\n",
       "        vertical-align: top;\n",
       "    }\n",
       "</style>\n",
       "<table border=\"1\" class=\"dataframe\">\n",
       "  <thead>\n",
       "    <tr style=\"text-align: right;\">\n",
       "      <th></th>\n",
       "      <th>SYMBOL_CODE</th>\n",
       "      <th>TRADE_DATE</th>\n",
       "      <th>TRADE_VOLUME</th>\n",
       "      <th>TRADE_VALUE</th>\n",
       "      <th>TRADE_COUNT</th>\n",
       "      <th>OPEN_PRICE</th>\n",
       "      <th>HIGH_PRICE</th>\n",
       "      <th>LOW_PRICE</th>\n",
       "      <th>CLOSE_PRICE</th>\n",
       "    </tr>\n",
       "  </thead>\n",
       "  <tbody>\n",
       "    <tr>\n",
       "      <th>1193</th>\n",
       "      <td>EGS65571C019</td>\n",
       "      <td>11/23/2017 0:00</td>\n",
       "      <td>2258392</td>\n",
       "      <td>22729430.40</td>\n",
       "      <td>807</td>\n",
       "      <td>10.05</td>\n",
       "      <td>10.20</td>\n",
       "      <td>9.96</td>\n",
       "      <td>10.06</td>\n",
       "    </tr>\n",
       "    <tr>\n",
       "      <th>1194</th>\n",
       "      <td>EGS65571C019</td>\n",
       "      <td>11/26/2017 0:00</td>\n",
       "      <td>4086780</td>\n",
       "      <td>41966970.63</td>\n",
       "      <td>1109</td>\n",
       "      <td>9.95</td>\n",
       "      <td>10.41</td>\n",
       "      <td>9.95</td>\n",
       "      <td>10.27</td>\n",
       "    </tr>\n",
       "    <tr>\n",
       "      <th>1195</th>\n",
       "      <td>EGS65571C019</td>\n",
       "      <td>11/27/2017 0:00</td>\n",
       "      <td>3891406</td>\n",
       "      <td>39933768.85</td>\n",
       "      <td>690</td>\n",
       "      <td>10.30</td>\n",
       "      <td>10.44</td>\n",
       "      <td>10.14</td>\n",
       "      <td>10.26</td>\n",
       "    </tr>\n",
       "    <tr>\n",
       "      <th>1196</th>\n",
       "      <td>EGS65571C019</td>\n",
       "      <td>11/28/2017 0:00</td>\n",
       "      <td>3934603</td>\n",
       "      <td>41007472.25</td>\n",
       "      <td>1006</td>\n",
       "      <td>10.39</td>\n",
       "      <td>10.56</td>\n",
       "      <td>10.26</td>\n",
       "      <td>10.42</td>\n",
       "    </tr>\n",
       "    <tr>\n",
       "      <th>1197</th>\n",
       "      <td>EGS65571C019</td>\n",
       "      <td>11/29/2017 0:00</td>\n",
       "      <td>3080801</td>\n",
       "      <td>32179037.66</td>\n",
       "      <td>619</td>\n",
       "      <td>10.40</td>\n",
       "      <td>10.53</td>\n",
       "      <td>10.30</td>\n",
       "      <td>10.45</td>\n",
       "    </tr>\n",
       "  </tbody>\n",
       "</table>\n",
       "</div>"
      ],
      "text/plain": [
       "       SYMBOL_CODE       TRADE_DATE  TRADE_VOLUME  TRADE_VALUE  TRADE_COUNT  \\\n",
       "1193  EGS65571C019  11/23/2017 0:00       2258392  22729430.40          807   \n",
       "1194  EGS65571C019  11/26/2017 0:00       4086780  41966970.63         1109   \n",
       "1195  EGS65571C019  11/27/2017 0:00       3891406  39933768.85          690   \n",
       "1196  EGS65571C019  11/28/2017 0:00       3934603  41007472.25         1006   \n",
       "1197  EGS65571C019  11/29/2017 0:00       3080801  32179037.66          619   \n",
       "\n",
       "      OPEN_PRICE  HIGH_PRICE  LOW_PRICE  CLOSE_PRICE  \n",
       "1193       10.05       10.20       9.96        10.06  \n",
       "1194        9.95       10.41       9.95        10.27  \n",
       "1195       10.30       10.44      10.14        10.26  \n",
       "1196       10.39       10.56      10.26        10.42  \n",
       "1197       10.40       10.53      10.30        10.45  "
      ]
     },
     "execution_count": 128,
     "metadata": {},
     "output_type": "execute_result"
    }
   ],
   "source": [
    "madinet_Nasr_Housing_training.tail()"
   ]
  },
  {
   "cell_type": "code",
   "execution_count": 129,
   "metadata": {},
   "outputs": [],
   "source": [
    "training_set=madinet_Nasr_Housing_training.iloc[:,8:9].values"
   ]
  },
  {
   "cell_type": "code",
   "execution_count": 130,
   "metadata": {},
   "outputs": [
    {
     "data": {
      "text/plain": [
       "array([[ 24.84],\n",
       "       [ 25.62],\n",
       "       [ 25.45],\n",
       "       ..., \n",
       "       [ 10.26],\n",
       "       [ 10.42],\n",
       "       [ 10.45]])"
      ]
     },
     "execution_count": 130,
     "metadata": {},
     "output_type": "execute_result"
    }
   ],
   "source": [
    "training_set"
   ]
  },
  {
   "cell_type": "code",
   "execution_count": 131,
   "metadata": {},
   "outputs": [
    {
     "data": {
      "text/plain": [
       "1198"
      ]
     },
     "execution_count": 131,
     "metadata": {},
     "output_type": "execute_result"
    }
   ],
   "source": [
    "len(training_set)"
   ]
  },
  {
   "cell_type": "code",
   "execution_count": 132,
   "metadata": {
    "collapsed": true
   },
   "outputs": [],
   "source": [
    "from sklearn.preprocessing import MinMaxScaler"
   ]
  },
  {
   "cell_type": "code",
   "execution_count": 133,
   "metadata": {},
   "outputs": [],
   "source": [
    "sc=MinMaxScaler()\n",
    "training_set=sc.fit_transform(training_set)"
   ]
  },
  {
   "cell_type": "code",
   "execution_count": 134,
   "metadata": {
    "collapsed": true
   },
   "outputs": [],
   "source": [
    "X_train=training_set[0:1197]"
   ]
  },
  {
   "cell_type": "code",
   "execution_count": 135,
   "metadata": {
    "collapsed": true
   },
   "outputs": [],
   "source": [
    "y_train=training_set[1:1199]"
   ]
  },
  {
   "cell_type": "code",
   "execution_count": 136,
   "metadata": {},
   "outputs": [
    {
     "data": {
      "text/plain": [
       "(1197, 1197)"
      ]
     },
     "execution_count": 136,
     "metadata": {},
     "output_type": "execute_result"
    }
   ],
   "source": [
    "len(X_train),len(y_train)"
   ]
  },
  {
   "cell_type": "code",
   "execution_count": 137,
   "metadata": {
    "collapsed": true
   },
   "outputs": [],
   "source": [
    "X_train=np.reshape(X_train,(1197,1,1))"
   ]
  },
  {
   "cell_type": "code",
   "execution_count": 138,
   "metadata": {},
   "outputs": [],
   "source": [
    "from keras.models import Sequential\n",
    "from keras.layers import Dense\n",
    "from keras.layers import LSTM"
   ]
  },
  {
   "cell_type": "code",
   "execution_count": 139,
   "metadata": {
    "collapsed": true
   },
   "outputs": [],
   "source": [
    "regressor=Sequential()"
   ]
  },
  {
   "cell_type": "code",
   "execution_count": 140,
   "metadata": {
    "collapsed": true
   },
   "outputs": [],
   "source": [
    "regressor.add(LSTM(units=4,activation='sigmoid',input_shape=(None,1)))"
   ]
  },
  {
   "cell_type": "code",
   "execution_count": 141,
   "metadata": {
    "collapsed": true
   },
   "outputs": [],
   "source": [
    "regressor.add(Dense(units=1))"
   ]
  },
  {
   "cell_type": "code",
   "execution_count": 142,
   "metadata": {
    "collapsed": true
   },
   "outputs": [],
   "source": [
    "regressor.compile(optimizer='adam',loss='mean_squared_error')"
   ]
  },
  {
   "cell_type": "code",
   "execution_count": 143,
   "metadata": {},
   "outputs": [
    {
     "name": "stdout",
     "output_type": "stream",
     "text": [
      "Epoch 1/200\n",
      "1197/1197 [==============================] - 2s 1ms/step - loss: 0.1989\n",
      "Epoch 2/200\n",
      "1197/1197 [==============================] - 0s 106us/step - loss: 0.1349\n",
      "Epoch 3/200\n",
      "1197/1197 [==============================] - 0s 104us/step - loss: 0.0928\n",
      "Epoch 4/200\n",
      "1197/1197 [==============================] - 0s 112us/step - loss: 0.0670\n",
      "Epoch 5/200\n",
      "1197/1197 [==============================] - 0s 104us/step - loss: 0.0525\n",
      "Epoch 6/200\n",
      "1197/1197 [==============================] - 0s 104us/step - loss: 0.0447\n",
      "Epoch 7/200\n",
      "1197/1197 [==============================] - 0s 100us/step - loss: 0.0409\n",
      "Epoch 8/200\n",
      "1197/1197 [==============================] - 0s 110us/step - loss: 0.0391\n",
      "Epoch 9/200\n",
      "1197/1197 [==============================] - 0s 104us/step - loss: 0.0382\n",
      "Epoch 10/200\n",
      "1197/1197 [==============================] - 0s 115us/step - loss: 0.0376\n",
      "Epoch 11/200\n",
      "1197/1197 [==============================] - 0s 102us/step - loss: 0.0370\n",
      "Epoch 12/200\n",
      "1197/1197 [==============================] - 0s 105us/step - loss: 0.0364\n",
      "Epoch 13/200\n",
      "1197/1197 [==============================] - 0s 104us/step - loss: 0.0359\n",
      "Epoch 14/200\n",
      "1197/1197 [==============================] - 0s 107us/step - loss: 0.0353\n",
      "Epoch 15/200\n",
      "1197/1197 [==============================] - 0s 99us/step - loss: 0.0347\n",
      "Epoch 16/200\n",
      "1197/1197 [==============================] - 0s 102us/step - loss: 0.0340\n",
      "Epoch 17/200\n",
      "1197/1197 [==============================] - 0s 102us/step - loss: 0.0334\n",
      "Epoch 18/200\n",
      "1197/1197 [==============================] - 0s 106us/step - loss: 0.0328\n",
      "Epoch 19/200\n",
      "1197/1197 [==============================] - 0s 100us/step - loss: 0.0321\n",
      "Epoch 20/200\n",
      "1197/1197 [==============================] - 0s 114us/step - loss: 0.0314\n",
      "Epoch 21/200\n",
      "1197/1197 [==============================] - 0s 106us/step - loss: 0.0307\n",
      "Epoch 22/200\n",
      "1197/1197 [==============================] - 0s 99us/step - loss: 0.0299\n",
      "Epoch 23/200\n",
      "1197/1197 [==============================] - 0s 94us/step - loss: 0.0292\n",
      "Epoch 24/200\n",
      "1197/1197 [==============================] - 0s 94us/step - loss: 0.0285\n",
      "Epoch 25/200\n",
      "1197/1197 [==============================] - 0s 95us/step - loss: 0.0277\n",
      "Epoch 26/200\n",
      "1197/1197 [==============================] - 0s 89us/step - loss: 0.0269\n",
      "Epoch 27/200\n",
      "1197/1197 [==============================] - 0s 96us/step - loss: 0.0261\n",
      "Epoch 28/200\n",
      "1197/1197 [==============================] - 0s 95us/step - loss: 0.0253\n",
      "Epoch 29/200\n",
      "1197/1197 [==============================] - 0s 93us/step - loss: 0.0245\n",
      "Epoch 30/200\n",
      "1197/1197 [==============================] - 0s 94us/step - loss: 0.0237\n",
      "Epoch 31/200\n",
      "1197/1197 [==============================] - 0s 94us/step - loss: 0.0228\n",
      "Epoch 32/200\n",
      "1197/1197 [==============================] - 0s 95us/step - loss: 0.0219\n",
      "Epoch 33/200\n",
      "1197/1197 [==============================] - 0s 99us/step - loss: 0.0211\n",
      "Epoch 34/200\n",
      "1197/1197 [==============================] - 0s 92us/step - loss: 0.0202\n",
      "Epoch 35/200\n",
      "1197/1197 [==============================] - 0s 94us/step - loss: 0.0194\n",
      "Epoch 36/200\n",
      "1197/1197 [==============================] - 0s 87us/step - loss: 0.0185\n",
      "Epoch 37/200\n",
      "1197/1197 [==============================] - 0s 104us/step - loss: 0.0177\n",
      "Epoch 38/200\n",
      "1197/1197 [==============================] - 0s 89us/step - loss: 0.0168\n",
      "Epoch 39/200\n",
      "1197/1197 [==============================] - 0s 95us/step - loss: 0.0160\n",
      "Epoch 40/200\n",
      "1197/1197 [==============================] - 0s 93us/step - loss: 0.0151\n",
      "Epoch 41/200\n",
      "1197/1197 [==============================] - 0s 93us/step - loss: 0.0143\n",
      "Epoch 42/200\n",
      "1197/1197 [==============================] - 0s 94us/step - loss: 0.0135\n",
      "Epoch 43/200\n",
      "1197/1197 [==============================] - 0s 89us/step - loss: 0.0127\n",
      "Epoch 44/200\n",
      "1197/1197 [==============================] - 0s 101us/step - loss: 0.0119\n",
      "Epoch 45/200\n",
      "1197/1197 [==============================] - 0s 93us/step - loss: 0.0111\n",
      "Epoch 46/200\n",
      "1197/1197 [==============================] - 0s 99us/step - loss: 0.0104\n",
      "Epoch 47/200\n",
      "1197/1197 [==============================] - 0s 88us/step - loss: 0.0096\n",
      "Epoch 48/200\n",
      "1197/1197 [==============================] - 0s 95us/step - loss: 0.0089\n",
      "Epoch 49/200\n",
      "1197/1197 [==============================] - 0s 93us/step - loss: 0.0083\n",
      "Epoch 50/200\n",
      "1197/1197 [==============================] - 0s 85us/step - loss: 0.0076\n",
      "Epoch 51/200\n",
      "1197/1197 [==============================] - 0s 96us/step - loss: 0.0070\n",
      "Epoch 52/200\n",
      "1197/1197 [==============================] - 0s 96us/step - loss: 0.0064\n",
      "Epoch 53/200\n",
      "1197/1197 [==============================] - 0s 84us/step - loss: 0.0058\n",
      "Epoch 54/200\n",
      "1197/1197 [==============================] - 0s 91us/step - loss: 0.0053\n",
      "Epoch 55/200\n",
      "1197/1197 [==============================] - 0s 87us/step - loss: 0.0048\n",
      "Epoch 56/200\n",
      "1197/1197 [==============================] - 0s 84us/step - loss: 0.0043\n",
      "Epoch 57/200\n",
      "1197/1197 [==============================] - 0s 82us/step - loss: 0.0039\n",
      "Epoch 58/200\n",
      "1197/1197 [==============================] - 0s 86us/step - loss: 0.0035\n",
      "Epoch 59/200\n",
      "1197/1197 [==============================] - 0s 87us/step - loss: 0.0032\n",
      "Epoch 60/200\n",
      "1197/1197 [==============================] - 0s 85us/step - loss: 0.0028\n",
      "Epoch 61/200\n",
      "1197/1197 [==============================] - 0s 84us/step - loss: 0.0025\n",
      "Epoch 62/200\n",
      "1197/1197 [==============================] - 0s 84us/step - loss: 0.0022\n",
      "Epoch 63/200\n",
      "1197/1197 [==============================] - 0s 84us/step - loss: 0.0020\n",
      "Epoch 64/200\n",
      "1197/1197 [==============================] - 0s 87us/step - loss: 0.0018\n",
      "Epoch 65/200\n",
      "1197/1197 [==============================] - 0s 84us/step - loss: 0.0016\n",
      "Epoch 66/200\n",
      "1197/1197 [==============================] - 0s 83us/step - loss: 0.0014\n",
      "Epoch 67/200\n",
      "1197/1197 [==============================] - 0s 86us/step - loss: 0.0013\n",
      "Epoch 68/200\n",
      "1197/1197 [==============================] - 0s 88us/step - loss: 0.0011\n",
      "Epoch 69/200\n",
      "1197/1197 [==============================] - 0s 94us/step - loss: 0.0010\n",
      "Epoch 70/200\n",
      "1197/1197 [==============================] - 0s 94us/step - loss: 9.1140e-04\n",
      "Epoch 71/200\n",
      "1197/1197 [==============================] - 0s 117us/step - loss: 8.2710e-04\n",
      "Epoch 72/200\n",
      "1197/1197 [==============================] - 0s 104us/step - loss: 7.5489e-04 0s - loss: 7.4651e-\n",
      "Epoch 73/200\n",
      "1197/1197 [==============================] - 0s 97us/step - loss: 6.9274e-04\n",
      "Epoch 74/200\n",
      "1197/1197 [==============================] - 0s 102us/step - loss: 6.3950e-04\n",
      "Epoch 75/200\n",
      "1197/1197 [==============================] - 0s 102us/step - loss: 5.9711e-04\n",
      "Epoch 76/200\n",
      "1197/1197 [==============================] - 0s 104us/step - loss: 5.6065e-04\n",
      "Epoch 77/200\n",
      "1197/1197 [==============================] - 0s 103us/step - loss: 5.3028e-04\n",
      "Epoch 78/200\n",
      "1197/1197 [==============================] - 0s 105us/step - loss: 5.0679e-04\n",
      "Epoch 79/200\n",
      "1197/1197 [==============================] - 0s 101us/step - loss: 4.8573e-04\n",
      "Epoch 80/200\n",
      "1197/1197 [==============================] - 0s 86us/step - loss: 4.7045e-04\n",
      "Epoch 81/200\n",
      "1197/1197 [==============================] - 0s 84us/step - loss: 4.5693e-04\n",
      "Epoch 82/200\n",
      "1197/1197 [==============================] - 0s 86us/step - loss: 4.4696e-04\n",
      "Epoch 83/200\n",
      "1197/1197 [==============================] - 0s 84us/step - loss: 4.3847e-04\n",
      "Epoch 84/200\n",
      "1197/1197 [==============================] - 0s 84us/step - loss: 4.3231e-04\n",
      "Epoch 85/200\n",
      "1197/1197 [==============================] - 0s 87us/step - loss: 4.2738e-04\n",
      "Epoch 86/200\n",
      "1197/1197 [==============================] - 0s 85us/step - loss: 4.2376e-04\n",
      "Epoch 87/200\n",
      "1197/1197 [==============================] - 0s 83us/step - loss: 4.2002e-04\n",
      "Epoch 88/200\n",
      "1197/1197 [==============================] - 0s 86us/step - loss: 4.1791e-04\n",
      "Epoch 89/200\n",
      "1197/1197 [==============================] - 0s 85us/step - loss: 4.1615e-04\n",
      "Epoch 90/200\n",
      "1197/1197 [==============================] - 0s 84us/step - loss: 4.1676e-04\n",
      "Epoch 91/200\n",
      "1197/1197 [==============================] - 0s 84us/step - loss: 4.1360e-04\n",
      "Epoch 92/200\n",
      "1197/1197 [==============================] - 0s 84us/step - loss: 4.1278e-04\n",
      "Epoch 93/200\n",
      "1197/1197 [==============================] - 0s 87us/step - loss: 4.1196e-04\n",
      "Epoch 94/200\n"
     ]
    },
    {
     "name": "stdout",
     "output_type": "stream",
     "text": [
      "1197/1197 [==============================] - 0s 84us/step - loss: 4.1191e-04\n",
      "Epoch 95/200\n",
      "1197/1197 [==============================] - 0s 82us/step - loss: 4.1129e-04\n",
      "Epoch 96/200\n",
      "1197/1197 [==============================] - 0s 84us/step - loss: 4.1078e-04\n",
      "Epoch 97/200\n",
      "1197/1197 [==============================] - 0s 85us/step - loss: 4.1087e-04\n",
      "Epoch 98/200\n",
      "1197/1197 [==============================] - 0s 83us/step - loss: 4.1142e-04\n",
      "Epoch 99/200\n",
      "1197/1197 [==============================] - 0s 82us/step - loss: 4.1018e-04\n",
      "Epoch 100/200\n",
      "1197/1197 [==============================] - 0s 80us/step - loss: 4.1040e-04\n",
      "Epoch 101/200\n",
      "1197/1197 [==============================] - 0s 94us/step - loss: 4.1260e-04: 0s - loss: 4.1531e-0\n",
      "Epoch 102/200\n",
      "1197/1197 [==============================] - 0s 87us/step - loss: 4.1211e-04\n",
      "Epoch 103/200\n",
      "1197/1197 [==============================] - 0s 85us/step - loss: 4.0979e-04\n",
      "Epoch 104/200\n",
      "1197/1197 [==============================] - 0s 88us/step - loss: 4.1198e-04\n",
      "Epoch 105/200\n",
      "1197/1197 [==============================] - 0s 87us/step - loss: 4.0980e-04\n",
      "Epoch 106/200\n",
      "1197/1197 [==============================] - 0s 88us/step - loss: 4.1022e-04\n",
      "Epoch 107/200\n",
      "1197/1197 [==============================] - 0s 82us/step - loss: 4.1111e-04\n",
      "Epoch 108/200\n",
      "1197/1197 [==============================] - 0s 82us/step - loss: 4.1059e-04\n",
      "Epoch 109/200\n",
      "1197/1197 [==============================] - 0s 85us/step - loss: 4.1158e-04\n",
      "Epoch 110/200\n",
      "1197/1197 [==============================] - 0s 87us/step - loss: 4.1214e-04\n",
      "Epoch 111/200\n",
      "1197/1197 [==============================] - 0s 94us/step - loss: 4.1034e-04\n",
      "Epoch 112/200\n",
      "1197/1197 [==============================] - 0s 91us/step - loss: 4.1151e-04\n",
      "Epoch 113/200\n",
      "1197/1197 [==============================] - 0s 93us/step - loss: 4.0993e-04\n",
      "Epoch 114/200\n",
      "1197/1197 [==============================] - 0s 87us/step - loss: 4.1083e-04\n",
      "Epoch 115/200\n",
      "1197/1197 [==============================] - 0s 88us/step - loss: 4.1040e-04\n",
      "Epoch 116/200\n",
      "1197/1197 [==============================] - 0s 94us/step - loss: 4.1076e-04\n",
      "Epoch 117/200\n",
      "1197/1197 [==============================] - 0s 88us/step - loss: 4.1076e-04\n",
      "Epoch 118/200\n",
      "1197/1197 [==============================] - 0s 86us/step - loss: 4.1079e-04\n",
      "Epoch 119/200\n",
      "1197/1197 [==============================] - 0s 87us/step - loss: 4.0967e-04\n",
      "Epoch 120/200\n",
      "1197/1197 [==============================] - 0s 89us/step - loss: 4.0980e-04\n",
      "Epoch 121/200\n",
      "1197/1197 [==============================] - 0s 89us/step - loss: 4.1040e-04\n",
      "Epoch 122/200\n",
      "1197/1197 [==============================] - 0s 87us/step - loss: 4.1297e-04\n",
      "Epoch 123/200\n",
      "1197/1197 [==============================] - 0s 89us/step - loss: 4.1207e-04\n",
      "Epoch 124/200\n",
      "1197/1197 [==============================] - 0s 88us/step - loss: 4.1169e-04\n",
      "Epoch 125/200\n",
      "1197/1197 [==============================] - 0s 88us/step - loss: 4.1176e-04\n",
      "Epoch 126/200\n",
      "1197/1197 [==============================] - 0s 84us/step - loss: 4.0981e-04\n",
      "Epoch 127/200\n",
      "1197/1197 [==============================] - 0s 92us/step - loss: 4.1165e-04\n",
      "Epoch 128/200\n",
      "1197/1197 [==============================] - 0s 94us/step - loss: 4.1347e-04\n",
      "Epoch 129/200\n",
      "1197/1197 [==============================] - 0s 84us/step - loss: 4.1049e-04\n",
      "Epoch 130/200\n",
      "1197/1197 [==============================] - 0s 89us/step - loss: 4.1132e-04\n",
      "Epoch 131/200\n",
      "1197/1197 [==============================] - 0s 90us/step - loss: 4.1140e-04\n",
      "Epoch 132/200\n",
      "1197/1197 [==============================] - 0s 115us/step - loss: 4.1009e-04\n",
      "Epoch 133/200\n",
      "1197/1197 [==============================] - 0s 78us/step - loss: 4.0999e-04\n",
      "Epoch 134/200\n",
      "1197/1197 [==============================] - 0s 89us/step - loss: 4.0961e-04\n",
      "Epoch 135/200\n",
      "1197/1197 [==============================] - 0s 84us/step - loss: 4.1401e-04\n",
      "Epoch 136/200\n",
      "1197/1197 [==============================] - 0s 87us/step - loss: 4.0833e-04\n",
      "Epoch 137/200\n",
      "1197/1197 [==============================] - 0s 95us/step - loss: 4.1203e-04\n",
      "Epoch 138/200\n",
      "1197/1197 [==============================] - 0s 85us/step - loss: 4.0989e-04\n",
      "Epoch 139/200\n",
      "1197/1197 [==============================] - 0s 89us/step - loss: 4.1314e-04\n",
      "Epoch 140/200\n",
      "1197/1197 [==============================] - 0s 84us/step - loss: 4.1072e-04\n",
      "Epoch 141/200\n",
      "1197/1197 [==============================] - 0s 84us/step - loss: 4.0985e-04\n",
      "Epoch 142/200\n",
      "1197/1197 [==============================] - 0s 104us/step - loss: 4.0974e-04\n",
      "Epoch 143/200\n",
      "1197/1197 [==============================] - 0s 94us/step - loss: 4.1278e-04\n",
      "Epoch 144/200\n",
      "1197/1197 [==============================] - 0s 94us/step - loss: 4.0967e-04\n",
      "Epoch 145/200\n",
      "1197/1197 [==============================] - 0s 98us/step - loss: 4.1034e-04\n",
      "Epoch 146/200\n",
      "1197/1197 [==============================] - 0s 99us/step - loss: 4.1178e-04\n",
      "Epoch 147/200\n",
      "1197/1197 [==============================] - 0s 100us/step - loss: 4.1325e-04\n",
      "Epoch 148/200\n",
      "1197/1197 [==============================] - 0s 100us/step - loss: 4.1148e-04\n",
      "Epoch 149/200\n",
      "1197/1197 [==============================] - 0s 93us/step - loss: 4.1094e-04\n",
      "Epoch 150/200\n",
      "1197/1197 [==============================] - 0s 94us/step - loss: 4.1382e-04\n",
      "Epoch 151/200\n",
      "1197/1197 [==============================] - 0s 115us/step - loss: 4.1023e-04\n",
      "Epoch 152/200\n",
      "1197/1197 [==============================] - 0s 99us/step - loss: 4.1330e-04\n",
      "Epoch 153/200\n",
      "1197/1197 [==============================] - 0s 99us/step - loss: 4.0937e-04\n",
      "Epoch 154/200\n",
      "1197/1197 [==============================] - 0s 103us/step - loss: 4.1270e-04\n",
      "Epoch 155/200\n",
      "1197/1197 [==============================] - 0s 99us/step - loss: 4.1294e-04\n",
      "Epoch 156/200\n",
      "1197/1197 [==============================] - 0s 102us/step - loss: 4.1176e-04\n",
      "Epoch 157/200\n",
      "1197/1197 [==============================] - ETA: 0s - loss: 2.9777e-0 - 0s 109us/step - loss: 4.1048e-04\n",
      "Epoch 158/200\n",
      "1197/1197 [==============================] - 0s 98us/step - loss: 4.2117e-04\n",
      "Epoch 159/200\n",
      "1197/1197 [==============================] - 0s 102us/step - loss: 4.1062e-04\n",
      "Epoch 160/200\n",
      "1197/1197 [==============================] - 0s 101us/step - loss: 4.1225e-04\n",
      "Epoch 161/200\n",
      "1197/1197 [==============================] - 0s 101us/step - loss: 4.1490e-04\n",
      "Epoch 162/200\n",
      "1197/1197 [==============================] - 0s 110us/step - loss: 4.1232e-04\n",
      "Epoch 163/200\n",
      "1197/1197 [==============================] - 0s 113us/step - loss: 4.1208e-04\n",
      "Epoch 164/200\n",
      "1197/1197 [==============================] - 0s 119us/step - loss: 4.1230e-04\n",
      "Epoch 165/200\n",
      "1197/1197 [==============================] - 0s 114us/step - loss: 4.1069e-04\n",
      "Epoch 166/200\n",
      "1197/1197 [==============================] - 0s 106us/step - loss: 4.1341e-04\n",
      "Epoch 167/200\n",
      "1197/1197 [==============================] - 0s 104us/step - loss: 4.1159e-04\n",
      "Epoch 168/200\n",
      "1197/1197 [==============================] - 0s 108us/step - loss: 4.0986e-04\n",
      "Epoch 169/200\n",
      "1197/1197 [==============================] - 0s 87us/step - loss: 4.1355e-04\n",
      "Epoch 170/200\n",
      "1197/1197 [==============================] - 0s 88us/step - loss: 4.1533e-04\n",
      "Epoch 171/200\n",
      "1197/1197 [==============================] - 0s 84us/step - loss: 4.1155e-04\n",
      "Epoch 172/200\n",
      "1197/1197 [==============================] - 0s 86us/step - loss: 4.0861e-04\n",
      "Epoch 173/200\n",
      "1197/1197 [==============================] - 0s 95us/step - loss: 4.1581e-04\n",
      "Epoch 174/200\n",
      "1197/1197 [==============================] - 0s 84us/step - loss: 4.1384e-04\n",
      "Epoch 175/200\n",
      "1197/1197 [==============================] - 0s 84us/step - loss: 4.0944e-04\n",
      "Epoch 176/200\n",
      "1197/1197 [==============================] - 0s 84us/step - loss: 4.1767e-04\n",
      "Epoch 177/200\n",
      "1197/1197 [==============================] - 0s 84us/step - loss: 4.1781e-04\n",
      "Epoch 178/200\n",
      "1197/1197 [==============================] - 0s 83us/step - loss: 4.1254e-04\n",
      "Epoch 179/200\n",
      "1197/1197 [==============================] - 0s 84us/step - loss: 4.1056e-04\n",
      "Epoch 180/200\n",
      "1197/1197 [==============================] - 0s 89us/step - loss: 4.1018e-04\n",
      "Epoch 181/200\n",
      "1197/1197 [==============================] - 0s 81us/step - loss: 4.1124e-04\n",
      "Epoch 182/200\n",
      "1197/1197 [==============================] - 0s 84us/step - loss: 4.1089e-04\n",
      "Epoch 183/200\n"
     ]
    },
    {
     "name": "stdout",
     "output_type": "stream",
     "text": [
      "1197/1197 [==============================] - 0s 84us/step - loss: 4.1227e-04\n",
      "Epoch 184/200\n",
      "1197/1197 [==============================] - 0s 84us/step - loss: 4.1732e-04\n",
      "Epoch 185/200\n",
      "1197/1197 [==============================] - 0s 85us/step - loss: 4.1545e-04\n",
      "Epoch 186/200\n",
      "1197/1197 [==============================] - 0s 84us/step - loss: 4.1280e-04\n",
      "Epoch 187/200\n",
      "1197/1197 [==============================] - 0s 85us/step - loss: 4.1314e-04\n",
      "Epoch 188/200\n",
      "1197/1197 [==============================] - 0s 80us/step - loss: 4.1339e-04\n",
      "Epoch 189/200\n",
      "1197/1197 [==============================] - 0s 84us/step - loss: 4.1691e-04\n",
      "Epoch 190/200\n",
      "1197/1197 [==============================] - 0s 88us/step - loss: 4.1510e-04\n",
      "Epoch 191/200\n",
      "1197/1197 [==============================] - 0s 81us/step - loss: 4.1477e-04\n",
      "Epoch 192/200\n",
      "1197/1197 [==============================] - 0s 84us/step - loss: 4.1098e-04\n",
      "Epoch 193/200\n",
      "1197/1197 [==============================] - 0s 84us/step - loss: 4.1263e-04\n",
      "Epoch 194/200\n",
      "1197/1197 [==============================] - 0s 86us/step - loss: 4.1453e-04\n",
      "Epoch 195/200\n",
      "1197/1197 [==============================] - 0s 85us/step - loss: 4.1107e-04\n",
      "Epoch 196/200\n",
      "1197/1197 [==============================] - 0s 85us/step - loss: 4.1225e-04\n",
      "Epoch 197/200\n",
      "1197/1197 [==============================] - 0s 87us/step - loss: 4.1788e-04\n",
      "Epoch 198/200\n",
      "1197/1197 [==============================] - 0s 84us/step - loss: 4.1017e-04\n",
      "Epoch 199/200\n",
      "1197/1197 [==============================] - 0s 87us/step - loss: 4.1263e-04\n",
      "Epoch 200/200\n",
      "1197/1197 [==============================] - 0s 89us/step - loss: 4.1196e-04\n"
     ]
    },
    {
     "data": {
      "text/plain": [
       "<keras.callbacks.History at 0xcfb2c409b0>"
      ]
     },
     "execution_count": 143,
     "metadata": {},
     "output_type": "execute_result"
    }
   ],
   "source": [
    "regressor.fit(X_train,y_train,batch_size=32,epochs=200)"
   ]
  },
  {
   "cell_type": "code",
   "execution_count": 144,
   "metadata": {
    "collapsed": true
   },
   "outputs": [],
   "source": [
    "test_set=pd.read_csv(\"C:/Users/mohamed ismail/Desktop/GP And Data/Madinet Nasr Housing 2.csv\")"
   ]
  },
  {
   "cell_type": "code",
   "execution_count": 145,
   "metadata": {
    "collapsed": true
   },
   "outputs": [],
   "source": [
    "real_stock_price=test_set.iloc[:,8:9].values"
   ]
  },
  {
   "cell_type": "code",
   "execution_count": 146,
   "metadata": {
    "collapsed": true
   },
   "outputs": [],
   "source": [
    "inputs=real_stock_price"
   ]
  },
  {
   "cell_type": "code",
   "execution_count": 147,
   "metadata": {
    "collapsed": true
   },
   "outputs": [],
   "source": [
    "inputs=sc.transform(inputs)"
   ]
  },
  {
   "cell_type": "code",
   "execution_count": 148,
   "metadata": {},
   "outputs": [
    {
     "data": {
      "text/plain": [
       "21"
      ]
     },
     "execution_count": 148,
     "metadata": {},
     "output_type": "execute_result"
    }
   ],
   "source": [
    "len(inputs)"
   ]
  },
  {
   "cell_type": "code",
   "execution_count": 149,
   "metadata": {
    "collapsed": true
   },
   "outputs": [],
   "source": [
    "inputs=np.reshape(inputs,(21,1,1))"
   ]
  },
  {
   "cell_type": "code",
   "execution_count": 150,
   "metadata": {
    "collapsed": true
   },
   "outputs": [],
   "source": [
    "predicted_stock_prices=regressor.predict(inputs)"
   ]
  },
  {
   "cell_type": "code",
   "execution_count": 151,
   "metadata": {
    "collapsed": true
   },
   "outputs": [],
   "source": [
    "predicted_stock_prices=sc.inverse_transform(predicted_stock_prices)"
   ]
  },
  {
   "cell_type": "code",
   "execution_count": 152,
   "metadata": {},
   "outputs": [
    {
     "data": {
      "image/png": "[encoded data removed]",
      "text/plain": [
       "<matplotlib.figure.Figure at 0xcfb5ccf748>"
      ]
     },
     "metadata": {},
     "output_type": "display_data"
    }
   ],
   "source": [
    "plt.plot(real_stock_price,color='red',label='Real Housing Stock Price')\n",
    "plt.plot(predicted_stock_prices,color='blue',label='Predicted Housing Stock Price')\n",
    "plt.title('Madinet Nasr Housing Stock Price Prediction')\n",
    "plt.xlabel('Time')\n",
    "plt.ylabel('Housing Stock Price')\n",
    "plt.legend()\n",
    "plt.show()"
   ]
  },
  {
   "cell_type": "code",
   "execution_count": 153,
   "metadata": {
    "collapsed": true
   },
   "outputs": [],
   "source": [
    "import math\n",
    "from sklearn.metrics import mean_squared_error"
   ]
  },
  {
   "cell_type": "code",
   "execution_count": 154,
   "metadata": {
    "collapsed": true
   },
   "outputs": [],
   "source": [
    "rmse=math.sqrt(mean_squared_error(real_stock_price,predicted_stock_prices))"
   ]
  },
  {
   "cell_type": "code",
   "execution_count": 155,
   "metadata": {},
   "outputs": [
    {
     "data": {
      "text/plain": [
       "0.015569733297427902"
      ]
     },
     "execution_count": 155,
     "metadata": {},
     "output_type": "execute_result"
    }
   ],
   "source": [
    "rmse"
   ]
  }
 ],
 "metadata": {
  "kernelspec": {
   "display_name": "Python 3",
   "language": "python",
   "name": "python3"
  },
  "language_info": {
   "codemirror_mode": {
    "name": "ipython",
    "version": 3
   },
   "file_extension": ".py",
   "mimetype": "text/x-python",
   "name": "python",
   "nbconvert_exporter": "python",
   "pygments_lexer": "ipython3",
   "version": "3.6.1"
  }
 },
 "nbformat": 4,
 "nbformat_minor": 2
}
