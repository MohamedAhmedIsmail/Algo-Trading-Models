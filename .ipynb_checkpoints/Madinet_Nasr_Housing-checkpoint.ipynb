{
 "cells": [
  {
   "cell_type": "code",
   "execution_count": 1,
   "metadata": {},
   "outputs": [
    {
     "name": "stderr",
     "output_type": "stream",
     "text": [
      "C:\\Users\\mohamed ismail\\Anaconda3\\lib\\site-packages\\sklearn\\cross_validation.py:41: DeprecationWarning: This module was deprecated in version 0.18 in favor of the model_selection module into which all the refactored classes and functions are moved. Also note that the interface of the new CV iterators are different from that of this module. This module will be removed in 0.20.\n",
      "  \"This module will be removed in 0.20.\", DeprecationWarning)\n"
     ]
    }
   ],
   "source": [
    "import pandas as pd \n",
    "import numpy as np\n",
    "import math\n",
    "import matplotlib.pyplot as plt\n",
    "from sklearn import preprocessing,cross_validation,svm\n",
    "from sklearn.preprocessing import MinMaxScaler\n",
    "from sklearn.linear_model import LinearRegression\n",
    "from sklearn.model_selection import train_test_split\n",
    "from sklearn.preprocessing import StandardScaler\n",
    "from sklearn.linear_model import LinearRegression\n",
    "from sklearn.neighbors import KNeighborsRegressor\n",
    "from sklearn.cluster import KMeans\n",
    "from sklearn import svm\n",
    "from sklearn.metrics import mean_squared_error\n"
   ]
  },
  {
   "cell_type": "code",
   "execution_count": 2,
   "metadata": {
    "collapsed": true
   },
   "outputs": [],
   "source": [
    "madinet_Nasr_Housing=pd.read_csv(\"C:/Users/mohamed ismail/Desktop/GP And Data/Medinet Nasr Housing.csv\")"
   ]
  },
  {
   "cell_type": "code",
   "execution_count": 3,
   "metadata": {},
   "outputs": [
    {
     "data": {
      "text/html": [
       "<div>\n",
       "<style>\n",
       "    .dataframe thead tr:only-child th {\n",
       "        text-align: right;\n",
       "    }\n",
       "\n",
       "    .dataframe thead th {\n",
       "        text-align: left;\n",
       "    }\n",
       "\n",
       "    .dataframe tbody tr th {\n",
       "        vertical-align: top;\n",
       "    }\n",
       "</style>\n",
       "<table border=\"1\" class=\"dataframe\">\n",
       "  <thead>\n",
       "    <tr style=\"text-align: right;\">\n",
       "      <th></th>\n",
       "      <th>SYMBOL_CODE</th>\n",
       "      <th>TRADE_DATE</th>\n",
       "      <th>TRADE_VOLUME</th>\n",
       "      <th>TRADE_VALUE</th>\n",
       "      <th>TRADE_COUNT</th>\n",
       "      <th>OPEN_PRICE</th>\n",
       "      <th>HIGH_PRICE</th>\n",
       "      <th>LOW_PRICE</th>\n",
       "      <th>CLOSE_PRICE</th>\n",
       "    </tr>\n",
       "  </thead>\n",
       "  <tbody>\n",
       "    <tr>\n",
       "      <th>0</th>\n",
       "      <td>EGS65571C019</td>\n",
       "      <td>1/2/2013 0:00</td>\n",
       "      <td>103941</td>\n",
       "      <td>2582112.50</td>\n",
       "      <td>119</td>\n",
       "      <td>24.39</td>\n",
       "      <td>25.05</td>\n",
       "      <td>24.02</td>\n",
       "      <td>24.84</td>\n",
       "    </tr>\n",
       "    <tr>\n",
       "      <th>1</th>\n",
       "      <td>EGS65571C019</td>\n",
       "      <td>1/3/2013 0:00</td>\n",
       "      <td>232703</td>\n",
       "      <td>5961554.06</td>\n",
       "      <td>167</td>\n",
       "      <td>24.70</td>\n",
       "      <td>26.00</td>\n",
       "      <td>24.70</td>\n",
       "      <td>25.62</td>\n",
       "    </tr>\n",
       "    <tr>\n",
       "      <th>2</th>\n",
       "      <td>EGS65571C019</td>\n",
       "      <td>1/6/2013 0:00</td>\n",
       "      <td>76886</td>\n",
       "      <td>1956936.75</td>\n",
       "      <td>117</td>\n",
       "      <td>25.30</td>\n",
       "      <td>25.85</td>\n",
       "      <td>25.07</td>\n",
       "      <td>25.45</td>\n",
       "    </tr>\n",
       "    <tr>\n",
       "      <th>3</th>\n",
       "      <td>EGS65571C019</td>\n",
       "      <td>1/8/2013 0:00</td>\n",
       "      <td>64687</td>\n",
       "      <td>1620033.52</td>\n",
       "      <td>91</td>\n",
       "      <td>25.16</td>\n",
       "      <td>25.16</td>\n",
       "      <td>24.87</td>\n",
       "      <td>25.04</td>\n",
       "    </tr>\n",
       "    <tr>\n",
       "      <th>4</th>\n",
       "      <td>EGS65571C019</td>\n",
       "      <td>1/9/2013 0:00</td>\n",
       "      <td>49786</td>\n",
       "      <td>1242881.47</td>\n",
       "      <td>62</td>\n",
       "      <td>25.04</td>\n",
       "      <td>25.19</td>\n",
       "      <td>24.66</td>\n",
       "      <td>24.96</td>\n",
       "    </tr>\n",
       "  </tbody>\n",
       "</table>\n",
       "</div>"
      ],
      "text/plain": [
       "    SYMBOL_CODE     TRADE_DATE  TRADE_VOLUME  TRADE_VALUE  TRADE_COUNT  \\\n",
       "0  EGS65571C019  1/2/2013 0:00        103941   2582112.50          119   \n",
       "1  EGS65571C019  1/3/2013 0:00        232703   5961554.06          167   \n",
       "2  EGS65571C019  1/6/2013 0:00         76886   1956936.75          117   \n",
       "3  EGS65571C019  1/8/2013 0:00         64687   1620033.52           91   \n",
       "4  EGS65571C019  1/9/2013 0:00         49786   1242881.47           62   \n",
       "\n",
       "   OPEN_PRICE  HIGH_PRICE  LOW_PRICE  CLOSE_PRICE  \n",
       "0       24.39       25.05      24.02        24.84  \n",
       "1       24.70       26.00      24.70        25.62  \n",
       "2       25.30       25.85      25.07        25.45  \n",
       "3       25.16       25.16      24.87        25.04  \n",
       "4       25.04       25.19      24.66        24.96  "
      ]
     },
     "execution_count": 3,
     "metadata": {},
     "output_type": "execute_result"
    }
   ],
   "source": [
    "madinet_Nasr_Housing.head()"
   ]
  },
  {
   "cell_type": "code",
   "execution_count": 4,
   "metadata": {},
   "outputs": [
    {
     "data": {
      "text/html": [
       "<div>\n",
       "<style>\n",
       "    .dataframe thead tr:only-child th {\n",
       "        text-align: right;\n",
       "    }\n",
       "\n",
       "    .dataframe thead th {\n",
       "        text-align: left;\n",
       "    }\n",
       "\n",
       "    .dataframe tbody tr th {\n",
       "        vertical-align: top;\n",
       "    }\n",
       "</style>\n",
       "<table border=\"1\" class=\"dataframe\">\n",
       "  <thead>\n",
       "    <tr style=\"text-align: right;\">\n",
       "      <th></th>\n",
       "      <th>SYMBOL_CODE</th>\n",
       "      <th>TRADE_DATE</th>\n",
       "      <th>TRADE_VOLUME</th>\n",
       "      <th>TRADE_VALUE</th>\n",
       "      <th>TRADE_COUNT</th>\n",
       "      <th>OPEN_PRICE</th>\n",
       "      <th>HIGH_PRICE</th>\n",
       "      <th>LOW_PRICE</th>\n",
       "      <th>CLOSE_PRICE</th>\n",
       "    </tr>\n",
       "  </thead>\n",
       "  <tbody>\n",
       "    <tr>\n",
       "      <th>719</th>\n",
       "      <td>EGS65571C019</td>\n",
       "      <td>12/16/2015 0:00</td>\n",
       "      <td>459629</td>\n",
       "      <td>10943361.49</td>\n",
       "      <td>425</td>\n",
       "      <td>23.50</td>\n",
       "      <td>24.25</td>\n",
       "      <td>23.30</td>\n",
       "      <td>23.81</td>\n",
       "    </tr>\n",
       "    <tr>\n",
       "      <th>720</th>\n",
       "      <td>EGS65571C019</td>\n",
       "      <td>12/17/2015 0:00</td>\n",
       "      <td>478658</td>\n",
       "      <td>11751368.46</td>\n",
       "      <td>457</td>\n",
       "      <td>24.28</td>\n",
       "      <td>25.00</td>\n",
       "      <td>24.11</td>\n",
       "      <td>24.55</td>\n",
       "    </tr>\n",
       "    <tr>\n",
       "      <th>721</th>\n",
       "      <td>EGS65571C019</td>\n",
       "      <td>12/20/2015 0:00</td>\n",
       "      <td>334872</td>\n",
       "      <td>8299422.43</td>\n",
       "      <td>340</td>\n",
       "      <td>24.24</td>\n",
       "      <td>25.01</td>\n",
       "      <td>24.14</td>\n",
       "      <td>24.78</td>\n",
       "    </tr>\n",
       "    <tr>\n",
       "      <th>722</th>\n",
       "      <td>EGS65571C019</td>\n",
       "      <td>12/21/2015 0:00</td>\n",
       "      <td>374718</td>\n",
       "      <td>9305870.63</td>\n",
       "      <td>408</td>\n",
       "      <td>24.50</td>\n",
       "      <td>25.02</td>\n",
       "      <td>24.28</td>\n",
       "      <td>24.83</td>\n",
       "    </tr>\n",
       "    <tr>\n",
       "      <th>723</th>\n",
       "      <td>EGS65571C019</td>\n",
       "      <td>12/22/2015 0:00</td>\n",
       "      <td>808884</td>\n",
       "      <td>20590101.65</td>\n",
       "      <td>755</td>\n",
       "      <td>24.79</td>\n",
       "      <td>26.19</td>\n",
       "      <td>24.72</td>\n",
       "      <td>25.45</td>\n",
       "    </tr>\n",
       "  </tbody>\n",
       "</table>\n",
       "</div>"
      ],
      "text/plain": [
       "      SYMBOL_CODE       TRADE_DATE  TRADE_VOLUME  TRADE_VALUE  TRADE_COUNT  \\\n",
       "719  EGS65571C019  12/16/2015 0:00        459629  10943361.49          425   \n",
       "720  EGS65571C019  12/17/2015 0:00        478658  11751368.46          457   \n",
       "721  EGS65571C019  12/20/2015 0:00        334872   8299422.43          340   \n",
       "722  EGS65571C019  12/21/2015 0:00        374718   9305870.63          408   \n",
       "723  EGS65571C019  12/22/2015 0:00        808884  20590101.65          755   \n",
       "\n",
       "     OPEN_PRICE  HIGH_PRICE  LOW_PRICE  CLOSE_PRICE  \n",
       "719       23.50       24.25      23.30        23.81  \n",
       "720       24.28       25.00      24.11        24.55  \n",
       "721       24.24       25.01      24.14        24.78  \n",
       "722       24.50       25.02      24.28        24.83  \n",
       "723       24.79       26.19      24.72        25.45  "
      ]
     },
     "execution_count": 4,
     "metadata": {},
     "output_type": "execute_result"
    }
   ],
   "source": [
    "madinet_Nasr_Housing=madinet_Nasr_Housing[-500:]\n",
    "madinet_Nasr_Housing.head()"
   ]
  },
  {
   "cell_type": "code",
   "execution_count": 5,
   "metadata": {
    "collapsed": true
   },
   "outputs": [],
   "source": [
    "madinet_Nasr_Housing['EWMA_12']=madinet_Nasr_Housing['CLOSE_PRICE'].ewm(span=12).mean()\n",
    "madinet_Nasr_Housing['HL_PCT']=(madinet_Nasr_Housing['HIGH_PRICE']-madinet_Nasr_Housing['LOW_PRICE'])/madinet_Nasr_Housing['LOW_PRICE']*100.0\n",
    "madinet_Nasr_Housing['PCT_change']=(madinet_Nasr_Housing['CLOSE_PRICE']-madinet_Nasr_Housing['OPEN_PRICE'])/madinet_Nasr_Housing['OPEN_PRICE']*100.0"
   ]
  },
  {
   "cell_type": "code",
   "execution_count": 6,
   "metadata": {},
   "outputs": [
    {
     "data": {
      "text/html": [
       "<div>\n",
       "<style>\n",
       "    .dataframe thead tr:only-child th {\n",
       "        text-align: right;\n",
       "    }\n",
       "\n",
       "    .dataframe thead th {\n",
       "        text-align: left;\n",
       "    }\n",
       "\n",
       "    .dataframe tbody tr th {\n",
       "        vertical-align: top;\n",
       "    }\n",
       "</style>\n",
       "<table border=\"1\" class=\"dataframe\">\n",
       "  <thead>\n",
       "    <tr style=\"text-align: right;\">\n",
       "      <th></th>\n",
       "      <th>SYMBOL_CODE</th>\n",
       "      <th>TRADE_DATE</th>\n",
       "      <th>TRADE_VOLUME</th>\n",
       "      <th>TRADE_VALUE</th>\n",
       "      <th>TRADE_COUNT</th>\n",
       "      <th>OPEN_PRICE</th>\n",
       "      <th>HIGH_PRICE</th>\n",
       "      <th>LOW_PRICE</th>\n",
       "      <th>CLOSE_PRICE</th>\n",
       "      <th>EWMA_12</th>\n",
       "      <th>HL_PCT</th>\n",
       "      <th>PCT_change</th>\n",
       "    </tr>\n",
       "  </thead>\n",
       "  <tbody>\n",
       "    <tr>\n",
       "      <th>719</th>\n",
       "      <td>EGS65571C019</td>\n",
       "      <td>12/16/2015 0:00</td>\n",
       "      <td>459629</td>\n",
       "      <td>10943361.49</td>\n",
       "      <td>425</td>\n",
       "      <td>23.50</td>\n",
       "      <td>24.25</td>\n",
       "      <td>23.30</td>\n",
       "      <td>23.81</td>\n",
       "      <td>23.810000</td>\n",
       "      <td>4.077253</td>\n",
       "      <td>1.319149</td>\n",
       "    </tr>\n",
       "    <tr>\n",
       "      <th>720</th>\n",
       "      <td>EGS65571C019</td>\n",
       "      <td>12/17/2015 0:00</td>\n",
       "      <td>478658</td>\n",
       "      <td>11751368.46</td>\n",
       "      <td>457</td>\n",
       "      <td>24.28</td>\n",
       "      <td>25.00</td>\n",
       "      <td>24.11</td>\n",
       "      <td>24.55</td>\n",
       "      <td>24.210833</td>\n",
       "      <td>3.691414</td>\n",
       "      <td>1.112026</td>\n",
       "    </tr>\n",
       "    <tr>\n",
       "      <th>721</th>\n",
       "      <td>EGS65571C019</td>\n",
       "      <td>12/20/2015 0:00</td>\n",
       "      <td>334872</td>\n",
       "      <td>8299422.43</td>\n",
       "      <td>340</td>\n",
       "      <td>24.24</td>\n",
       "      <td>25.01</td>\n",
       "      <td>24.14</td>\n",
       "      <td>24.78</td>\n",
       "      <td>24.432979</td>\n",
       "      <td>3.603977</td>\n",
       "      <td>2.227723</td>\n",
       "    </tr>\n",
       "    <tr>\n",
       "      <th>722</th>\n",
       "      <td>EGS65571C019</td>\n",
       "      <td>12/21/2015 0:00</td>\n",
       "      <td>374718</td>\n",
       "      <td>9305870.63</td>\n",
       "      <td>408</td>\n",
       "      <td>24.50</td>\n",
       "      <td>25.02</td>\n",
       "      <td>24.28</td>\n",
       "      <td>24.83</td>\n",
       "      <td>24.558303</td>\n",
       "      <td>3.047776</td>\n",
       "      <td>1.346939</td>\n",
       "    </tr>\n",
       "    <tr>\n",
       "      <th>723</th>\n",
       "      <td>EGS65571C019</td>\n",
       "      <td>12/22/2015 0:00</td>\n",
       "      <td>808884</td>\n",
       "      <td>20590101.65</td>\n",
       "      <td>755</td>\n",
       "      <td>24.79</td>\n",
       "      <td>26.19</td>\n",
       "      <td>24.72</td>\n",
       "      <td>25.45</td>\n",
       "      <td>24.800574</td>\n",
       "      <td>5.946602</td>\n",
       "      <td>2.662364</td>\n",
       "    </tr>\n",
       "  </tbody>\n",
       "</table>\n",
       "</div>"
      ],
      "text/plain": [
       "      SYMBOL_CODE       TRADE_DATE  TRADE_VOLUME  TRADE_VALUE  TRADE_COUNT  \\\n",
       "719  EGS65571C019  12/16/2015 0:00        459629  10943361.49          425   \n",
       "720  EGS65571C019  12/17/2015 0:00        478658  11751368.46          457   \n",
       "721  EGS65571C019  12/20/2015 0:00        334872   8299422.43          340   \n",
       "722  EGS65571C019  12/21/2015 0:00        374718   9305870.63          408   \n",
       "723  EGS65571C019  12/22/2015 0:00        808884  20590101.65          755   \n",
       "\n",
       "     OPEN_PRICE  HIGH_PRICE  LOW_PRICE  CLOSE_PRICE    EWMA_12    HL_PCT  \\\n",
       "719       23.50       24.25      23.30        23.81  23.810000  4.077253   \n",
       "720       24.28       25.00      24.11        24.55  24.210833  3.691414   \n",
       "721       24.24       25.01      24.14        24.78  24.432979  3.603977   \n",
       "722       24.50       25.02      24.28        24.83  24.558303  3.047776   \n",
       "723       24.79       26.19      24.72        25.45  24.800574  5.946602   \n",
       "\n",
       "     PCT_change  \n",
       "719    1.319149  \n",
       "720    1.112026  \n",
       "721    2.227723  \n",
       "722    1.346939  \n",
       "723    2.662364  "
      ]
     },
     "execution_count": 6,
     "metadata": {},
     "output_type": "execute_result"
    }
   ],
   "source": [
    "madinet_Nasr_Housing.head()"
   ]
  },
  {
   "cell_type": "code",
   "execution_count": null,
   "metadata": {
    "collapsed": true
   },
   "outputs": [],
   "source": []
  },
  {
   "cell_type": "code",
   "execution_count": 7,
   "metadata": {},
   "outputs": [
    {
     "data": {
      "text/plain": [
       "500"
      ]
     },
     "execution_count": 7,
     "metadata": {},
     "output_type": "execute_result"
    }
   ],
   "source": [
    "madinet_Nasr_Housing.dropna(inplace=True)\n",
    "len(madinet_Nasr_Housing)"
   ]
  },
  {
   "cell_type": "code",
   "execution_count": 8,
   "metadata": {},
   "outputs": [
    {
     "data": {
      "text/plain": [
       "1214    10.72\n",
       "1215    10.58\n",
       "1216      NaN\n",
       "1217      NaN\n",
       "1218      NaN\n",
       "Name: CLOSE_PRICE, dtype: float64"
      ]
     },
     "execution_count": 8,
     "metadata": {},
     "output_type": "execute_result"
    }
   ],
   "source": [
    "madinet_Nasr_Housing['CLOSE_PRICE'].shift(-3).tail()"
   ]
  },
  {
   "cell_type": "code",
   "execution_count": 9,
   "metadata": {},
   "outputs": [
    {
     "data": {
      "text/plain": [
       "array([[ 23.81      ,   4.07725322,   1.31914894],\n",
       "       [ 24.21083333,   3.69141435,   1.11202636],\n",
       "       [ 24.43297921,   3.6039768 ,   2.22772277],\n",
       "       ..., \n",
       "       [ 10.70280851,   2.62172285,  -0.64516129],\n",
       "       [ 10.70545335,   1.69172932,  -0.27906977],\n",
       "       [ 10.68615284,   2.28789323,  -1.12149533]])"
      ]
     },
     "execution_count": 9,
     "metadata": {},
     "output_type": "execute_result"
    }
   ],
   "source": [
    "X=madinet_Nasr_Housing[['EWMA_12','HL_PCT','PCT_change']].values\n",
    "X"
   ]
  },
  {
   "cell_type": "code",
   "execution_count": 10,
   "metadata": {},
   "outputs": [
    {
     "data": {
      "text/plain": [
       "array([ 23.81,  24.55,  24.78,  24.83,  25.45,  26.34,  26.12,  25.87,\n",
       "        26.42,  27.48,  27.43,  28.04,  27.36,  27.39,  27.23,  26.89,\n",
       "        26.58,  26.  ,  24.15,  23.41,  23.62,  24.77,  24.95,  24.  ,\n",
       "        24.07,  24.89,  24.68,  24.85,  24.88,  24.82,  24.71,  25.46,\n",
       "        25.93,  17.46,  17.08,  17.23,  17.15,  17.85,  17.4 ,  17.53,\n",
       "        17.76,  18.4 ,  18.04,  17.83,  17.94,  18.33,  18.53,  18.41,\n",
       "        18.6 ,  18.83,  18.44,  18.42,  18.15,  17.96,  17.95,  18.02,\n",
       "        18.35,  18.09,  18.52,  18.38,  19.77,  20.27,  20.59,  22.1 ,\n",
       "        22.37,  22.27,  21.87,  21.95,  21.98,  21.93,  22.15,  22.44,\n",
       "        22.25,  22.31,  22.27,  22.73,  23.11,  22.14,  22.08,  21.54,\n",
       "        21.16,  21.4 ,  21.53,  21.73,  21.72,  22.01,  22.38,  21.92,\n",
       "        21.45,  21.18,  21.36,  20.93,  20.31,  19.51,  19.38,  19.6 ,\n",
       "        19.6 ,  19.87,  19.4 ,  18.9 ,  18.88,  18.5 ,  18.7 ,  19.28,\n",
       "        19.6 ,  19.35,  19.21,  19.49,  19.85,  19.99,  19.83,  19.64,\n",
       "        19.53,  19.56,  19.76,  15.08,  14.86,  14.84,  14.98,  15.16,\n",
       "        15.  ,  14.85,  14.78,  14.27,  13.95,  13.89,  13.44,  13.16,\n",
       "        12.99,  12.79,  12.93,  11.92,  11.99,  12.04,  12.02,  12.2 ,\n",
       "        12.75,  13.33,  13.24,  13.43,  13.85,  14.06,  14.11,  13.98,\n",
       "        13.94,  13.63,  13.4 ,  13.52,  13.61,  13.74,  14.37,  14.32,\n",
       "        14.04,  13.9 ,  14.08,  14.27,  14.51,  14.38,  14.64,  14.41,\n",
       "        14.5 ,  14.47,  14.39,  14.48,  14.45,  14.94,  15.01,  15.23,\n",
       "        14.85,  14.79,  14.8 ,  14.64,  14.26,  14.35,  14.47,  14.48,\n",
       "        14.55,  14.75,  15.03,  14.81,  14.52,  14.56,  14.49,  14.3 ,\n",
       "        14.14,  14.27,  14.38,  14.38,  14.28,  14.27,  14.3 ,  14.25,\n",
       "        14.24,  14.18,  14.52,  14.53,  14.64,  14.53,  14.15,  13.93,\n",
       "        13.9 ,  14.44,  14.15,  13.8 ,  13.51,  13.39,  13.8 ,  13.92,\n",
       "        13.66,  13.66,  13.7 ,  13.96,  13.95,  13.97,  14.02,  14.33,\n",
       "        14.23,  14.84,  15.12,  15.53,  15.32,  15.97,  16.03,  15.86,\n",
       "        15.77,  16.78,  17.23,  18.13,  19.27,  19.58,  19.76,  19.25,\n",
       "        18.58,  18.74,  18.61,  18.95,  18.76,  18.68,  18.41,  18.53,\n",
       "        18.64,  18.7 ,  19.59,  19.79,  19.24,  19.14,  19.44,  19.88,\n",
       "        20.18,  20.81,  21.08,  21.22,  21.09,  20.96,  20.97,  20.67,\n",
       "        20.56,  20.66,  21.32,  21.62,  21.55,  21.41,  21.81,  21.53,\n",
       "        22.01,  22.25,  21.78,  22.34,  22.1 ,  21.14,  20.52,  20.6 ,\n",
       "        20.61,  21.05,  21.11,  20.04,  19.43,  19.02,  18.83,  18.25,\n",
       "        18.3 ,  19.2 ,  19.18,  19.1 ,  18.99,  18.55,  18.32,  18.4 ,\n",
       "        18.99,  18.81,  19.03,  19.38,  18.85,  20.17,  20.84,  19.68,\n",
       "        19.84,  20.22,  20.84,  21.47,  22.29,  22.15,  22.16,  22.05,\n",
       "        22.12,  22.31,  22.02,  21.98,  22.27,  22.36,  22.29,  22.04,\n",
       "        21.91,  22.04,  22.3 ,  22.24,  22.14,  22.45,  23.08,  23.22,\n",
       "        23.26,  23.57,  23.34,  23.15,  22.86,  22.57,  22.66,  22.94,\n",
       "        23.06,  23.06,  22.72,  22.67,  21.35,  21.14,  21.41,  20.96,\n",
       "        20.7 ,  21.13,  21.36,  21.48,  21.23,  21.39,  21.49,  21.23,\n",
       "        21.16,  21.36,  21.27,  21.33,  21.61,  21.62,  21.58,  20.2 ,\n",
       "        20.46,  20.88,  20.99,  20.95,  21.08,  21.53,  21.49,  21.74,\n",
       "        21.84,  21.76,  21.81,  22.22,  22.44,  22.27,  22.04,  22.75,\n",
       "        23.31,  23.33,  23.  ,  22.81,  22.96,  23.34,  23.69,  24.1 ,\n",
       "        11.95,  11.56,  11.35,  11.21,  11.16,  10.87,  10.82,  10.95,\n",
       "        10.79,  10.84,  10.75,  10.69,  10.27,  10.31,  10.43,  10.61,\n",
       "        10.52,  10.78,  10.8 ,  10.65,  10.46,  10.34,  10.56,  10.78,\n",
       "        11.04,  11.03,  11.09,  11.05,  10.86,  10.62,  10.4 ,  10.26,\n",
       "        10.26,  10.19,  10.15,  10.13,  10.11,   9.8 ,   9.63,   9.62,\n",
       "         9.61,   9.75,   9.76,   9.88,   9.83,  10.03,  10.14,  10.24,\n",
       "        10.28,  10.21,  10.31,  10.14,  10.  ,  10.19,  10.06,   9.86,\n",
       "         9.96,   9.92,   9.87,  10.01,  10.15,  10.19,  10.05,  10.01,\n",
       "        10.18,  10.3 ,  10.68,  10.62,  10.54,  10.43,  10.12,  10.15,\n",
       "        10.33,  10.37,  10.19,  10.28,  10.31,  10.34,  10.51,  10.53,\n",
       "        10.6 ,  10.56,  10.69,  10.91,  10.92,  10.69,  10.47,  10.52,\n",
       "        10.52,  10.39,  10.17,  10.21,  10.22,  10.14,   9.88,   9.74,\n",
       "         9.85,   9.91,  10.06,  10.27,  10.26,  10.42,  10.45,  10.38,\n",
       "        10.23,  10.17,  10.15,  10.11,  10.26,  10.31,  10.51,  10.58,\n",
       "        10.65,  10.98,  10.65,  10.7 ,  10.66,  10.71,  10.81,  10.92,\n",
       "        10.87,  10.78,  10.72,  10.58])"
      ]
     },
     "execution_count": 10,
     "metadata": {},
     "output_type": "execute_result"
    }
   ],
   "source": [
    "y=madinet_Nasr_Housing['CLOSE_PRICE'].values\n",
    "y"
   ]
  },
  {
   "cell_type": "code",
   "execution_count": 11,
   "metadata": {},
   "outputs": [
    {
     "data": {
      "text/plain": [
       "(500, 500)"
      ]
     },
     "execution_count": 11,
     "metadata": {},
     "output_type": "execute_result"
    }
   ],
   "source": [
    "len(X),len(y)"
   ]
  },
  {
   "cell_type": "code",
   "execution_count": 12,
   "metadata": {
    "collapsed": true
   },
   "outputs": [],
   "source": [
    "X_train,X_test,y_train,y_test=train_test_split(X, y, test_size=0.3,shuffle=False,random_state=1)"
   ]
  },
  {
   "cell_type": "code",
   "execution_count": 13,
   "metadata": {},
   "outputs": [
    {
     "data": {
      "text/plain": [
       "(500, 350, 150)"
      ]
     },
     "execution_count": 13,
     "metadata": {},
     "output_type": "execute_result"
    }
   ],
   "source": [
    "len(X),len(X_train),len(X_test)"
   ]
  },
  {
   "cell_type": "code",
   "execution_count": 14,
   "metadata": {
    "collapsed": true
   },
   "outputs": [],
   "source": [
    "sc=StandardScaler()\n",
    "sc.fit(X_train)\n",
    "X_train=sc.transform(X_train)\n",
    "X_test=sc.transform(X_test)"
   ]
  },
  {
   "cell_type": "code",
   "execution_count": 15,
   "metadata": {
    "collapsed": true
   },
   "outputs": [],
   "source": [
    "lr=LinearRegression()\n",
    "KNN=KNeighborsRegressor()\n",
    "SVR=svm.SVR()"
   ]
  },
  {
   "cell_type": "code",
   "execution_count": 16,
   "metadata": {},
   "outputs": [
    {
     "data": {
      "text/plain": [
       "SVR(C=1.0, cache_size=200, coef0=0.0, degree=3, epsilon=0.1, gamma='auto',\n",
       "  kernel='rbf', max_iter=-1, shrinking=True, tol=0.001, verbose=False)"
      ]
     },
     "execution_count": 16,
     "metadata": {},
     "output_type": "execute_result"
    }
   ],
   "source": [
    "lr.fit(X_train,y_train)\n",
    "KNN.fit(X_train,y_train)\n",
    "SVR.fit(X_train,y_train)"
   ]
  },
  {
   "cell_type": "code",
   "execution_count": 17,
   "metadata": {},
   "outputs": [
    {
     "data": {
      "text/plain": [
       "500"
      ]
     },
     "execution_count": 17,
     "metadata": {},
     "output_type": "execute_result"
    }
   ],
   "source": [
    "y_pred_lr=lr.predict(X_test)\n",
    "y_pred_SVR = SVR.predict(X_test)\n",
    "y_pred_KNN = KNN.predict(X_test)\n",
    "len(y_pred_lr)\n",
    "len(madinet_Nasr_Housing)"
   ]
  },
  {
   "cell_type": "code",
   "execution_count": 18,
   "metadata": {},
   "outputs": [
    {
     "name": "stderr",
     "output_type": "stream",
     "text": [
      "C:\\Users\\mohamed ismail\\Anaconda3\\lib\\site-packages\\pandas\\core\\indexing.py:179: SettingWithCopyWarning: \n",
      "A value is trying to be set on a copy of a slice from a DataFrame\n",
      "\n",
      "See the caveats in the documentation: http://pandas.pydata.org/pandas-docs/stable/indexing.html#indexing-view-versus-copy\n",
      "  self._setitem_with_indexer(indexer, value)\n"
     ]
    },
    {
     "data": {
      "text/html": [
       "<div>\n",
       "<style>\n",
       "    .dataframe thead tr:only-child th {\n",
       "        text-align: right;\n",
       "    }\n",
       "\n",
       "    .dataframe thead th {\n",
       "        text-align: left;\n",
       "    }\n",
       "\n",
       "    .dataframe tbody tr th {\n",
       "        vertical-align: top;\n",
       "    }\n",
       "</style>\n",
       "<table border=\"1\" class=\"dataframe\">\n",
       "  <thead>\n",
       "    <tr style=\"text-align: right;\">\n",
       "      <th></th>\n",
       "      <th>SYMBOL_CODE</th>\n",
       "      <th>TRADE_DATE</th>\n",
       "      <th>TRADE_VOLUME</th>\n",
       "      <th>TRADE_VALUE</th>\n",
       "      <th>TRADE_COUNT</th>\n",
       "      <th>OPEN_PRICE</th>\n",
       "      <th>HIGH_PRICE</th>\n",
       "      <th>LOW_PRICE</th>\n",
       "      <th>CLOSE_PRICE</th>\n",
       "      <th>EWMA_12</th>\n",
       "      <th>HL_PCT</th>\n",
       "      <th>PCT_change</th>\n",
       "      <th>LR_pred</th>\n",
       "      <th>KNN_pred</th>\n",
       "      <th>SVR_pred</th>\n",
       "    </tr>\n",
       "  </thead>\n",
       "  <tbody>\n",
       "    <tr>\n",
       "      <th>1214</th>\n",
       "      <td>EGS65571C019</td>\n",
       "      <td>12/25/2017 0:00</td>\n",
       "      <td>3298857</td>\n",
       "      <td>36039349.60</td>\n",
       "      <td>819</td>\n",
       "      <td>10.79</td>\n",
       "      <td>11.02</td>\n",
       "      <td>10.77</td>\n",
       "      <td>10.92</td>\n",
       "      <td>10.655823</td>\n",
       "      <td>2.321263</td>\n",
       "      <td>1.204819</td>\n",
       "      <td>10.799055</td>\n",
       "      <td>13.290</td>\n",
       "      <td>14.418107</td>\n",
       "    </tr>\n",
       "    <tr>\n",
       "      <th>1215</th>\n",
       "      <td>EGS65571C019</td>\n",
       "      <td>12/26/2017 0:00</td>\n",
       "      <td>464501</td>\n",
       "      <td>5049787.47</td>\n",
       "      <td>160</td>\n",
       "      <td>10.89</td>\n",
       "      <td>10.98</td>\n",
       "      <td>10.80</td>\n",
       "      <td>10.87</td>\n",
       "      <td>10.688774</td>\n",
       "      <td>1.666667</td>\n",
       "      <td>-0.183655</td>\n",
       "      <td>10.582960</td>\n",
       "      <td>13.492</td>\n",
       "      <td>14.315513</td>\n",
       "    </tr>\n",
       "    <tr>\n",
       "      <th>1216</th>\n",
       "      <td>EGS65571C019</td>\n",
       "      <td>12/27/2017 0:00</td>\n",
       "      <td>3037790</td>\n",
       "      <td>32747169.53</td>\n",
       "      <td>344</td>\n",
       "      <td>10.85</td>\n",
       "      <td>10.96</td>\n",
       "      <td>10.68</td>\n",
       "      <td>10.78</td>\n",
       "      <td>10.702809</td>\n",
       "      <td>2.621723</td>\n",
       "      <td>-0.645161</td>\n",
       "      <td>10.575996</td>\n",
       "      <td>13.498</td>\n",
       "      <td>14.032037</td>\n",
       "    </tr>\n",
       "    <tr>\n",
       "      <th>1217</th>\n",
       "      <td>EGS65571C019</td>\n",
       "      <td>12/28/2017 0:00</td>\n",
       "      <td>666757</td>\n",
       "      <td>7145359.50</td>\n",
       "      <td>269</td>\n",
       "      <td>10.75</td>\n",
       "      <td>10.82</td>\n",
       "      <td>10.64</td>\n",
       "      <td>10.72</td>\n",
       "      <td>10.705453</td>\n",
       "      <td>1.691729</td>\n",
       "      <td>-0.279070</td>\n",
       "      <td>10.586095</td>\n",
       "      <td>13.492</td>\n",
       "      <td>14.293608</td>\n",
       "    </tr>\n",
       "    <tr>\n",
       "      <th>1218</th>\n",
       "      <td>EGS65571C019</td>\n",
       "      <td>12/31/2017 0:00</td>\n",
       "      <td>1328205</td>\n",
       "      <td>14053645.10</td>\n",
       "      <td>295</td>\n",
       "      <td>10.70</td>\n",
       "      <td>10.73</td>\n",
       "      <td>10.49</td>\n",
       "      <td>10.58</td>\n",
       "      <td>10.686153</td>\n",
       "      <td>2.287893</td>\n",
       "      <td>-1.121495</td>\n",
       "      <td>10.468381</td>\n",
       "      <td>13.522</td>\n",
       "      <td>14.181246</td>\n",
       "    </tr>\n",
       "  </tbody>\n",
       "</table>\n",
       "</div>"
      ],
      "text/plain": [
       "       SYMBOL_CODE       TRADE_DATE  TRADE_VOLUME  TRADE_VALUE  TRADE_COUNT  \\\n",
       "1214  EGS65571C019  12/25/2017 0:00       3298857  36039349.60          819   \n",
       "1215  EGS65571C019  12/26/2017 0:00        464501   5049787.47          160   \n",
       "1216  EGS65571C019  12/27/2017 0:00       3037790  32747169.53          344   \n",
       "1217  EGS65571C019  12/28/2017 0:00        666757   7145359.50          269   \n",
       "1218  EGS65571C019  12/31/2017 0:00       1328205  14053645.10          295   \n",
       "\n",
       "      OPEN_PRICE  HIGH_PRICE  LOW_PRICE  CLOSE_PRICE    EWMA_12    HL_PCT  \\\n",
       "1214       10.79       11.02      10.77        10.92  10.655823  2.321263   \n",
       "1215       10.89       10.98      10.80        10.87  10.688774  1.666667   \n",
       "1216       10.85       10.96      10.68        10.78  10.702809  2.621723   \n",
       "1217       10.75       10.82      10.64        10.72  10.705453  1.691729   \n",
       "1218       10.70       10.73      10.49        10.58  10.686153  2.287893   \n",
       "\n",
       "      PCT_change    LR_pred  KNN_pred   SVR_pred  \n",
       "1214    1.204819  10.799055    13.290  14.418107  \n",
       "1215   -0.183655  10.582960    13.492  14.315513  \n",
       "1216   -0.645161  10.575996    13.498  14.032037  \n",
       "1217   -0.279070  10.586095    13.492  14.293608  \n",
       "1218   -1.121495  10.468381    13.522  14.181246  "
      ]
     },
     "execution_count": 18,
     "metadata": {},
     "output_type": "execute_result"
    }
   ],
   "source": [
    "madinet_Nasr_Housing['LR_pred']=np.nan\n",
    "madinet_Nasr_Housing['KNN_pred']=np.nan\n",
    "madinet_Nasr_Housing['SVR_pred']=np.nan\n",
    "madinet_Nasr_Housing['LR_pred'].iloc[350:]=y_pred_lr\n",
    "madinet_Nasr_Housing['KNN_pred'].iloc[350:]=y_pred_KNN\n",
    "madinet_Nasr_Housing['SVR_pred'].iloc[350:]=y_pred_SVR\n",
    "madinet_Nasr_Housing.tail()"
   ]
  },
  {
   "cell_type": "code",
   "execution_count": 19,
   "metadata": {},
   "outputs": [
    {
     "data": {
      "image/png": "[encoded data removed]",
      "text/plain": [
       "<matplotlib.figure.Figure at 0xb4c110f940>"
      ]
     },
     "metadata": {},
     "output_type": "display_data"
    }
   ],
   "source": [
    "madinet_Nasr_Housing[['CLOSE_PRICE','LR_pred','KNN_pred','SVR_pred']].plot(figsize=(18,6))\n",
    "plt.show()"
   ]
  },
  {
   "cell_type": "code",
   "execution_count": 20,
   "metadata": {
    "collapsed": true
   },
   "outputs": [],
   "source": [
    "LR_RMSE=np.sqrt(mean_squared_error(y_true=y_test,y_pred=y_pred_lr))\n",
    "KNN_RMSE=np.sqrt(mean_squared_error(y_true=y_test,y_pred=y_pred_KNN))\n",
    "SVR_RMSE=np.sqrt(mean_squared_error(y_true=y_test,y_pred=y_pred_SVR))"
   ]
  },
  {
   "cell_type": "code",
   "execution_count": 21,
   "metadata": {},
   "outputs": [
    {
     "name": "stdout",
     "output_type": "stream",
     "text": [
      "Linear Regression : 1.515771563\n",
      "KNN : 3.09908019042\n",
      "SVR : 3.89088449315\n"
     ]
    }
   ],
   "source": [
    "print('Linear Regression :',LR_RMSE)\n",
    "print('KNN :',KNN_RMSE)\n",
    "print('SVR :',SVR_RMSE)"
   ]
  },
  {
   "cell_type": "code",
   "execution_count": 22,
   "metadata": {},
   "outputs": [
    {
     "data": {
      "text/plain": [
       "88.437338923328255"
      ]
     },
     "execution_count": 22,
     "metadata": {},
     "output_type": "execute_result"
    }
   ],
   "source": [
    "accuracy_LR=lr.score(X_test,y_test)\n",
    "accuracy_LR*100.0"
   ]
  },
  {
   "cell_type": "code",
   "execution_count": 23,
   "metadata": {},
   "outputs": [
    {
     "data": {
      "text/plain": [
       "51.665646548360186"
      ]
     },
     "execution_count": 23,
     "metadata": {},
     "output_type": "execute_result"
    }
   ],
   "source": [
    "accuracy_KNN=KNN.score(X_test,y_test)\n",
    "accuracy_KNN*100.0"
   ]
  },
  {
   "cell_type": "code",
   "execution_count": 24,
   "metadata": {},
   "outputs": [
    {
     "data": {
      "text/plain": [
       "23.811931743947856"
      ]
     },
     "execution_count": 24,
     "metadata": {},
     "output_type": "execute_result"
    }
   ],
   "source": [
    "accuracy_SVR=SVR.score(X_test,y_test)\n",
    "accuracy_SVR*100.0"
   ]
  },
  {
   "cell_type": "code",
   "execution_count": 25,
   "metadata": {},
   "outputs": [
    {
     "data": {
      "image/png": "[encoded data removed]",
      "text/plain": [
       "<matplotlib.figure.Figure at 0xb4c110f2e8>"
      ]
     },
     "metadata": {},
     "output_type": "display_data"
    }
   ],
   "source": [
    "madinet_Nasr_Housing[['CLOSE_PRICE','LR_pred','KNN_pred','SVR_pred']][400:].plot(figsize=(18,6))\n",
    "plt.show()"
   ]
  },
  {
   "cell_type": "code",
   "execution_count": 26,
   "metadata": {},
   "outputs": [
    {
     "data": {
      "text/plain": [
       "array([         nan,          nan,          nan,          nan,\n",
       "                nan,          nan,          nan,          nan,\n",
       "                nan,          nan,          nan,          nan,\n",
       "                nan,          nan,          nan,          nan,\n",
       "                nan,          nan,          nan,          nan,\n",
       "                nan,          nan,          nan,          nan,\n",
       "                nan,          nan,          nan,          nan,\n",
       "                nan,          nan,          nan,          nan,\n",
       "                nan,          nan,          nan,          nan,\n",
       "                nan,          nan,          nan,          nan,\n",
       "                nan,          nan,          nan,          nan,\n",
       "                nan,          nan,          nan,          nan,\n",
       "                nan,          nan,          nan,          nan,\n",
       "                nan,          nan,          nan,          nan,\n",
       "                nan,          nan,          nan,          nan,\n",
       "                nan,          nan,          nan,          nan,\n",
       "                nan,          nan,          nan,          nan,\n",
       "                nan,          nan,          nan,          nan,\n",
       "                nan,          nan,          nan,          nan,\n",
       "                nan,          nan,          nan,          nan,\n",
       "                nan,          nan,          nan,          nan,\n",
       "                nan,          nan,          nan,          nan,\n",
       "                nan,          nan,          nan,          nan,\n",
       "                nan,          nan,          nan,          nan,\n",
       "                nan,          nan,          nan,          nan,\n",
       "                nan,          nan,          nan,          nan,\n",
       "                nan,          nan,          nan,          nan,\n",
       "                nan,          nan,          nan,          nan,\n",
       "                nan,          nan,          nan,          nan,\n",
       "                nan,          nan,          nan,          nan,\n",
       "                nan,          nan,          nan,          nan,\n",
       "                nan,          nan,          nan,          nan,\n",
       "                nan,          nan,          nan,          nan,\n",
       "                nan,          nan,          nan,          nan,\n",
       "                nan,          nan,          nan,          nan,\n",
       "                nan,          nan,          nan,          nan,\n",
       "                nan,          nan,          nan,          nan,\n",
       "                nan,          nan,          nan,          nan,\n",
       "                nan,          nan,          nan,          nan,\n",
       "                nan,          nan,          nan,          nan,\n",
       "                nan,          nan,          nan,          nan,\n",
       "                nan,          nan,          nan,          nan,\n",
       "                nan,          nan,          nan,          nan,\n",
       "                nan,          nan,          nan,          nan,\n",
       "                nan,          nan,          nan,          nan,\n",
       "                nan,          nan,          nan,          nan,\n",
       "                nan,          nan,          nan,          nan,\n",
       "                nan,          nan,          nan,          nan,\n",
       "                nan,          nan,          nan,          nan,\n",
       "                nan,          nan,          nan,          nan,\n",
       "                nan,          nan,          nan,          nan,\n",
       "                nan,          nan,          nan,          nan,\n",
       "                nan,          nan,          nan,          nan,\n",
       "                nan,          nan,          nan,          nan,\n",
       "                nan,          nan,          nan,          nan,\n",
       "                nan,          nan,          nan,          nan,\n",
       "                nan,          nan,          nan,          nan,\n",
       "                nan,          nan,          nan,          nan,\n",
       "                nan,          nan,          nan,          nan,\n",
       "                nan,          nan,          nan,          nan,\n",
       "                nan,          nan,          nan,          nan,\n",
       "                nan,          nan,          nan,          nan,\n",
       "                nan,          nan,          nan,          nan,\n",
       "                nan,          nan,          nan,          nan,\n",
       "                nan,          nan,          nan,          nan,\n",
       "                nan,          nan,          nan,          nan,\n",
       "                nan,          nan,          nan,          nan,\n",
       "                nan,          nan,          nan,          nan,\n",
       "                nan,          nan,          nan,          nan,\n",
       "                nan,          nan,          nan,          nan,\n",
       "                nan,          nan,          nan,          nan,\n",
       "                nan,          nan,          nan,          nan,\n",
       "                nan,          nan,          nan,          nan,\n",
       "                nan,          nan,          nan,          nan,\n",
       "                nan,          nan,          nan,          nan,\n",
       "                nan,          nan,          nan,          nan,\n",
       "                nan,          nan,          nan,          nan,\n",
       "                nan,          nan,          nan,          nan,\n",
       "                nan,          nan,          nan,          nan,\n",
       "                nan,          nan,          nan,          nan,\n",
       "                nan,          nan,          nan,          nan,\n",
       "                nan,          nan,          nan,          nan,\n",
       "                nan,          nan,          nan,          nan,\n",
       "                nan,          nan,          nan,          nan,\n",
       "                nan,          nan,          nan,          nan,\n",
       "                nan,          nan,          nan,          nan,\n",
       "                nan,          nan,          nan,          nan,\n",
       "                nan,          nan,  21.56462804,  20.7129878 ,\n",
       "        21.71792854,  21.61191233,  20.96615549,  21.11068933,\n",
       "        21.06147251,  21.36946579,  21.46210097,  21.58283202,\n",
       "        21.41812498,  21.3037335 ,  21.37087569,  22.05997502,\n",
       "        21.69772006,  21.80377663,  21.82224908,  22.23089615,\n",
       "        22.84286906,  22.12322362,  22.18182428,  22.62831295,\n",
       "        22.80417416,  23.31041243,  23.26737422,  23.66787607,\n",
       "        21.43116021,  19.4841469 ,  18.38261578,  17.31084376,\n",
       "        16.00977658,  15.1192356 ,  14.94360712,  14.53410502,\n",
       "        14.06106891,  13.67941419,  13.74891504,  13.76966725,\n",
       "        15.63951532,  13.8862466 ,  13.88835695,  13.76321415,\n",
       "        13.92057257,  14.56914041,  13.81487566,  14.00378044,\n",
       "        14.14780477,  13.93893009,  14.28446859,  14.40897632,\n",
       "        14.33906063,  14.13183965,  14.0717526 ,  14.09471952,\n",
       "        14.46998263,  14.06572556,  14.48415024,  14.13682826,\n",
       "        14.12019799,  14.1552313 ,  14.25640401,  14.60172058,\n",
       "        14.52201578,  14.8208762 ,  14.3300577 ,  14.45227926,\n",
       "        14.8518057 ,  14.8276577 ,  14.77202534,  14.80792378,\n",
       "        14.95163597,  14.84035752,  14.96504948,  14.83445025,\n",
       "        15.17273891,  14.4224495 ,  14.7303661 ,  14.51325169,\n",
       "        14.39837387,  14.80270842,  14.6387006 ,  14.48457634,\n",
       "        14.50583062,  14.56532432,  14.75791338,  14.62968588,\n",
       "        14.53885516,  14.46226884,  14.67420144,  14.40195857,\n",
       "        14.94470849,  14.50302971,  14.98782128,  14.38483837,\n",
       "        14.25191741,  14.24890181,  14.66114023,  14.3825558 ,\n",
       "        14.3045309 ,  14.34110186,  14.25637024,  14.36108813,\n",
       "        14.30409994,  14.58261285,  14.44722569,  14.28549846,\n",
       "        14.46314299,  14.21945056,  14.54180653,  14.69497293,\n",
       "        14.23472353,  14.41243537,  14.07680139,  14.09841334,\n",
       "        14.11660917,  14.15230954,  14.44221452,  14.32106451,\n",
       "        14.21751287,  14.23158768,  14.65413525,  14.31754654,\n",
       "        14.47525123,  14.48036047,  14.43268425,  15.46699165,\n",
       "        14.32723598,  14.35553721,  14.45231799,  14.35572495,\n",
       "        14.42230384,  14.61985691,  14.64027447,  14.6969846 ,\n",
       "        14.75123023,  14.93061622,  14.50378213,  14.34757022,\n",
       "        14.31047673,  14.85933105,  14.26880244,  14.36379619,\n",
       "        14.34757804,  14.31789963,  14.62515202,  14.41810683,\n",
       "        14.31551327,  14.03203726,  14.29360837,  14.18124613])"
      ]
     },
     "execution_count": 26,
     "metadata": {},
     "output_type": "execute_result"
    }
   ],
   "source": [
    "res=madinet_Nasr_Housing['SVR_pred'][400:].values\n",
    "res"
   ]
  },
  {
   "cell_type": "code",
   "execution_count": null,
   "metadata": {
    "collapsed": true
   },
   "outputs": [],
   "source": []
  },
  {
   "cell_type": "code",
   "execution_count": null,
   "metadata": {
    "collapsed": true
   },
   "outputs": [],
   "source": []
  },
  {
   "cell_type": "code",
   "execution_count": null,
   "metadata": {
    "collapsed": true
   },
   "outputs": [],
   "source": []
  },
  {
   "cell_type": "code",
   "execution_count": null,
   "metadata": {
    "collapsed": true
   },
   "outputs": [],
   "source": []
  },
  {
   "cell_type": "code",
   "execution_count": null,
   "metadata": {
    "collapsed": true
   },
   "outputs": [],
   "source": []
  },
  {
   "cell_type": "code",
   "execution_count": null,
   "metadata": {
    "collapsed": true
   },
   "outputs": [],
   "source": []
  },
  {
   "cell_type": "code",
   "execution_count": null,
   "metadata": {
    "collapsed": true
   },
   "outputs": [],
   "source": []
  },
  {
   "cell_type": "code",
   "execution_count": null,
   "metadata": {
    "collapsed": true
   },
   "outputs": [],
   "source": []
  },
  {
   "cell_type": "code",
   "execution_count": null,
   "metadata": {
    "collapsed": true
   },
   "outputs": [],
   "source": []
  },
  {
   "cell_type": "code",
   "execution_count": null,
   "metadata": {
    "collapsed": true
   },
   "outputs": [],
   "source": []
  },
  {
   "cell_type": "code",
   "execution_count": null,
   "metadata": {
    "collapsed": true
   },
   "outputs": [],
   "source": []
  },
  {
   "cell_type": "code",
   "execution_count": null,
   "metadata": {
    "collapsed": true
   },
   "outputs": [],
   "source": []
  },
  {
   "cell_type": "code",
   "execution_count": null,
   "metadata": {
    "collapsed": true
   },
   "outputs": [],
   "source": []
  },
  {
   "cell_type": "code",
   "execution_count": null,
   "metadata": {
    "collapsed": true
   },
   "outputs": [],
   "source": []
  },
  {
   "cell_type": "code",
   "execution_count": null,
   "metadata": {
    "collapsed": true
   },
   "outputs": [],
   "source": []
  },
  {
   "cell_type": "code",
   "execution_count": null,
   "metadata": {
    "collapsed": true
   },
   "outputs": [],
   "source": []
  },
  {
   "cell_type": "code",
   "execution_count": null,
   "metadata": {
    "collapsed": true
   },
   "outputs": [],
   "source": []
  },
  {
   "cell_type": "code",
   "execution_count": null,
   "metadata": {
    "collapsed": true
   },
   "outputs": [],
   "source": []
  },
  {
   "cell_type": "code",
   "execution_count": null,
   "metadata": {
    "collapsed": true
   },
   "outputs": [],
   "source": []
  },
  {
   "cell_type": "code",
   "execution_count": null,
   "metadata": {
    "collapsed": true
   },
   "outputs": [],
   "source": []
  },
  {
   "cell_type": "code",
   "execution_count": null,
   "metadata": {
    "collapsed": true
   },
   "outputs": [],
   "source": []
  },
  {
   "cell_type": "code",
   "execution_count": null,
   "metadata": {
    "collapsed": true
   },
   "outputs": [],
   "source": []
  }
 ],
 "metadata": {
  "kernelspec": {
   "display_name": "Python 3",
   "language": "python",
   "name": "python3"
  },
  "language_info": {
   "codemirror_mode": {
    "name": "ipython",
    "version": 3
   },
   "file_extension": ".py",
   "mimetype": "text/x-python",
   "name": "python",
   "nbconvert_exporter": "python",
   "pygments_lexer": "ipython3",
   "version": "3.6.1"
  }
 },
 "nbformat": 4,
 "nbformat_minor": 2
}
