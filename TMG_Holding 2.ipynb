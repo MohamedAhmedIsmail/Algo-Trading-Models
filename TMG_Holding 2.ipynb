{
 "cells": [
  {
   "cell_type": "code",
   "execution_count": 1,
   "metadata": {
    "collapsed": true
   },
   "outputs": [],
   "source": [
    "import pandas as pd\n",
    "import numpy as np\n",
    "import matplotlib.pyplot as plt\n",
    "%matplotlib inline"
   ]
  },
  {
   "cell_type": "code",
   "execution_count": 2,
   "metadata": {
    "collapsed": true
   },
   "outputs": [],
   "source": [
    "training_set=pd.read_csv(\"C:/Users/mohamed ismail/Desktop/GP And Data/T M G Holding.csv\",index_col=1)"
   ]
  },
  {
   "cell_type": "code",
   "execution_count": 3,
   "metadata": {},
   "outputs": [
    {
     "data": {
      "text/html": [
       "<div>\n",
       "<style>\n",
       "    .dataframe thead tr:only-child th {\n",
       "        text-align: right;\n",
       "    }\n",
       "\n",
       "    .dataframe thead th {\n",
       "        text-align: left;\n",
       "    }\n",
       "\n",
       "    .dataframe tbody tr th {\n",
       "        vertical-align: top;\n",
       "    }\n",
       "</style>\n",
       "<table border=\"1\" class=\"dataframe\">\n",
       "  <thead>\n",
       "    <tr style=\"text-align: right;\">\n",
       "      <th></th>\n",
       "      <th>SYMBOL_CODE</th>\n",
       "      <th>TRADE_VOLUME</th>\n",
       "      <th>TRADE_VALUE</th>\n",
       "      <th>TRADE_COUNT</th>\n",
       "      <th>OPEN_PRICE</th>\n",
       "      <th>HIGH_PRICE</th>\n",
       "      <th>LOW_PRICE</th>\n",
       "      <th>CLOSE_PRICE</th>\n",
       "    </tr>\n",
       "    <tr>\n",
       "      <th>TRADE_DATE</th>\n",
       "      <th></th>\n",
       "      <th></th>\n",
       "      <th></th>\n",
       "      <th></th>\n",
       "      <th></th>\n",
       "      <th></th>\n",
       "      <th></th>\n",
       "      <th></th>\n",
       "    </tr>\n",
       "  </thead>\n",
       "  <tbody>\n",
       "    <tr>\n",
       "      <th>1/2/2013 0:00</th>\n",
       "      <td>EGS691S1C011</td>\n",
       "      <td>4819957</td>\n",
       "      <td>22287042.43</td>\n",
       "      <td>927</td>\n",
       "      <td>4.48</td>\n",
       "      <td>4.72</td>\n",
       "      <td>4.46</td>\n",
       "      <td>4.62</td>\n",
       "    </tr>\n",
       "    <tr>\n",
       "      <th>1/3/2013 0:00</th>\n",
       "      <td>EGS691S1C011</td>\n",
       "      <td>3627545</td>\n",
       "      <td>17134786.61</td>\n",
       "      <td>945</td>\n",
       "      <td>4.65</td>\n",
       "      <td>4.76</td>\n",
       "      <td>4.63</td>\n",
       "      <td>4.72</td>\n",
       "    </tr>\n",
       "    <tr>\n",
       "      <th>1/6/2013 0:00</th>\n",
       "      <td>EGS691S1C011</td>\n",
       "      <td>2607806</td>\n",
       "      <td>12245969.99</td>\n",
       "      <td>607</td>\n",
       "      <td>4.73</td>\n",
       "      <td>4.76</td>\n",
       "      <td>4.64</td>\n",
       "      <td>4.70</td>\n",
       "    </tr>\n",
       "    <tr>\n",
       "      <th>1/8/2013 0:00</th>\n",
       "      <td>EGS691S1C011</td>\n",
       "      <td>5684753</td>\n",
       "      <td>26984291.44</td>\n",
       "      <td>866</td>\n",
       "      <td>4.69</td>\n",
       "      <td>4.84</td>\n",
       "      <td>4.60</td>\n",
       "      <td>4.75</td>\n",
       "    </tr>\n",
       "    <tr>\n",
       "      <th>1/9/2013 0:00</th>\n",
       "      <td>EGS691S1C011</td>\n",
       "      <td>2980833</td>\n",
       "      <td>14233038.27</td>\n",
       "      <td>648</td>\n",
       "      <td>4.81</td>\n",
       "      <td>4.85</td>\n",
       "      <td>4.73</td>\n",
       "      <td>4.77</td>\n",
       "    </tr>\n",
       "  </tbody>\n",
       "</table>\n",
       "</div>"
      ],
      "text/plain": [
       "                SYMBOL_CODE  TRADE_VOLUME  TRADE_VALUE  TRADE_COUNT  \\\n",
       "TRADE_DATE                                                            \n",
       "1/2/2013 0:00  EGS691S1C011       4819957  22287042.43          927   \n",
       "1/3/2013 0:00  EGS691S1C011       3627545  17134786.61          945   \n",
       "1/6/2013 0:00  EGS691S1C011       2607806  12245969.99          607   \n",
       "1/8/2013 0:00  EGS691S1C011       5684753  26984291.44          866   \n",
       "1/9/2013 0:00  EGS691S1C011       2980833  14233038.27          648   \n",
       "\n",
       "               OPEN_PRICE  HIGH_PRICE  LOW_PRICE  CLOSE_PRICE  \n",
       "TRADE_DATE                                                     \n",
       "1/2/2013 0:00        4.48        4.72       4.46         4.62  \n",
       "1/3/2013 0:00        4.65        4.76       4.63         4.72  \n",
       "1/6/2013 0:00        4.73        4.76       4.64         4.70  \n",
       "1/8/2013 0:00        4.69        4.84       4.60         4.75  \n",
       "1/9/2013 0:00        4.81        4.85       4.73         4.77  "
      ]
     },
     "execution_count": 3,
     "metadata": {},
     "output_type": "execute_result"
    }
   ],
   "source": [
    "training_set.head()"
   ]
  },
  {
   "cell_type": "code",
   "execution_count": 4,
   "metadata": {},
   "outputs": [
    {
     "data": {
      "text/html": [
       "<div>\n",
       "<style>\n",
       "    .dataframe thead tr:only-child th {\n",
       "        text-align: right;\n",
       "    }\n",
       "\n",
       "    .dataframe thead th {\n",
       "        text-align: left;\n",
       "    }\n",
       "\n",
       "    .dataframe tbody tr th {\n",
       "        vertical-align: top;\n",
       "    }\n",
       "</style>\n",
       "<table border=\"1\" class=\"dataframe\">\n",
       "  <thead>\n",
       "    <tr style=\"text-align: right;\">\n",
       "      <th></th>\n",
       "      <th>SYMBOL_CODE</th>\n",
       "      <th>TRADE_VOLUME</th>\n",
       "      <th>TRADE_VALUE</th>\n",
       "      <th>TRADE_COUNT</th>\n",
       "      <th>OPEN_PRICE</th>\n",
       "      <th>HIGH_PRICE</th>\n",
       "      <th>LOW_PRICE</th>\n",
       "      <th>CLOSE_PRICE</th>\n",
       "    </tr>\n",
       "    <tr>\n",
       "      <th>TRADE_DATE</th>\n",
       "      <th></th>\n",
       "      <th></th>\n",
       "      <th></th>\n",
       "      <th></th>\n",
       "      <th></th>\n",
       "      <th></th>\n",
       "      <th></th>\n",
       "      <th></th>\n",
       "    </tr>\n",
       "  </thead>\n",
       "  <tbody>\n",
       "    <tr>\n",
       "      <th>12/25/2017 0:00</th>\n",
       "      <td>EGS691S1C011</td>\n",
       "      <td>2550914</td>\n",
       "      <td>24808931.74</td>\n",
       "      <td>332</td>\n",
       "      <td>9.70</td>\n",
       "      <td>9.83</td>\n",
       "      <td>9.55</td>\n",
       "      <td>9.73</td>\n",
       "    </tr>\n",
       "    <tr>\n",
       "      <th>12/26/2017 0:00</th>\n",
       "      <td>EGS691S1C011</td>\n",
       "      <td>952893</td>\n",
       "      <td>9123532.62</td>\n",
       "      <td>271</td>\n",
       "      <td>9.70</td>\n",
       "      <td>9.70</td>\n",
       "      <td>9.51</td>\n",
       "      <td>9.57</td>\n",
       "    </tr>\n",
       "    <tr>\n",
       "      <th>12/27/2017 0:00</th>\n",
       "      <td>EGS691S1C011</td>\n",
       "      <td>2670503</td>\n",
       "      <td>25737256.31</td>\n",
       "      <td>425</td>\n",
       "      <td>9.64</td>\n",
       "      <td>9.76</td>\n",
       "      <td>9.54</td>\n",
       "      <td>9.64</td>\n",
       "    </tr>\n",
       "    <tr>\n",
       "      <th>12/28/2017 0:00</th>\n",
       "      <td>EGS691S1C011</td>\n",
       "      <td>4395442</td>\n",
       "      <td>43235515.01</td>\n",
       "      <td>521</td>\n",
       "      <td>9.60</td>\n",
       "      <td>9.92</td>\n",
       "      <td>9.60</td>\n",
       "      <td>9.84</td>\n",
       "    </tr>\n",
       "    <tr>\n",
       "      <th>12/31/2017 0:00</th>\n",
       "      <td>EGS691S1C011</td>\n",
       "      <td>876400</td>\n",
       "      <td>8591940.29</td>\n",
       "      <td>202</td>\n",
       "      <td>9.75</td>\n",
       "      <td>9.91</td>\n",
       "      <td>9.70</td>\n",
       "      <td>9.80</td>\n",
       "    </tr>\n",
       "  </tbody>\n",
       "</table>\n",
       "</div>"
      ],
      "text/plain": [
       "                  SYMBOL_CODE  TRADE_VOLUME  TRADE_VALUE  TRADE_COUNT  \\\n",
       "TRADE_DATE                                                              \n",
       "12/25/2017 0:00  EGS691S1C011       2550914  24808931.74          332   \n",
       "12/26/2017 0:00  EGS691S1C011        952893   9123532.62          271   \n",
       "12/27/2017 0:00  EGS691S1C011       2670503  25737256.31          425   \n",
       "12/28/2017 0:00  EGS691S1C011       4395442  43235515.01          521   \n",
       "12/31/2017 0:00  EGS691S1C011        876400   8591940.29          202   \n",
       "\n",
       "                 OPEN_PRICE  HIGH_PRICE  LOW_PRICE  CLOSE_PRICE  \n",
       "TRADE_DATE                                                       \n",
       "12/25/2017 0:00        9.70        9.83       9.55         9.73  \n",
       "12/26/2017 0:00        9.70        9.70       9.51         9.57  \n",
       "12/27/2017 0:00        9.64        9.76       9.54         9.64  \n",
       "12/28/2017 0:00        9.60        9.92       9.60         9.84  \n",
       "12/31/2017 0:00        9.75        9.91       9.70         9.80  "
      ]
     },
     "execution_count": 4,
     "metadata": {},
     "output_type": "execute_result"
    }
   ],
   "source": [
    "training_set.tail()"
   ]
  },
  {
   "cell_type": "code",
   "execution_count": 5,
   "metadata": {},
   "outputs": [
    {
     "data": {
      "text/html": [
       "<div>\n",
       "<style>\n",
       "    .dataframe thead tr:only-child th {\n",
       "        text-align: right;\n",
       "    }\n",
       "\n",
       "    .dataframe thead th {\n",
       "        text-align: left;\n",
       "    }\n",
       "\n",
       "    .dataframe tbody tr th {\n",
       "        vertical-align: top;\n",
       "    }\n",
       "</style>\n",
       "<table border=\"1\" class=\"dataframe\">\n",
       "  <thead>\n",
       "    <tr style=\"text-align: right;\">\n",
       "      <th></th>\n",
       "      <th>SYMBOL_CODE</th>\n",
       "      <th>TRADE_VOLUME</th>\n",
       "      <th>TRADE_VALUE</th>\n",
       "      <th>TRADE_COUNT</th>\n",
       "      <th>OPEN_PRICE</th>\n",
       "      <th>HIGH_PRICE</th>\n",
       "      <th>LOW_PRICE</th>\n",
       "      <th>CLOSE_PRICE</th>\n",
       "    </tr>\n",
       "    <tr>\n",
       "      <th>TRADE_DATE</th>\n",
       "      <th></th>\n",
       "      <th></th>\n",
       "      <th></th>\n",
       "      <th></th>\n",
       "      <th></th>\n",
       "      <th></th>\n",
       "      <th></th>\n",
       "      <th></th>\n",
       "    </tr>\n",
       "  </thead>\n",
       "  <tbody>\n",
       "    <tr>\n",
       "      <th>11/22/2017 0:00</th>\n",
       "      <td>EGS691S1C011</td>\n",
       "      <td>4489144</td>\n",
       "      <td>4.208201e+07</td>\n",
       "      <td>564</td>\n",
       "      <td>9.24</td>\n",
       "      <td>9.44</td>\n",
       "      <td>9.24</td>\n",
       "      <td>9.37</td>\n",
       "    </tr>\n",
       "    <tr>\n",
       "      <th>11/23/2017 0:00</th>\n",
       "      <td>EGS691S1C011</td>\n",
       "      <td>6627773</td>\n",
       "      <td>6.302454e+07</td>\n",
       "      <td>772</td>\n",
       "      <td>9.45</td>\n",
       "      <td>9.60</td>\n",
       "      <td>9.40</td>\n",
       "      <td>9.51</td>\n",
       "    </tr>\n",
       "    <tr>\n",
       "      <th>11/26/2017 0:00</th>\n",
       "      <td>EGS691S1C011</td>\n",
       "      <td>4546868</td>\n",
       "      <td>4.388733e+07</td>\n",
       "      <td>577</td>\n",
       "      <td>9.50</td>\n",
       "      <td>9.75</td>\n",
       "      <td>9.46</td>\n",
       "      <td>9.65</td>\n",
       "    </tr>\n",
       "    <tr>\n",
       "      <th>11/27/2017 0:00</th>\n",
       "      <td>EGS691S1C011</td>\n",
       "      <td>5265893</td>\n",
       "      <td>5.096001e+07</td>\n",
       "      <td>541</td>\n",
       "      <td>9.70</td>\n",
       "      <td>9.75</td>\n",
       "      <td>9.52</td>\n",
       "      <td>9.68</td>\n",
       "    </tr>\n",
       "    <tr>\n",
       "      <th>11/28/2017 0:00</th>\n",
       "      <td>EGS691S1C011</td>\n",
       "      <td>16500872</td>\n",
       "      <td>1.638336e+08</td>\n",
       "      <td>1478</td>\n",
       "      <td>9.73</td>\n",
       "      <td>10.03</td>\n",
       "      <td>9.66</td>\n",
       "      <td>9.93</td>\n",
       "    </tr>\n",
       "  </tbody>\n",
       "</table>\n",
       "</div>"
      ],
      "text/plain": [
       "                  SYMBOL_CODE  TRADE_VOLUME   TRADE_VALUE  TRADE_COUNT  \\\n",
       "TRADE_DATE                                                               \n",
       "11/22/2017 0:00  EGS691S1C011       4489144  4.208201e+07          564   \n",
       "11/23/2017 0:00  EGS691S1C011       6627773  6.302454e+07          772   \n",
       "11/26/2017 0:00  EGS691S1C011       4546868  4.388733e+07          577   \n",
       "11/27/2017 0:00  EGS691S1C011       5265893  5.096001e+07          541   \n",
       "11/28/2017 0:00  EGS691S1C011      16500872  1.638336e+08         1478   \n",
       "\n",
       "                 OPEN_PRICE  HIGH_PRICE  LOW_PRICE  CLOSE_PRICE  \n",
       "TRADE_DATE                                                       \n",
       "11/22/2017 0:00        9.24        9.44       9.24         9.37  \n",
       "11/23/2017 0:00        9.45        9.60       9.40         9.51  \n",
       "11/26/2017 0:00        9.50        9.75       9.46         9.65  \n",
       "11/27/2017 0:00        9.70        9.75       9.52         9.68  \n",
       "11/28/2017 0:00        9.73       10.03       9.66         9.93  "
      ]
     },
     "execution_count": 5,
     "metadata": {},
     "output_type": "execute_result"
    }
   ],
   "source": [
    "TMG_Holding=training_set[:1198]\n",
    "TMG_Holding.tail()"
   ]
  },
  {
   "cell_type": "code",
   "execution_count": 6,
   "metadata": {
    "collapsed": true
   },
   "outputs": [],
   "source": [
    "training_set=TMG_Holding.iloc[:,7:8].values"
   ]
  },
  {
   "cell_type": "code",
   "execution_count": 7,
   "metadata": {},
   "outputs": [
    {
     "data": {
      "text/plain": [
       "array([[ 4.62],\n",
       "       [ 4.72],\n",
       "       [ 4.7 ],\n",
       "       ..., \n",
       "       [ 9.65],\n",
       "       [ 9.68],\n",
       "       [ 9.93]])"
      ]
     },
     "execution_count": 7,
     "metadata": {},
     "output_type": "execute_result"
    }
   ],
   "source": [
    "training_set"
   ]
  },
  {
   "cell_type": "code",
   "execution_count": 8,
   "metadata": {},
   "outputs": [
    {
     "data": {
      "text/plain": [
       "1198"
      ]
     },
     "execution_count": 8,
     "metadata": {},
     "output_type": "execute_result"
    }
   ],
   "source": [
    "len(training_set)"
   ]
  },
  {
   "cell_type": "code",
   "execution_count": 9,
   "metadata": {
    "collapsed": true
   },
   "outputs": [],
   "source": [
    "from sklearn.preprocessing import MinMaxScaler"
   ]
  },
  {
   "cell_type": "code",
   "execution_count": 10,
   "metadata": {
    "collapsed": true
   },
   "outputs": [],
   "source": [
    "sc=MinMaxScaler()\n",
    "training_set=sc.fit_transform(training_set)"
   ]
  },
  {
   "cell_type": "code",
   "execution_count": 11,
   "metadata": {
    "collapsed": true
   },
   "outputs": [],
   "source": [
    "X_train=training_set[0:1197]"
   ]
  },
  {
   "cell_type": "code",
   "execution_count": 12,
   "metadata": {
    "collapsed": true
   },
   "outputs": [],
   "source": [
    "y_train=training_set[1:1198]"
   ]
  },
  {
   "cell_type": "code",
   "execution_count": 13,
   "metadata": {},
   "outputs": [
    {
     "data": {
      "text/plain": [
       "(1197, 1197)"
      ]
     },
     "execution_count": 13,
     "metadata": {},
     "output_type": "execute_result"
    }
   ],
   "source": [
    "len(X_train),len(y_train)"
   ]
  },
  {
   "cell_type": "code",
   "execution_count": 14,
   "metadata": {
    "collapsed": true
   },
   "outputs": [],
   "source": [
    "X_train=np.reshape(X_train,(1197,1,1))"
   ]
  },
  {
   "cell_type": "code",
   "execution_count": 15,
   "metadata": {},
   "outputs": [
    {
     "name": "stderr",
     "output_type": "stream",
     "text": [
      "Using TensorFlow backend.\n"
     ]
    }
   ],
   "source": [
    "from keras.models import Sequential\n",
    "from keras.layers import Dense\n",
    "from keras.layers import LSTM"
   ]
  },
  {
   "cell_type": "code",
   "execution_count": 16,
   "metadata": {
    "collapsed": true
   },
   "outputs": [],
   "source": [
    "regressor=Sequential()"
   ]
  },
  {
   "cell_type": "code",
   "execution_count": 17,
   "metadata": {
    "collapsed": true
   },
   "outputs": [],
   "source": [
    "regressor.add(LSTM(units=4,activation='sigmoid',input_shape=(None,1)))"
   ]
  },
  {
   "cell_type": "code",
   "execution_count": 18,
   "metadata": {
    "collapsed": true
   },
   "outputs": [],
   "source": [
    "regressor.add(Dense(units=1))"
   ]
  },
  {
   "cell_type": "code",
   "execution_count": 19,
   "metadata": {
    "collapsed": true
   },
   "outputs": [],
   "source": [
    "regressor.compile(optimizer='adam',loss='mean_squared_error')"
   ]
  },
  {
   "cell_type": "code",
   "execution_count": 20,
   "metadata": {},
   "outputs": [
    {
     "name": "stdout",
     "output_type": "stream",
     "text": [
      "Epoch 1/150\n",
      "1197/1197 [==============================] - 2s 2ms/step - loss: 0.4883\n",
      "Epoch 2/150\n",
      "1197/1197 [==============================] - 0s 114us/step - loss: 0.3759\n",
      "Epoch 3/150\n",
      "1197/1197 [==============================] - 0s 130us/step - loss: 0.2869\n",
      "Epoch 4/150\n",
      "1197/1197 [==============================] - 0s 133us/step - loss: 0.2183\n",
      "Epoch 5/150\n",
      "1197/1197 [==============================] - 0s 125us/step - loss: 0.1664\n",
      "Epoch 6/150\n",
      "1197/1197 [==============================] - 0s 130us/step - loss: 0.1285\n",
      "Epoch 7/150\n",
      "1197/1197 [==============================] - 0s 127us/step - loss: 0.1015\n",
      "Epoch 8/150\n",
      "1197/1197 [==============================] - 0s 130us/step - loss: 0.0831\n",
      "Epoch 9/150\n",
      "1197/1197 [==============================] - 0s 115us/step - loss: 0.0711\n",
      "Epoch 10/150\n",
      "1197/1197 [==============================] - 0s 95us/step - loss: 0.0634\n",
      "Epoch 11/150\n",
      "1197/1197 [==============================] - 0s 98us/step - loss: 0.0586\n",
      "Epoch 12/150\n",
      "1197/1197 [==============================] - 0s 94us/step - loss: 0.0557\n",
      "Epoch 13/150\n",
      "1197/1197 [==============================] - 0s 94us/step - loss: 0.0539\n",
      "Epoch 14/150\n",
      "1197/1197 [==============================] - 0s 106us/step - loss: 0.0527\n",
      "Epoch 15/150\n",
      "1197/1197 [==============================] - 0s 110us/step - loss: 0.0519\n",
      "Epoch 16/150\n",
      "1197/1197 [==============================] - 0s 106us/step - loss: 0.0512\n",
      "Epoch 17/150\n",
      "1197/1197 [==============================] - 0s 109us/step - loss: 0.0507\n",
      "Epoch 18/150\n",
      "1197/1197 [==============================] - 0s 100us/step - loss: 0.0501\n",
      "Epoch 19/150\n",
      "1197/1197 [==============================] - 0s 106us/step - loss: 0.0495\n",
      "Epoch 20/150\n",
      "1197/1197 [==============================] - 0s 121us/step - loss: 0.0489\n",
      "Epoch 21/150\n",
      "1197/1197 [==============================] - 0s 113us/step - loss: 0.0483\n",
      "Epoch 22/150\n",
      "1197/1197 [==============================] - 0s 104us/step - loss: 0.0477\n",
      "Epoch 23/150\n",
      "1197/1197 [==============================] - 0s 99us/step - loss: 0.0471\n",
      "Epoch 24/150\n",
      "1197/1197 [==============================] - 0s 101us/step - loss: 0.0464\n",
      "Epoch 25/150\n",
      "1197/1197 [==============================] - 0s 109us/step - loss: 0.0458\n",
      "Epoch 26/150\n",
      "1197/1197 [==============================] - 0s 99us/step - loss: 0.0451\n",
      "Epoch 27/150\n",
      "1197/1197 [==============================] - 0s 111us/step - loss: 0.0444\n",
      "Epoch 28/150\n",
      "1197/1197 [==============================] - 0s 115us/step - loss: 0.0437\n",
      "Epoch 29/150\n",
      "1197/1197 [==============================] - 0s 115us/step - loss: 0.0429\n",
      "Epoch 30/150\n",
      "1197/1197 [==============================] - 0s 104us/step - loss: 0.0422\n",
      "Epoch 31/150\n",
      "1197/1197 [==============================] - 0s 102us/step - loss: 0.0414\n",
      "Epoch 32/150\n",
      "1197/1197 [==============================] - 0s 104us/step - loss: 0.0406\n",
      "Epoch 33/150\n",
      "1197/1197 [==============================] - 0s 104us/step - loss: 0.0398\n",
      "Epoch 34/150\n",
      "1197/1197 [==============================] - 0s 101us/step - loss: 0.0390\n",
      "Epoch 35/150\n",
      "1197/1197 [==============================] - 0s 102us/step - loss: 0.0382\n",
      "Epoch 36/150\n",
      "1197/1197 [==============================] - 0s 105us/step - loss: 0.0374\n",
      "Epoch 37/150\n",
      "1197/1197 [==============================] - 0s 100us/step - loss: 0.0365\n",
      "Epoch 38/150\n",
      "1197/1197 [==============================] - 0s 100us/step - loss: 0.0356\n",
      "Epoch 39/150\n",
      "1197/1197 [==============================] - 0s 102us/step - loss: 0.0347\n",
      "Epoch 40/150\n",
      "1197/1197 [==============================] - 0s 104us/step - loss: 0.0338\n",
      "Epoch 41/150\n",
      "1197/1197 [==============================] - 0s 103us/step - loss: 0.0329\n",
      "Epoch 42/150\n",
      "1197/1197 [==============================] - 0s 102us/step - loss: 0.0320\n",
      "Epoch 43/150\n",
      "1197/1197 [==============================] - 0s 104us/step - loss: 0.0311\n",
      "Epoch 44/150\n",
      "1197/1197 [==============================] - 0s 104us/step - loss: 0.0301\n",
      "Epoch 45/150\n",
      "1197/1197 [==============================] - 0s 102us/step - loss: 0.0291\n",
      "Epoch 46/150\n",
      "1197/1197 [==============================] - 0s 105us/step - loss: 0.0282\n",
      "Epoch 47/150\n",
      "1197/1197 [==============================] - 0s 104us/step - loss: 0.0272\n",
      "Epoch 48/150\n",
      "1197/1197 [==============================] - 0s 105us/step - loss: 0.0262\n",
      "Epoch 49/150\n",
      "1197/1197 [==============================] - 0s 99us/step - loss: 0.0252\n",
      "Epoch 50/150\n",
      "1197/1197 [==============================] - 0s 94us/step - loss: 0.0242\n",
      "Epoch 51/150\n",
      "1197/1197 [==============================] - 0s 104us/step - loss: 0.0232\n",
      "Epoch 52/150\n",
      "1197/1197 [==============================] - 0s 101us/step - loss: 0.0222\n",
      "Epoch 53/150\n",
      "1197/1197 [==============================] - 0s 102us/step - loss: 0.0213\n",
      "Epoch 54/150\n",
      "1197/1197 [==============================] - 0s 103us/step - loss: 0.0203\n",
      "Epoch 55/150\n",
      "1197/1197 [==============================] - 0s 101us/step - loss: 0.0193\n",
      "Epoch 56/150\n",
      "1197/1197 [==============================] - 0s 99us/step - loss: 0.0184: 0s - loss: 0.01\n",
      "Epoch 57/150\n",
      "1197/1197 [==============================] - 0s 99us/step - loss: 0.0174\n",
      "Epoch 58/150\n",
      "1197/1197 [==============================] - 0s 98us/step - loss: 0.0165\n",
      "Epoch 59/150\n",
      "1197/1197 [==============================] - 0s 101us/step - loss: 0.0156\n",
      "Epoch 60/150\n",
      "1197/1197 [==============================] - 0s 99us/step - loss: 0.0147\n",
      "Epoch 61/150\n",
      "1197/1197 [==============================] - 0s 101us/step - loss: 0.0139\n",
      "Epoch 62/150\n",
      "1197/1197 [==============================] - 0s 104us/step - loss: 0.0131\n",
      "Epoch 63/150\n",
      "1197/1197 [==============================] - 0s 100us/step - loss: 0.0122\n",
      "Epoch 64/150\n",
      "1197/1197 [==============================] - 0s 98us/step - loss: 0.0115\n",
      "Epoch 65/150\n",
      "1197/1197 [==============================] - 0s 104us/step - loss: 0.0107\n",
      "Epoch 66/150\n",
      "1197/1197 [==============================] - 0s 97us/step - loss: 0.0099\n",
      "Epoch 67/150\n",
      "1197/1197 [==============================] - 0s 96us/step - loss: 0.0092\n",
      "Epoch 68/150\n",
      "1197/1197 [==============================] - 0s 100us/step - loss: 0.0085\n",
      "Epoch 69/150\n",
      "1197/1197 [==============================] - 0s 103us/step - loss: 0.0079\n",
      "Epoch 70/150\n",
      "1197/1197 [==============================] - 0s 105us/step - loss: 0.0073\n",
      "Epoch 71/150\n",
      "1197/1197 [==============================] - 0s 104us/step - loss: 0.0067\n",
      "Epoch 72/150\n",
      "1197/1197 [==============================] - 0s 101us/step - loss: 0.0061\n",
      "Epoch 73/150\n",
      "1197/1197 [==============================] - 0s 100us/step - loss: 0.0056\n",
      "Epoch 74/150\n",
      "1197/1197 [==============================] - 0s 102us/step - loss: 0.0051\n",
      "Epoch 75/150\n",
      "1197/1197 [==============================] - 0s 99us/step - loss: 0.0046\n",
      "Epoch 76/150\n",
      "1197/1197 [==============================] - 0s 104us/step - loss: 0.0042\n",
      "Epoch 77/150\n",
      "1197/1197 [==============================] - 0s 107us/step - loss: 0.0038\n",
      "Epoch 78/150\n",
      "1197/1197 [==============================] - 0s 106us/step - loss: 0.0034\n",
      "Epoch 79/150\n",
      "1197/1197 [==============================] - 0s 120us/step - loss: 0.0030\n",
      "Epoch 80/150\n",
      "1197/1197 [==============================] - 0s 112us/step - loss: 0.0027\n",
      "Epoch 81/150\n",
      "1197/1197 [==============================] - 0s 106us/step - loss: 0.0024\n",
      "Epoch 82/150\n",
      "1197/1197 [==============================] - 0s 124us/step - loss: 0.0022\n",
      "Epoch 83/150\n",
      "1197/1197 [==============================] - 0s 147us/step - loss: 0.0019\n",
      "Epoch 84/150\n",
      "1197/1197 [==============================] - 0s 131us/step - loss: 0.0017\n",
      "Epoch 85/150\n",
      "1197/1197 [==============================] - 0s 131us/step - loss: 0.0016\n",
      "Epoch 86/150\n",
      "1197/1197 [==============================] - 0s 130us/step - loss: 0.0014\n",
      "Epoch 87/150\n",
      "1197/1197 [==============================] - 0s 105us/step - loss: 0.0012\n",
      "Epoch 88/150\n",
      "1197/1197 [==============================] - 0s 99us/step - loss: 0.0011\n",
      "Epoch 89/150\n",
      "1197/1197 [==============================] - 0s 104us/step - loss: 9.9590e-04\n",
      "Epoch 90/150\n",
      "1197/1197 [==============================] - 0s 104us/step - loss: 8.9779e-04\n",
      "Epoch 91/150\n",
      "1197/1197 [==============================] - 0s 102us/step - loss: 8.1316e-04\n",
      "Epoch 92/150\n",
      "1197/1197 [==============================] - 0s 106us/step - loss: 7.4113e-04\n",
      "Epoch 93/150\n",
      "1197/1197 [==============================] - 0s 101us/step - loss: 6.7887e-04\n",
      "Epoch 94/150\n",
      "1197/1197 [==============================] - 0s 102us/step - loss: 6.2463e-04\n",
      "Epoch 95/150\n"
     ]
    },
    {
     "name": "stdout",
     "output_type": "stream",
     "text": [
      "1197/1197 [==============================] - 0s 103us/step - loss: 5.8072e-04\n",
      "Epoch 96/150\n",
      "1197/1197 [==============================] - 0s 92us/step - loss: 5.4154e-04\n",
      "Epoch 97/150\n",
      "1197/1197 [==============================] - 0s 107us/step - loss: 5.1020e-04\n",
      "Epoch 98/150\n",
      "1197/1197 [==============================] - ETA: 0s - loss: 4.7633e-0 - 0s 102us/step - loss: 4.8495e-04\n",
      "Epoch 99/150\n",
      "1197/1197 [==============================] - 0s 102us/step - loss: 4.6210e-04\n",
      "Epoch 100/150\n",
      "1197/1197 [==============================] - 0s 100us/step - loss: 4.4369e-04\n",
      "Epoch 101/150\n",
      "1197/1197 [==============================] - 0s 101us/step - loss: 4.2887e-04\n",
      "Epoch 102/150\n",
      "1197/1197 [==============================] - 0s 102us/step - loss: 4.1669e-04\n",
      "Epoch 103/150\n",
      "1197/1197 [==============================] - 0s 103us/step - loss: 4.0712e-04\n",
      "Epoch 104/150\n",
      "1197/1197 [==============================] - 0s 99us/step - loss: 3.9977e-04\n",
      "Epoch 105/150\n",
      "1197/1197 [==============================] - 0s 102us/step - loss: 3.9350e-04\n",
      "Epoch 106/150\n",
      "1197/1197 [==============================] - 0s 101us/step - loss: 3.8820e-04\n",
      "Epoch 107/150\n",
      "1197/1197 [==============================] - 0s 99us/step - loss: 3.8466e-04\n",
      "Epoch 108/150\n",
      "1197/1197 [==============================] - 0s 100us/step - loss: 3.8123e-04\n",
      "Epoch 109/150\n",
      "1197/1197 [==============================] - 0s 100us/step - loss: 3.7939e-04\n",
      "Epoch 110/150\n",
      "1197/1197 [==============================] - 0s 104us/step - loss: 3.7680e-04\n",
      "Epoch 111/150\n",
      "1197/1197 [==============================] - 0s 103us/step - loss: 3.7553e-04\n",
      "Epoch 112/150\n",
      "1197/1197 [==============================] - 0s 102us/step - loss: 3.7476e-04\n",
      "Epoch 113/150\n",
      "1197/1197 [==============================] - 0s 99us/step - loss: 3.7376e-04\n",
      "Epoch 114/150\n",
      "1197/1197 [==============================] - 0s 100us/step - loss: 3.7424e-04\n",
      "Epoch 115/150\n",
      "1197/1197 [==============================] - 0s 99us/step - loss: 3.7294e-04\n",
      "Epoch 116/150\n",
      "1197/1197 [==============================] - 0s 104us/step - loss: 3.7284e-04\n",
      "Epoch 117/150\n",
      "1197/1197 [==============================] - 0s 106us/step - loss: 3.7270e-04\n",
      "Epoch 118/150\n",
      "1197/1197 [==============================] - 0s 102us/step - loss: 3.7196e-04\n",
      "Epoch 119/150\n",
      "1197/1197 [==============================] - 0s 102us/step - loss: 3.7152e-04\n",
      "Epoch 120/150\n",
      "1197/1197 [==============================] - 0s 100us/step - loss: 3.7392e-04\n",
      "Epoch 121/150\n",
      "1197/1197 [==============================] - 0s 108us/step - loss: 3.7266e-04\n",
      "Epoch 122/150\n",
      "1197/1197 [==============================] - 0s 106us/step - loss: 3.7160e-04\n",
      "Epoch 123/150\n",
      "1197/1197 [==============================] - 0s 109us/step - loss: 3.7261e-04\n",
      "Epoch 124/150\n",
      "1197/1197 [==============================] - 0s 104us/step - loss: 3.7171e-04\n",
      "Epoch 125/150\n",
      "1197/1197 [==============================] - 0s 105us/step - loss: 3.7159e-04\n",
      "Epoch 126/150\n",
      "1197/1197 [==============================] - 0s 98us/step - loss: 3.7160e-04\n",
      "Epoch 127/150\n",
      "1197/1197 [==============================] - 0s 103us/step - loss: 3.7244e-04\n",
      "Epoch 128/150\n",
      "1197/1197 [==============================] - 0s 102us/step - loss: 3.7120e-04\n",
      "Epoch 129/150\n",
      "1197/1197 [==============================] - 0s 104us/step - loss: 3.7216e-04\n",
      "Epoch 130/150\n",
      "1197/1197 [==============================] - 0s 109us/step - loss: 3.7112e-04\n",
      "Epoch 131/150\n",
      "1197/1197 [==============================] - 0s 105us/step - loss: 3.7236e-04\n",
      "Epoch 132/150\n",
      "1197/1197 [==============================] - 0s 102us/step - loss: 3.7087e-04\n",
      "Epoch 133/150\n",
      "1197/1197 [==============================] - 0s 102us/step - loss: 3.7160e-04\n",
      "Epoch 134/150\n",
      "1197/1197 [==============================] - 0s 104us/step - loss: 3.7100e-04\n",
      "Epoch 135/150\n",
      "1197/1197 [==============================] - 0s 104us/step - loss: 3.7041e-04\n",
      "Epoch 136/150\n",
      "1197/1197 [==============================] - 0s 99us/step - loss: 3.7113e-04\n",
      "Epoch 137/150\n",
      "1197/1197 [==============================] - 0s 103us/step - loss: 3.7021e-04\n",
      "Epoch 138/150\n",
      "1197/1197 [==============================] - 0s 101us/step - loss: 3.7032e-04\n",
      "Epoch 139/150\n",
      "1197/1197 [==============================] - 0s 101us/step - loss: 3.7064e-04\n",
      "Epoch 140/150\n",
      "1197/1197 [==============================] - 0s 98us/step - loss: 3.7232e-04\n",
      "Epoch 141/150\n",
      "1197/1197 [==============================] - 0s 103us/step - loss: 3.6990e-04\n",
      "Epoch 142/150\n",
      "1197/1197 [==============================] - 0s 103us/step - loss: 3.6976e-04\n",
      "Epoch 143/150\n",
      "1197/1197 [==============================] - 0s 102us/step - loss: 3.7082e-04\n",
      "Epoch 144/150\n",
      "1197/1197 [==============================] - 0s 100us/step - loss: 3.7144e-04\n",
      "Epoch 145/150\n",
      "1197/1197 [==============================] - 0s 101us/step - loss: 3.6989e-04\n",
      "Epoch 146/150\n",
      "1197/1197 [==============================] - 0s 104us/step - loss: 3.6904e-04\n",
      "Epoch 147/150\n",
      "1197/1197 [==============================] - 0s 107us/step - loss: 3.6872e-04\n",
      "Epoch 148/150\n",
      "1197/1197 [==============================] - 0s 100us/step - loss: 3.7074e-04\n",
      "Epoch 149/150\n",
      "1197/1197 [==============================] - 0s 105us/step - loss: 3.6898e-04\n",
      "Epoch 150/150\n",
      "1197/1197 [==============================] - 0s 99us/step - loss: 3.7081e-04\n"
     ]
    },
    {
     "data": {
      "text/plain": [
       "<keras.callbacks.History at 0xcc3bac2ac8>"
      ]
     },
     "execution_count": 20,
     "metadata": {},
     "output_type": "execute_result"
    }
   ],
   "source": [
    "regressor.fit(X_train,y_train,batch_size=32,epochs=150)"
   ]
  },
  {
   "cell_type": "code",
   "execution_count": 21,
   "metadata": {
    "collapsed": true
   },
   "outputs": [],
   "source": [
    "test_set=pd.read_csv(\"C:/Users/mohamed ismail/Desktop/GP And Data/T M G Holding 2.csv\")"
   ]
  },
  {
   "cell_type": "code",
   "execution_count": 22,
   "metadata": {
    "collapsed": true
   },
   "outputs": [],
   "source": [
    "real_stock_price=test_set.iloc[:,7:8].values"
   ]
  },
  {
   "cell_type": "code",
   "execution_count": 23,
   "metadata": {
    "collapsed": true
   },
   "outputs": [],
   "source": [
    "inputs=real_stock_price"
   ]
  },
  {
   "cell_type": "code",
   "execution_count": 24,
   "metadata": {
    "collapsed": true
   },
   "outputs": [],
   "source": [
    "inputs=sc.transform(inputs)"
   ]
  },
  {
   "cell_type": "code",
   "execution_count": 25,
   "metadata": {},
   "outputs": [
    {
     "data": {
      "text/plain": [
       "21"
      ]
     },
     "execution_count": 25,
     "metadata": {},
     "output_type": "execute_result"
    }
   ],
   "source": [
    "len(inputs)"
   ]
  },
  {
   "cell_type": "code",
   "execution_count": 26,
   "metadata": {
    "collapsed": true
   },
   "outputs": [],
   "source": [
    "inputs=np.reshape(inputs,(21,1,1))"
   ]
  },
  {
   "cell_type": "code",
   "execution_count": 27,
   "metadata": {
    "collapsed": true
   },
   "outputs": [],
   "source": [
    "predicted_stock_prices=regressor.predict(inputs)"
   ]
  },
  {
   "cell_type": "code",
   "execution_count": 28,
   "metadata": {
    "collapsed": true
   },
   "outputs": [],
   "source": [
    "predicted_stock_prices=sc.inverse_transform(predicted_stock_prices)"
   ]
  },
  {
   "cell_type": "code",
   "execution_count": 29,
   "metadata": {},
   "outputs": [
    {
     "data": {
      "image/png": "[encoded data removed]",
      "text/plain": [
       "<matplotlib.figure.Figure at 0xcc3d09e908>"
      ]
     },
     "metadata": {},
     "output_type": "display_data"
    }
   ],
   "source": [
    "plt.plot(real_stock_price,color='red',label='Real T M G Holding Stock Price')\n",
    "plt.plot(predicted_stock_prices,color='blue',label='Predicted T M G Holding Stock Price')\n",
    "plt.title('T M G Holding Stock Price Prediction')\n",
    "plt.xlabel('Time')\n",
    "plt.ylabel('T M G Holding Stock Price')\n",
    "plt.legend()\n",
    "plt.show()"
   ]
  },
  {
   "cell_type": "code",
   "execution_count": 30,
   "metadata": {
    "collapsed": true
   },
   "outputs": [],
   "source": [
    "import math\n",
    "from sklearn.metrics import mean_squared_error"
   ]
  },
  {
   "cell_type": "code",
   "execution_count": 31,
   "metadata": {},
   "outputs": [
    {
     "data": {
      "text/plain": [
       "0.04721972754217781"
      ]
     },
     "execution_count": 31,
     "metadata": {},
     "output_type": "execute_result"
    }
   ],
   "source": [
    "rmse=math.sqrt(mean_squared_error(real_stock_price,predicted_stock_prices))\n",
    "rmse"
   ]
  },
  {
   "cell_type": "code",
   "execution_count": 32,
   "metadata": {},
   "outputs": [
    {
     "data": {
      "text/plain": [
       "0.002229702669157506"
      ]
     },
     "execution_count": 32,
     "metadata": {},
     "output_type": "execute_result"
    }
   ],
   "source": [
    "mse=mean_squared_error(real_stock_price,predicted_stock_prices)\n",
    "mse"
   ]
  },
  {
   "cell_type": "code",
   "execution_count": null,
   "metadata": {
    "collapsed": true
   },
   "outputs": [],
   "source": []
  },
  {
   "cell_type": "code",
   "execution_count": null,
   "metadata": {
    "collapsed": true
   },
   "outputs": [],
   "source": []
  },
  {
   "cell_type": "code",
   "execution_count": null,
   "metadata": {
    "collapsed": true
   },
   "outputs": [],
   "source": []
  },
  {
   "cell_type": "code",
   "execution_count": null,
   "metadata": {
    "collapsed": true
   },
   "outputs": [],
   "source": []
  },
  {
   "cell_type": "code",
   "execution_count": null,
   "metadata": {
    "collapsed": true
   },
   "outputs": [],
   "source": []
  },
  {
   "cell_type": "code",
   "execution_count": null,
   "metadata": {
    "collapsed": true
   },
   "outputs": [],
   "source": []
  },
  {
   "cell_type": "code",
   "execution_count": null,
   "metadata": {
    "collapsed": true
   },
   "outputs": [],
   "source": []
  },
  {
   "cell_type": "code",
   "execution_count": null,
   "metadata": {
    "collapsed": true
   },
   "outputs": [],
   "source": []
  },
  {
   "cell_type": "code",
   "execution_count": null,
   "metadata": {
    "collapsed": true
   },
   "outputs": [],
   "source": []
  },
  {
   "cell_type": "code",
   "execution_count": null,
   "metadata": {
    "collapsed": true
   },
   "outputs": [],
   "source": []
  },
  {
   "cell_type": "code",
   "execution_count": null,
   "metadata": {
    "collapsed": true
   },
   "outputs": [],
   "source": []
  },
  {
   "cell_type": "code",
   "execution_count": null,
   "metadata": {
    "collapsed": true
   },
   "outputs": [],
   "source": []
  },
  {
   "cell_type": "code",
   "execution_count": null,
   "metadata": {
    "collapsed": true
   },
   "outputs": [],
   "source": []
  },
  {
   "cell_type": "code",
   "execution_count": null,
   "metadata": {
    "collapsed": true
   },
   "outputs": [],
   "source": []
  },
  {
   "cell_type": "code",
   "execution_count": null,
   "metadata": {
    "collapsed": true
   },
   "outputs": [],
   "source": []
  },
  {
   "cell_type": "code",
   "execution_count": null,
   "metadata": {
    "collapsed": true
   },
   "outputs": [],
   "source": []
  },
  {
   "cell_type": "code",
   "execution_count": null,
   "metadata": {
    "collapsed": true
   },
   "outputs": [],
   "source": []
  },
  {
   "cell_type": "code",
   "execution_count": null,
   "metadata": {
    "collapsed": true
   },
   "outputs": [],
   "source": []
  },
  {
   "cell_type": "code",
   "execution_count": null,
   "metadata": {
    "collapsed": true
   },
   "outputs": [],
   "source": []
  },
  {
   "cell_type": "code",
   "execution_count": null,
   "metadata": {
    "collapsed": true
   },
   "outputs": [],
   "source": []
  }
 ],
 "metadata": {
  "kernelspec": {
   "display_name": "Python 3",
   "language": "python",
   "name": "python3"
  },
  "language_info": {
   "codemirror_mode": {
    "name": "ipython",
    "version": 3
   },
   "file_extension": ".py",
   "mimetype": "text/x-python",
   "name": "python",
   "nbconvert_exporter": "python",
   "pygments_lexer": "ipython3",
   "version": "3.6.1"
  }
 },
 "nbformat": 4,
 "nbformat_minor": 2
}
